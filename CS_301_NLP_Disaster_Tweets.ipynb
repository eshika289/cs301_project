{
  "nbformat": 4,
  "nbformat_minor": 0,
  "metadata": {
    "colab": {
      "name": "CS 301 - NLP - Disaster Tweets",
      "provenance": [],
      "collapsed_sections": [
        "3MZjlumnpEKm",
        "5OEH3tR8n8XD",
        "1HvJN22spr7-",
        "Ws-LiX-KoDGj",
        "E6iYA5pgwEd5",
        "Lf8CA4ZozCcF",
        "-rArfTFo2I7Y",
        "vgNrFYDM1vVr",
        "-na0Idv44SQO",
        "-sWStJ_P9_lf"
      ],
      "toc_visible": true,
      "authorship_tag": "ABX9TyOYfKfeynEdLTtXgZTGa1xA",
      "include_colab_link": true
    },
    "kernelspec": {
      "name": "python3",
      "display_name": "Python 3"
    },
    "language_info": {
      "name": "python"
    }
  },
  "cells": [
    {
      "cell_type": "markdown",
      "metadata": {
        "id": "view-in-github",
        "colab_type": "text"
      },
      "source": [
        "<a href=\"https://colab.research.google.com/github/eshika289/cs301_project/blob/main/CS_301_NLP_Disaster_Tweets.ipynb\" target=\"_parent\"><img src=\"https://colab.research.google.com/assets/colab-badge.svg\" alt=\"Open In Colab\"/></a>"
      ]
    },
    {
      "cell_type": "markdown",
      "source": [
        "# Import Statements"
      ],
      "metadata": {
        "id": "3MZjlumnpEKm"
      }
    },
    {
      "cell_type": "code",
      "source": [
        "import jax.numpy as jnp\n",
        "from jax import grad, jit, vmap\n",
        "from jax import random\n",
        "import jax"
      ],
      "metadata": {
        "id": "APL0P06erOf-"
      },
      "execution_count": 91,
      "outputs": []
    },
    {
      "cell_type": "markdown",
      "source": [
        "https://jax.readthedocs.io/en/latest/notebooks/quickstart.html"
      ],
      "metadata": {
        "id": "aHrLY07ZwuRq"
      }
    },
    {
      "cell_type": "code",
      "source": [
        "import os, shutil\n",
        "import csv\n",
        "import re\n",
        "import math\n",
        "import random\n",
        "import numpy as np\n",
        "from collections import Counter\n",
        "from collections import defaultdict"
      ],
      "metadata": {
        "id": "XeGKCQKjxAD9"
      },
      "execution_count": 256,
      "outputs": []
    },
    {
      "cell_type": "code",
      "source": [
        "from typing import List, Union\n",
        "from typing import Any\n",
        "from typing import Dict\n",
        "from typing import TypeVar\n",
        "from typing import NamedTuple, Optional"
      ],
      "metadata": {
        "id": "U4NCEisb0m2T"
      },
      "execution_count": 79,
      "outputs": []
    },
    {
      "cell_type": "code",
      "source": [
        "import nltk\n",
        "nltk.download('stopwords')\n",
        "nltk.download('wordnet')\n",
        "from nltk.corpus import stopwords\n",
        "from nltk.corpus import wordnet as wn"
      ],
      "metadata": {
        "colab": {
          "base_uri": "https://localhost:8080/"
        },
        "id": "42_ZfksrqZ9F",
        "outputId": "cb16e5fa-93e8-4b63-8e97-f4bf1cbd2208"
      },
      "execution_count": 4,
      "outputs": [
        {
          "output_type": "stream",
          "name": "stdout",
          "text": [
            "[nltk_data] Downloading package stopwords to /root/nltk_data...\n",
            "[nltk_data]   Unzipping corpora/stopwords.zip.\n",
            "[nltk_data] Downloading package wordnet to /root/nltk_data...\n",
            "[nltk_data]   Unzipping corpora/wordnet.zip.\n"
          ]
        }
      ]
    },
    {
      "cell_type": "markdown",
      "source": [
        "# Get Data From Kaggle"
      ],
      "metadata": {
        "id": "5OEH3tR8n8XD"
      }
    },
    {
      "cell_type": "markdown",
      "source": [
        "Get kaggle.json file from kaggle and upload it to the content folder"
      ],
      "metadata": {
        "id": "ptMx-wYPrgqr"
      }
    },
    {
      "cell_type": "code",
      "source": [
        "!pwd # /content"
      ],
      "metadata": {
        "colab": {
          "base_uri": "https://localhost:8080/"
        },
        "id": "Ak2cGh9prm06",
        "outputId": "d9c62fd4-9ecb-494a-dd97-5492275f1ff7"
      },
      "execution_count": 92,
      "outputs": [
        {
          "output_type": "stream",
          "name": "stdout",
          "text": [
            "/content\n"
          ]
        }
      ]
    },
    {
      "cell_type": "code",
      "source": [
        "!mkdir /root/.kaggle\n",
        "!mkdir kaggle"
      ],
      "metadata": {
        "id": "03d8Hklgrpxi"
      },
      "execution_count": 93,
      "outputs": []
    },
    {
      "cell_type": "code",
      "source": [
        "!mv ./kaggle.json /root/.kaggle/kaggle.json\n",
        "!cat /root/.kaggle/kaggle.json"
      ],
      "metadata": {
        "id": "z51VyhCursMW"
      },
      "execution_count": null,
      "outputs": []
    },
    {
      "cell_type": "code",
      "source": [
        "#!pip install kaggle\n",
        "!kaggle -v"
      ],
      "metadata": {
        "id": "y1g6tHWXslah",
        "colab": {
          "base_uri": "https://localhost:8080/"
        },
        "outputId": "1603780e-8e0f-44a4-cd5f-5202f1421079"
      },
      "execution_count": 96,
      "outputs": [
        {
          "output_type": "stream",
          "name": "stdout",
          "text": [
            "Warning: Your Kaggle API key is readable by other users on this system! To fix this, you can run 'chmod 600 /root/.kaggle/kaggle.json'\n",
            "Kaggle API 1.5.12\n"
          ]
        }
      ]
    },
    {
      "cell_type": "code",
      "source": [
        "!chmod 600 /root/.kaggle/kaggle.json"
      ],
      "metadata": {
        "id": "KuQSB3IGsr7p"
      },
      "execution_count": 97,
      "outputs": []
    },
    {
      "cell_type": "code",
      "source": [
        "!kaggle competitions files -c nlp-getting-started"
      ],
      "metadata": {
        "colab": {
          "base_uri": "https://localhost:8080/"
        },
        "id": "fCqsnXy_tE3M",
        "outputId": "e402792d-4b39-49c9-ad61-3b58a109241f"
      },
      "execution_count": 98,
      "outputs": [
        {
          "output_type": "stream",
          "name": "stdout",
          "text": [
            "name                    size  creationDate         \n",
            "---------------------  -----  -------------------  \n",
            "train.csv              965KB  2019-12-16 20:36:20  \n",
            "test.csv               411KB  2019-12-16 20:36:20  \n",
            "sample_submission.csv   22KB  2019-12-16 20:36:20  \n"
          ]
        }
      ]
    },
    {
      "cell_type": "code",
      "source": [
        "!kaggle competitions download -c nlp-getting-started -p /content/kaggle/"
      ],
      "metadata": {
        "colab": {
          "base_uri": "https://localhost:8080/"
        },
        "id": "f43IO7CTsxjK",
        "outputId": "b993e697-0a82-4859-d59e-23d0a6c6a1ab"
      },
      "execution_count": 99,
      "outputs": [
        {
          "output_type": "stream",
          "name": "stdout",
          "text": [
            "Downloading nlp-getting-started.zip to /content/kaggle\n",
            "\r  0% 0.00/593k [00:00<?, ?B/s]\n",
            "\r100% 593k/593k [00:00<00:00, 104MB/s]\n"
          ]
        }
      ]
    },
    {
      "cell_type": "code",
      "source": [
        "!unzip -q /content/kaggle/nlp-getting-started.zip -d /content/kaggle/data"
      ],
      "metadata": {
        "id": "V3ET8MSetuk2",
        "colab": {
          "base_uri": "https://localhost:8080/"
        },
        "outputId": "bd1d6fe3-048a-4e67-f1a7-5f34fbb16e72"
      },
      "execution_count": 360,
      "outputs": [
        {
          "output_type": "stream",
          "name": "stdout",
          "text": [
            "replace /content/kaggle/data/sample_submission.csv? [y]es, [n]o, [A]ll, [N]one, [r]ename: no\n",
            "replace /content/kaggle/data/test.csv? [y]es, [n]o, [A]ll, [N]one, [r]ename: no\n",
            "replace /content/kaggle/data/train.csv? [y]es, [n]o, [A]ll, [N]one, [r]ename: no\n"
          ]
        }
      ]
    },
    {
      "cell_type": "code",
      "source": [
        "data_path = \"kaggle/data/train.csv\"\n",
        "data_file = open(data_path)\n",
        "read_file = csv.reader(data_file)\n",
        "headers = []\n",
        "headers = next(read_file)\n",
        "data = []\n",
        "for row in read_file:\n",
        "  data.append(row)"
      ],
      "metadata": {
        "id": "3FBaTgM2mrRK"
      },
      "execution_count": 394,
      "outputs": []
    },
    {
      "cell_type": "code",
      "source": [
        "print(headers) # ['id', 'keyword', 'location', 'text', 'target']\n",
        "print(data[0])\n",
        "print(len(data))"
      ],
      "metadata": {
        "colab": {
          "base_uri": "https://localhost:8080/"
        },
        "id": "3IEM4-mmxxMX",
        "outputId": "a9208fbb-e1fd-4b65-c749-c17c6f199231"
      },
      "execution_count": 395,
      "outputs": [
        {
          "output_type": "stream",
          "name": "stdout",
          "text": [
            "['id', 'keyword', 'location', 'text', 'target']\n",
            "['1', '', '', 'Our Deeds are the Reason of this #earthquake May ALLAH Forgive us all', '1']\n",
            "7613\n"
          ]
        }
      ]
    },
    {
      "cell_type": "markdown",
      "source": [
        "# Features"
      ],
      "metadata": {
        "id": "1HvJN22spr7-"
      }
    },
    {
      "cell_type": "markdown",
      "source": [
        "## Most Common Words as Features"
      ],
      "metadata": {
        "id": "Ws-LiX-KoDGj"
      }
    },
    {
      "cell_type": "code",
      "source": [
        "def most_common_words(subset):\n",
        "  all_text = \"\"\n",
        "  for i in range(len(subset)):\n",
        "    all_text+=subset[i][3]+\" \"\n",
        "\n",
        "  stop_words = stopwords.words('english')\n",
        "  all_text.lower()\n",
        "  words_list = all_text.split()\n",
        "  word_list = []\n",
        "  part_of_speech = {}\n",
        "\n",
        "  for word in words_list:\n",
        "    if word not in stop_words and re.search('[a-z]', word) is not None and word!=\"&amp;\" and word[:4]!=\"http\":\n",
        "      #tmp = wn.synsets(word)[0].pos()\n",
        "      word_list.append(word.lower())\n",
        "      #part_of_speech[word.lower]= tmp\n",
        "\n",
        "  #words_dict = dict(sorted(words_dict.items(), key=lambda item: -item[1]))\n",
        "  words_dict = Counter(word_list)\n",
        "  for item in words_dict.most_common(50):\n",
        "    print(item)\n",
        "    #print(part_of_speech[item])\n",
        "\n",
        "most_common_words(data)"
      ],
      "metadata": {
        "id": "6YVXP_VfrV2b"
      },
      "execution_count": null,
      "outputs": []
    },
    {
      "cell_type": "markdown",
      "source": [
        "## Bigrams / Trigrams As Features"
      ],
      "metadata": {
        "id": "E6iYA5pgwEd5"
      }
    },
    {
      "cell_type": "code",
      "source": [
        ""
      ],
      "metadata": {
        "id": "O87hFa0FwDXt"
      },
      "execution_count": null,
      "outputs": []
    },
    {
      "cell_type": "markdown",
      "source": [
        "## Grammars (nouns,verbs) As Features"
      ],
      "metadata": {
        "id": "BcEqjwo9xt4p"
      }
    },
    {
      "cell_type": "markdown",
      "source": [
        ""
      ],
      "metadata": {
        "id": "GHEcwKh6yAes"
      }
    },
    {
      "cell_type": "markdown",
      "source": [
        "# Decision Tree"
      ],
      "metadata": {
        "id": "smAoYiMPyB-N"
      }
    },
    {
      "cell_type": "markdown",
      "source": [
        "## Entropy"
      ],
      "metadata": {
        "id": "Lf8CA4ZozCcF"
      }
    },
    {
      "cell_type": "code",
      "source": [
        "def entropy(class_probabilities: List[float]) -> float:\n",
        "  '''Given a list of class probabilities, compute the entropy'''\n",
        "  return jnp.sum(jnp.asarray([-p*jnp.log2(p) for p in class_probabilities if p > 0]))\n",
        "\n",
        "def class_probabilities(labels: List[Any]) -> float:\n",
        "  total_count = jnp.size(labels)\n",
        "  return [count/total_count for count in Counter(labels).values()]\n",
        "\n",
        "def data_entropy(labels: List[Any]) -> float:\n",
        "  return entropy(class_probabilities(labels))\n",
        "\n",
        "def partition_entropy(subsets: List[List[Any]]) -> float:\n",
        "  '''Returns the entropy from this partition of data into subsets'''\n",
        "  total_count = jnp.sum(jnp.asarray([jnp.size(subset) for subset in subsets]))\n",
        "  return jnp.sum(jnp.asarray([data_entropy(subset)*jnp.size(subset)/total_count for subset in subsets]))"
      ],
      "metadata": {
        "id": "g3jcrUV4yxrr"
      },
      "execution_count": 343,
      "outputs": []
    },
    {
      "cell_type": "markdown",
      "source": [
        "## Parition"
      ],
      "metadata": {
        "id": "-rArfTFo2I7Y"
      }
    },
    {
      "cell_type": "code",
      "source": [
        "T = TypeVar('T')\n",
        "\n",
        "def partition_by(inputs: List[T], attribute:str) -> Dict[Any, List[T]]:\n",
        "  '''Partitions the inputs into lists based on the specified attribute'''\n",
        "  partitions: Dict[Any,List[T]] = defaultdict(list)\n",
        "  for input in inputs:\n",
        "    key = getattr(input, attribute)\n",
        "    partitions[key].append(input)\n",
        "  return partitions\n",
        "\n",
        "def partition_entropy_by(inputs: List[Any], attribute:str,label_attribute:str) ->float:\n",
        "  '''Computes the entropy corresponding to the given partition'''\n",
        "  partitions = partition_by(inputs,attribute)\n",
        "  labels = [[getattr(input, label_attribute) for input in partition] for partition in partitions.values()]\n",
        "  return partition_entropy(labels)"
      ],
      "metadata": {
        "id": "TUFMpSL72HAV"
      },
      "execution_count": 304,
      "outputs": []
    },
    {
      "cell_type": "markdown",
      "source": [
        "## Test Entropy and Partition"
      ],
      "metadata": {
        "id": "vgNrFYDM1vVr"
      }
    },
    {
      "cell_type": "code",
      "source": [
        "print(headers)"
      ],
      "metadata": {
        "colab": {
          "base_uri": "https://localhost:8080/"
        },
        "id": "F9q262QITwIi",
        "outputId": "a1fe5b31-efed-4ef9-be70-402067b3de82"
      },
      "execution_count": 103,
      "outputs": [
        {
          "output_type": "stream",
          "name": "stdout",
          "text": [
            "['id', 'keyword', 'location', 'text', 'target']\n"
          ]
        }
      ]
    },
    {
      "cell_type": "code",
      "source": [
        "tweets = []\n",
        "\n",
        "class Tweet(NamedTuple):\n",
        "  keyword: str\n",
        "  location: str\n",
        "  target: int\n",
        "\n",
        "for tweet in train_data:\n",
        "  tweets.append(Tweet(tweet[1],tweet[2],tweet[4]))"
      ],
      "metadata": {
        "id": "zM_g0CyWTqQO"
      },
      "execution_count": 389,
      "outputs": []
    },
    {
      "cell_type": "code",
      "source": [
        "print(len(tweets))\n",
        "print(len(train_data))"
      ],
      "metadata": {
        "colab": {
          "base_uri": "https://localhost:8080/"
        },
        "id": "DxHy7u2mVyXA",
        "outputId": "9450fdd6-e59d-409f-f80c-49b896c8337e"
      },
      "execution_count": 390,
      "outputs": [
        {
          "output_type": "stream",
          "name": "stdout",
          "text": [
            "5000\n",
            "5000\n"
          ]
        }
      ]
    },
    {
      "cell_type": "code",
      "source": [
        "for key in ['keyword','location']:\n",
        "  print(key,partition_entropy_by(tweets,key,'target'))"
      ],
      "metadata": {
        "colab": {
          "base_uri": "https://localhost:8080/"
        },
        "id": "ZxuyEKSQWSYr",
        "outputId": "307eadad-0cd5-4eb2-e8b9-03ef4bf33eeb"
      },
      "execution_count": 375,
      "outputs": [
        {
          "output_type": "stream",
          "name": "stdout",
          "text": [
            "keyword 0.7342361\n",
            "location 0.5156009\n"
          ]
        }
      ]
    },
    {
      "cell_type": "markdown",
      "source": [
        "## Build Tree"
      ],
      "metadata": {
        "id": "-na0Idv44SQO"
      }
    },
    {
      "cell_type": "code",
      "source": [
        "class Leaf(NamedTuple):\n",
        "  value: Any\n",
        "\n",
        "class Split(NamedTuple):\n",
        "  attribute: str\n",
        "  subtrees: dict\n",
        "  default_value: Any = None\n",
        "\n",
        "DecisionTree = Union[Leaf,Split]"
      ],
      "metadata": {
        "id": "454J3DuR28o8"
      },
      "execution_count": 80,
      "outputs": []
    },
    {
      "cell_type": "code",
      "source": [
        "class Tweet(NamedTuple):\n",
        "  keyword: str\n",
        "  location: str\n",
        "  target: int"
      ],
      "metadata": {
        "id": "uhZgO9ux9Svn"
      },
      "execution_count": 391,
      "outputs": []
    },
    {
      "cell_type": "code",
      "source": [
        "def classify(tree:DecisionTree,input:Any) -> Any:\n",
        "  '''Classify the input using the given decision tree'''\n",
        "  \n",
        "  # If this is a leaf node, return its value\n",
        "  if isinstance(tree,Leaf):\n",
        "    return tree.value\n",
        "\n",
        "  subtree_key = getattr(input, tree.attribute)\n",
        "\n",
        "  if subtree_key not in tree.subtrees:\n",
        "    return tree.default_value\n",
        "  \n",
        "  subtree = tree.subtrees[subtree_key]\n",
        "  return classify(subtree,input)"
      ],
      "metadata": {
        "id": "nDiHJANM4BrT"
      },
      "execution_count": 81,
      "outputs": []
    },
    {
      "cell_type": "code",
      "source": [
        "def build_tree_id3(inputs: List[Any],split_attributes:List[str],target_attribute:str)->DecisionTree:\n",
        "  # Count target labels\n",
        "  label_counts = Counter(getattr(input,target_attribute) for input in inputs)\n",
        "  most_common_label = label_counts.most_common(1)[0][0]\n",
        "\n",
        "  # If there's a unique label, predict it\n",
        "  if len(label_counts) == 1:\n",
        "    return Leaf(most_common_label)\n",
        "  \n",
        "  # If no split attributes left, return the majority label\n",
        "  if not split_attributes:\n",
        "    return Leaf(most_common_label)\n",
        "\n",
        "  # Otherwise split by the best attribute\n",
        "  def split_entropy(attribute:str) -> float:\n",
        "    return partition_entropy_by(inputs,attribute,target_attribute)\n",
        "  \n",
        "  best_attribute = min(split_attributes, key=split_entropy)\n",
        "\n",
        "  partitions = partition_by(inputs, best_attribute)\n",
        "  new_attributes = [a for a in split_attributes if a !=best_attribute]\n",
        "\n",
        "  # Recursively build subtrees\n",
        "  subtrees = {attribute_value: build_tree_id3(subset,new_attributes, target_attribute) for attribute_value,subset in partitions.items()}\n",
        "\n",
        "  return Split(best_attribute, subtrees, default_value=most_common_label)"
      ],
      "metadata": {
        "id": "QcWju7rK5sEG"
      },
      "execution_count": 84,
      "outputs": []
    },
    {
      "cell_type": "markdown",
      "source": [
        "## Test Build Tree"
      ],
      "metadata": {
        "id": "-sWStJ_P9_lf"
      }
    },
    {
      "cell_type": "code",
      "source": [
        "decision_tree = build_tree_id3(tweets,['keyword','location'],'target')\n",
        "print(decision_tree)"
      ],
      "metadata": {
        "colab": {
          "base_uri": "https://localhost:8080/"
        },
        "id": "zFJILcu2WlTS",
        "outputId": "d2640e58-58f9-4668-c8cf-c6477564652e"
      },
      "execution_count": 381,
      "outputs": [
        {
          "output_type": "stream",
          "name": "stdout",
          "text": [
            "Split(attribute='location', subtrees={'': Split(attribute='keyword', subtrees={'razed': Leaf(value='1'), 'blaze': Leaf(value='0'), 'drought': Leaf(value='1'), 'natural%20disaster': Leaf(value='1'), 'refugees': Leaf(value='1'), 'bleeding': Leaf(value='0'), 'devastation': Leaf(value='1'), 'quarantine': Leaf(value='0'), 'burned': Leaf(value='0'), 'harm': Leaf(value='0'), 'bridge%20collapse': Leaf(value='1'), 'hurricane': Leaf(value='1'), 'suicide%20bomber': Leaf(value='1'), 'accident': Leaf(value='0'), 'dead': Leaf(value='0'), 'demolition': Leaf(value='0'), 'bioterror': Leaf(value='1'), 'typhoon': Leaf(value='1'), 'riot': Leaf(value='0'), 'bombed': Leaf(value='0'), 'panic': Leaf(value='0'), 'body%20bag': Leaf(value='0'), 'heat%20wave': Leaf(value='0'), 'fatal': Leaf(value='1'), 'police': Leaf(value='0'), 'ruin': Leaf(value='0'), 'trapped': Leaf(value='0'), 'burning': Leaf(value='0'), '': Leaf(value='1'), 'siren': Leaf(value='0'), 'hijacking': Leaf(value='1'), 'fear': Leaf(value='0'), 'explosion': Leaf(value='0'), 'nuclear%20disaster': Leaf(value='1'), 'exploded': Leaf(value='0'), 'chemical%20emergency': Leaf(value='0'), 'flames': Leaf(value='0'), 'hazard': Leaf(value='0'), 'casualty': Leaf(value='0'), 'bioterrorism': Leaf(value='1'), 'death': Leaf(value='0'), 'fatality': Leaf(value='1'), 'terrorism': Leaf(value='1'), 'arson': Leaf(value='1'), 'smoke': Leaf(value='0'), 'drown': Leaf(value='0'), 'trauma': Leaf(value='1'), 'blizzard': Leaf(value='0'), 'destruction': Leaf(value='0'), 'survived': Leaf(value='0'), 'destroyed': Leaf(value='0'), 'desolation': Leaf(value='0'), 'wild%20fires': Leaf(value='1'), 'sirens': Leaf(value='0'), 'desolate': Leaf(value='0'), 'screaming': Leaf(value='0'), 'curfew': Leaf(value='0'), 'volcano': Leaf(value='0'), 'mass%20murderer': Leaf(value='1'), 'screamed': Leaf(value='0'), 'terrorist': Leaf(value='1'), 'detonation': Leaf(value='0'), 'emergency': Leaf(value='0'), 'electrocuted': Leaf(value='0'), 'injured': Leaf(value='1'), 'wreck': Leaf(value='0'), 'evacuated': Leaf(value='1'), 'collision': Leaf(value='1'), 'apocalypse': Leaf(value='0'), 'pandemonium': Leaf(value='0'), 'blown%20up': Leaf(value='0'), 'crash': Leaf(value='0'), 'army': Leaf(value='0'), 'evacuate': Leaf(value='0'), 'meltdown': Leaf(value='0'), 'debris': Leaf(value='1'), 'crushed': Leaf(value='0'), 'obliteration': Leaf(value='0'), 'armageddon': Leaf(value='0'), 'rubble': Leaf(value='0'), 'twister': Leaf(value='0'), 'cliff%20fall': Leaf(value='0'), 'traumatised': Leaf(value='0'), 'wounded': Leaf(value='1'), 'tornado': Leaf(value='0'), 'rioting': Leaf(value='1'), 'hail': Leaf(value='0'), 'collapsed': Leaf(value='0'), 'storm': Leaf(value='0'), 'drowning': Leaf(value='0'), 'violent%20storm': Leaf(value='1'), 'rescued': Leaf(value='1'), 'forest%20fires': Leaf(value='1'), 'injuries': Leaf(value='0'), 'hijack': Leaf(value='0'), 'blew%20up': Leaf(value='0'), 'bush%20fires': Leaf(value='0'), 'survive': Leaf(value='0'), 'derailment': Leaf(value='1'), 'structural%20failure': Leaf(value='1'), 'inundated': Leaf(value='0'), 'hijacker': Leaf(value='1'), 'threat': Leaf(value='0'), 'devastated': Leaf(value='1'), 'annihilation': Leaf(value='0'), 'rescuers': Leaf(value='1'), 'tragedy': Leaf(value='1'), 'lightning': Leaf(value='1'), 'first%20responders': Leaf(value='1'), 'hellfire': Leaf(value='0'), 'floods': Leaf(value='1'), 'thunderstorm': Leaf(value='1'), 'displaced': Leaf(value='1'), 'aftershock': Leaf(value='0'), 'weapon': Leaf(value='0'), 'attacked': Leaf(value='1'), 'suicide%20bombing': Leaf(value='1'), 'bomb': Leaf(value='1'), 'hostages': Leaf(value='0'), 'body%20bags': Leaf(value='0'), 'ablaze': Leaf(value='0'), 'oil%20spill': Leaf(value='1'), 'rainstorm': Leaf(value='0'), 'rescue': Leaf(value='0'), 'survivors': Leaf(value='1'), 'explode': Leaf(value='0'), 'deaths': Leaf(value='1'), 'panicking': Leaf(value='0'), 'weapons': Leaf(value='0'), 'evacuation': Leaf(value='1'), 'engulfed': Leaf(value='1'), 'stretcher': Leaf(value='0'), 'electrocute': Leaf(value='0'), 'damage': Leaf(value='1'), 'sunk': Leaf(value='0'), 'flood': Leaf(value='0'), 'collide': Leaf(value='0'), 'windstorm': Leaf(value='1'), 'wreckage': Leaf(value='1'), 'hazardous': Leaf(value='1'), 'crush': Leaf(value='0'), 'detonate': Leaf(value='0'), 'deluged': Leaf(value='0'), 'war%20zone': Leaf(value='0'), 'mudslide': Leaf(value='0'), 'burning%20buildings': Leaf(value='0'), 'upheaval': Leaf(value='0'), 'blazing': Leaf(value='0'), 'thunder': Leaf(value='0'), 'hostage': Leaf(value='0'), 'bombing': Leaf(value='1'), 'fire': Leaf(value='0'), 'mass%20murder': Leaf(value='1'), 'tsunami': Leaf(value='0'), 'annihilated': Leaf(value='1'), 'fire%20truck': Leaf(value='0'), 'suicide%20bomb': Leaf(value='1'), 'forest%20fire': Leaf(value='1'), 'sandstorm': Leaf(value='1'), 'loud%20bang': Leaf(value='0'), 'deluge': Leaf(value='0'), 'trouble': Leaf(value='0'), 'massacre': Leaf(value='1'), 'famine': Leaf(value='1'), 'dust%20storm': Leaf(value='1'), 'demolish': Leaf(value='0'), 'wrecked': Leaf(value='0'), 'sinkhole': Leaf(value='1'), 'quarantined': Leaf(value='1'), 'ambulance': Leaf(value='1'), 'casualties': Leaf(value='1'), 'sinking': Leaf(value='0'), 'fatalities': Leaf(value='1'), 'wildfire': Leaf(value='1'), 'avalanche': Leaf(value='0'), 'whirlwind': Leaf(value='1'), 'demolished': Leaf(value='0'), 'lava': Leaf(value='0'), 'drowned': Leaf(value='0'), 'collapse': Leaf(value='0'), 'emergency%20services': Leaf(value='1'), 'buildings%20burning': Leaf(value='0'), 'battle': Leaf(value='0'), 'airplane%20accident': Leaf(value='1'), 'seismic': Leaf(value='1'), 'cyclone': Leaf(value='1'), 'nuclear%20reactor': Leaf(value='0'), 'injury': Leaf(value='0'), 'landslide': Leaf(value='0'), 'danger': Leaf(value='0'), 'catastrophe': Leaf(value='0'), 'attack': Leaf(value='1'), 'military': Leaf(value='0'), 'eyewitness': Leaf(value='0'), 'inundation': Leaf(value='0'), 'screams': Leaf(value='0'), 'earthquake': Leaf(value='1'), 'collided': Leaf(value='1'), 'derail': Leaf(value='1'), 'crashed': Leaf(value='1'), 'blood': Leaf(value='0'), 'epicentre': Leaf(value='0'), 'hailstorm': Leaf(value='1'), 'obliterated': Leaf(value='0'), 'flooding': Leaf(value='0'), 'emergency%20plan': Leaf(value='0'), 'radiation%20emergency': Leaf(value='1'), 'destroy': Leaf(value='0'), 'flattened': Leaf(value='0'), 'arsonist': Leaf(value='0'), 'disaster': Leaf(value='0'), 'body%20bagging': Leaf(value='0'), 'mayhem': Leaf(value='0'), 'obliterate': Leaf(value='0'), 'wounds': Leaf(value='1'), 'bloody': Leaf(value='0'), 'catastrophic': Leaf(value='1'), 'derailed': Leaf(value='1'), 'outbreak': Leaf(value='1'), 'buildings%20on%20fire': Leaf(value='1'), 'snowstorm': Leaf(value='0'), 'blight': Leaf(value='0')}, default_value='0'), 'UK': Split(attribute='keyword', subtrees={'panicking': Leaf(value='0'), 'casualties': Leaf(value='1'), 'accident': Leaf(value='1'), 'buildings%20on%20fire': Leaf(value='1'), 'flooding': Leaf(value='1'), 'obliterate': Leaf(value='0'), 'deaths': Leaf(value='1'), 'police': Leaf(value='1'), 'engulfed': Leaf(value='1'), 'blight': Leaf(value='0'), 'destroy': Leaf(value='0'), 'screaming': Leaf(value='0'), 'landslide': Leaf(value='1'), 'rainstorm': Leaf(value='1'), 'derailment': Leaf(value='1'), 'hellfire': Leaf(value='0')}, default_value='1'), 'Pakistan': Split(attribute='keyword', subtrees={'survived': Leaf(value='0'), 'crashed': Leaf(value='1'), 'army': Leaf(value='0'), 'collided': Leaf(value='1')}, default_value='0'), 'US': Split(attribute='keyword', subtrees={'bioterror': Leaf(value='1'), 'nuclear%20disaster': Leaf(value='1'), 'body%20bag': Leaf(value='0'), 'sandstorm': Leaf(value='1'), 'aftershock': Leaf(value='0'), 'derailed': Leaf(value='1')}, default_value='1'), 'she/her/your majesty/empress': Leaf(value='0'), 'Utah': Leaf(value='0'), 'Ankara - Malatya - ad Orontem': Leaf(value='1'), 'Mumbai': Split(attribute='keyword', subtrees={'ambulance': Leaf(value='0'), 'injured': Leaf(value='1'), 'wreckage': Leaf(value='1'), 'collision': Leaf(value='0'), 'derailment': Leaf(value='1'), 'bridge%20collapse': Leaf(value='1')}, default_value='1'), 'South Stand': Leaf(value='0'), 'Arizona': Leaf(value='0'), 'Livingston, MT': Leaf(value='0'), 'The Jewfnited State': Leaf(value='0'), 'Dallas, TX': Split(attribute='keyword', subtrees={'snowstorm': Leaf(value='0'), 'explode': Leaf(value='0'), 'battle': Leaf(value='0'), 'emergency%20plan': Leaf(value='1'), 'attack': Leaf(value='1'), 'injury': Leaf(value='0')}, default_value='0'), 'North Carolina, USA': Split(attribute='keyword', subtrees={'wild%20fires': Leaf(value='1'), 'screamed': Leaf(value='1'), 'sandstorm': Leaf(value='0')}, default_value='1'), 'Orange County, California': Split(attribute='keyword', subtrees={'collision': Leaf(value='1'), 'arsonist': Leaf(value='0')}, default_value='1'), 'Augusta, Maine, 04330': Leaf(value='0'), 'Numa casa de old yellow bricks': Leaf(value='1'), 'Memphis, TN': Split(attribute='keyword', subtrees={'thunderstorm': Leaf(value='1'), 'military': Leaf(value='0'), 'mudslide': Leaf(value='1'), 'rainstorm': Leaf(value='1')}, default_value='1'), 'World news': Leaf(value='1'), 'London': Split(attribute='keyword', subtrees={'sinking': Leaf(value='0'), 'mudslide': Leaf(value='0'), 'earthquake': Leaf(value='1'), 'whirlwind': Leaf(value='0'), 'devastated': Leaf(value='1'), 'massacre': Leaf(value='1'), 'landslide': Leaf(value='1'), 'exploded': Leaf(value='0'), 'siren': Leaf(value='0'), 'dead': Leaf(value='0'), 'blight': Leaf(value='0'), 'rescuers': Leaf(value='1'), 'obliterate': Leaf(value='0'), 'engulfed': Leaf(value='1'), 'survived': Leaf(value='0'), 'chemical%20emergency': Leaf(value='0'), 'derail': Leaf(value='0'), 'bush%20fires': Leaf(value='1'), 'rubble': Leaf(value='1'), 'electrocute': Leaf(value='0'), 'quarantine': Leaf(value='0'), 'destruction': Leaf(value='0'), 'traumatised': Leaf(value='0'), 'disaster': Leaf(value='0'), 'annihilated': Leaf(value='1'), 'deluged': Leaf(value='1')}, default_value='0'), 'Lynwood, CA': Leaf(value='0'), 'USA': Split(attribute='keyword', subtrees={'suicide%20bombing': Leaf(value='1'), 'collapsed': Leaf(value='0'), 'destroyed': Leaf(value='0'), 'typhoon': Leaf(value='1'), 'fatality': Leaf(value='0'), 'lava': Leaf(value='0'), 'blight': Leaf(value='0'), 'flooding': Leaf(value='1'), 'upheaval': Leaf(value='0'), 'wounded': Leaf(value='1'), 'arson': Leaf(value='1'), 'lightning': Leaf(value='1'), 'casualties': Leaf(value='1'), 'sandstorm': Leaf(value='1'), 'emergency%20services': Leaf(value='1'), 'fatalities': Leaf(value='1'), 'wild%20fires': Leaf(value='1'), 'hijacker': Leaf(value='0'), 'engulfed': Leaf(value='1'), 'structural%20failure': Leaf(value='1'), 'emergency': Leaf(value='0'), 'blown%20up': Leaf(value='0'), 'annihilated': Leaf(value='0'), 'hazardous': Leaf(value='1'), 'electrocuted': Leaf(value='1'), 'flood': Leaf(value='1'), 'deluge': Leaf(value='0'), 'rescue': Leaf(value='0'), 'landslide': Leaf(value='0'), 'cyclone': Leaf(value='0'), 'battle': Leaf(value='0'), 'fear': Leaf(value='0'), 'derail': Leaf(value='1'), 'heat%20wave': Leaf(value='1'), 'attacked': Leaf(value='1'), 'exploded': Leaf(value='0'), 'ablaze': Leaf(value='1'), 'rescued': Leaf(value='1'), 'sinkhole': Leaf(value='1'), 'mass%20murderer': Leaf(value='1'), 'demolished': Leaf(value='1'), 'death': Leaf(value='0'), 'hail': Leaf(value='1'), 'volcano': Leaf(value='1'), 'police': Leaf(value='1')}, default_value='1'), 'Rio de Janeiro': Leaf(value='0'), 'Asia': Split(attribute='keyword', subtrees={'structural%20failure': Leaf(value='0'), 'inundated': Leaf(value='1')}, default_value='0'), 'Anderson, SC': Leaf(value='1'), 'California': Split(attribute='keyword', subtrees={'pandemonium': Leaf(value='1'), 'blaze': Leaf(value='0'), 'injury': Leaf(value='0'), 'oil%20spill': Leaf(value='1'), 'battle': Leaf(value='0'), 'injuries': Leaf(value='1'), 'curfew': Leaf(value='0'), 'quarantined': Leaf(value='0'), 'rubble': Leaf(value='0'), 'engulfed': Leaf(value='0'), 'weapons': Leaf(value='1'), 'armageddon': Leaf(value='0')}, default_value='0'), 'Mount Vernon, NY': Leaf(value='0'), '??': Split(attribute='keyword', subtrees={'injuries': Leaf(value='0'), 'thunder': Leaf(value='1'), 'bombed': Leaf(value='1'), 'stretcher': Leaf(value='0')}, default_value='0'), 'http://www.amazon.com/dp/B00HR': Leaf(value='1'), 'Slappin and Smackin ': Leaf(value='0'), 'VÌ_a LÌÁctea': Leaf(value='0'), 'Pennsylvania': Split(attribute='keyword', subtrees={'eyewitness': Leaf(value='0'), 'crushed': Leaf(value='0'), 'wrecked': Leaf(value='0'), 'weapon': Leaf(value='1')}, default_value='0'), 'Barbados': Leaf(value='0'), 'Mars': Leaf(value='0'), '18 \\x89Û¢ CC': Leaf(value='0'), 'Anchorage, AK': Split(attribute='keyword', subtrees={'derailed': Leaf(value='1'), 'fatal': Leaf(value='1'), 'emergency': Leaf(value='0')}, default_value='1'), 'New York ': Leaf(value='0'), 'Massachusetts, USA': Split(attribute='keyword', subtrees={'harm': Leaf(value='0'), 'casualty': Leaf(value='1'), 'police': Leaf(value='1')}, default_value='1'), 'snapchat~ maddzz_babby ': Leaf(value='0'), 'Texas': Split(attribute='keyword', subtrees={'apocalypse': Leaf(value='0'), 'damage': Leaf(value='1'), 'first%20responders': Leaf(value='0'), 'famine': Leaf(value='1'), 'body%20bagging': Leaf(value='0'), 'obliterate': Leaf(value='0'), 'military': Leaf(value='1')}, default_value='0'), 'United States': Split(attribute='keyword', subtrees={'hail': Leaf(value='1'), 'aftershock': Leaf(value='0'), 'evacuation': Leaf(value='1'), 'survive': Leaf(value='0'), 'hazardous': Leaf(value='1'), 'drowned': Leaf(value='0'), 'explode': Leaf(value='0'), 'catastrophic': Leaf(value='1'), 'outbreak': Leaf(value='1'), 'rescued': Leaf(value='1'), 'wounded': Leaf(value='1'), 'dead': Leaf(value='0'), 'annihilation': Leaf(value='0'), 'collapse': Leaf(value='1'), 'inundated': Leaf(value='0'), 'flood': Leaf(value='1'), 'blizzard': Leaf(value='0'), 'sandstorm': Leaf(value='0'), 'rubble': Leaf(value='0'), 'suicide%20bomber': Leaf(value='1'), 'eyewitness': Leaf(value='1'), 'famine': Leaf(value='1'), 'bioterror': Leaf(value='0'), 'devastation': Leaf(value='1'), 'twister': Leaf(value='0'), 'wrecked': Leaf(value='0'), 'fire%20truck': Leaf(value='0'), 'bombing': Leaf(value='1'), 'screams': Leaf(value='0'), 'arsonist': Leaf(value='0')}, default_value='1'), 'NYC': Split(attribute='keyword', subtrees={'trouble': Leaf(value='0'), 'stretcher': Leaf(value='0'), 'rioting': Leaf(value='0'), 'survived': Leaf(value='1'), 'screaming': Leaf(value='0'), 'derailed': Leaf(value='1'), 'hurricane': Leaf(value='0'), 'battle': Leaf(value='0'), 'sunk': Leaf(value='0')}, default_value='0'), '??????': Split(attribute='keyword', subtrees={'seismic': Leaf(value='1'), 'pandemonium': Leaf(value='0'), 'weapons': Leaf(value='1'), 'outbreak': Leaf(value='1')}, default_value='1'), 'Espoo, Finland': Leaf(value='1'), 'Fresno, CA': Split(attribute='keyword', subtrees={'fatal': Leaf(value='0'), 'blaze': Leaf(value='1')}, default_value='0'), 'London UK': Split(attribute='keyword', subtrees={'obliteration': Leaf(value='1'), 'casualty': Leaf(value='0'), 'evacuate': Leaf(value='1')}, default_value='1'), 'Sydney': Split(attribute='keyword', subtrees={'wreckage': Leaf(value='1'), 'blizzard': Leaf(value='1'), 'blight': Leaf(value='0'), 'earthquake': Leaf(value='1'), 'sirens': Leaf(value='0')}, default_value='1'), 'Lurking': Leaf(value='0'), 'The South & WestCoast ': Leaf(value='0'), 'Washington, DC': Split(attribute='keyword', subtrees={'eyewitness': Leaf(value='1'), 'demolition': Leaf(value='0'), 'meltdown': Leaf(value='1'), 'radiation%20emergency': Leaf(value='1'), 'first%20responders': Leaf(value='0'), 'army': Leaf(value='0'), 'derail': Leaf(value='1'), 'derailed': Leaf(value='1'), 'tsunami': Leaf(value='0'), 'cyclone': Leaf(value='1'), 'fatalities': Leaf(value='1'), 'nuclear%20disaster': Leaf(value='1')}, default_value='1'), 'wisco': Leaf(value='0'), 'Michigan, USA': Leaf(value='0'), 'Dover, DE': Leaf(value='0'), 'brisbane, australia': Leaf(value='0'), 'All Around the World': Leaf(value='0'), 'Edinburgh': Leaf(value='0'), 'India': Split(attribute='keyword', subtrees={'tragedy': Leaf(value='1'), 'drowned': Leaf(value='1'), 'derailment': Leaf(value='1'), 'obliteration': Leaf(value='0'), 'wreckage': Leaf(value='1'), 'ablaze': Leaf(value='1'), 'injured': Leaf(value='1'), 'rescue': Leaf(value='1'), 'collapse': Leaf(value='0'), 'riot': Leaf(value='0')}, default_value='1'), 'Nigeria ': Leaf(value='1'), 'Japan': Split(attribute='keyword', subtrees={'nuclear%20reactor': Leaf(value='1'), 'destroy': Leaf(value='0')}, default_value='1'), 'Kenya': Split(attribute='keyword', subtrees={'loud%20bang': Leaf(value='0'), 'inundated': Leaf(value='0'), 'casualty': Leaf(value='1'), 'violent%20storm': Leaf(value='1')}, default_value='0'), 'Peterborough, Ont.': Leaf(value='1'), 'india': Leaf(value='0'), ' Queensland, Australia': Split(attribute='keyword', subtrees={'harm': Leaf(value='0'), 'mass%20murder': Leaf(value='1')}, default_value='0'), 'Madison, WI': Split(attribute='keyword', subtrees={'lava': Leaf(value='0'), 'drowning': Leaf(value='1')}, default_value='0'), 'Raleigh, NC': Leaf(value='1'), 'Canada': Split(attribute='keyword', subtrees={'terrorist': Leaf(value='0'), 'rescued': Leaf(value='1'), 'structural%20failure': Leaf(value='1'), 'meltdown': Leaf(value='0'), 'drought': Leaf(value='0'), 'demolished': Leaf(value='0'), 'sinkhole': Leaf(value='0'), 'displaced': Leaf(value='1'), 'armageddon': Leaf(value='0'), 'outbreak': Leaf(value='1'), 'obliterated': Leaf(value='0'), 'tragedy': Leaf(value='1'), 'tornado': Leaf(value='1'), 'trouble': Leaf(value='1'), 'natural%20disaster': Leaf(value='1'), 'sinking': Leaf(value='1'), 'hazardous': Leaf(value='1'), 'airplane%20accident': Leaf(value='1'), 'blizzard': Leaf(value='0'), 'bomb': Leaf(value='0')}, default_value='1'), 'Nowhere. Everywhere.': Leaf(value='0'), 'Up a hill': Leaf(value='0'), 'Darlington': Leaf(value='0'), 'iPhone: 33.104393,-96.628624': Leaf(value='0'), \"don't buy the s*n\": Leaf(value='0'), 'Adelaide, South Australia': Leaf(value='0'), 'hell': Leaf(value='0'), 'Sweden': Split(attribute='keyword', subtrees={'traumatised': Leaf(value='0'), 'buildings%20on%20fire': Leaf(value='1')}, default_value='0'), 'Mumbai, Maharashtra': Split(attribute='keyword', subtrees={'wreckage': Leaf(value='1'), 'survived': Leaf(value='1'), 'electrocuted': Leaf(value='1'), 'quarantine': Leaf(value='0')}, default_value='1'), 'nigeria': Leaf(value='1'), 'lowestoft': Leaf(value='0'), 'LIVERPOOL': Leaf(value='0'), 'Everywhere': Split(attribute='keyword', subtrees={'threat': Leaf(value='0'), 'panic': Leaf(value='0'), 'crush': Leaf(value='0'), 'twister': Leaf(value='0'), 'meltdown': Leaf(value='0'), 'pandemonium': Leaf(value='1'), 'mass%20murder': Leaf(value='0')}, default_value='0'), 'Macclesfield': Split(attribute='keyword', subtrees={'desolate': Leaf(value='1')}, default_value='1'), 'England.': Leaf(value='0'), 'Mooresville, NC': Leaf(value='1'), 'In the middle of no where': Leaf(value='0'), 'Los Angeles for now': Leaf(value='1'), 'Chicago, IL': Split(attribute='keyword', subtrees={'exploded': Leaf(value='1'), 'buildings%20burning': Leaf(value='0'), 'violent%20storm': Leaf(value='1'), 'curfew': Leaf(value='1'), 'bomb': Leaf(value='0'), 'derailment': Leaf(value='1'), 'survivors': Leaf(value='1'), 'eyewitness': Leaf(value='0'), 'storm': Leaf(value='1'), 'drowning': Leaf(value='0'), 'devastated': Leaf(value='0'), 'derailed': Leaf(value='0')}, default_value='1'), 'AsunciÌ_n-PY / TÌ_bingen-GER': Leaf(value='0'), 'Winston-Salem, NC': Split(attribute='keyword', subtrees={'terrorism': Leaf(value='1'), 'rescued': Leaf(value='0')}, default_value='1'), 'ON': Leaf(value='1'), 'Austin, TX': Split(attribute='keyword', subtrees={'tsunami': Leaf(value='0'), 'apocalypse': Leaf(value='1'), 'desolation': Leaf(value='0'), 'survived': Leaf(value='0'), 'collide': Leaf(value='0')}, default_value='0'), 'RhodeIsland': Leaf(value='0'), 'Jerusalem': Leaf(value='1'), 'Florida, USA': Split(attribute='keyword', subtrees={'bleeding': Leaf(value='0'), 'armageddon': Leaf(value='1'), 'cliff%20fall': Leaf(value='0')}, default_value='0'), 'Dubai, UAE': Leaf(value='1'), 'Sicamous, British Columbia': Leaf(value='1'), 'oman muscat al seeb ': Leaf(value='1'), 'New Orleans, Louisiana': Leaf(value='0'), 'Amsterdam | San Francisco': Leaf(value='1'), 'THE WORLD T.G.G / M.M.M ': Leaf(value='0'), 'New Jersey, usually': Leaf(value='0'), 'Sandton, South Africa': Leaf(value='0'), 'Somewhere Out There': Leaf(value='1'), 'sydney, australia': Leaf(value='0'), 'TonyJ@Centralizedhockey.com': Leaf(value='1'), \"United States where it's warm\": Leaf(value='0'), 'Calgary/Airdrie/RedDeer/AB': Leaf(value='0'), 'San Francisco': Split(attribute='keyword', subtrees={'disaster': Leaf(value='1'), 'collided': Leaf(value='0'), 'displaced': Leaf(value='0'), 'quarantined': Leaf(value='1'), 'structural%20failure': Leaf(value='0'), 'ablaze': Leaf(value='0'), 'apocalypse': Leaf(value='0'), 'buildings%20burning': Leaf(value='0'), 'police': Leaf(value='1')}, default_value='0'), '???  Dreamz': Leaf(value='0'), 'Los Angeles': Split(attribute='keyword', subtrees={'blown%20up': Leaf(value='1'), 'emergency%20plan': Leaf(value='1'), 'mass%20murder': Leaf(value='1'), 'riot': Leaf(value='0'), 'natural%20disaster': Leaf(value='1'), 'tornado': Leaf(value='0')}, default_value='1'), 'East Coast': Split(attribute='keyword', subtrees={'armageddon': Leaf(value='0'), 'thunderstorm': Leaf(value='1')}, default_value='0'), 'Bandung': Leaf(value='1'), 'London, UK': Split(attribute='keyword', subtrees={'explosion': Leaf(value='1'), 'upheaval': Leaf(value='0'), 'ablaze': Leaf(value='0'), 'demolish': Leaf(value='1'), 'emergency%20services': Leaf(value='1'), 'threat': Leaf(value='0'), 'mayhem': Leaf(value='0')}, default_value='0'), 'Riverview, FL ': Leaf(value='0'), 'Nashville, TN': Split(attribute='keyword', subtrees={'first%20responders': Leaf(value='1'), 'mass%20murder': Leaf(value='1'), 'accident': Leaf(value='1'), 'lava': Leaf(value='1'), 'evacuated': Leaf(value='1'), 'emergency%20plan': Leaf(value='0'), 'ruin': Leaf(value='0')}, default_value='1'), 'Catalonia, Spain': Leaf(value='0'), 'Cimerak - Pangandaran': Leaf(value='0'), 'SÌ£o Paulo': Split(attribute='keyword', subtrees={'fire': Leaf(value='0'), 'outbreak': Leaf(value='1')}, default_value='0'), 'Near Warrington': Leaf(value='0'), 'Manchester, UK': Split(attribute='keyword', subtrees={'evacuated': Leaf(value='1'), 'destruction': Leaf(value='0')}, default_value='1'), 'Dublin': Leaf(value='0'), 'Bucks County, Pa': Leaf(value='0'), 'Republic of Texas': Split(attribute='keyword', subtrees={'annihilation': Leaf(value='0'), 'flooding': Leaf(value='1'), 'police': Leaf(value='0'), 'arson': Leaf(value='1')}, default_value='0'), '627': Leaf(value='0'), 'Los Angeles, California': Leaf(value='0'), 'Nagpur': Leaf(value='0'), 'QLD Australia': Leaf(value='1'), 'West Hollywood': Leaf(value='0'), 'Soul Somalia/Body Montreal': Leaf(value='0'), 'Bucharest': Leaf(value='1'), 'Calgary, AB': Split(attribute='keyword', subtrees={'hail': Leaf(value='1'), 'hailstorm': Leaf(value='1'), 'disaster': Leaf(value='0'), 'emergency%20plan': Leaf(value='1')}, default_value='1'), 'U.S. Northern Virginia': Leaf(value='1'), 'Pro-American and Anti-#Occupy': Leaf(value='1'), 'Adelaide, Australia': Leaf(value='0'), '316': Leaf(value='1'), 'Hong Kong': Leaf(value='1'), 'Inside the Beltway (DC Area)': Leaf(value='1'), 'Tennessee': Split(attribute='keyword', subtrees={'hostages': Leaf(value='1'), 'damage': Leaf(value='1'), 'injuries': Leaf(value='1'), 'obliterated': Leaf(value='1'), 'crash': Leaf(value='0')}, default_value='1'), '48.870833,2.399227': Leaf(value='1'), 'Jonesboro, AR MO, IOWA USA': Leaf(value='1'), 'MAD as Hell': Leaf(value='1'), 'West Palm Beach, Florida': Leaf(value='1'), 'Eastlake, OH': Leaf(value='0'), 'Stateless Global Citizen': Leaf(value='1'), 'Virginia': Leaf(value='0'), 'sheffield // rotherham': Leaf(value='0'), 'From a torn up town MANCHESTER': Leaf(value='1'), 'Australia': Split(attribute='keyword', subtrees={'damage': Leaf(value='0'), 'hazard': Leaf(value='0'), 'battle': Leaf(value='0'), 'snowstorm': Leaf(value='1'), 'exploded': Leaf(value='1'), 'sirens': Leaf(value='0'), 'suicide%20bombing': Leaf(value='1'), 'blaze': Leaf(value='1'), 'deluge': Leaf(value='0')}, default_value='0'), 'New York City': Split(attribute='keyword', subtrees={'first%20responders': Leaf(value='1'), 'armageddon': Leaf(value='0'), 'landslide': Leaf(value='1'), 'trapped': Leaf(value='0'), 'collapse': Leaf(value='1'), 'destruction': Leaf(value='0'), 'destroy': Leaf(value='0'), 'displaced': Leaf(value='1')}, default_value='1'), 'iPhone: -27.499212,153.011072': Leaf(value='1'), 'Wales': Leaf(value='0'), '? icon by @Hashiren_3 ?': Leaf(value='0'), 'Paris ': Leaf(value='1'), 'Piedmont Triad, NC': Leaf(value='1'), 'Vancouver, British Columbia': Split(attribute='keyword', subtrees={'sinking': Leaf(value='0'), 'emergency%20services': Leaf(value='1'), 'hostage': Leaf(value='0')}, default_value='0'), 'illinois. united state ': Leaf(value='0'), 'Worldwide': Split(attribute='keyword', subtrees={'suicide%20bomb': Leaf(value='1'), 'suicide%20bomber': Leaf(value='1'), 'detonate': Leaf(value='1'), 'danger': Leaf(value='0'), 'wildfire': Leaf(value='1'), 'evacuate': Leaf(value='1'), 'injured': Leaf(value='1')}, default_value='1'), 'ATL ? SEA ': Leaf(value='0'), '//RP\\\\ ot @Mort3mer\\\\\\\\': Leaf(value='0'), 'Toronto': Split(attribute='keyword', subtrees={'violent%20storm': Leaf(value='1'), 'buildings%20on%20fire': Leaf(value='1'), 'panic': Leaf(value='1'), 'police': Leaf(value='0'), 'airplane%20accident': Leaf(value='1'), 'collided': Leaf(value='1'), 'injuries': Leaf(value='0')}, default_value='1'), 'Trancy Manor': Leaf(value='0'), 'Ukraine': Leaf(value='1'), 'KurveZ@GearHeadCentral.net': Leaf(value='0'), 'PG Chillin!': Leaf(value='1'), 'Mass': Leaf(value='0'), 'Phoenix, AZ': Split(attribute='keyword', subtrees={'bioterror': Leaf(value='1'), 'annihilation': Leaf(value='0'), 'casualties': Leaf(value='1'), 'deaths': Leaf(value='1')}, default_value='1'), 'London/Surrey ': Leaf(value='0'), 'justin & ari follow || tvd': Leaf(value='0'), 'British Columbia, Canada': Split(attribute='keyword', subtrees={'emergency%20services': Leaf(value='0'), 'hazardous': Leaf(value='1'), 'flood': Leaf(value='1')}, default_value='1'), 'Sydney Australia': Leaf(value='1'), 'Arlington, TX': Split(attribute='keyword', subtrees={'accident': Leaf(value='1'), 'smoke': Leaf(value='0')}, default_value='1'), 'Canada ': Leaf(value='0'), \"???????, ??'??????\": Leaf(value='0'), 'Phoenix': Split(attribute='keyword', subtrees={'rescuers': Leaf(value='1'), 'emergency': Leaf(value='0')}, default_value='1'), 'Newcastle Upon Tyne, England': Leaf(value='0'), 'Saline, MI': Leaf(value='1'), 'Garden Grove': Leaf(value='0'), 'Riyadh': Split(attribute='keyword', subtrees={'terrorism': Leaf(value='1'), 'hellfire': Leaf(value='0')}, default_value='1'), 'NAIROBI  KENYA ': Leaf(value='0'), 'Queens New York': Leaf(value='0'), 'dallas': Split(attribute='keyword', subtrees={'burning%20buildings': Leaf(value='0'), 'buildings%20burning': Leaf(value='1')}, default_value='0'), 'Am International': Leaf(value='0'), 'Decatur, GA': Leaf(value='0'), 'Bushkill pa': Leaf(value='0'), 'Leeds': Leaf(value='1'), 'Earth, Milky Way, Universe': Leaf(value='1'), 'cuba': Leaf(value='1'), 'Chicago': Split(attribute='keyword', subtrees={'hazard': Leaf(value='1'), 'bloody': Leaf(value='0'), 'burned': Leaf(value='0'), 'arson': Leaf(value='0'), 'windstorm': Leaf(value='0'), 'derailment': Leaf(value='1')}, default_value='0'), 'Oklahoma City, OK': Split(attribute='keyword', subtrees={'buildings%20on%20fire': Leaf(value='1'), 'explode': Leaf(value='0'), 'heat%20wave': Leaf(value='1'), 'earthquake': Leaf(value='1'), 'thunderstorm': Leaf(value='1')}, default_value='1'), 'Somewhere between Chicago & Milwaukee': Leaf(value='0'), 'The Netherlands': Split(attribute='keyword', subtrees={'nuclear%20disaster': Leaf(value='1'), 'cliff%20fall': Leaf(value='0'), 'weapons': Leaf(value='1'), 'outbreak': Leaf(value='1'), 'tsunami': Leaf(value='1')}, default_value='1'), 'New York': Split(attribute='keyword', subtrees={'battle': Leaf(value='1'), 'flood': Leaf(value='0'), 'body%20bag': Leaf(value='0'), 'flames': Leaf(value='0'), 'arsonist': Leaf(value='1'), 'sunk': Leaf(value='1'), 'detonation': Leaf(value='0'), 'mass%20murder': Leaf(value='1'), 'fatalities': Leaf(value='1'), 'bioterror': Leaf(value='1'), 'hurricane': Leaf(value='0'), 'wounded': Leaf(value='1'), 'snowstorm': Leaf(value='0'), 'fear': Leaf(value='0'), 'flattened': Leaf(value='0'), 'emergency': Leaf(value='1'), 'drowning': Leaf(value='0'), 'electrocuted': Leaf(value='0'), 'blazing': Leaf(value='0'), 'explosion': Leaf(value='0'), 'collide': Leaf(value='0'), 'army': Leaf(value='0')}, default_value='0'), 'Cape Cod, Massachusetts USA': Leaf(value='1'), 'Nigeria': Split(attribute='keyword', subtrees={'suicide%20bomb': Leaf(value='1'), 'displaced': Leaf(value='0'), 'hijack': Leaf(value='0'), 'pandemonium': Leaf(value='1'), 'rescuers': Leaf(value='1'), 'blazing': Leaf(value='0'), 'rescued': Leaf(value='1'), 'police': Leaf(value='1'), 'injured': Leaf(value='1'), 'razed': Leaf(value='1'), 'bridge%20collapse': Leaf(value='1'), 'destroy': Leaf(value='0')}, default_value='1'), 'Ventura, Ca': Leaf(value='0'), 'East Lansing, MI': Leaf(value='0'), 'Oregon': Split(attribute='keyword', subtrees={'upheaval': Leaf(value='0'), 'collision': Leaf(value='1'), 'collided': Leaf(value='0')}, default_value='0'), 'Proud @BuckMasonUSA supporter!': Leaf(value='1'), 'Delhi': Leaf(value='0'), 'Portoviejo-Manabi-Ecuador': Leaf(value='0'), 'Nirvana': Leaf(value='0'), 'Earth': Split(attribute='keyword', subtrees={'battle': Leaf(value='0'), 'wounds': Leaf(value='0'), 'rainstorm': Leaf(value='1'), 'mass%20murderer': Leaf(value='1'), 'earthquake': Leaf(value='1'), 'volcano': Leaf(value='1'), 'demolish': Leaf(value='0')}, default_value='1'), 'International': Leaf(value='0'), 'china': Split(attribute='keyword', subtrees={'hostages': Leaf(value='0')}, default_value='0'), 'North-East Region, Singapore': Leaf(value='0'), 'worldwide': Split(attribute='keyword', subtrees={'wounded': Leaf(value='1'), 'hijacker': Leaf(value='1'), 'trapped': Leaf(value='0'), 'blazing': Leaf(value='0'), 'panic': Leaf(value='0')}, default_value='0'), 'Florida': Split(attribute='keyword', subtrees={'catastrophe': Leaf(value='0'), 'police': Leaf(value='0'), 'terrorist': Leaf(value='1'), 'injured': Leaf(value='1'), 'explosion': Leaf(value='0'), 'stretcher': Leaf(value='0'), 'fear': Leaf(value='0'), 'blew%20up': Leaf(value='0')}, default_value='0'), 'boston': Leaf(value='0'), 'New Zealand': Leaf(value='1'), 'germany': Leaf(value='0'), 'Laventillemoorings ': Leaf(value='0'), 'us': Leaf(value='1'), 'USAoV': Leaf(value='0'), '92': Leaf(value='1'), 'Brasil, Fortaleza ce': Leaf(value='0'), 'Near Richmond, VA': Leaf(value='0'), 'Alabama, USA': Leaf(value='0'), '304': Leaf(value='0'), 'Scotland': Split(attribute='keyword', subtrees={'survived': Leaf(value='0'), 'traumatised': Leaf(value='1'), 'crashed': Leaf(value='1'), 'blown%20up': Leaf(value='0')}, default_value='0'), 'Greenville,SC': Leaf(value='0'), 'Fairgrounds Resident': Leaf(value='0'), 'Indonesia': Split(attribute='keyword', subtrees={'outbreak': Leaf(value='1'), 'suicide%20bomber': Leaf(value='1'), 'lava': Leaf(value='0'), 'fear': Leaf(value='0'), 'police': Leaf(value='0'), 'blood': Leaf(value='1')}, default_value='1'), 'West Coast, USA': Leaf(value='0'), 'Somewhere in China.': Leaf(value='1'), 'Burbank,CA': Leaf(value='1'), 'IN our hearts  Earth Global ': Leaf(value='0'), 'ÌÏT: 27.9136024,-81.6078532': Leaf(value='0'), 'New Jersey': Split(attribute='keyword', subtrees={'snowstorm': Leaf(value='0'), 'floods': Leaf(value='1')}, default_value='0'), 'Utica NY': Leaf(value='0'), 'Calgary, AB, Canada': Leaf(value='1'), 'Melbourne': Leaf(value='1'), 'Chandler, AZ': Leaf(value='1'), '? ': Leaf(value='0'), 'Winston Salem, North Carolina': Leaf(value='0'), 'Los Angeles, CA': Split(attribute='keyword', subtrees={'oil%20spill': Leaf(value='1'), 'riot': Leaf(value='0'), 'collision': Leaf(value='1'), 'deluged': Leaf(value='0'), 'deluge': Leaf(value='1'), 'lava': Leaf(value='0'), 'emergency%20services': Leaf(value='0'), 'outbreak': Leaf(value='1'), 'arson': Leaf(value='0'), 'collapse': Leaf(value='0'), 'emergency%20plan': Leaf(value='0'), 'wild%20fires': Leaf(value='1'), 'derail': Leaf(value='0')}, default_value='0'), 'South Asia': Leaf(value='1'), 'NYC :) Ex- #Islamophobe': Split(attribute='keyword', subtrees={'arsonist': Leaf(value='0'), 'typhoon': Leaf(value='1'), 'oil%20spill': Leaf(value='1')}, default_value='1'), 'NOLA ?? TX': Leaf(value='0'), 'Texas af': Leaf(value='1'), 'ava': Leaf(value='0'), 'Cimahi,West Java,Indonesia': Leaf(value='1'), 'California, USA': Split(attribute='keyword', subtrees={'mass%20murderer': Leaf(value='1'), 'annihilation': Leaf(value='1'), 'siren': Leaf(value='0'), 'volcano': Leaf(value='0'), 'body%20bag': Leaf(value='0'), 'earthquake': Leaf(value='1'), 'demolition': Leaf(value='1')}, default_value='1'), 'Hermitage, PA': Leaf(value='0'), 'Washington, D.C.': Split(attribute='keyword', subtrees={'famine': Leaf(value='1'), 'upheaval': Leaf(value='0'), 'nuclear%20reactor': Leaf(value='1'), 'casualty': Leaf(value='0'), 'forest%20fires': Leaf(value='1'), 'derail': Leaf(value='1')}, default_value='1'), 'Bangalore. India': Leaf(value='0'), 'Switzerland': Leaf(value='0'), 'America': Split(attribute='keyword', subtrees={'arsonist': Leaf(value='0'), 'tragedy': Leaf(value='1')}, default_value='0'), 'Johannesburg, South Africa': Split(attribute='keyword', subtrees={'collided': Leaf(value='1'), 'nuclear%20reactor': Leaf(value='1'), 'wild%20fires': Leaf(value='0')}, default_value='1'), 'San Jose, California': Split(attribute='keyword', subtrees={'danger': Leaf(value='1'), 'collapse': Leaf(value='0')}, default_value='1'), '36 & 38': Leaf(value='0'), 'New Delhi,India': Leaf(value='1'), 'Melbourne, Australia.': Leaf(value='1'), 'America of Founding Fathers': Split(attribute='keyword', subtrees={'natural%20disaster': Leaf(value='1')}, default_value='1'), 'United Kingdom': Split(attribute='keyword', subtrees={'derailed': Leaf(value='0'), 'violent%20storm': Leaf(value='1'), 'displaced': Leaf(value='0'), 'oil%20spill': Leaf(value='1'), 'cyclone': Leaf(value='0'), 'desolate': Leaf(value='0'), 'body%20bags': Leaf(value='0'), 'obliterate': Leaf(value='0')}, default_value='0'), 'Cape Town': Split(attribute='keyword', subtrees={'rescued': Leaf(value='1'), 'wounds': Leaf(value='0'), 'fatalities': Leaf(value='1'), 'bombed': Leaf(value='0')}, default_value='1'), 'Vancouver, BC.': Leaf(value='0'), 'Birmingham': Split(attribute='keyword', subtrees={'rescuers': Leaf(value='0'), 'ablaze': Leaf(value='1'), 'devastated': Leaf(value='1')}, default_value='1'), 'UAE,Sharjah/ AbuDhabi': Leaf(value='0'), 'Instagram: trillrebel_': Leaf(value='0'), 'probably the strip club': Leaf(value='0'), 'but i love kaylen ??': Leaf(value='1'), 'Miami': Leaf(value='0'), 'prob turning up with sheen': Leaf(value='0'), 'North West London': Leaf(value='0'), 'Welt': Leaf(value='1'), 'Houston, Texas ! ': Leaf(value='0'), 'New Jersey ': Leaf(value='1'), 'Surrey & Manchester': Leaf(value='0'), 'Vancouver, BC': Split(attribute='keyword', subtrees={'fire': Leaf(value='0'), 'forest%20fires': Leaf(value='1')}, default_value='0'), 'Get our App': Leaf(value='1'), 'Gaborone, Botswana': Leaf(value='0'), 'ÌÏT: 10.614817868480726,12.195582811791382': Leaf(value='1'), 'South Africa': Split(attribute='keyword', subtrees={'traumatised': Leaf(value='0'), 'eyewitness': Leaf(value='0'), 'electrocute': Leaf(value='0'), 'ablaze': Leaf(value='1'), 'violent%20storm': Leaf(value='1'), 'quarantined': Leaf(value='0'), 'demolish': Leaf(value='0')}, default_value='0'), 'Haddonfield, NJ': Leaf(value='1'), 'Bangkok Thailand': Leaf(value='0'), 'U.S.': Leaf(value='1'), 'Weston super mare': Leaf(value='0'), 'South Carolina': Leaf(value='1'), 'St Paul, MN': Leaf(value='0'), 'Justin and Ariana follow': Leaf(value='0'), 'In the clouds...': Leaf(value='0'), 'Manila, Philippines': Leaf(value='1'), 'NV': Leaf(value='0'), 'Illinois': Leaf(value='0'), 'Lansdale,Pennsylvania': Leaf(value='1'), 'Liverpool': Leaf(value='1'), 'Ashburn, VA': Leaf(value='0'), 'Hickville, USA': Leaf(value='0'), '2B Hindhede Rd, Singapore': Leaf(value='0'), 'tri state': Leaf(value='1'), 'nbc washington': Leaf(value='1'), 'NY || live easy? ': Leaf(value='0'), 'Chippenham/Bath, UK': Leaf(value='0'), 'fl': Leaf(value='0'), 'SEA Server': Leaf(value='0'), 'Stalybridge, Tameside': Leaf(value='1'), ' Quantico Marine Base, VA.': Leaf(value='0'), 'MÌ©rida, YucatÌÁn': Leaf(value='0'), 'vancouver usa': Leaf(value='0'), 'Groton, CT': Leaf(value='0'), \"In @4SkinChan 's arms\": Leaf(value='1'), 'Bend, Oregon': Leaf(value='1'), 'TN': Leaf(value='0'), 'Southern Califorina': Leaf(value='0'), 'Wyoming, MI (Grand Rapids)': Leaf(value='0'), 'Kodiak, AK': Leaf(value='0'), 'Biloxi, Mississippi': Leaf(value='0'), 'Colorado': Split(attribute='keyword', subtrees={'detonate': Leaf(value='1'), 'hellfire': Leaf(value='0'), 'collision': Leaf(value='1'), 'trauma': Leaf(value='0'), 'massacre': Leaf(value='1')}, default_value='1'), 'Las Vegas, Nevada': Split(attribute='keyword', subtrees={'oil%20spill': Leaf(value='1'), 'hail': Leaf(value='0')}, default_value='1'), 'Yellowknife': Leaf(value='1'), 'Rock Hill, SC': Leaf(value='0'), 'Somewhere Around You': Leaf(value='1'), 'Enterprise, NV': Leaf(value='0'), 'Italy': Split(attribute='keyword', subtrees={'rubble': Leaf(value='0'), 'outbreak': Leaf(value='1')}, default_value='0'), 'Houston, TX': Split(attribute='keyword', subtrees={'smoke': Leaf(value='0'), 'injury': Leaf(value='0'), 'weapons': Leaf(value='1'), 'typhoon': Leaf(value='1'), 'electrocute': Leaf(value='1'), 'destruction': Leaf(value='0')}, default_value='0'), 'Indiana': Leaf(value='0'), 'UK,singer,songwriter,?2 act': Leaf(value='0'), 'ÌÏT: 33.209923,-87.545328': Leaf(value='0'), 'Brazil': Leaf(value='0'), 'Lincoln City Oregon': Leaf(value='0'), 'Proudly frozen Canuck eh !!': Leaf(value='0'), 'Malaysia/Jordan': Leaf(value='1'), 'GOT7SupportPH': Leaf(value='0'), 'Zac Newsome loves me': Leaf(value='0'), 'Philippines': Split(attribute='keyword', subtrees={'avalanche': Leaf(value='0'), 'sirens': Leaf(value='0'), 'floods': Leaf(value='1')}, default_value='0'), 'At Da Laundry Mat Wit Nivea ': Leaf(value='1'), 'Cleveland, TN': Leaf(value='0'), 'Naperville': Leaf(value='1'), 'Desde Republica Argentina': Leaf(value='0'), 'Los Angeles ': Leaf(value='0'), 'Atlanta, GA': Split(attribute='keyword', subtrees={'thunder': Leaf(value='0'), 'emergency%20plan': Leaf(value='1'), 'bioterror': Leaf(value='0'), 'dust%20storm': Leaf(value='1')}, default_value='0'), 'Nottingham, United Kingdom': Leaf(value='0'), 'Mountains': Leaf(value='0'), 'Bronx NY': Leaf(value='1'), '518': Leaf(value='0'), 'Wakefield MA': Leaf(value='1'), 'State College, PA': Leaf(value='0'), 'Lancaster California': Leaf(value='1'), 'Bolton & Tewkesbury, UK': Leaf(value='1'), 'elizabeth king': Leaf(value='1'), 'Sheffield Township, Ohio': Leaf(value='1'), 'Incognito': Leaf(value='0'), 'NYC&NJ': Leaf(value='0'), 'The Weird Part of Wonderland': Leaf(value='1'), 'Joshua Tree, CA': Leaf(value='1'), 'PA.USA': Leaf(value='0'), 'Frascati': Leaf(value='0'), 'WORLDWIDE-BOSTON': Leaf(value='0'), ' Indiana': Leaf(value='0'), 'Hyrule': Leaf(value='0'), 'Taylor Swift': Leaf(value='0'), 'Hamilton, Ontario Canada': Leaf(value='1'), 'call me peach or sam lo': Leaf(value='0'), 'milky way': Leaf(value='0'), 'Tokyo': Split(attribute='keyword', subtrees={'bombed': Leaf(value='1'), 'collapsed': Leaf(value='0'), 'apocalypse': Leaf(value='0')}, default_value='0'), 'Houston ': Leaf(value='1'), 'Born in Baltimore Living in PA': Leaf(value='0'), 'Victoria, British Columbia': Split(attribute='keyword', subtrees={'collapsed': Leaf(value='0'), 'devastation': Leaf(value='1'), 'burning%20buildings': Leaf(value='1')}, default_value='1'), 'Bedford IN ': Leaf(value='1'), 'texasss': Leaf(value='0'), 'Chicago Heights, IL': Leaf(value='0'), 'Benton City, Washington': Leaf(value='1'), 'Orlando, FL': Split(attribute='keyword', subtrees={'detonate': Leaf(value='1'), 'wreck': Leaf(value='0'), 'drought': Leaf(value='1')}, default_value='1'), 'Karachi ': Leaf(value='1'), 'EIC': Split(attribute='keyword', subtrees={'obliterate': Leaf(value='0')}, default_value='0'), 'Bournemouth': Leaf(value='0'), 'Loughton, Essex, UK': Leaf(value='0'), 'US-PR': Leaf(value='0'), 'sweden': Leaf(value='0'), 'Elmwood Park, NJ': Leaf(value='0'), '??t?a': Leaf(value='0'), 'Stockholm, Sweden': Leaf(value='1'), 'Tokyo & Osaka': Leaf(value='1'), 'new york, ny': Leaf(value='0'), 'ÌÏT: 40.707762,-74.014213': Leaf(value='0'), 'Seattle, WA': Split(attribute='keyword', subtrees={'blood': Leaf(value='0'), 'burning%20buildings': Leaf(value='1')}, default_value='0'), '518 åá NY': Leaf(value='0'), 'Nairobi, Kenya': Split(attribute='keyword', subtrees={'collided': Leaf(value='1'), 'accident': Leaf(value='0'), 'whirlwind': Leaf(value='1')}, default_value='1'), 'Perthshire ': Leaf(value='0'), 'Manila': Leaf(value='1'), 'taking pain like pleasure': Leaf(value='0'), 'Dammam- KSA': Leaf(value='1'), \"St. John's, NL, Canada\": Leaf(value='1'), 'Swaning Around': Leaf(value='0'), 'Garden City, NY': Leaf(value='1'), 'Benicia, CA ': Leaf(value='0'), 'Huntsville, Alabama': Leaf(value='1'), 'London, England': Split(attribute='keyword', subtrees={'derail': Leaf(value='0'), 'trapped': Leaf(value='0'), 'mudslide': Leaf(value='1'), 'deluge': Leaf(value='0'), 'pandemonium': Leaf(value='0'), 'evacuate': Leaf(value='0'), 'hazard': Leaf(value='0'), 'sunk': Leaf(value='0'), 'emergency%20services': Leaf(value='0')}, default_value='0'), 'Saskatchewan, Canada': Leaf(value='0'), 'In Space': Leaf(value='0'), \"Your Sister's Bedroom\": Leaf(value='1'), 'Why should you know?': Leaf(value='1'), 'Providence RI / Lisnaskea ': Leaf(value='1'), 'Merica!': Leaf(value='0'), 'Virginia, United States': Leaf(value='1'), 'Sydney, NSW': Leaf(value='1'), 'mi': Leaf(value='0'), 'OK': Leaf(value='0'), '#BossNation!': Leaf(value='0'), 'New York - Connecticut': Leaf(value='0'), 'everywhere': Split(attribute='keyword', subtrees={'terrorism': Leaf(value='1'), 'demolition': Leaf(value='0')}, default_value='1'), 'the insane asylum. ': Leaf(value='0'), 'Multinational *****': Leaf(value='0'), 'ÌÏT: 41.252426,-96.072013': Leaf(value='1'), 'Lima, OH': Leaf(value='0'), 'Odawara, Japan': Leaf(value='0'), 'Desert Storm?? |BCHS|': Leaf(value='0'), 'Just Happy to Be Anywhere': Leaf(value='1'), 'Fife, WA': Leaf(value='0'), 'Windsor,Ontario': Leaf(value='0'), 'S.F. Bay area': Leaf(value='1'), 'big boy \\x89Û¢ 0802': Leaf(value='0'), '302': Leaf(value='0'), 'Washington, D.C. ': Leaf(value='1'), 'somewhere outside': Leaf(value='1'), 'New York, New York': Leaf(value='0'), 'Atlanta Georgia ': Leaf(value='0'), 'VitÌ_ria (ES)': Leaf(value='0'), 'In a crazy genius mind': Leaf(value='0'), 'New York NYC': Leaf(value='0'), \"Yuuko-san's shop\": Leaf(value='1'), 'On a beach ': Leaf(value='1'), 'EspaÌ±a, Spain': Leaf(value='1'), 'Dundas, Ontario': Leaf(value='0'), 'Balikesir - Eskisehir': Leaf(value='0'), 'Bristol, UK': Leaf(value='1'), 'Your Six': Leaf(value='1'), 'Manchester, England': Split(attribute='keyword', subtrees={'destruction': Leaf(value='1'), 'weapon': Leaf(value='0'), 'inundated': Leaf(value='0')}, default_value='0'), '@ ForSL/RP': Leaf(value='1'), 'Columbus, OH': Split(attribute='keyword', subtrees={'blaze': Leaf(value='0'), 'explosion': Leaf(value='1')}, default_value='0'), 'Yamaku Academy, Class 3-4': Leaf(value='0'), 'right next to you': Leaf(value='0'), 'San Diego CA': Leaf(value='1'), 'Pueblo, CO': Leaf(value='1'), 'Geneva': Split(attribute='keyword', subtrees={'detonation': Leaf(value='1'), 'twister': Leaf(value='0'), 'cyclone': Leaf(value='0')}, default_value='0'), 'Elk Grove, CA, USA': Leaf(value='1'), 'Newcastle upon Tyne': Leaf(value='1'), 'uk': Leaf(value='0'), 'Milwaukee, WI': Split(attribute='keyword', subtrees={'upheaval': Leaf(value='1'), 'arson': Leaf(value='0')}, default_value='1'), 'Cumming, GA': Split(attribute='keyword', subtrees={'hostages': Leaf(value='1'), 'quarantined': Leaf(value='0')}, default_value='1'), 'GO BLUE! HAIL YES!!': Leaf(value='1'), 'Sydney, New South Wales': Split(attribute='keyword', subtrees={'bioterrorism': Leaf(value='1'), 'body%20bagging': Leaf(value='0')}, default_value='1'), 'Cameroon': Leaf(value='1'), 'Belgium': Split(attribute='keyword', subtrees={'suicide%20bombing': Leaf(value='1'), 'aftershock': Leaf(value='0')}, default_value='1'), 'everywhere ': Leaf(value='1'), 'balvanera': Leaf(value='0'), 'World': Split(attribute='keyword', subtrees={'avalanche': Leaf(value='1'), 'nuclear%20reactor': Leaf(value='1'), 'danger': Leaf(value='0'), 'emergency': Leaf(value='0'), 'deluge': Leaf(value='0'), 'rubble': Leaf(value='0'), 'trauma': Leaf(value='1')}, default_value='0'), 'Reddit': Leaf(value='0'), 'CAMARILLO, CA': Leaf(value='1'), '@notoriousD12': Leaf(value='0'), 'they/them ': Leaf(value='1'), '11202': Leaf(value='1'), 'cyprus': Leaf(value='0'), 'rural ohio (fuck)': Leaf(value='1'), 'EARTH': Leaf(value='1'), 'Anonymous': Split(attribute='keyword', subtrees={'mass%20murder': Leaf(value='1')}, default_value='1'), 'ATX': Leaf(value='0'), 'Mongolia': Leaf(value='1'), '#keepthefaith J&J': Leaf(value='1'), 'Instagram - @heyimginog ': Leaf(value='0'), 'Screwston, TX': Leaf(value='1'), 'Redding, California, USA': Leaf(value='1'), 'San Francisco, CA': Split(attribute='keyword', subtrees={'riot': Leaf(value='0'), 'attacked': Leaf(value='1'), 'bioterrorism': Leaf(value='1'), 'drought': Leaf(value='1'), 'drowned': Leaf(value='1'), 'collision': Leaf(value='1'), 'demolition': Leaf(value='1')}, default_value='1'), 'Youngstown, OH': Leaf(value='1'), 'Barcelona, Spain': Leaf(value='0'), 'mumbai': Leaf(value='0'), 'Bangalore, India': Leaf(value='0'), 'Alberta ': Leaf(value='1'), 'SEC Country': Leaf(value='0'), '?? ??': Leaf(value='0'), 'NYC,US - Cali, Colombia': Leaf(value='0'), 'Peterborough, On': Leaf(value='1'), 'Charlotte NC': Split(attribute='keyword', subtrees={'damage': Leaf(value='1'), 'body%20bags': Leaf(value='0')}, default_value='1'), 'Based in CA - Serve Nationwide': Leaf(value='1'), 'Colorado, USA': Leaf(value='0'), 'Asheville, NC': Split(attribute='keyword', subtrees={'forest%20fire': Leaf(value='1'), 'thunderstorm': Leaf(value='1'), 'stretcher': Leaf(value='0'), 'tornado': Leaf(value='1'), 'flames': Leaf(value='0')}, default_value='1'), 'Gold Coast': Leaf(value='1'), 'Upstairs.': Split(attribute='keyword', subtrees={'survivors': Leaf(value='1')}, default_value='1'), 'Abuja, Nigeria': Leaf(value='0'), 'Fiore, Lamia Scale': Leaf(value='1'), 'Annapolis, MD': Leaf(value='1'), 'Antigua ?? NYC ': Leaf(value='0'), 'Earth ': Leaf(value='0'), 'Saint Paul': Leaf(value='1'), 'Somerset, UK': Leaf(value='0'), 'Sacramento': Leaf(value='1'), 'Long Eaton åá Derbyshire åá UK': Leaf(value='0'), '801 SL,UT': Leaf(value='0'), 'ITALY': Leaf(value='1'), 'Lagos': Split(attribute='keyword', subtrees={'suicide%20bombing': Leaf(value='1'), 'epicentre': Leaf(value='0')}, default_value='1'), 'HOMRA.': Leaf(value='0'), 'Asia Pacific   ': Leaf(value='1'), 'Heaven': Leaf(value='1'), 'Shrewsbury': Leaf(value='0'), 'Whiterun, Skyrim': Leaf(value='1'), 'PH': Leaf(value='0'), 'Principality of Zeron': Leaf(value='1'), 'glasgow': Leaf(value='1'), 'CHICAGO (312)': Leaf(value='0'), 'Smash Manor/Kanto': Leaf(value='0'), \"FSC '19\": Leaf(value='1'), '1D | 5SOS | AG': Leaf(value='0'), 'Chester': Leaf(value='0'), 'Bikini bottom': Leaf(value='0'), 'Albany/NY': Leaf(value='0'), 'Park Ridge, Illinois': Leaf(value='0'), 'Bug Forest': Leaf(value='0'), 'New Delhi, India': Leaf(value='1'), 'Orlando ': Leaf(value='0'), 'Trackside California': Leaf(value='0'), 'Primum non nocere': Leaf(value='1'), 'labyrinthia': Leaf(value='0'), 'St. Louis, Mo': Leaf(value='0'), 'Kuala Lumpur, Malaysia': Leaf(value='0'), '2 high 2 come down ': Leaf(value='1'), 'Washington, DC NATIVE': Leaf(value='0'), '[ kate + they/them + infp-t ]': Leaf(value='0'), 'Auckland, New Zealand': Leaf(value='0'), 'The Circle of Life': Leaf(value='0'), 'Afghanistan': Leaf(value='1'), 'Beaumont, TX': Leaf(value='1'), '  å_ ': Leaf(value='0'), 'CT & NY': Leaf(value='0'), 'NYC area': Leaf(value='0'), 'Essex, England': Leaf(value='0'), \"R'lyeh, South Pacific\": Leaf(value='1'), '2005 |-/': Leaf(value='0'), 'California ': Split(attribute='keyword', subtrees={'hijacker': Leaf(value='1'), 'collided': Leaf(value='1')}, default_value='1'), 'Cape Town, Khayelitsha': Leaf(value='0'), 'Akure city in ondo state ': Leaf(value='1'), 'Fresno': Leaf(value='1'), 'Fountain City, IN ': Leaf(value='0'), \"Lizzy's Knee\": Leaf(value='0'), 'Bangor, Co.Down': Leaf(value='0'), 'Sheffield/Leeds': Leaf(value='1'), 'CA ??DC': Leaf(value='0'), 'Very SW CA, USA....Draenor': Leaf(value='1'), 'Bow, NH': Leaf(value='0'), 'West Coast, Cali USA': Leaf(value='0'), 'Danville, VA': Leaf(value='0'), 'ohio': Leaf(value='0'), 'Eagle Mountain, Texas ': Leaf(value='0'), 'Houston, TX  ': Leaf(value='0'), 'Absecon, NJ': Leaf(value='1'), 'North Vancouver, BC': Leaf(value='1'), 'Louisiana': Leaf(value='0'), 'The Low-Cal Calzone Zone': Leaf(value='1'), 'International Action': Leaf(value='1'), 'Coventry': Leaf(value='0'), 'Southern California': Split(attribute='keyword', subtrees={'fatal': Leaf(value='1'), 'war%20zone': Leaf(value='0'), 'hijacker': Leaf(value='0'), 'fear': Leaf(value='0')}, default_value='0'), 'Manchester': Split(attribute='keyword', subtrees={'panicking': Leaf(value='0'), 'evacuated': Leaf(value='1'), 'snowstorm': Leaf(value='0'), 'devastated': Leaf(value='1')}, default_value='0'), 'Knoxville, TN': Split(attribute='keyword', subtrees={'bomb': Leaf(value='0'), 'flood': Leaf(value='1')}, default_value='0'), 'Bleak House': Leaf(value='1'), 'Nicoma Park, OK': Leaf(value='1'), 'Madison, GA': Leaf(value='1'), 'Duncan': Leaf(value='1'), 'Wellington': Leaf(value='0'), '3?3?7?SLOPelousas??2?2?5?': Leaf(value='0'), 'Higher Places': Leaf(value='0'), 'Oakland, CA': Split(attribute='keyword', subtrees={'seismic': Leaf(value='0'), 'wildfire': Leaf(value='1'), 'displaced': Leaf(value='1')}, default_value='1'), 'New Delhi': Leaf(value='1'), 'Johannesburg, South Africa ': Leaf(value='0'), 'Buenos Aires, Argentina': Leaf(value='0'), 'Devon/London ': Leaf(value='0'), 'Denver, Colorado': Split(attribute='keyword', subtrees={'hellfire': Leaf(value='0'), 'collision': Leaf(value='1'), 'evacuated': Leaf(value='1')}, default_value='1'), 'Punjab': Leaf(value='1'), 'Puerto Rico': Leaf(value='1'), 'Lancaster, Pennsylvania, USA': Leaf(value='1'), 'San Antonio, TX': Leaf(value='0'), 'Augusta, GA': Leaf(value='0'), 'Fairfax, VA': Leaf(value='1'), 'Cottonwood Arizona': Leaf(value='1'), 'North Memphis/Global Citizen': Leaf(value='0'), 'Derby': Leaf(value='0'), 'Chicago, IL 60607': Leaf(value='1'), 'Fruit Bowl': Leaf(value='0'), 'winston-salem north carolina': Leaf(value='1'), 'Some Where in this World': Leaf(value='0'), 'Ireland': Split(attribute='keyword', subtrees={'fatalities': Leaf(value='1'), 'traumatised': Leaf(value='0'), 'mudslide': Leaf(value='0'), 'famine': Leaf(value='1'), 'avalanche': Leaf(value='0'), 'massacre': Leaf(value='1'), 'attack': Leaf(value='0'), 'inundated': Leaf(value='0'), 'rescued': Leaf(value='1')}, default_value='0'), 'Elsewhere, NZ': Leaf(value='0'), 'Kelowna, BC': Leaf(value='1'), 'Hell': Leaf(value='0'), 'toronto, ontario': Leaf(value='1'), 'Norwalk, CT': Leaf(value='0'), 'Enfield, UK': Leaf(value='0'), 'Pakistan, Islamabad': Leaf(value='1'), 'Des Moines, Iowa ': Leaf(value='1'), 'Queensland': Leaf(value='0'), 'Cardiff, Wales': Leaf(value='0'), 'Kolkata': Leaf(value='1'), 'Redondo Beach, CA': Leaf(value='1'), 'y/e/l': Leaf(value='0'), 'Jersey City, NJ': Leaf(value='0'), '[ Blonde Bi Fry. ]': Leaf(value='0'), 'St Louis, MO': Leaf(value='1'), 'Bangalore, INDIA': Leaf(value='0'), 'Frome, Somerset, England': Leaf(value='0'), 'Galatians 2:20 ': Leaf(value='0'), 'Newton Centre, Massachusetts': Leaf(value='1'), 'Oakland': Leaf(value='0'), 'Dayton, Ohio': Leaf(value='1'), 'N?? Y???.': Leaf(value='0'), 'Long Island, NY': Leaf(value='1'), 'London / Berlin / Online': Leaf(value='0'), 'Victoria, BC': Leaf(value='1'), 'Paterson, New Jersey ': Split(attribute='keyword', subtrees={'injured': Leaf(value='1'), 'wounds': Leaf(value='1'), 'military': Leaf(value='0'), 'demolished': Leaf(value='1'), 'wounded': Leaf(value='1')}, default_value='1'), 'ARBAILO': Leaf(value='0'), 'Lincoln, NE': Leaf(value='1'), 'Dundee': Leaf(value='1'), 'Chiswick, London': Leaf(value='0'), 'Chicago Area': Leaf(value='0'), 'Your screen': Leaf(value='0'), 'Illinois, USA': Split(attribute='keyword', subtrees={'destroyed': Leaf(value='0'), 'wounded': Leaf(value='1'), 'curfew': Leaf(value='1')}, default_value='1'), 'Dhaka': Leaf(value='1'), 'Charlotte, NC': Leaf(value='0'), 'Avon': Leaf(value='0'), 'Romania': Leaf(value='0'), 'Muntinlupa City, Philippines': Leaf(value='0'), 'La Puente, CA': Leaf(value='0'), 'A little house in the outback.': Leaf(value='1'), 'North East / Middlesbrough ': Leaf(value='0'), 'Dallas, Texas. ': Leaf(value='0'), '#FLIGHTCITY UK  ': Leaf(value='0'), 'The Desert': Leaf(value='1'), 'Realville': Leaf(value='1'), 'Morioh, Japan': Leaf(value='0'), 'Alexandria, Egypt.': Leaf(value='1'), 'New York 2099': Leaf(value='0'), 'Mogadishu, New Jersey': Leaf(value='0'), 'In the spirit world': Leaf(value='1'), 'Hogsmeade': Leaf(value='0'), 'Duval, WV 25573, USA ?': Leaf(value='0'), 'Still. ??S.A.N.D.O.S??': Leaf(value='0'), \"Eww, I'm not Paul Elam\": Leaf(value='1'), 'a box': Leaf(value='0'), 'Spokane, Washington 99206': Leaf(value='0'), 'Score More Goals Buying @': Leaf(value='0'), 'Melbourne, Australia': Leaf(value='1'), 'California, United States': Split(attribute='keyword', subtrees={'armageddon': Leaf(value='1'), 'weapons': Leaf(value='0')}, default_value='0'), 'Beside Basketball': Leaf(value='1'), 'Washington, Krasnodar (Russia)': Leaf(value='1'), 'Istanbul': Split(attribute='keyword', subtrees={'suicide%20bombing': Leaf(value='1'), 'desolation': Leaf(value='0')}, default_value='1'), 'Somecity, Somerset, MD': Leaf(value='0'), 'God is Love. ': Leaf(value='0'), 'Canada Eh! ': Leaf(value='0'), 'Londonstan': Leaf(value='0'), 'U.S.A and Canada': Leaf(value='0'), 'Cairo, Egypt': Leaf(value='1'), 'NBO': Leaf(value='0'), 'Atlanta': Split(attribute='keyword', subtrees={'arsonist': Leaf(value='0'), 'disaster': Leaf(value='1'), 'blew%20up': Leaf(value='0')}, default_value='0'), 'Phoenix Az': Leaf(value='1'), 'Sioux Falls, S.D. ': Leaf(value='1'), 'kenya': Leaf(value='0'), 'Queens, NY': Leaf(value='0'), '??? ???? ?f glory. ?': Leaf(value='0'), 'West Hollywood, CA': Leaf(value='1'), 'far away': Leaf(value='0'), 'Davao City': Leaf(value='0'), 'OES 4th Point. sisSTAR & TI': Leaf(value='1'), 'LiVE MÌ\\x81S': Leaf(value='0'), \"'soooota\": Leaf(value='1'), 'come here in 20 minutes for an ass kicking': Leaf(value='0'), 'WorldWide': Split(attribute='keyword', subtrees={'first%20responders': Leaf(value='0'), 'razed': Leaf(value='1'), 'suicide%20bomb': Leaf(value='1'), 'wreckage': Leaf(value='1')}, default_value='1'), 'Amman, Jordan': Leaf(value='1'), ' 616 \\x89Û¢ Kentwood , MI ': Leaf(value='1'), 'San Jose, CA': Split(attribute='keyword', subtrees={'lava': Leaf(value='0'), 'danger': Leaf(value='1')}, default_value='0'), 'Roanoke, VA': Split(attribute='keyword', subtrees={'landslide': Leaf(value='0'), 'buildings%20on%20fire': Leaf(value='1')}, default_value='0'), 'Fountain Valley, CA': Leaf(value='0'), 'Where I Need To Be': Leaf(value='0'), 'Newcastle, England': Leaf(value='0'), 'In the moment': Leaf(value='0'), 'Here & There': Leaf(value='1'), 'CA, AZ & NV': Leaf(value='0'), 'South Bloomfield, OH': Leaf(value='1'), \"Jakarta/Kuala Lumpur/S'pore\": Leaf(value='1'), 'West Virginia, USA': Leaf(value='1'), 'Quincy MA': Leaf(value='1'), 'Kensington, MD': Leaf(value='1'), 'Pueblo, Colorado': Leaf(value='0'), 'Warsaw': Leaf(value='0'), 'eARth 3': Leaf(value='0'), 'CA via Brum': Leaf(value='1'), '??????????????????': Leaf(value='1'), 'Guildford, UK': Leaf(value='0'), 'NYC metro': Leaf(value='0'), 'Hawaii, USA': Leaf(value='1'), '#MayGodHelpUS': Leaf(value='0'), 'ÌÏT: 42.910975,-78.865828': Leaf(value='0'), 'Lancaster, CA': Leaf(value='1'), 'NEPA/570': Leaf(value='0'), 'North': Leaf(value='0'), 'Elizabeth, NJ': Leaf(value='0'), 'Massachusetts': Split(attribute='keyword', subtrees={'famine': Leaf(value='1'), 'weapon': Leaf(value='0'), 'burned': Leaf(value='0'), 'hailstorm': Leaf(value='1'), 'hazard': Leaf(value='0')}, default_value='0'), 'Pig Symbol, Alabama': Leaf(value='1'), 'El Dorado, KS': Leaf(value='1'), 'Charleston, WV': Leaf(value='0'), ' Road to the Billionaires Club': Split(attribute='keyword', subtrees={'derail': Leaf(value='0')}, default_value='0'), 'The Triskelion': Leaf(value='0'), 'Colombia': Leaf(value='0'), 'Fort Collins, CO': Leaf(value='1'), 'Sevier County.': Leaf(value='1'), 'Van Buren, MO': Leaf(value='0'), 'Pocatello, ID': Leaf(value='1'), 'Buy Give Me My Money ': Leaf(value='0'), 'Hooters on Peachtree': Leaf(value='0'), 'San Diego, CA': Split(attribute='keyword', subtrees={'tragedy': Leaf(value='0'), 'destroy': Leaf(value='0'), 'detonate': Leaf(value='0'), 'screamed': Leaf(value='1'), 'sinkhole': Leaf(value='1'), 'quarantine': Leaf(value='0')}, default_value='0'), 'Halifax, Nouvelle-Ìäcosse': Leaf(value='0'), 'Alabama': Leaf(value='0'), 'Vancouver BC': Leaf(value='0'), 'bk. ': Leaf(value='0'), 'Boston, MA': Split(attribute='keyword', subtrees={'buildings%20on%20fire': Leaf(value='1'), 'mayhem': Leaf(value='0'), 'trouble': Leaf(value='0')}, default_value='0'), 'Washington State': Leaf(value='1'), 'North London': Leaf(value='0'), 'Watch Those Videos -': Leaf(value='0'), 'Washington DC': Split(attribute='keyword', subtrees={'devastation': Leaf(value='0'), 'weapon': Leaf(value='1')}, default_value='1'), 'Na:tinixw / Hoopa, Berkeley': Leaf(value='1'), 'BILASPUR,CHHATTISGARH,495001': Leaf(value='1'), 'Atlanta, Georgia': Leaf(value='0'), 'MNL': Leaf(value='0'), 'Cambridge, MA': Leaf(value='0'), 'Miami,Fla': Leaf(value='1'), 'Mexico City': Leaf(value='0'), 'Houston': Split(attribute='keyword', subtrees={'wild%20fires': Leaf(value='1'), 'windstorm': Leaf(value='0')}, default_value='1'), 'Korea': Leaf(value='0'), 'Bracknell': Leaf(value='1'), 'London, Sydney': Leaf(value='1'), 'South Florida': Leaf(value='0'), 'Gotham': Leaf(value='1'), 'Baltimore, MD': Split(attribute='keyword', subtrees={'drowning': Leaf(value='1'), 'flattened': Leaf(value='0')}, default_value='1'), 'Montgomery County, MD': Leaf(value='0'), 'Gujranwala, Pakistan': Leaf(value='1'), 'CA': Leaf(value='0'), 'Loading...': Leaf(value='1'), 'Central Illinois': Leaf(value='1'), 'Orlando,FL  USA': Leaf(value='0'), 'Play For Ryan ??': Leaf(value='0'), 'Calgary, Canada': Leaf(value='1'), '?semekeepschanging@soyeh?': Leaf(value='0'), 'Tyler, TX': Leaf(value='0'), 'Connecticut': Split(attribute='keyword', subtrees={'upheaval': Leaf(value='1'), 'annihilation': Leaf(value='0')}, default_value='1'), 'Sao Paulo, Brazil': Leaf(value='0'), 'Sao Paulo': Leaf(value='1'), '??+ ... ??+': Leaf(value='0'), '\\x89Û¢901\\x89Û¢': Leaf(value='1'), 'North East, England': Leaf(value='1'), 'Moscow': Split(attribute='keyword', subtrees={'destruction': Leaf(value='0'), 'suicide%20bomber': Leaf(value='1')}, default_value='0'), 'CPT & JHB, South Africa': Leaf(value='0'), 'Santa Cruz, CA': Leaf(value='0'), '\\x89Û¢ Views From The Six \\x89Û¢': Leaf(value='0'), 'Nairobi , Kenya': Leaf(value='0'), 'Inexpressible Island ': Leaf(value='1'), 'Near Yosemite': Leaf(value='0'), ' Little Rock, AR': Leaf(value='0'), 'Aurora, IL': Leaf(value='0'), 'lia\\x89Û¢dani\\x89Û¢laura': Leaf(value='0'), 'Somewhere Only We Know ?': Leaf(value='0'), 'Kama | 18 | France ': Leaf(value='0'), 'North West England UK': Leaf(value='1'), 'st.louis county missouri ': Leaf(value='0'), 'Boston MA': Leaf(value='0'), 'All around the world!': Leaf(value='0'), 'Boulder, CO': Leaf(value='1'), 'Tripsburg, ms.': Leaf(value='0'), 'Norman, Oklahoma': Leaf(value='1'), 'Doghouse': Leaf(value='0'), 'SF Bay Area': Leaf(value='0'), 'Auburn, AL': Leaf(value='1'), 'USA, Haiti, Nepal': Leaf(value='1'), 'Kashmir!': Leaf(value='1'), 'Okuma Town, Fukushima': Leaf(value='0'), 'Virgo Supercluster': Leaf(value='1'), 'East Atlanta, Georgia': Leaf(value='1'), 'North Jersey': Leaf(value='0'), 'Westchester': Leaf(value='0'), 'Pluto': Leaf(value='0'), 'Helsinki, Finland': Leaf(value='0'), 'Playa del Carmen, Mexico': Leaf(value='1'), 'Buscame EL tu Melte': Leaf(value='1'), 'Wilmington, Delaware': Leaf(value='1'), 'Harper Woods, MI': Leaf(value='0'), 'Ziam af ': Leaf(value='1'), 'Nelspruit, South Africa': Leaf(value='1'), 'Daruka (near Tamworth) NSW': Leaf(value='0'), 'Paignton': Split(attribute='keyword', subtrees={'body%20bag': Leaf(value='0')}, default_value='0'), '\\x89Û¢FLG\\x89Û¢': Leaf(value='0'), 'nc': Leaf(value='0'), 'Haysville, KS': Leaf(value='0'), 'Savannah, GA': Leaf(value='1'), 'Berlin, Germany': Leaf(value='1'), 'IJmuiden, The Netherlands': Leaf(value='0'), 'Surulere Lagos,Home Of Swagg': Leaf(value='1'), 'Scotland ': Leaf(value='1'), 'Shady Pines ': Leaf(value='0'), 'Hampshire UK': Leaf(value='0'), 'New York, NY': Split(attribute='keyword', subtrees={'eyewitness': Leaf(value='0'), 'hijack': Leaf(value='1'), 'outbreak': Leaf(value='1'), 'burning': Leaf(value='0'), 'oil%20spill': Leaf(value='1'), 'police': Leaf(value='1'), 'floods': Leaf(value='0'), 'deluge': Leaf(value='0'), 'nuclear%20disaster': Leaf(value='1'), 'avalanche': Leaf(value='0'), 'catastrophic': Leaf(value='1')}, default_value='1'), 'Eastern Iowa': Leaf(value='1'), 'Rome, Italy': Leaf(value='1'), '65': Leaf(value='0'), 'Karachi': Leaf(value='1'), 'Holland MI via Houston, CLE': Leaf(value='0'), 'El Paso, TX': Leaf(value='0'), 'Melton, GA': Leaf(value='0'), 'Niagara Falls, Ontario': Split(attribute='keyword', subtrees={'fire%20truck': Leaf(value='1'), 'flood': Leaf(value='0')}, default_value='1'), 'dreamy lake': Leaf(value='0'), 'Lagos, Nigeria': Leaf(value='1'), 'Cassadaga Florida': Leaf(value='1'), 'Portugal': Leaf(value='0'), 'Maryland, USA': Leaf(value='0'), 'Geneva, Switzerland': Leaf(value='1'), 'Groningen, Netherlands, Europe': Leaf(value='1'), '??? ?? ??????? ': Leaf(value='1'), 'bajaur': Leaf(value='1'), 'Los Angeles, London, Kent': Leaf(value='0'), '  Melbourne, Australia': Leaf(value='0'), 'Caserta-Roma, Italy ': Leaf(value='1'), '876 Jamrock.': Leaf(value='1'), '94123': Leaf(value='0'), 'Port Williams NS': Leaf(value='1'), 'VISIT MY YOUTUBE CHANNEL.': Leaf(value='0'), 'Calgary, Alberta': Split(attribute='keyword', subtrees={'hailstorm': Leaf(value='1'), 'twister': Leaf(value='1'), 'blight': Leaf(value='0')}, default_value='1'), 'Spokane, WA': Split(attribute='keyword', subtrees={'collapsed': Leaf(value='0'), 'drought': Leaf(value='1')}, default_value='0'), 'Missouri, USA': Leaf(value='0'), 'Shirley, NY': Leaf(value='0'), 'us-east-1a': Leaf(value='0'), 'Yuba City, CA': Leaf(value='0'), 'heart of darkness, unholy ?': Leaf(value='0'), 'mpls. ': Leaf(value='0'), 'Richardson TX': Leaf(value='0'), 'Silicon Valley': Split(attribute='keyword', subtrees={'tragedy': Leaf(value='0'), 'bombing': Leaf(value='1')}, default_value='0'), 'Santo Domingo Alma Rosa ': Leaf(value='1'), 'WA State': Leaf(value='1'), 'Orlando/Cocoa Beach, FL': Leaf(value='0'), '#UNITE THE BLUE  ': Leaf(value='0'), 'Danbury, CT': Leaf(value='0'), 'cognitive dissonance town': Leaf(value='0'), 'Philippines ': Leaf(value='1'), 'County Durham, United Kingdom': Leaf(value='0'), 'Hammersmith, London': Leaf(value='1'), 'Selma2Oakland': Leaf(value='1'), 'antoine fisher ': Leaf(value='0'), 'Pedophile hunting ground': Split(attribute='keyword', subtrees={'displaced': Leaf(value='1')}, default_value='1'), 'Valparaiso ': Leaf(value='0'), '?': Leaf(value='0'), 'Reston, VA, USA': Leaf(value='1'), 'Calgary,AB, Canada': Leaf(value='1'), 'Brisbane, Queensland': Leaf(value='0'), 'Evansville, IN': Leaf(value='1'), 'i beg vines sorry ': Leaf(value='1'), 'Antioch, CA ': Leaf(value='0'), 'Michel Delving.': Leaf(value='0'), 'Virginia, USA': Leaf(value='0'), 'Boksburg': Leaf(value='0'), 'Littleton, CO': Leaf(value='0'), 'ill yorker': Leaf(value='1'), 'Oklahoma City': Split(attribute='keyword', subtrees={'thunderstorm': Leaf(value='1'), 'stretcher': Leaf(value='0')}, default_value='1'), 'Largo, MD': Leaf(value='0'), 'Unites States': Leaf(value='1'), 'Portland, OR': Split(attribute='keyword', subtrees={'death': Leaf(value='0'), 'catastrophic': Leaf(value='1'), 'hazardous': Leaf(value='1')}, default_value='1'), 'toronto': Leaf(value='0'), 'Austin, Texas': Split(attribute='keyword', subtrees={'body%20bags': Leaf(value='1'), 'windstorm': Leaf(value='0')}, default_value='1'), 'Philadelphia': Leaf(value='1'), 'Cuernavaca, Morelos, MÌ©xico.': Leaf(value='1'), 'highlands&slands scotland': Leaf(value='0'), 'Manila City': Leaf(value='0'), 'Greater Manchester, UK': Leaf(value='0'), 'WESTSIDE OF PHILLY 7? BLOCK??': Leaf(value='0'), 'Ibadan,Oyo state': Leaf(value='1'), 'Kaneohe': Leaf(value='0'), 'Carregado': Leaf(value='0'), 'KÌ¦ln, Nordrhein-Westfalen': Leaf(value='1'), 'NY': Split(attribute='keyword', subtrees={'sinkhole': Leaf(value='1'), 'burning': Leaf(value='0'), 'fatality': Leaf(value='0')}, default_value='0'), '#EngleWood CHICAGO ': Leaf(value='0'), 'Reality': Leaf(value='1'), 'Kansas City': Split(attribute='keyword', subtrees={'harm': Leaf(value='0'), 'emergency%20plan': Leaf(value='0')}, default_value='0'), 'Hinterestland': Leaf(value='0'), 'staggering on tenement roofs': Leaf(value='0'), 'Kawartha Lakes, Ontario, Canad': Leaf(value='0'), 'Jogja, Indonesia Slowly Asia': Leaf(value='0'), 'Uganda': Leaf(value='0'), 'Quilmes , Arg': Leaf(value='1'), '????? ???? ????': Leaf(value='1'), 'Auckland': Split(attribute='keyword', subtrees={'emergency%20services': Leaf(value='0'), 'mass%20murder': Leaf(value='1')}, default_value='0'), 'Jacksonville Beach, FL': Leaf(value='1'), 'Wild Wild Web': Leaf(value='1'), 'Palm Beach County, FL': Leaf(value='1'), 'Fairy Tail! ': Leaf(value='1'), 'Worldwide - Global': Leaf(value='1'), 'Tipperary (Long Way) ': Leaf(value='1'), 'St PetersburgFL': Leaf(value='0'), 'Michigan': Split(attribute='keyword', subtrees={'collide': Leaf(value='0'), 'first%20responders': Leaf(value='1')}, default_value='0'), 'houstn': Leaf(value='0'), 'San Francisco Bay Area': Leaf(value='0'), 'London, Riyadh': Leaf(value='1'), 'Haarlem': Leaf(value='0'), 'Internet': Leaf(value='1'), 'West Africa': Leaf(value='1'), 'Mo.City': Leaf(value='0'), 'Jaipur, Rajasthan, India': Leaf(value='0'), 'Hampstead, London.': Leaf(value='0'), 'Arlington, VA and DC': Leaf(value='1'), 'Hamburg, DE': Leaf(value='0'), 'twitch.tv/naturalemblem26': Leaf(value='0'), 'Atlanta, Ga': Leaf(value='0'), ' Baku & Erzurum ': Leaf(value='1'), 'ca(NADA) ': Leaf(value='1'), 'CORNFIELDS': Leaf(value='1'), 'Chasing My Dreams w/Jass??': Leaf(value='0'), 'East Aurora, NY': Leaf(value='0'), 'Buenos Aires': Leaf(value='1'), 'San Jose, CA, USA': Leaf(value='1'), 'Clean World': Leaf(value='1'), 'Bahrain': Leaf(value='1'), 'Basking Ridge, NJ': Leaf(value='0'), 'Rhode Island': Leaf(value='0'), 'Loughborough.': Leaf(value='1'), \"EastAtlanta ??#WestGeorgia'18\": Leaf(value='0'), 'GLOBAL': Leaf(value='0'), 'Islamabad': Leaf(value='1'), 'Toronto, Ontario': Split(attribute='keyword', subtrees={'rescue': Leaf(value='1'), 'crushed': Leaf(value='0')}, default_value='1'), 'NIGERIA': Split(attribute='keyword', subtrees={'hijack': Leaf(value='0'), 'rescued': Leaf(value='1')}, default_value='0'), 'Wausau, Wisconsin': Leaf(value='0'), 'Sylacauga, Alabama': Leaf(value='1'), 'Use #TMW in tweets get #RT': Leaf(value='0'), 'Scottsdale. AZ': Leaf(value='0'), 'Federal Capital Territory': Split(attribute='keyword', subtrees={'obliteration': Leaf(value='0'), 'rainstorm': Leaf(value='1')}, default_value='0'), 'Mackem in Bolton': Leaf(value='0'), 'toronto \\x89Û¢ dallas': Leaf(value='0'), 'Dubai': Leaf(value='1'), 'Dalston, Hackney': Leaf(value='1'), 'Greensboro, North Carolina': Leaf(value='1'), 'Athens, Greece': Leaf(value='1'), 'Maldives': Leaf(value='0'), 'DMV': Leaf(value='0'), 'Arkansas': Leaf(value='1'), 'In Hell': Leaf(value='1'), 'Yellowknife, NT': Leaf(value='1'), 'Overton NV': Leaf(value='0'), 'KLA,Uganda': Leaf(value='1'), 'Kuala Lumpur': Leaf(value='1'), 'Terre Haute, IN': Leaf(value='0'), 'Chiyoda Ward, Tokyo': Leaf(value='0'), 'southwest, Tx': Leaf(value='0'), 'An eight-sided polygon': Leaf(value='1'), 'Kauai, Hawaii': Leaf(value='0'), 'oxford': Leaf(value='0'), 'walking the tightrope': Leaf(value='0'), 'U.K.': Leaf(value='1'), '#????? Libya#': Leaf(value='1'), 'South Carolina, USA': Leaf(value='0'), 'NC': Leaf(value='0'), 'JamDung': Leaf(value='0'), 'Cleveland, Ohio': Leaf(value='0'), 'Ylisse': Leaf(value='0'), 'Detroit': Leaf(value='0'), 'pissing off antis': Leaf(value='0'), 'Charleston, IL': Leaf(value='0'), 'USA, North Dakota': Leaf(value='1'), 'In my studio': Leaf(value='1'), 'Tn': Leaf(value='0'), 'Kalamazoo, Michigan': Leaf(value='0'), 'Oregon, USA': Leaf(value='0'), 'Asia European Continent Korea ': Leaf(value='0'), 'nap central': Leaf(value='1'), 'Baydestrian': Leaf(value='1'), 'Ames, IA': Leaf(value='1'), 'Suburban Detroit, Michigan': Leaf(value='1'), 'Ojodu,Lagos': Leaf(value='0'), 'southern california': Leaf(value='0'), 'Camberwell, Melbourne': Leaf(value='1'), 'nyc': Split(attribute='keyword', subtrees={'cliff%20fall': Leaf(value='1'), 'electrocuted': Leaf(value='0')}, default_value='1'), 'Dimapur': Leaf(value='1'), 'hkXfYMhEx': Leaf(value='1'), 'Edappally,Kochi': Leaf(value='0'), 'Notts': Leaf(value='0'), 'sisterhood': Leaf(value='0'), 'Boston/Montreal ': Leaf(value='0'), 'Boston': Split(attribute='keyword', subtrees={'annihilated': Leaf(value='1'), 'ruin': Leaf(value='0'), 'bridge%20collapse': Leaf(value='1')}, default_value='1'), 'Helsinki': Leaf(value='1'), '-6.152261,106.775995': Leaf(value='0'), 'In a graveyard ': Leaf(value='0'), 'London/Bristol/Guildford': Leaf(value='0'), 'MA': Leaf(value='1'), 'Intramuros, Manila': Leaf(value='0'), 'Srinagar,Kashmir': Leaf(value='1'), 'MAURITIUS': Leaf(value='1'), 'Oxford, MS': Leaf(value='1'), 'Cambridge, Massachusetts, U.S.': Leaf(value='0'), 'pettyville, usa': Leaf(value='0'), 'China': Leaf(value='0'), 'Amsterdam': Leaf(value='1'), 'Norf Carolina': Leaf(value='0'), 'ss': Leaf(value='0'), 'Konoha Village': Leaf(value='1'), 'Nottingham, England': Leaf(value='0'), 'Brazos Valley, Texas': Leaf(value='1'), 'Like us on Face ': Leaf(value='0'), 'Lake Monticello, VA': Leaf(value='1'), 'Financial News and Views': Leaf(value='1'), 'North Hastings Ontario': Leaf(value='0'), 'Ad Majorem Dei Glorium': Leaf(value='1'), 'beacon hills ': Leaf(value='1'), 'England, United Kingdom': Leaf(value='1'), 'SWinfo@dot.state.al.us': Leaf(value='1'), 'U.S.A': Split(attribute='keyword', subtrees={'evacuate': Leaf(value='1'), 'flames': Leaf(value='1'), 'fatality': Leaf(value='1'), 'derail': Leaf(value='0')}, default_value='1'), 'Ottawa, Canada': Leaf(value='1'), '434': Leaf(value='0'), 'Cymru araul': Leaf(value='1'), 'Miami?Gainesville': Leaf(value='0'), 'Paulton, England': Leaf(value='0'), 'philly': Leaf(value='0'), 'Hartford, Connecticut': Leaf(value='1'), 'Jersey - C.I': Leaf(value='1'), 'ATLANTA , GEORGIA ': Leaf(value='0'), 'Nakhon Si Thammarat': Leaf(value='1'), 'Madrid': Leaf(value='1'), 'Enniscrone & Aughris, Sligo ': Leaf(value='1'), 'Chicago, Il': Leaf(value='0'), 'Ebola': Leaf(value='1'), '10-Jul': Leaf(value='0'), 'london / st catharines ?': Leaf(value='0'), 'Miami via Lima': Leaf(value='0'), 'Brooklyn, NY': Leaf(value='0'), 'Santiago de Cmpostela Galicia': Leaf(value='1'), 'St Austell, Cornwall': Leaf(value='0'), 'Innerhalb der LÌ_cke': Leaf(value='0'), 'Mumbai , India': Leaf(value='1'), 'Leeds, England': Leaf(value='0'), 'I-75 in Florida': Leaf(value='1'), 'Made Here In Detroit ': Leaf(value='1'), '//??//': Leaf(value='1'), 'PROUD INDIANS': Leaf(value='1'), '107-18 79TH STREET': Leaf(value='0'), 'Santa Monica, CA': Leaf(value='0'), 'Studio': Leaf(value='1'), 'MA via PA': Leaf(value='1'), 'Area 8 ': Leaf(value='0'), 'Perth, Western Australia': Leaf(value='0'), 'Mississauga, Ontario': Leaf(value='0'), '#otrakansascity': Leaf(value='0'), 'Vail Valley': Leaf(value='0'), 'Numenor': Leaf(value='0'), 'Headed To The Top': Leaf(value='1'), 'EspaÌ±a - Spain - Espagne': Leaf(value='1'), '14/cis/istj ': Leaf(value='0'), 'Riverside, CA': Leaf(value='0'), 'Memphis, in the Tennessees': Leaf(value='1'), 'music.': Leaf(value='1'), 'Lebanon, Tennessee': Leaf(value='1'), '?????': Split(attribute='keyword', subtrees={'weapon': Leaf(value='1'), 'electrocuted': Leaf(value='0')}, default_value='1'), 'Scotts Valley, CA': Leaf(value='0'), \"Mpela'zwe \": Leaf(value='0'), 'Corpus Christi': Leaf(value='1'), 'Earth: Senseless nonsense': Leaf(value='1'), \"Spare 'Oom\": Split(attribute='keyword', subtrees={'dead': Leaf(value='1'), 'rioting': Leaf(value='0')}, default_value='1'), 'Northern Colorado': Leaf(value='0'), \"Plain O' Texas\": Leaf(value='1'), 'Twitter Lockout in progress': Leaf(value='0'), 'Victoria, Australia, Earth': Leaf(value='1'), 'Manavadar, Gujarat': Leaf(value='0'), 'manaus': Leaf(value='1'), 'Minneapolis/St. Paul': Leaf(value='0'), 'Valle Del Sol': Leaf(value='0'), 'Co. Tyrone Northern Ireland': Leaf(value='0'), 'Forging my Story': Leaf(value='0'), 'Richmond Heights, OH': Leaf(value='0'), 'West Lancashire, UK.': Leaf(value='0'), 'Cosmic Oneness': Leaf(value='0'), 'New England': Split(attribute='keyword', subtrees={'evacuate': Leaf(value='0'), 'destroy': Leaf(value='1')}, default_value='0'), 'Wilmington, DE': Leaf(value='0'), 'Montreal': Leaf(value='1'), 'San Fransokyo': Leaf(value='0'), 'GCC': Leaf(value='1'), 'GLOBAL/WORLDWIDE': Leaf(value='0'), 'Paris': Split(attribute='keyword', subtrees={'suicide%20bombing': Leaf(value='1'), 'volcano': Leaf(value='0')}, default_value='1'), 'todaysbigstock.com': Leaf(value='0'), 'MI,USA': Leaf(value='0'), 'Tunbridge Wells': Leaf(value='0'), 'new york': Split(attribute='keyword', subtrees={'wreck': Leaf(value='0'), 'displaced': Leaf(value='1')}, default_value='0'), '????': Leaf(value='0'), 'Somewhere in the Canada': Leaf(value='1'), 'Honduras': Leaf(value='0'), 'Morris, IL': Leaf(value='0'), 'Home of the Takers.': Leaf(value='0'), 'israel': Leaf(value='1'), 'Edinburgh, Scotland': Leaf(value='0'), 'Pacific Northwest': Leaf(value='1'), 'shoujo hell ': Leaf(value='1'), 'sitting on Eddie Vedders lap,': Leaf(value='0'), 'Houston TX': Leaf(value='1'), 'Hannover, Germany': Leaf(value='1'), 'texas': Leaf(value='0'), 'Pretoria': Leaf(value='0'), 'jayankondacholapuram.tamilnadu': Leaf(value='1'), 'my deli': Leaf(value='0'), 'Oregon and Washington': Leaf(value='0'), 'proudly South African': Leaf(value='1'), 'Vietnam': Leaf(value='1'), '9/1/13': Leaf(value='0'), 'South africa': Leaf(value='0'), 'on twitter': Leaf(value='0'), \"@protectingtitan's side.\": Leaf(value='0'), 'Melbourne Australia': Leaf(value='1'), 'Calgary': Leaf(value='1'), 'on twitter ': Leaf(value='0'), 'At your back': Leaf(value='0'), 'SD |Norway| KSA': Leaf(value='1'), 'london town..': Leaf(value='0'), 'cork': Leaf(value='0'), 'Hackney, London': Leaf(value='0'), 'MI - CA': Leaf(value='1'), 'Rocketing through the galaxy': Leaf(value='1'), 'Aarhus, Central Jutland': Leaf(value='0'), \"xiumin's nonexistent solos\": Leaf(value='1'), 'Thibodaux, LA': Leaf(value='0'), 'East TN.': Leaf(value='0'), 'Azeroth': Leaf(value='1'), 'San Diego, Texas.': Leaf(value='0'), 'PSA Nursing ': Leaf(value='0'), 'The TARDIS': Leaf(value='0'), 'In the Shadows...': Leaf(value='0'), 'tx': Leaf(value='0'), 'Pocatello, Idaho': Leaf(value='0'), 'MD': Leaf(value='0'), 'Lynnfield, MA': Leaf(value='0'), 'the local dump': Leaf(value='0'), 'Every Where in the World': Leaf(value='1'), 'New York ? ATL': Leaf(value='0'), 'Montana ': Leaf(value='1'), '956': Leaf(value='0'), 'buffalo / madrid / granada': Leaf(value='0'), 'Eagle River Alaska': Leaf(value='1'), 'England': Split(attribute='keyword', subtrees={'armageddon': Leaf(value='0'), 'suicide%20bombing': Leaf(value='1')}, default_value='0'), 'Whole World ': Leaf(value='1'), 'Carterville': Leaf(value='1'), 'Milwaukee WI': Leaf(value='0'), 'Maryland,Baltimore': Leaf(value='0'), 'Washington D.C.': Split(attribute='keyword', subtrees={'demolish': Leaf(value='1'), 'hostage': Leaf(value='0')}, default_value='1'), 'The Grey Area': Leaf(value='1'), 'Neverland': Leaf(value='0'), 'Amman,Jordan': Leaf(value='1'), 'Melbourne, FL': Leaf(value='0'), 'www.aprylpooley.com': Leaf(value='0'), 'ny': Leaf(value='0'), 'Atmosphere': Leaf(value='0'), 'Live4Heed??': Leaf(value='0'), 'Birdland, New Meridian, FD': Leaf(value='0'), 'sÌ£o luis': Leaf(value='0'), 'Topeka, KS': Leaf(value='0'), 'indiana': Leaf(value='0'), 'Lima, Ohio': Leaf(value='1'), 'The UK': Leaf(value='0'), 'ph': Split(attribute='keyword', subtrees={'attack': Leaf(value='0'), 'crushed': Leaf(value='1')}, default_value='0'), 'A small federal enclave': Leaf(value='1'), 'The Universe': Split(attribute='keyword', subtrees={'meltdown': Leaf(value='0'), 'hostages': Leaf(value='1')}, default_value='0'), 'Rapid City, South Dakota': Leaf(value='1'), 'Iowa, USA': Leaf(value='0'), 'Colchester Essex ': Leaf(value='0'), 'Sacramento, CA': Split(attribute='keyword', subtrees={'injured': Leaf(value='0'), 'forest%20fires': Leaf(value='1'), 'injury': Leaf(value='1'), 'fatal': Leaf(value='1'), 'ruin': Leaf(value='0')}, default_value='1'), 'Dubai, United Arab Emirates': Leaf(value='1'), 'Ted&Qz Inc, Ireland, Europe': Leaf(value='0'), 'New York, USA': Split(attribute='keyword', subtrees={'famine': Leaf(value='1'), 'thunder': Leaf(value='0'), 'floods': Leaf(value='0'), 'demolition': Leaf(value='0')}, default_value='0'), \"I'm standing behind you\": Leaf(value='0'), 'Georgia': Leaf(value='1'), 'SEATTLE, WA USA': Leaf(value='1'), 'WAISTDEEP, TX': Leaf(value='0'), 'Here there and everywhere': Leaf(value='1'), 'world': Leaf(value='1'), 'Columbus, Georgia': Leaf(value='0'), 'POFFIN': Leaf(value='0'), ' Tropical SE FLorida': Leaf(value='0'), 'KSU 2017': Leaf(value='0'), 'im definitely taller than you.': Leaf(value='1'), 'Newcastle, OK': Leaf(value='0'), 'Somewhere Powerbraking A Chevy': Leaf(value='0'), 'Davis, California': Leaf(value='1'), 'atlanta': Leaf(value='0'), 'The Internet & NYC': Leaf(value='0'), 'Pittsburgh PA': Leaf(value='0'), 'Canterbury kent': Leaf(value='0'), 'Paris.': Leaf(value='0'), 'Global': Split(attribute='keyword', subtrees={'hostage': Leaf(value='1'), 'body%20bagging': Leaf(value='0'), 'wrecked': Leaf(value='0'), 'harm': Leaf(value='0'), 'attack': Leaf(value='1'), 'hail': Leaf(value='1')}, default_value='1'), 'Tampa, FL': Split(attribute='keyword', subtrees={'terrorism': Leaf(value='0'), 'famine': Leaf(value='1'), 'wounds': Leaf(value='0')}, default_value='0'), 'D.C. - Baltimore - Annapolis': Leaf(value='0'), 'followurDREAMS(& my instagram)': Leaf(value='0'), 'West': Leaf(value='1'), 'Honeymoon Ì£ve.': Leaf(value='0'), 'Bukittinggi  ?? Sumatera Barat': Leaf(value='1'), \"wrapped arnd hyuk's finger\": Leaf(value='1'), 'Bakersfield, California': Leaf(value='1'), 'lost in history': Leaf(value='0'), 'T-Ville': Leaf(value='1'), 'Noida, NCR, India': Leaf(value='1'), 'A sofa': Leaf(value='0'), 'Moncton, New Brunswick': Leaf(value='1'), 'Ikeja, Nigeria': Leaf(value='1'), 'Nairobi-KENYA': Leaf(value='1'), 'Nanaimo, BC, Canada': Leaf(value='1'), 'New Sweden': Split(attribute='keyword', subtrees={'mass%20murder': Leaf(value='0')}, default_value='0'), 'Western Washington': Leaf(value='0'), 'Ottawa,Ontario Canada': Leaf(value='0'), 'North Cack/919': Leaf(value='0'), 'Washington, USA': Leaf(value='1'), 'Marbella. Spain': Leaf(value='1'), 'Melrose': Leaf(value='1'), 'Waco, Texas': Leaf(value='0'), 'ayr': Leaf(value='0'), 'Gainesville/Tampa, FL': Leaf(value='0'), 'Njoro, Kenya': Leaf(value='1'), 'Wasington, DC': Leaf(value='1'), 'where the wild things are': Leaf(value='0'), 'Los Angeles New York': Leaf(value='0'), 'Ljubljana, Slovenia': Leaf(value='1'), 'N. California USA': Leaf(value='0'), 'south africa eastern cape': Leaf(value='0'), 'Portland, Oregon': Leaf(value='1'), '???': Split(attribute='keyword', subtrees={'hazardous': Leaf(value='0'), 'blood': Leaf(value='1')}, default_value='0'), 'Galapa / AtlÌÁntico': Leaf(value='0'), 'Tama, Iowa': Leaf(value='1'), 'Sunrise Manor, NV': Leaf(value='1'), 'GrC Founder, 8,000 Subscribers': Leaf(value='0'), 'mind ya business': Leaf(value='1'), 'khartoum sudan': Leaf(value='0'), 'July 11th, 2015. ?': Leaf(value='0'), 'bangalore': Leaf(value='1'), 'az': Leaf(value='1'), 'not so cool KY': Leaf(value='1'), 'Dicky Beach': Leaf(value='1'), 'marysville ca ': Leaf(value='0'), 'England ': Leaf(value='0'), 'Anywhere I like': Leaf(value='0'), 'Menlo Park. SFO. The World.': Leaf(value='0'), ' Blood Indian Reserve': Leaf(value='0'), 'Tractor land aka Bristol': Leaf(value='0'), 'Chorley, Lancashire, UK': Leaf(value='0'), 'Score Team Goals Buying @': Leaf(value='0'), 'iTunes - RSS': Leaf(value='1'), 'Indonesia\\n': Leaf(value='1'), 'EspaÌ±a': Leaf(value='0'), \"Le Moyne '16\": Leaf(value='1'), 'oklahoma': Leaf(value='0'), 'Spain': Leaf(value='1'), 'Jump City': Leaf(value='0'), 'Midwest': Leaf(value='1'), 'Tafekop Ga-Matsepe': Leaf(value='1'), 'we?it \\x89Û¢ ixwin': Leaf(value='1'), 'Havenford': Leaf(value='1'), 'Head Office: United Kingdom': Leaf(value='1'), 'Austin/Los Angeles': Leaf(value='0'), '\\x89Û¢III.XII.MMXI\\x89Û¢': Leaf(value='1'), 'Miami ??': Leaf(value='0'), 'Kokomo, In': Leaf(value='1'), 'TechFish ': Leaf(value='0'), 'Portage, IN / Worldwide': Leaf(value='1'), 'Scotland, United Kingdom': Split(attribute='keyword', subtrees={'rioting': Leaf(value='1'), 'attack': Leaf(value='0')}, default_value='1'), 'Quincy': Leaf(value='0'), 'Amarillo': Leaf(value='1'), 'Johns Creek, GA': Leaf(value='0'), 'Singapore': Split(attribute='keyword', subtrees={'panicking': Leaf(value='0'), 'bloody': Leaf(value='0'), 'inundated': Leaf(value='1'), 'bombing': Leaf(value='1')}, default_value='0'), 'Porthcawl': Leaf(value='1'), 'Benedict College': Leaf(value='0'), 'Hogwarts': Leaf(value='0'), 'Cavite, Philippines': Leaf(value='0'), 'Bombardment Bay': Leaf(value='1'), 'U.S.A.   FEMA Region 5': Leaf(value='0'), '? Jet Life ?': Leaf(value='0'), 'Detroit, MI': Split(attribute='keyword', subtrees={'trauma': Leaf(value='1'), 'riot': Leaf(value='0')}, default_value='1'), 'texas a&m university': Leaf(value='0'), 'Birmingham, England': Split(attribute='keyword', subtrees={'obliterated': Leaf(value='0'), 'mass%20murder': Leaf(value='1')}, default_value='0'), 'Charter Member of the VRWC': Leaf(value='1'), 'Malaysia': Leaf(value='0'), 'Charlotte': Split(attribute='keyword', subtrees={'wounds': Leaf(value='0'), 'accident': Leaf(value='1')}, default_value='0'), 'Glasgow': Leaf(value='0'), 'heccfidmss@gmail.com': Leaf(value='0'), 'Accra,Ghana': Leaf(value='0'), 'United States of America': Leaf(value='1'), 'Harris County, Texas': Leaf(value='0'), 'Cloud 9': Leaf(value='0'), 'UK  & Germany': Leaf(value='1'), 'Some other mansion': Leaf(value='0'), 'Beit El - Israel': Leaf(value='1'), 'Fort Fizz, Ohio': Leaf(value='0'), 'rome': Leaf(value='0'), 'USA/SO FLORIDA via BROOKLYN NY': Leaf(value='0'), 'The Meadow': Leaf(value='0'), 'Somewhere with Clyde': Leaf(value='0'), 'Gold Coast, Australia': Split(attribute='keyword', subtrees={'evacuated': Leaf(value='1'), 'trouble': Leaf(value='0')}, default_value='1'), 'Maricopa, AZ': Leaf(value='0'), 'Not a U.S resident': Leaf(value='1'), 'International ': Leaf(value='1'), 'Boston, Massachusetts': Leaf(value='1'), 'Every where': Leaf(value='0'), '|-/': Leaf(value='0'), 'The green and pleasant land.': Leaf(value='1'), 'Elkhart, IN': Leaf(value='0'), \"'SAN ANTONIOOOOO'\": Leaf(value='0'), 'Seattle, Washington': Leaf(value='0'), 'EIU  Chucktown/LaSalle IL': Leaf(value='0'), 'The 5th Dimension. ': Leaf(value='1'), 'austin tx': Leaf(value='0'), 'Buxton, Venice, and Nottingham': Leaf(value='1'), \"Wherever I'm needed\": Leaf(value='0'), 'Mostly Wellington, NZ ': Leaf(value='0'), 'Haveli, Maharashtra': Leaf(value='0'), 'bahstun/porta reeko': Leaf(value='0'), 'Miami, FL': Leaf(value='0'), 'Wonderland\\x89ÛÓ ?????? ???? ??????': Leaf(value='0'), 'Aveiro, Portugal': Leaf(value='0'), 'Nashua NH': Leaf(value='1'), 'Palmyra, NJ': Leaf(value='0'), 'Sugar Land, TX': Leaf(value='0'), '\\x81Êwagger!Ì\\x90ominicanÌ÷': Leaf(value='1'), 'Pensacola, FL': Leaf(value='1'), 'Colombo,Sri Lanka.': Leaf(value='0'), 'Chicago, IL ': Leaf(value='1'), 'Temporary Towers': Leaf(value='0'), 'Bolivar, MO': Leaf(value='0'), '11th dimension, los angeles': Leaf(value='0'), 'Reddit ': Leaf(value='1'), '\\x89Û¢5\\x89Û¢12\\x89Û¢14\\x89Û¢ | åÈ#SaviourSquadåÇ': Leaf(value='0'), 'Winter Park, Colorado': Leaf(value='0'), 'Victoria, Canada': Leaf(value='0'), 'Unite. Bless. Wallahi ': Leaf(value='0'), 'Karachi Pakistan': Leaf(value='1'), '5/5 access / rt link please x': Leaf(value='0'), '3???2???????': Leaf(value='0'), 'anzio,italy': Leaf(value='1'), 'too far': Leaf(value='0'), 'Astley, Manchester': Leaf(value='0'), 'Netherlands': Leaf(value='1'), 'Street of Dallas': Leaf(value='1'), 'planeta H2o': Leaf(value='0'), 'Room 234': Leaf(value='1'), 'Maharashtra': Leaf(value='1'), 'Milwaukee County': Leaf(value='0'), 'hyderabad': Leaf(value='1'), 'Australia ': Leaf(value='1'), 'SWMO': Leaf(value='1'), 'ATL, GA': Leaf(value='0'), 'Pelham, AL': Leaf(value='0'), 'Wisconsin': Leaf(value='0'), 'somewhere too cold for me': Leaf(value='1'), 'Wilmington, NC': Split(attribute='keyword', subtrees={'storm': Leaf(value='0'), 'accident': Leaf(value='1')}, default_value='0'), 'East Islip, NY': Leaf(value='1'), \"don't run\": Leaf(value='0'), 'On the toilet having a dump ': Leaf(value='1'), 'Indiana, USA': Leaf(value='0'), 'Jubail IC, Saudi Arabia.': Leaf(value='0'), 'Upper St Clair, PA': Leaf(value='0'), 'Planet Earth': Split(attribute='keyword', subtrees={'terrorism': Leaf(value='0'), 'catastrophic': Leaf(value='1'), 'dead': Leaf(value='1'), 'deaths': Leaf(value='0')}, default_value='0'), 'San Juan, Puerto Rico': Leaf(value='0'), 'Ondo': Leaf(value='1'), 'please H? ?:??': Leaf(value='1'), '???????, Texas': Leaf(value='0'), \"Xi'an, China\": Leaf(value='1'), 'Gettysburg, PA': Leaf(value='0'), 'Five down from the Coffeeshop': Split(attribute='keyword', subtrees={'emergency': Leaf(value='1'), 'fire%20truck': Leaf(value='0')}, default_value='1'), 'Ashland, Oregon': Leaf(value='1'), 'Pennsylvania, USA': Leaf(value='0'), 'Riverdale, GA ': Leaf(value='0'), '#SandraBland': Leaf(value='0'), 'Texas, USA': Leaf(value='0'), 'Right here': Leaf(value='0'), 'Wolverhampton': Leaf(value='0'), 'This Is Paradise. Relax. ': Leaf(value='1'), 'New Your': Leaf(value='0'), 'my house': Leaf(value='0'), 'Nairobi': Split(attribute='keyword', subtrees={'fatality': Leaf(value='0'), 'derail': Leaf(value='1'), 'casualty': Leaf(value='1')}, default_value='1'), 'The D': Leaf(value='1'), '-?s?s?j??s-': Leaf(value='1'), 'russia': Leaf(value='0'), 'åÊ(?\\x89Û¢`?\\x89Û¢å«)??': Leaf(value='0'), \"Someday I'll live in England. \": Leaf(value='0'), 'Ormond By The Sea, FL': Leaf(value='1'), '? miranda ? 521 mi': Leaf(value='0'), 'Memphis,TN/ World Wide': Leaf(value='0'), '11/4/14': Leaf(value='0'), 'Kingston, Jamaica': Leaf(value='1'), '#SOUTHAMPTON ENGLAND': Leaf(value='0'), 'San Diego': Leaf(value='1'), 'East London. ': Leaf(value='0'), 'zboyer@washingtontimes.com': Leaf(value='1'), 'Epic City, BB.': Split(attribute='keyword', subtrees={'burning%20buildings': Leaf(value='1'), 'buildings%20burning': Leaf(value='0')}, default_value='1'), 'USA, WA': Leaf(value='0'), 'Kentucky, USA': Leaf(value='0'), \"St. Patrick's Purgatory\": Leaf(value='1'), 'melbourne': Leaf(value='1'), 'Manchester, The World, England': Leaf(value='0'), 'Coolidge, AZ': Leaf(value='0'), 'Kuwait ': Leaf(value='1'), '  ': Leaf(value='1'), 'Huntington, WV': Leaf(value='0'), 'Arkansas, Jonesboro': Leaf(value='1'), \"Conversing In Janet's CafÌ¬\": Leaf(value='0'), 'Chicago - Lake Buena Vista': Leaf(value='0'), 'en el pais de los arrechos': Leaf(value='0'), 'VONT ISLAND, LAGOS': Leaf(value='0'), 'Sarasota, FL': Split(attribute='keyword', subtrees={'hijacker': Leaf(value='0'), 'quarantined': Leaf(value='1')}, default_value='0'), 'University of Limerick': Leaf(value='1'), 'Fort Worth,  Texas ': Leaf(value='1'), 'Neath, South Wales': Leaf(value='0'), 'Sutton, London UK': Leaf(value='0'), 'Mid West': Leaf(value='0'), 'laying on the bass': Leaf(value='0'), '21, Porto': Leaf(value='0'), 'Philadelphia, Pennsylvania': Leaf(value='0'), 'Arthas US': Leaf(value='0'), 'Magnolia': Leaf(value='0'), 'Seattle WA': Leaf(value='1'), 'hertfordshire.': Leaf(value='1'), 'South, England': Leaf(value='1'), 'Cypress, CA 90630': Leaf(value='0'), 'Paradise City': Leaf(value='0'), 'Aro Diaspora': Leaf(value='1'), 'Not Steven Yeun / AMC.': Leaf(value='0'), 'cigarknub@gmail.com': Leaf(value='0'), 'Norwich': Leaf(value='1'), 'Texas ': Leaf(value='0'), 'Iraq|Afghanistan| RSA |Baghdad': Leaf(value='0'), 'tripoli international airport': Leaf(value='0'), 'Aurora, Ontario ': Leaf(value='0'), 'sri lanka': Leaf(value='1'), 'Olathe, KS': Leaf(value='1'), 'kano': Leaf(value='1'), 'Kolkata, India': Leaf(value='0'), 'Melbourne, Victoria': Leaf(value='0'), 'dope show': Leaf(value='0'), 'Tennessee/Gallifrey': Leaf(value='1'), 'Displaced Son of TEXAS!': Leaf(value='0'), 'West Vancouver, B.C.': Leaf(value='0'), 'Iliff,Colorado  ': Leaf(value='1'), 'on the web': Leaf(value='0'), 'Toronto, Canada': Leaf(value='0'), 'Cape Neddick, ME': Leaf(value='1'), 'under the blanket': Leaf(value='0'), 'New Hampshire': Split(attribute='keyword', subtrees={'buildings%20burning': Leaf(value='1'), 'explode': Leaf(value='0'), 'buildings%20on%20fire': Leaf(value='1')}, default_value='1'), '??????? ??????? ????????': Leaf(value='1'), 'Hame': Leaf(value='1'), 'Somalia': Leaf(value='1'), 'Playa': Leaf(value='1'), 'Dundee, UK': Leaf(value='1'), 'Unknown': Split(attribute='keyword', subtrees={'damage': Leaf(value='1')}, default_value='1'), 'Miami, Florida': Leaf(value='1'), 'Poconos': Leaf(value='0'), 'Magnolia, Fiore ': Leaf(value='1'), 'Georgia, USA': Leaf(value='0'), 'Slateport City, Hoenn': Leaf(value='0'), 'Sydney, Australia': Split(attribute='keyword', subtrees={'bush%20fires': Leaf(value='1'), 'detonate': Leaf(value='0')}, default_value='1'), 'Sand springs oklahoma': Leaf(value='0'), 'dublin ': Leaf(value='0'), 'Erie, PA': Leaf(value='0'), '(Spain)': Leaf(value='1'), 'Nicola Valley': Leaf(value='1'), ' Eugene, Oregon': Leaf(value='0'), 'somewhere in Portugal': Leaf(value='0'), '??9?': Leaf(value='0'), 'Illumination ': Leaf(value='0'), 'with Doflamingo': Leaf(value='0'), 'seattle grace mercy death': Leaf(value='0'), 'y(our) boyfriends legs ': Leaf(value='0'), 'kansas': Leaf(value='0'), 'lesa * she/her': Leaf(value='0'), '21 | PNW': Leaf(value='0'), 'Kyiv, Ukraine': Leaf(value='1'), 'Campinas Sp': Leaf(value='0'), '10 Steps Ahead.  Cloud 9': Leaf(value='1'), 'Cairo, Egypt.': Leaf(value='0'), 'Bedford, England': Leaf(value='0'), 'USA ': Leaf(value='0'), 'New York, NY ': Leaf(value='0'), 'Nomad, USA': Leaf(value='0'), 'Manhattan, NY': Split(attribute='keyword', subtrees={'bioterror': Leaf(value='0'), 'wrecked': Leaf(value='1')}, default_value='0'), 'Des Moines, IA': Leaf(value='0'), 'South, USA': Split(attribute='keyword', subtrees={'snowstorm': Leaf(value='1')}, default_value='1'), 'LP, MN USA': Leaf(value='0'), 'everydaynigerian@gmail.com': Leaf(value='1'), 'facebook.com/tradcatknights': Leaf(value='1'), 'Chappaqua NY and Redlands CA': Leaf(value='1'), 'United Kingdom,Fraserburgh': Leaf(value='0'), 'Leesburg, FL': Leaf(value='0'), 'Portsmouth, UK': Leaf(value='0'), 'golborne, north west england.': Leaf(value='0'), 'Making Worldwide Change Near U': Leaf(value='0'), 'IndiLand ': Leaf(value='0'), 'Concord, CA': Leaf(value='1'), 'Portland, Ore. ': Leaf(value='1'), 'right here': Leaf(value='1'), 'Jupiter': Leaf(value='1'), 'Fukuoka, Japan': Leaf(value='1'), 'plymouth': Leaf(value='1'), 'Peoria': Leaf(value='1'), 'Earth-616': Leaf(value='0'), 'Arizona ': Leaf(value='0'), '1/10 Taron squad': Leaf(value='0'), 'Clearwater, FL': Leaf(value='0'), 'State of Dreaming': Leaf(value='0'), 'scumbernauld': Leaf(value='0'), '204, 555 11 Ave. S.W.': Leaf(value='1'), 'Palermo, Sicily': Leaf(value='1'), 'Baltimore': Leaf(value='0'), 'Dublin, Ireland': Split(attribute='keyword', subtrees={'catastrophic': Leaf(value='1'), 'obliterated': Leaf(value='0')}, default_value='1'), 'taking bath do not disturb': Leaf(value='0'), 'Brackley Beach, PE, Canada': Leaf(value='0'), 'Behind The Obama Curtain': Leaf(value='1'), 'Orange County, CA': Leaf(value='1'), 'Kenosha, WI 53143': Leaf(value='0'), 'dorito land': Leaf(value='0'), 'Nairobi, Kenya ': Leaf(value='1'), 'Darnley, Prince Edward Island': Leaf(value='0'), 'Halton Region': Leaf(value='0'), 'Nadiad ,Gujarat , India!!': Leaf(value='0'), 'Los Angles, CA': Leaf(value='0'), 'Concord, NH ': Leaf(value='1'), 'Santa Maria, CA': Leaf(value='0'), 'Stage with Trey Songz': Leaf(value='0'), 'BKI-KUA': Leaf(value='0'), 'Las Vegas': Leaf(value='0'), 'california mermaid ? ': Leaf(value='0'), 'Indianapolis, IN': Leaf(value='1'), 'North Highlands, CA': Leaf(value='1'), 'Long Beach, CA': Leaf(value='0'), \"whs '17\": Leaf(value='0'), 'Denver, CO': Split(attribute='keyword', subtrees={'nuclear%20reactor': Leaf(value='0'), 'catastrophe': Leaf(value='0'), 'devastation': Leaf(value='1'), 'avalanche': Leaf(value='1')}, default_value='0'), 'Suplex City': Leaf(value='1'), 'Charleston, SC': Leaf(value='1'), 'State of Georgia': Leaf(value='0'), '46.950109,7.439469': Leaf(value='1'), 'Cedar Island, Clinton CT 06413': Leaf(value='1'), '??? ???? ??????': Leaf(value='1'), 'Arundel ': Leaf(value='1'), 'Tulsa, Oklahoma': Leaf(value='1'), ' Miami Beach': Leaf(value='0'), 'Worcester, MA': Leaf(value='1'), 'Rhyme Or Reason?': Leaf(value='1'), '19.600858, -99.047821': Leaf(value='1'), 'Hilton Head, SC  ': Leaf(value='0'), 'icon: cheese3d': Leaf(value='0'), 'fujo garbage heaven ': Leaf(value='0'), 'Ewa Beach, HI': Leaf(value='0'), 'Eau Claire, Wisconsin': Leaf(value='1'), 'Washington, DC 20009': Leaf(value='0'), 'Narnia': Leaf(value='0'), 'Na waffi': Leaf(value='1'), 'The Shady Hyenatown of Finland': Leaf(value='0'), 'Kilkenny': Leaf(value='0'), 'Norway': Leaf(value='0'), 'Huber Heights, OH': Leaf(value='0'), 'Kutztown, PA': Leaf(value='0'), 'Watertown, Mass.': Leaf(value='1'), 'Gloucester, MA': Leaf(value='1'), 'New Chicago': Leaf(value='1'), 'Meereen ': Leaf(value='0'), 'NJ/NY/NM/NE/ND': Leaf(value='1'), 'lost in my thoughts': Leaf(value='1'), '|| c h i c a g o ||': Leaf(value='1'), 'Grand Rapids MI': Leaf(value='0'), 'Quezon City, Philippines': Leaf(value='1'), 'To The Right of You!': Leaf(value='1'), 'IM LOST ': Leaf(value='0'), 'Yeezy Taught Me , NV': Leaf(value='0'), 'The Epicenter, and Beyond': Leaf(value='0'), 'Kabul, Tuebingen, Innsbruck': Leaf(value='0'), 'Fort Knox, KY 40121': Leaf(value='1'), 'Jakarta, Indonesia': Leaf(value='0'), 'eating strawberry shitsickles': Leaf(value='0'), 'Ontario, Canada': Split(attribute='keyword', subtrees={'screams': Leaf(value='0'), 'collision': Leaf(value='1')}, default_value='1'), '21.462446,-158.022017': Split(attribute='keyword', subtrees={'refugees': Leaf(value='1'), 'crash': Leaf(value='0'), 'floods': Leaf(value='1')}, default_value='1'), 'south of heaven ': Leaf(value='1'), 'Sheff/Bangor/Salamanca/Madrid': Leaf(value='0'), 'New York, United States': Leaf(value='0'), 'Flipadelphia': Leaf(value='1'), 'Trumann, Arkansas': Leaf(value='0'), 'Shity land of Northern Ireland': Leaf(value='0'), 'San Diego, Calif.': Leaf(value='0'), 'online ': Leaf(value='1'), 'The Hammock, FL, USA': Leaf(value='1'), 'the void, U.S.A': Leaf(value='1'), 'Chatham, IL': Leaf(value='1'), 'lagos. Unilag': Leaf(value='1'), 'White Plains, NY': Leaf(value='0'), 'Kleenex factory': Leaf(value='1'), 'Raleigh Durham, NC': Leaf(value='1'), 'Cleveland, OH': Split(attribute='keyword', subtrees={'wounds': Leaf(value='0'), 'meltdown': Leaf(value='1'), 'crash': Leaf(value='0'), 'blight': Leaf(value='0'), 'hostages': Leaf(value='1')}, default_value='0'), 'Ivano-Frankivsk': Leaf(value='0'), 'Malibu/SantaFe/Winning!': Leaf(value='1'), 'Kansas City, MO': Split(attribute='keyword', subtrees={'danger': Leaf(value='0'), 'casualty': Leaf(value='1'), 'hijack': Leaf(value='0')}, default_value='0'), 'Belgrade': Leaf(value='0'), 'Waco TX': Leaf(value='1'), 'I rap to burn shame.': Leaf(value='1'), 'BrowardCounty // Florida ': Leaf(value='0'), 'Columbus': Split(attribute='keyword', subtrees={'devastation': Leaf(value='1'), 'blaze': Leaf(value='0')}, default_value='1'), 'Hendersonville, NC': Leaf(value='0'), 'Yulee, FL': Leaf(value='0'), 'Hailing from Dayton ': Leaf(value='0'), 'Layang-Layang, Perak': Leaf(value='0'), 'North Dartmouth, Massachusetts': Leaf(value='0'), 'Tucson, Arizona ': Leaf(value='1'), 'Finland': Leaf(value='1'), 'Atlanta(ish), GA': Leaf(value='0'), 'LA ??': Leaf(value='0'), 'Macon, GA': Leaf(value='1'), 'the Dirty D': Leaf(value='0'), 'Las Vegas, NV': Leaf(value='1'), 'Unnamed City': Leaf(value='0'), 'I ACCEPT SONG REQUESTS': Leaf(value='1'), 'Los Angeles,CA, USA': Leaf(value='0'), 'LA - everywhere': Leaf(value='0'), 'Outside The Matrix, I Think.': Leaf(value='1'), 'norway': Leaf(value='0'), 'Jersey Shore': Leaf(value='1'), 'Ohio': Leaf(value='0'), 'nj/ny': Leaf(value='0'), 'youtube.com/channel/UCHWTLC9B4ZjUGh7yDlb55Iw': Leaf(value='0'), 'Bacon': Leaf(value='0'), 'The Memesphere': Leaf(value='0'), 'New Orleans ,Louisiana': Split(attribute='keyword', subtrees={'obliteration': Leaf(value='0'), 'burning%20buildings': Leaf(value='1'), 'buildings%20burning': Leaf(value='1')}, default_value='1'), 'Kernow': Leaf(value='0'), 'PLFD cuh..': Leaf(value='0'), 'The Sanctuary Network, Rome': Leaf(value='0'), 'Christchurch New Zealand': Leaf(value='0'), 'Scottsdale, AZ': Leaf(value='0'), 'Brisbane Australia': Leaf(value='0'), 'Croydon': Leaf(value='0'), 'Hillsville/Lynchburg, VA': Leaf(value='0'), 'Queensland, Australia': Leaf(value='1'), 'PanamÌÁ ': Leaf(value='0'), 'Fairfield, California': Leaf(value='1'), 'Miami,FL': Leaf(value='1'), 'Frankfort, KY': Leaf(value='0'), \"Riyadh ')\": Leaf(value='1'), 'access to njh/5 and cth/4': Leaf(value='0'), 'USA, Alabama': Leaf(value='1'), 'Thailand': Leaf(value='0'), 'Jacksonville, FL': Leaf(value='1'), 'probably not home': Leaf(value='0'), 'British girl in Texas': Leaf(value='0'), 'Hospital, bc of SKH vid.': Leaf(value='0'), 'VCU': Leaf(value='0'), 'Macon, Georgia': Leaf(value='1'), 'death star': Leaf(value='0'), 'iTunes': Leaf(value='1'), 'No ID, No VOTE!!!': Leaf(value='1'), 'SE London(heart is by the sea)': Leaf(value='1'), 'LONG ISLAND, NY': Leaf(value='0'), 'iamdigitalent.com': Leaf(value='1'), 'Paris, France': Leaf(value='1'), 'Philadelphia, PA': Leaf(value='0'), 'Germany': Leaf(value='1'), 'Republica Dominicana': Leaf(value='1'), 'khanna': Leaf(value='1'), 'Kalimantan Timur, Indonesia': Leaf(value='0'), 'New York / Worldwide': Leaf(value='1'), 'New Orleans, LA': Leaf(value='0'), 'Himalayan Mountains': Leaf(value='1'), 'Jersey City, New Jersey': Leaf(value='0'), 'Top secret bunker ': Leaf(value='1'), 'Lyallpur, Pakistan': Leaf(value='1'), 'Trinidad & Tobago': Split(attribute='keyword', subtrees={'crushed': Leaf(value='0'), 'rescue': Leaf(value='1')}, default_value='0'), 'LA': Leaf(value='0'), 'Northern Ireland': Leaf(value='1'), 'Broadview Heights, Ohio': Leaf(value='0'), 'Netherlands,Amsterdam-Virtual ': Leaf(value='0'), 'Deployed in the Middle East': Leaf(value='0'), 'Between the worlds ': Leaf(value='0'), 'Dalkeith, Scotland': Leaf(value='0'), 'Maryland': Split(attribute='keyword', subtrees={'hijack': Leaf(value='0'), 'obliteration': Leaf(value='0'), 'collision': Leaf(value='1')}, default_value='0'), 'MUM-DEL': Leaf(value='1'), 'Rafael castillo': Leaf(value='0'), 'Lincoln': Leaf(value='0'), 'Winnipeg, MB, Canada': Leaf(value='0'), 'Guatemala': Leaf(value='1'), 'Newcastle, England ': Leaf(value='0'), 'Glenview to Knoxville ': Leaf(value='0'), 'Huntsville, AL': Split(attribute='keyword', subtrees={'mass%20murderer': Leaf(value='0'), 'mass%20murder': Leaf(value='1')}, default_value='0'), 'Ogba, Lagos, Nigeria': Leaf(value='1'), 'Frisco, TX': Leaf(value='1'), 'Seattle': Split(attribute='keyword', subtrees={'riot': Leaf(value='0'), 'casualty': Leaf(value='1'), 'inundated': Leaf(value='0'), 'mass%20murderer': Leaf(value='1'), 'devastation': Leaf(value='1'), 'displaced': Leaf(value='0')}, default_value='0'), 'www.youtube.com?Malkavius2': Leaf(value='0'), 'U.S.A. - Global Members Site': Leaf(value='1'), 'Alaska': Leaf(value='0'), 'Kingston, Pennsylvania': Leaf(value='0'), 'probably watching survivor': Leaf(value='1'), 'Banbridge': Leaf(value='1'), 'KOLKATA': Leaf(value='0'), 'Washington, DC & Charlotte, NC': Leaf(value='1'), 'Palo Alto, CA': Leaf(value='0'), 'somewhere USA ': Leaf(value='0'), 'Asgard': Leaf(value='1'), 'Nigeria, WORLDWIDE': Leaf(value='0'), 'In The Mansion': Leaf(value='0'), 'Budapest, Hungary': Leaf(value='0'), 'santo domingo': Leaf(value='1'), 'Mesa, AZ': Leaf(value='0'), 'Sunbury, Ohio': Leaf(value='0'), 'Lisbon, Portugal': Leaf(value='0'), 'Here, unless there.  ': Leaf(value='1'), 'Cydia': Leaf(value='0'), 'Charlotte County Florida': Leaf(value='1'), 'Hope Road, Jamaica ': Leaf(value='0'), ' The World': Leaf(value='1'), 'port matilda pa': Leaf(value='1'), 'Los Angeles... CA... USA': Leaf(value='0'), 'Palestine ': Leaf(value='0'), 'Tornado Alley, USA ': Leaf(value='1'), 'Jamaica': Leaf(value='0'), 'North Carolina': Split(attribute='keyword', subtrees={'displaced': Leaf(value='0'), 'electrocuted': Leaf(value='1')}, default_value='0'), 'Bournemouth, Dorset, UK': Leaf(value='1'), 'Bay Area': Leaf(value='0'), ' ?currently writing a book?': Leaf(value='0'), 'Delhi ': Leaf(value='0'), 'Broomfield, CO': Leaf(value='1'), 'Polmont ': Leaf(value='0'), 'Old Blighty': Leaf(value='1'), 'PARACHUTE': Leaf(value='0'), 'Dunwoody, GA': Leaf(value='0'), 'North Ferriby, East Yorkshire': Leaf(value='0'), 'los angeles, ca': Leaf(value='0'), 'BIG D  HOUSTON/BOSTON/DENVER': Leaf(value='0'), 'Center for Domestic Preparedness': Leaf(value='1'), 'Live On Webcam': Leaf(value='0'), 'Israel': Leaf(value='0'), 'Bagalkote Karnataka ': Leaf(value='0'), 'Christiana,Tennessee': Leaf(value='0'), 'England, Great Britain.': Leaf(value='1'), 'San Jose': Leaf(value='0'), 'St. Louis': Leaf(value='1'), 'Brighton and Hove': Leaf(value='0'), 'Not Of This World': Leaf(value='1'), 'Purgatory, USA': Leaf(value='0'), 'Charlottetown': Leaf(value='0'), 'St. Louis, MO': Leaf(value='1'), 'the moon': Leaf(value='0'), '?^åá??åá?^?? ??': Leaf(value='0'), 'Bronx, New York': Leaf(value='1'), 'he/him or she/her (ask)': Leaf(value='0'), 'World Wide Web': Split(attribute='keyword', subtrees={'riot': Leaf(value='0'), 'injured': Leaf(value='1')}, default_value='0'), \"Greg's place\": Leaf(value='0'), 'Denton, Texas': Leaf(value='0'), 'london': Leaf(value='0'), 'Detroit Tigers Dugout': Leaf(value='0'), '#ODU': Leaf(value='0'), 'Corpus - Las Vegas - Houston': Leaf(value='0'), 'Charlotte, N.C.': Leaf(value='1'), '?@symbolicjensen?': Leaf(value='0'), '\\x89ÛÊ\\x89ÛÊ\\x89ÛÊ': Leaf(value='1'), 'ATL??AL??': Leaf(value='0'), 'Brisbane.': Leaf(value='1'), 'Nevada (wishing for Colorado)': Leaf(value='0'), '(he/him)': Leaf(value='0'), 'Gumptown': Leaf(value='0'), 'Innsmouth, Mass.': Leaf(value='0'), '3rd Eye Chakra': Leaf(value='1'), 'PROV': Leaf(value='0'), 'Online 24/7. Not even kidding.': Leaf(value='1'), 'Corpus Christi, Texas': Leaf(value='1'), 'Milky Way galaxy ': Leaf(value='0'), 'Isle of Man': Leaf(value='1'), 'am everywhere': Leaf(value='0'), 'Henderson, Nevada': Leaf(value='0'), 'Sydney & Worldwide': Leaf(value='0'), 'The barn': Leaf(value='0'), 'Philadelphia, Pennsylvania USA': Leaf(value='0'), '73101': Leaf(value='1'), 'Rogersville, MO': Leaf(value='1'), 'US, PA': Leaf(value='1'), 'Shelby County': Leaf(value='1'), 'Eagle Pass, Texas': Leaf(value='1'), 'Travelling around the world ': Leaf(value='0'), 'Kuwait': Leaf(value='1'), 'Port Harcourt, Nigeria': Leaf(value='1'), 'Lethbridge, Alberta, Canada': Leaf(value='1'), 'Baton Rouge, LA': Leaf(value='0'), 'M!A: None': Leaf(value='0'), '1/3 of the blam squad ': Leaf(value='0'), 'Lucknow, India': Leaf(value='1'), \"Me mammy's belly\": Leaf(value='0'), 'Htx': Leaf(value='0'), 'Right next to Compton': Leaf(value='0'), 'HI\\x89Û¢UT\\x89Û¢AS': Leaf(value='0'), 'The Wood': Leaf(value='0'), 'Hamilton, ON': Leaf(value='0'), 'Wrigley Field': Leaf(value='0'), 'TX': Leaf(value='0'), 'Manchester, NH': Leaf(value='1'), 'Harpurhey, Manchester, UK': Leaf(value='0'), 'The Howling': Leaf(value='0'), 'Also follow ?': Leaf(value='1'), 'Silang, Cavite / ParaÌ±aque': Leaf(value='0'), 'St.Cloud, MN': Leaf(value='0'), 'Homs- Syria': Leaf(value='1'), 'Chicopee MA': Leaf(value='0'), 'Alexandria, VA, USA': Leaf(value='1'), 'Cleveland, OH - San Diego, CA': Leaf(value='1'), 'italy': Leaf(value='1'), '??????????? ???????????..? ': Leaf(value='0'), 'london essex england uk': Leaf(value='0'), 'Live Oak, TX': Leaf(value='1'), 'See the barn of bleakness': Leaf(value='0'), 'LA/OC/Vegas': Leaf(value='0'), 'Long Island NY & San Francisco': Leaf(value='0'), \"wherever there's netflix\": Leaf(value='0'), 'Pontefract UK': Leaf(value='1'), 'åø\\\\_(?)_/åø': Leaf(value='1'), 'San Diego, California': Leaf(value='0'), 'Spying on your thoughts': Leaf(value='1'), 'Dreieich, Germany': Leaf(value='1'), 'North East Unsigned Radio': Leaf(value='0'), '302???? 815': Leaf(value='1'), \"Dime's Palace\": Leaf(value='0'), 'lrhcthband;four - bournemouth': Leaf(value='0'), \"Sharkatraz/Bindle's Cleft, PA\": Leaf(value='0'), 'ANYWEHERE !!': Leaf(value='0'), 'Greenville': Leaf(value='0'), 'WORLD WIDE': Leaf(value='0'), 'Pioneer Village, KY': Leaf(value='1'), 'NY, CT & Greece': Leaf(value='1'), 'Bristol, England': Leaf(value='1'), 'EPTX': Leaf(value='0'), 'Ohio, USA': Leaf(value='0'), 'WORLD': Leaf(value='0'), 'Coimbatore': Leaf(value='1'), 'wherever the $$$ at': Leaf(value='0'), 'Fredonia,NY': Leaf(value='1'), '???????? ?????????.': Leaf(value='0'), 'New York City ,NY': Leaf(value='0'), 'InterplanetaryZone': Leaf(value='0'), 'm3, k, a, d': Leaf(value='0'), 'Gloucestershire , UK': Leaf(value='0'), 'South Korea GMT+9': Leaf(value='0'), 'Napa, CA': Leaf(value='0'), 'ljp/4': Leaf(value='0'), 'Dallas Fort-Worth': Leaf(value='1'), 'AFRICA': Leaf(value='1'), 'Davidson, NC': Leaf(value='0'), 'Killarney': Leaf(value='0'), '... -.- -.--': Leaf(value='1'), 'CT, USA': Leaf(value='0'), 'Chicora ?? Oakland': Leaf(value='0'), 'College Station, TX': Leaf(value='0'), 'EVERYWHERE': Leaf(value='1'), 'Dorset, United Kingdom': Leaf(value='1'), 'Telangana': Leaf(value='1'), 'Nevada, USA': Leaf(value='0'), 'Harlem, New York': Leaf(value='0'), 'Alameda and Pleasanton, CA': Leaf(value='0'), 'Plano,TX': Leaf(value='0'), 'Light and dark, form and void': Leaf(value='0'), 'Abuja,Nigeria': Leaf(value='1'), 'SURROUNDED BY WEEABOOS': Leaf(value='1'), 'IL': Leaf(value='0'), 'infj ': Leaf(value='1'), 'Paonia, Colorado ': Leaf(value='1'), 'Terlingua, Texas': Leaf(value='1'), \"Niall's arms\": Leaf(value='0'), 'Wolverhampton/Brum/Jersey': Leaf(value='1'), 'CLT': Leaf(value='0'), 'Morganville, Texas.': Leaf(value='0'), 'lakewood colorado': Leaf(value='0'), 'MÌ©xico D.F.': Leaf(value='1'), 'SF Bay Area, California / Greater Phoenix, AZ': Leaf(value='0'), 'Tucson, AZ': Leaf(value='1'), 'Toronto, Bob-Lo, Miami Beach': Leaf(value='1'), 'The Globe': Leaf(value='1'), 'Whitby, ON': Leaf(value='0'), 'Ellensburg to Spokane': Leaf(value='1'), 'Bozeman, Montana': Leaf(value='0'), 'scandinavia': Leaf(value='0'), 'In your mind': Leaf(value='0'), 'Milton keynes': Leaf(value='0'), 'Rural Northern Nevada': Leaf(value='0'), 'livin life in the 610': Leaf(value='1'), 'Waterloo, Ont': Leaf(value='1'), 'CHICAGO': Leaf(value='1'), 'ÌÏT: 39.982988,-75.261624': Leaf(value='1'), 'Belfast': Leaf(value='0'), 'Island Lake, IL': Leaf(value='0'), 'JDB/LJC/AGB/TW/PLL': Leaf(value='0'), '#Bummerville otw': Leaf(value='1'), 'Fort Calhoun, NE': Leaf(value='0'), 'Carol Stream, Illinois': Leaf(value='1'), 'Colorado/WorldWide': Leaf(value='0'), 'honeymoon avenue': Leaf(value='0'), 'mainly California': Leaf(value='1'), 'Jackson, MS': Leaf(value='1'), '617-BTOWN-BEATDOWN': Leaf(value='0'), 'WASHINGTON,DC': Leaf(value='0'), 'City of Angels, CA': Leaf(value='0'), 'Spain - China - Latin America.': Leaf(value='0'), 'Spinning through time.': Leaf(value='0'), 'Fort Lauderdale, FL': Leaf(value='1'), 'Dudetown': Leaf(value='0'), 'London/Outlaw Country ': Leaf(value='0'), 'Hueco Mundo': Leaf(value='0'), 'Suitland': Leaf(value='0'), 'Maracay y Nirgua, Venezuela': Leaf(value='1'), 'Skyport de la Rosa': Leaf(value='0'), 'Santiago de Chile': Leaf(value='1'), 'D(M)V  ': Leaf(value='1'), 'Bathtub de Bett ': Leaf(value='0'), 'Chester ': Leaf(value='0'), 'Bossland': Leaf(value='0'), 'Leicester': Split(attribute='keyword', subtrees={'bridge%20collapse': Leaf(value='0')}, default_value='0'), 'Poplar, London': Leaf(value='0'), 'Gotham City': Split(attribute='keyword', subtrees={'harm': Leaf(value='1'), 'blaze': Leaf(value='0')}, default_value='1'), 'East London': Leaf(value='0'), 'Blackpool, England, UK.': Leaf(value='0'), \"401 livin'\": Leaf(value='1'), 'Pune, mostly ': Leaf(value='0'), 'SouthEast Asia': Leaf(value='1'), 'Ely, Cambridgeshire': Leaf(value='1'), 'Anywhere': Leaf(value='1'), 'Evanston, IL': Leaf(value='1'), 'Laguna Beach, Calif. ': Leaf(value='1'), 'yorkshire\\n': Leaf(value='0'), 'Otsego, MI': Leaf(value='0'), 'Phoenix, Arizona, USA': Leaf(value='1'), 'Florida Forever': Leaf(value='0'), 'Newcastle': Leaf(value='0'), 'Suginami-ku, Tokyo, Japan': Leaf(value='1'), 'PURPLE BOOTH STUDIO\\x89ã¢': Leaf(value='0'), '261 5th Avenue New York, NY ': Leaf(value='1'), 'Nova Scotia, Canada': Leaf(value='0'), '@UntmdOutdoors #T.O.R.K ': Leaf(value='0'), 'Boise, Idaho': Leaf(value='1'), 'Zeerust, South Africa': Leaf(value='0'), 'Columbia, SC': Leaf(value='1'), 'hollywoodland ': Leaf(value='0'), 'Kettering, OH': Leaf(value='0'), 'TV5, Philippines': Leaf(value='1'), 'ANDY 4 LEADER X': Leaf(value='0'), 'Eugene, Oregon': Leaf(value='1'), 'Rio': Leaf(value='0'), 'Argentina': Leaf(value='0'), 'Subconscious LA': Leaf(value='1'), 'by a piano probably. ': Leaf(value='1'), 'Buffalo NY': Leaf(value='1'), 'Chevy Chase, MD': Leaf(value='1'), '828??864??803': Leaf(value='0'), 'Greenfield, Massachusetts': Leaf(value='0'), 'Waverly, IA': Leaf(value='0'), 'University of Toronto': Leaf(value='0'), 'Medford, Oregon': Leaf(value='0'), 'Wiltshire': Leaf(value='1'), 'Anywhere Safe': Leaf(value='1'), 'Pekanbaruå¡Batam Islandå¡Medan': Leaf(value='0'), 'On the court ': Leaf(value='0'), 'dmv ?? fashion school @ KSU. ': Leaf(value='0'), 'aggressive cannoli eater ': Leaf(value='0'), '#NewcastleuponTyne #UK': Leaf(value='0'), 'Nashville': Leaf(value='1'), 'My contac 27B80F7E 08170156520': Leaf(value='0'), 'Hattiesburg, MS': Leaf(value='0'), 'Tucson, Az': Leaf(value='1'), 'Ecuador': Leaf(value='0'), 'Jerusalem, Israel': Leaf(value='1'), 'in the Word of God': Split(attribute='keyword', subtrees={'tsunami': Leaf(value='1')}, default_value='1'), 'perth, australia ': Leaf(value='0'), 'cereal aisle #17:i4': Leaf(value='1'), 'Vista, CA': Leaf(value='1'), '?????? in Yokohama Japan': Leaf(value='1'), 'Vineyard': Leaf(value='1'), 'Peterborough, Ontario, Canada': Leaf(value='1'), '?? ?+254? ? \\\\??å¡_??å¡_???å¡_?/??': Leaf(value='1'), 'Between Dire and Radiant': Leaf(value='0'), 'Purfleet': Leaf(value='1'), 'Free State, South Africa': Leaf(value='1'), 'MÌ©xico': Leaf(value='0'), ' ? ??????? ? ( ?? å¡ ? ? ? å¡)': Leaf(value='1'), 'Minna, Nigeria': Split(attribute='keyword', subtrees={'evacuation': Leaf(value='1'), 'rubble': Leaf(value='0')}, default_value='1'), 'http://twitch.tv/jcmonkey': Leaf(value='1'), 'BiÌ±an,Laguna': Leaf(value='1'), '#freegucci': Leaf(value='0'), 'have car; will travel': Leaf(value='0'), 'London, United Kingdom': Leaf(value='1'), \"Dil's Campsite\": Leaf(value='1'), 'Dutch/English/German': Leaf(value='0'), 'CA physically- Boston Strong?': Split(attribute='keyword', subtrees={'annihilation': Leaf(value='0')}, default_value='0'), 'South Pasadena, CA': Leaf(value='0'), 'Hudson Valley, NY': Leaf(value='1'), 'Rotterdam, The Netherlands': Leaf(value='0'), 'Across the Atlantic': Leaf(value='0'), '570 Vanderbilt; Brooklyn, NY': Leaf(value='0'), 'Dallas, TX ': Leaf(value='1'), 'The American Wasteland (MV)': Leaf(value='0'), 'Calgary, Alberta, Canada': Leaf(value='1'), 'Leduc, Alberta, Canada': Leaf(value='1'), 'St. Joseph, Minnesota': Leaf(value='1'), 'Chicago, Illinois': Split(attribute='keyword', subtrees={'collapse': Leaf(value='0'), 'trauma': Leaf(value='1')}, default_value='0'), 'the road to success': Leaf(value='1'), 'New Mexico, USA': Leaf(value='0'), 'Hyderabad Telangana INDIA': Leaf(value='1'), 'Uyo, Akwa Ibom State, Nigeria': Leaf(value='0'), 'Wanderlust': Leaf(value='0'), 'Madison, Wisconsin, USA': Leaf(value='1'), 'IRAQ': Leaf(value='1'), 'the Refrigerator ': Leaf(value='0'), 'ÌÏT: 43.631838,-79.55807': Leaf(value='0'), 'Insula Barataria': Leaf(value='0'), 'Catskills': Leaf(value='1'), 'NEWCASTLE': Leaf(value='0'), '[Gia.] | #KardashianEmpire': Leaf(value='0'), 'Griffin :3': Leaf(value='0'), \"Atlanta - FAU class of '18\": Leaf(value='1'), 'Irving , Texas': Leaf(value='0'), 'Chamblee, Georgia': Leaf(value='1'), 'BOSTON-LONDON': Leaf(value='0'), 'they/her': Leaf(value='0'), 'PunPunlÌ¢ndia': Leaf(value='0'), 'Jersey': Leaf(value='0'), 'Europe': Leaf(value='1'), 'Mankato, MN': Leaf(value='1'), 'midwest': Leaf(value='0'), 'Durban, South Africa': Leaf(value='0'), 'i love the smurfs 2': Leaf(value='0'), 'Lake Highlands': Leaf(value='0'), 'jeddah | Khartoum': Leaf(value='0'), 'Livingston, IL  U.S.A.': Leaf(value='1'), \"travelling to tae's pants\": Leaf(value='0'), 'amsterdayum 120615 062415': Leaf(value='0'), 'EspÌ_rito Santo': Leaf(value='0'), 'Belleville, Illinois': Leaf(value='0'), 'SOUTHERN CALIFORNIA DESERT': Leaf(value='0'), 'Deadend, UK': Leaf(value='0'), 'Chile': Leaf(value='1'), 'antioch, california': Leaf(value='0'), 'KADUNA, NIGERIA': Leaf(value='0'), 'trapped in America': Leaf(value='1'), '??? ?????????????': Leaf(value='1'), 'Las Vegas aka Hell': Leaf(value='1'), 'L. A.': Leaf(value='1'), 'Friendswood, TX': Leaf(value='0'), 'Oshawa/Toronto': Leaf(value='1'), 'å_å_Los Mina City\\x89ã¢': Leaf(value='0'), 'Winnipeg, Manitoba': Leaf(value='0'), 'Karachi, Pakistan': Leaf(value='1'), 'garowe puntland somalia': Leaf(value='1'), 'front row at a show': Leaf(value='0'), 'Wema building': Leaf(value='0'), 'Guayaquil': Leaf(value='0'), 'Roadside': Leaf(value='0'), 'Nunya': Leaf(value='0'), 'Passamaquoddy': Leaf(value='1'), 'www.twitch.tv/PKSparkxx': Leaf(value='0'), 'Land of Lincoln': Leaf(value='0'), 'Minneapolis - St. Paul': Leaf(value='1'), 'mnl': Leaf(value='0'), 'Kent': Leaf(value='0'), 'Palm Bay, FL (Kissimmee)': Leaf(value='1'), \"The Sun's Corona\": Leaf(value='0'), 'chillin at ceder rapids': Leaf(value='0'), 'Texas-USA\\x89ã¢ ?': Leaf(value='1'), 'ALWAYS DYING NEVER RESTING': Leaf(value='1'), 'Bon Temps Louisiana': Leaf(value='0'), 'gamertag: bexrayandvav ': Leaf(value='1'), 'Orm': Leaf(value='0'), 'Est. September 2012 - Bristol': Leaf(value='0'), 'Gold Coast, Qld, Australia': Leaf(value='1'), 'Black Canyon New River, AZ': Leaf(value='1'), 'Nashville, Tennessee': Leaf(value='1'), 'WORLDWI$E ': Leaf(value='0'), 'Warm Heart Of Africa': Leaf(value='0'), 'Costa Rica': Leaf(value='0'), 'di langit 7 bidadari (^,^ )': Leaf(value='1'), 'Newark, NJ': Leaf(value='0'), 'Not where I want to be, yet': Leaf(value='0'), 'Unknown ': Leaf(value='0'), 'Venezuela': Leaf(value='1'), 'alberta, canada': Leaf(value='1'), 'Birmingham, UK': Leaf(value='1'), 'Live mÌÁs': Leaf(value='0'), 'All around the world baby': Leaf(value='0'), 'buenos aires argentina': Leaf(value='0'), 'high way 99': Leaf(value='0'), 'Athens,Greece': Leaf(value='1'), 'SÌ£o Paulo SP,  Brasil': Leaf(value='1'), 'Two Up Two Down': Leaf(value='0'), 'Greater Los Angeles Bearia': Leaf(value='0'), '3000 miles from everyone': Leaf(value='0'), 'Huntsville AL': Leaf(value='1'), 'Kicking Horse Pass': Leaf(value='1'), 'MY RTs ARE NOT ENDORSEMENTS': Leaf(value='0'), 'WV, love the blue and gold': Leaf(value='1'), 'El Dorado, Arkansas': Leaf(value='1'), 'Freeport Ny': Leaf(value='0'), 'ducked off . . . ': Leaf(value='0'), 'WORLDWIDE!': Leaf(value='0'), 'Minority Privilege, USA': Leaf(value='1'), 'The Great State of Texas': Leaf(value='1'), '5-Feb': Leaf(value='1'), 'westwestwestwestwestwestwest': Leaf(value='1'), 'NY Capital District': Leaf(value='1'), 'Durham, NC': Leaf(value='0'), 'The ?? below ???': Leaf(value='1'), 'Tema,Accra': Leaf(value='1'), 'Enterprise, Alabama': Leaf(value='0'), 'Coasts of Maine & California': Leaf(value='0'), 'Some pum pum': Leaf(value='0'), 'DC': Leaf(value='1'), 'DFW, Texas': Leaf(value='1'), 'Gameday': Leaf(value='1'), 'Hawaii': Leaf(value='1'), 'London/Lagos/FL ÌÏT: 6.6200132,': Leaf(value='1'), 'Tennessee, USA': Leaf(value='1'), 'Hermosa Beach, CA': Leaf(value='0'), 'Peru': Leaf(value='0'), 'Buffalo, NY': Leaf(value='1'), 'Uppsala, Sweden': Leaf(value='0'), 'Gidi': Leaf(value='1'), 'Hawaii USA': Leaf(value='1'), 'Ab, Canada': Leaf(value='0'), 'Harlem, NY or Chocolate City': Leaf(value='0'), 'Estados Unidos': Leaf(value='1'), 'The Desert of the Real': Leaf(value='1'), 'Vilnius': Leaf(value='0'), 'Bayonne, NJ': Leaf(value='0'), 'Lethbridge, AB, Canada': Leaf(value='0'), 'at my home': Leaf(value='1'), '| CA \\x89Û¢ GA  |': Leaf(value='0'), 'St Charles, MD': Leaf(value='0'), 'Killafornia made me ': Leaf(value='1'), '(a) property of the universe': Leaf(value='0'), 'Halton, Ontario': Leaf(value='1'), 'Greensburg, PA': Leaf(value='0'), 'Brasil': Split(attribute='keyword', subtrees={'devastation': Leaf(value='1'), 'detonate': Leaf(value='0')}, default_value='1'), 'Elchilicitanierraversal ': Leaf(value='0'), 'Location': Leaf(value='1'), 'Torrance, CA': Leaf(value='0'), 'Big NorthEast Litter Box': Leaf(value='0'), 'Charlotte, North Carolina': Leaf(value='0'), 'h+l': Leaf(value='0'), 'Skyhold': Leaf(value='1'), 'Santiago,RepÌ¼blica Dominicana': Leaf(value='1'), \"in Dimitri's arms\": Leaf(value='0'), 'East Kilbride': Leaf(value='0'), 'Not Los Angeles, Not New York.': Leaf(value='1'), 'Tampa-St. Petersburg, FL': Leaf(value='1'), '05/04/2014 18:23 ?': Leaf(value='0'), 'Cornwall': Leaf(value='1'), 'London ': Leaf(value='0'), 'Jonesboro, Arkansas USA': Leaf(value='1'), 'Malang': Leaf(value='1'), 'GREENSBORO,NORTH CAROLINA': Leaf(value='1'), 'Atlanta, Georgia USA': Leaf(value='0'), 'Rapid City, Black Hills, SD': Leaf(value='1'), 'The Internetz': Leaf(value='0'), 'Kwajalein/Virginia/Dayton, OH': Leaf(value='1'), 'NJ': Leaf(value='0'), 'El Paso, Texas': Leaf(value='1'), 'FCT, Abuja ': Leaf(value='1'), 'gaffney, sc ': Leaf(value='0'), 'Albuquerque': Leaf(value='1'), 'Stratford, CT': Leaf(value='1'), 'Lubbock, Texas': Leaf(value='0'), '772 Temperance Permenence': Leaf(value='1'), 'Monterrey, MÌ©xico': Leaf(value='0'), 'instagram- Chloe_Bellx': Leaf(value='0'), 'World Wide': Leaf(value='1'), '????s ?? ????Ìø????Ì¡a': Leaf(value='1'), 'keli x': Leaf(value='0'), 'Hinton, W.Va.': Leaf(value='1'), 'ÌÏT: 40.562796,-75.488849': Leaf(value='1'), 'Las Vegas, NV ': Leaf(value='1'), 'Official Website': Leaf(value='0'), 'Your notifications': Leaf(value='0'), '??????????????': Leaf(value='1'), 'Somewhere ': Leaf(value='0'), 'Chicago, but Philly is home': Leaf(value='1'), 'Berlin - Germany': Leaf(value='1'), 'Lives in London': Leaf(value='1'), 'ARGENTINA': Leaf(value='1'), 'SaudI arabia - riyadh ': Leaf(value='0'), '#HarleyChick#PJNT#RunBenRun': Leaf(value='0'), 'IG/SC:bjfordiani': Leaf(value='0'), 'B&B near Alton Towers': Leaf(value='0'), 'Waddesdon': Leaf(value='1'), 'Leeds, U.K.': Leaf(value='0'), 'Johannesburg ': Leaf(value='0'), '2,360 miles away': Leaf(value='0'), '???? ???????': Leaf(value='1'), 'A Hoop Somewhere': Leaf(value='0'), 'Keighley, England': Leaf(value='0'), 'Gages Lake, IL': Leaf(value='1'), 'Rochester, NY': Leaf(value='0'), 'Newport, Wales, UK': Leaf(value='1'), 'Football Field': Leaf(value='1'), 'Waterloo, ON': Leaf(value='0'), '( ?å¡ ?? ?å¡), ': Leaf(value='0'), 'Gainesville, FL': Leaf(value='1'), 'ACCRA GHANA': Leaf(value='1'), 'Konoha': Leaf(value='0'), 'My mind is my world': Leaf(value='0'), \"neil's kitchen  |  32215\": Leaf(value='0'), '?? Made in the Philippines ??': Leaf(value='0'), 'Murray Hill, New Jersey': Leaf(value='0'), 'www.facebook.com/stuntfm': Leaf(value='0'), 'Arnhem, the Netherlands': Leaf(value='1'), 'Cincinnati, OH': Leaf(value='0'), 'va': Leaf(value='1'), 'Orange County, Calif.': Leaf(value='1'), 'canberra': Leaf(value='0'), 'Stockton on tees Teesside UK': Leaf(value='1'), 'nowhere': Leaf(value='0'), 'Highland Park, CA': Leaf(value='0'), 'Docker container': Leaf(value='0'), 'FIMAK A.S Ist Bolge Muduru': Leaf(value='1'), '709?': Leaf(value='0'), 'Im In Route ': Leaf(value='1'), 'Glendale, CA': Leaf(value='1'), 'Leicester, England': Leaf(value='1'), 'Roads/Trails Everywhere': Leaf(value='0'), 'Nice places ': Leaf(value='0'), 'Vermont, USA': Leaf(value='0'), 'Nebraska, Colorado & The GLOBE': Leaf(value='1'), 'NJ/NYC': Leaf(value='1'), 'Cobblestone': Leaf(value='1'), 'Pawnee': Leaf(value='0'), 'they/them': Leaf(value='0'), 'Toronto, ON, Canada': Leaf(value='0'), 'Sunshine Coast, Queensland': Leaf(value='0'), 'Oslo, Norway': Leaf(value='1'), 'Linton Hall, VA': Leaf(value='0'), 'Happily Married with 2 kids ': Leaf(value='0'), 'The Orwellion police-state': Leaf(value='0'), 'Lahti, Finland': Leaf(value='0'), 'Dhaka, Bangladsh': Leaf(value='1'), 'Caribbean': Leaf(value='1'), 'France': Leaf(value='0'), 'Adventist - Lesson Sabbath': Leaf(value='1'), 'City Of Joy': Leaf(value='1'), 'Tampa, Fl': Leaf(value='1'), 'Columbus ?? North Carolina': Leaf(value='0'), 'Leeds, United Kingdom': Leaf(value='0'), 'Varies ': Leaf(value='0'), 'Harbour Heights, FL': Leaf(value='0'), 'Africa': Leaf(value='1'), 'Glasgow, Scotland': Leaf(value='0'), 'victoria mozÌ£o ': Leaf(value='0'), 'London, Kent & SE England.': Leaf(value='0'), 'Viejo': Leaf(value='0'), 'Nigeria, Global': Leaf(value='1'), 'Gloucester': Leaf(value='0'), 'Littleton, CO, USA': Leaf(value='0'), 'Lima, PerÌ¼': Leaf(value='0'), 'Warri': Leaf(value='1'), 'Blackpool': Leaf(value='1'), 'The World': Leaf(value='1'), 'Houston, Texas': Leaf(value='1'), 'Pomfret/Providence': Leaf(value='0'), 'sitting on the fence, New York': Leaf(value='0'), 'Wood Buffalo, Alberta': Leaf(value='0'), 'Sochi, KDA, RU': Leaf(value='0'), 'Positive 852': Leaf(value='0'), '#937??#734': Leaf(value='0'), 'Above the snake line - #YoNews': Leaf(value='1'), 'Houston |??| Corsicana': Leaf(value='0'), 'Stanford University': Leaf(value='0'), 'England & Wales Border, UK': Leaf(value='0'), \"You're not 19 forever   \": Leaf(value='0'), 'somewhere in Indiana ': Leaf(value='0'), 'Pompano Beach, FL': Leaf(value='0'), 'Penn Hills, PA': Leaf(value='0'), 'Selangor': Leaf(value='1'), 'Pittsburgh ': Leaf(value='0'), 'Own planet!!': Leaf(value='1'), 'Where ever i please': Leaf(value='0'), 'Hartford  London Hong Kong': Leaf(value='0'), 'Warrandyte, Australia': Leaf(value='1'), 'Inside your mind.': Leaf(value='0'), 'Photo : Blue Mountains ': Leaf(value='0'), 'PS4, now stop asking': Leaf(value='0'), 'Aix-en-Provence/Utrecht': Leaf(value='0'), 'South 37': Leaf(value='1'), 'Winnipeg': Leaf(value='0'), 'Avon, OH': Leaf(value='1'), 'All around the world': Leaf(value='0'), '#partsunknown': Leaf(value='1'), 'Charlotte, NC | KÌ¦ln, NRW': Leaf(value='1'), 'Karolinska vÌ_gen 18, Solna': Leaf(value='1'), 'The Pig Sty': Leaf(value='1'), 'In #Fairie, where else? ;-)': Leaf(value='0'), 'Contoocook Valley Region of Ne': Leaf(value='0'), 'Silver Spring, MD': Leaf(value='0'), 'Did anybody see me here ??': Leaf(value='1'), 'Earthling (For now!)': Leaf(value='1'), 'Slatina,Romania': Leaf(value='0'), 'www.tmgcgart.com': Leaf(value='0'), '[marvel\\x89Û¢dragon age\\x89Û¢wicdiv]': Leaf(value='0'), 'Land Of The Kings': Leaf(value='0'), 'wherever-the-fuck washington': Leaf(value='1'), 'ngapain?': Leaf(value='1'), 'FOLLOWS YOU everywhere you go': Leaf(value='1'), 'BROKE NIGGAS DREAM!!': Leaf(value='0'), 'Bangalore City, India': Leaf(value='1'), 'Northampton, MA': Leaf(value='0'), 'Palma, Islas Baleares': Leaf(value='1'), 'Based out of Portland, Oregon': Leaf(value='0'), '#BlackLivesMatter': Leaf(value='1'), 'LITTLETON, CO, USA, TERRAN': Leaf(value='0'), '{GoT | Modern AU | Lizz}': Leaf(value='0'), 'peshawar pakistan ': Leaf(value='0'), 'instagram: bribriony': Leaf(value='0'), 'Traverse City, MI': Leaf(value='1'), '52.479722, 62.184971': Leaf(value='0'), 'probably petting an animal': Leaf(value='0'), 'PG County, MD': Leaf(value='0'), 'Queen Creek AZ': Leaf(value='0'), \"i'm a Citizen of the World\": Leaf(value='1'), 'Click the link below, okay ': Leaf(value='0'), 'Mogadishu, Somalia': Leaf(value='1'), 'seattle wa': Leaf(value='0'), 'Vero Beach , FL': Leaf(value='0'), 'Nottingham': Leaf(value='0'), 'NYHC': Leaf(value='1'), 'Mariveles, Bataan': Leaf(value='1'), 'Palm Desert, CA': Leaf(value='0'), \"IUPUI '19\": Leaf(value='0'), 'Ontario Canada': Leaf(value='0'), 'å_: ?? ÌÑ ? : ?': Leaf(value='0'), '??? ??? ????? ??? ???.': Leaf(value='1'), 'Santa Clara, CA': Leaf(value='1'), 'Haiku, Maui, Hawaii': Leaf(value='1'), 'taco bell': Leaf(value='1'), 'Level 3 Garrison, Sector G': Leaf(value='0'), 'Montgomery, AL': Leaf(value='1'), 'Peshawar': Leaf(value='0'), 'Global Edition': Leaf(value='1'), 'The P (South Philly)': Leaf(value='1'), 'ilford': Leaf(value='0'), 'Greenwich Meridian': Leaf(value='1'), 'M!$$!$$!PP!': Leaf(value='1'), 'Visit our  dedicated website @': Leaf(value='1'), 'Mumbai, India': Leaf(value='0'), 'Baton Rouge': Leaf(value='0'), 'Detroit, Michigan': Leaf(value='0'), 'Everett, WA': Leaf(value='0'), 'Austin | San Diego': Leaf(value='0'), 'England,UK,Europe,Sol 3.': Leaf(value='0'), 'Escondido, CA': Leaf(value='0'), 'NIFC': Leaf(value='1'), 'Hampshire, UK': Leaf(value='1'), 'Savage States of America': Leaf(value='1'), 'california | oregon | peru |': Leaf(value='0'), ' New Delhi ': Leaf(value='0'), 'Hampton Roads, VA': Leaf(value='0'), 'Aberdeenshire': Leaf(value='0'), 'Rochester': Leaf(value='0'), 'Western New York': Leaf(value='1'), 'Lowell, MA': Leaf(value='0'), 'Pennsylvania, PA': Leaf(value='0'), 'LiÌ¬ge': Leaf(value='0'), 'nj': Leaf(value='1'), 'RSN: Tru': Leaf(value='0'), 'japon': Leaf(value='0'), 'Lansing, Michigan': Leaf(value='0'), 'Wrex': Leaf(value='0')}, default_value='0')\n"
          ]
        }
      ]
    },
    {
      "cell_type": "markdown",
      "source": [
        "## Accuracy of Tree"
      ],
      "metadata": {
        "id": "KYOXMOUHkgQe"
      }
    },
    {
      "cell_type": "code",
      "source": [
        "def accuracy(decision_tree,tweets):\n",
        "  correct = 0\n",
        "  incorrect = 0\n",
        "  for tweet in tweets:\n",
        "    predictedOutput(decision_tree,tweet)\n",
        "    if value== tweet.target:\n",
        "      correct+=1\n",
        "    else:\n",
        "      incorrect+=1\n",
        "  #print(\"Correct: \", correct)\n",
        "  #print(\"Incorrect: \", incorrect)\n",
        "\n",
        "  accuracy = correct/(correct+incorrect)\n",
        "  #print(\"Accuracy: \", accuracy)\n",
        "  return accuracy\n",
        "\n",
        "\n",
        "def predictedOutput(decision_tree,tweet):\n",
        "  ''' will use the decision_tree to predict if tweet is valid or not\n",
        "      changes the global variable value to 1 for valid and 0 for invalid\n",
        "  '''\n",
        "  global value\n",
        "  tree= decision_tree\n",
        "  attribute = tree[0]\n",
        "  tweet_val = None\n",
        "  if attribute == 'location':\n",
        "    tweet_val = tweet.location\n",
        "  if attribute == 'keyword':\n",
        "    tweet_val = tweet.keyword\n",
        "  try:\n",
        "    tree = tree[1][tweet_val]\n",
        "    if isinstance(tree,Leaf):\n",
        "        value = tree.value\n",
        "    else:\n",
        "      predictedOutput(tree,tweet)\n",
        "  except:\n",
        "    value = tree[2]"
      ],
      "metadata": {
        "id": "8cmwiNChd09V"
      },
      "execution_count": 482,
      "outputs": []
    },
    {
      "cell_type": "code",
      "source": [
        "accuracy(decision_tree,tweets)\n",
        "#predictedOutput(decision_tree,tweets[0])"
      ],
      "metadata": {
        "colab": {
          "base_uri": "https://localhost:8080/"
        },
        "id": "KQ81UTqSpb_I",
        "outputId": "d58393e4-79f6-4536-938f-8099d79bee2f"
      },
      "execution_count": 483,
      "outputs": [
        {
          "output_type": "execute_result",
          "data": {
            "text/plain": [
              "0.9218"
            ]
          },
          "metadata": {},
          "execution_count": 483
        }
      ]
    },
    {
      "cell_type": "markdown",
      "source": [
        "## Test Dataset Accuracy"
      ],
      "metadata": {
        "id": "wKVM3KTDkpyT"
      }
    },
    {
      "cell_type": "code",
      "source": [
        "test_tweets = []\n",
        "for tweet in test_data:\n",
        "  test_tweets.append(Tweet(tweet[1],tweet[2],tweet[4]))\n",
        "\n",
        "print(len(test_data))\n",
        "print(len(test_tweets))"
      ],
      "metadata": {
        "colab": {
          "base_uri": "https://localhost:8080/"
        },
        "id": "vD4_exIWm7dp",
        "outputId": "ddd8c7f6-7477-4f40-f222-f7dd66b764fa"
      },
      "execution_count": 463,
      "outputs": [
        {
          "output_type": "stream",
          "name": "stdout",
          "text": [
            "2613\n",
            "2613\n"
          ]
        }
      ]
    },
    {
      "cell_type": "code",
      "source": [
        "accuracy(decision_tree,test_tweets)"
      ],
      "metadata": {
        "colab": {
          "base_uri": "https://localhost:8080/"
        },
        "id": "-E2kh6tlm1gi",
        "outputId": "68d66a29-4e21-4816-8037-a5a01c0c2399"
      },
      "execution_count": 484,
      "outputs": [
        {
          "output_type": "execute_result",
          "data": {
            "text/plain": [
              "0.8143895905089935"
            ]
          },
          "metadata": {},
          "execution_count": 484
        }
      ]
    },
    {
      "cell_type": "markdown",
      "source": [
        "## Functions to Use to Build Trees "
      ],
      "metadata": {
        "id": "kVVNPZ-sD7n3"
      }
    },
    {
      "cell_type": "markdown",
      "source": [
        "\n",
        "\n",
        "*   tree(train_data,test_data) -> returns a decision tree\n",
        "*   predictedOutput(tree,tweet) -> changes the global variable value to 1 if valid and 0 if not valid\n",
        "*   decision_tree_accuracies(tree,train_tweets,test_tweets) -> returns the train and test accuracies as a tuple (train_accuracy,test_accuracy)\n"
      ],
      "metadata": {
        "id": "pvPt757vFRyk"
      }
    },
    {
      "cell_type": "code",
      "source": [
        "def tree(train_data,test_data):\n",
        "  global train_tweets\n",
        "  global test_tweets\n",
        "  train_tweets = []\n",
        "  test_tweets = []\n",
        "\n",
        "  for tweet in train_data:\n",
        "    train_tweets.append(Tweet(tweet[1],tweet[2],tweet[4]))\n",
        "\n",
        "  for tweet in test_data:\n",
        "    test_tweets.append(Tweet(tweet[1],tweet[2],tweet[4]))\n",
        "\n",
        "  return build_tree_id3(train_tweets,['keyword','location'],'target')"
      ],
      "metadata": {
        "id": "NRkVcDFtEFYW"
      },
      "execution_count": 496,
      "outputs": []
    },
    {
      "cell_type": "code",
      "source": [
        "tree = tree(train_data,test_data)\n",
        "\n",
        "predictedOutput(tree,tweets[100])\n",
        "print(\"Predicted Value: \",value)\n",
        "print(\"Actual Value: \", tweets[40].target)\n",
        "\n",
        "predictedOutput(tree,tweets[40])\n",
        "print(\"Predicted Value: \",value)\n",
        "print(\"Actual Value: \", tweets[40].target)"
      ],
      "metadata": {
        "colab": {
          "base_uri": "https://localhost:8080/"
        },
        "id": "pn-duNfhCFwM",
        "outputId": "7649a634-3035-421d-b0dd-7ab822a1df6f"
      },
      "execution_count": 497,
      "outputs": [
        {
          "output_type": "stream",
          "name": "stdout",
          "text": [
            "Predicted Value:  0\n",
            "Actual Value:  1\n",
            "Predicted Value:  1\n",
            "Actual Value:  1\n"
          ]
        }
      ]
    },
    {
      "cell_type": "code",
      "source": [
        "def decision_tree_accuracies(tree,train_tweets,test_tweets):\n",
        "\n",
        "\n",
        "  one = accuracy(tree,train_tweets)\n",
        "  two = accuracy(decision_tree,test_tweets)\n",
        "\n",
        "  return(one,two)\n"
      ],
      "metadata": {
        "id": "9Ikri9xF8yUb"
      },
      "execution_count": 498,
      "outputs": []
    },
    {
      "cell_type": "code",
      "source": [
        "train_acc,test_acc = (decision_tree_accuracies(tree,train_tweets,test_tweets))\n",
        "print(\"train acc:\",train_acc)\n",
        "print(\"test acc:\",test_acc)"
      ],
      "metadata": {
        "colab": {
          "base_uri": "https://localhost:8080/"
        },
        "id": "S9td04GmG9vS",
        "outputId": "93421b6d-6d95-488d-b12a-eec173933a39"
      },
      "execution_count": 499,
      "outputs": [
        {
          "output_type": "stream",
          "name": "stdout",
          "text": [
            "train acc: 0.918\n",
            "test acc: 0.8396479142747799\n"
          ]
        }
      ]
    },
    {
      "cell_type": "markdown",
      "source": [
        "# Random Forests"
      ],
      "metadata": {
        "id": "-Ph21W8syGLn"
      }
    },
    {
      "cell_type": "markdown",
      "source": [
        "## Shuffle and Split Data"
      ],
      "metadata": {
        "id": "9ugk1vcA674h"
      }
    },
    {
      "cell_type": "markdown",
      "source": [
        "https://jax.readthedocs.io/en/latest/_autosummary/jax.random.shuffle.html"
      ],
      "metadata": {
        "id": "kFbHn-C523ii"
      }
    },
    {
      "cell_type": "code",
      "source": [
        "def shuffle(array):\n",
        "  array = np.random.permutation(array)\n",
        "  return array\n",
        "\n",
        "def split_data(data):\n",
        "  global test_data, train_data\n",
        "  test_data = data[5000:]\n",
        "  train_data = data[:5000]\n",
        "\n",
        "def shuffle_and_split(data):\n",
        "  data = shuffle(data)\n",
        "  split_data(data)\n",
        "  \n",
        "shuffle_and_split(data)"
      ],
      "metadata": {
        "id": "I7MMoM-XlkZq"
      },
      "execution_count": 494,
      "outputs": []
    }
  ]
}