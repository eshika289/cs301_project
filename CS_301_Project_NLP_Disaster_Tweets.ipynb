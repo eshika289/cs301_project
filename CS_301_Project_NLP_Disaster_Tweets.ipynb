{
  "nbformat": 4,
  "nbformat_minor": 0,
  "metadata": {
    "colab": {
      "name": "CS 301 Project - NLP - Disaster Tweets",
      "provenance": [],
      "collapsed_sections": [
        "3MZjlumnpEKm",
        "5OEH3tR8n8XD",
        "1HvJN22spr7-",
        "Cy0KgSe5RpG6",
        "rprC79OSSf1z",
        "fZ3W-fBNRr1Y",
        "ry0ePKYhC4rJ",
        "W3fXWREwC77E",
        "n3Bw3pi6Gc_q",
        "Ws-LiX-KoDGj",
        "2XF3bK3AW-BS",
        "GHEcwKh6yAes",
        "smAoYiMPyB-N",
        "Lf8CA4ZozCcF",
        "-rArfTFo2I7Y",
        "vgNrFYDM1vVr",
        "-na0Idv44SQO",
        "-sWStJ_P9_lf",
        "KYOXMOUHkgQe",
        "FviOkhgBezz1",
        "9Y02ER-oYe1p",
        "q1P20iBPYWEW",
        "pSohROx4Qidk",
        "Ig7qo6iLXUyi",
        "-Ph21W8syGLn",
        "_TArmTguec1K",
        "YJu2vB__BfS7",
        "BNGPt3beCG72",
        "DmmemiJdehRk"
      ],
      "toc_visible": true,
      "include_colab_link": true
    },
    "kernelspec": {
      "name": "python3",
      "display_name": "Python 3"
    },
    "language_info": {
      "name": "python"
    }
  },
  "cells": [
    {
      "cell_type": "markdown",
      "metadata": {
        "id": "view-in-github",
        "colab_type": "text"
      },
      "source": [
        "<a href=\"https://colab.research.google.com/github/eshika289/cs301_project/blob/main/CS_301_Project_NLP_Disaster_Tweets.ipynb\" target=\"_parent\"><img src=\"https://colab.research.google.com/assets/colab-badge.svg\" alt=\"Open In Colab\"/></a>"
      ]
    },
    {
      "cell_type": "markdown",
      "source": [
        "# Import Statements"
      ],
      "metadata": {
        "id": "3MZjlumnpEKm"
      }
    },
    {
      "cell_type": "code",
      "source": [
        "import jax.numpy as jnp\n",
        "from jax import grad, jit, vmap\n",
        "from jax import random\n",
        "import jax"
      ],
      "metadata": {
        "id": "APL0P06erOf-"
      },
      "execution_count": null,
      "outputs": []
    },
    {
      "cell_type": "markdown",
      "source": [
        "https://jax.readthedocs.io/en/latest/notebooks/quickstart.html"
      ],
      "metadata": {
        "id": "aHrLY07ZwuRq"
      }
    },
    {
      "cell_type": "code",
      "source": [
        "import os, shutil\n",
        "import csv\n",
        "import re\n",
        "import string\n",
        "import math\n",
        "import random\n",
        "import numpy as np\n",
        "import pandas as pd \n",
        "import itertools\n",
        "import re\n",
        "from sklearn.model_selection import train_test_split\n",
        "from sklearn.feature_extraction.text import TfidfVectorizer\n",
        "from sklearn.ensemble import RandomForestClassifier\n",
        "from sklearn.metrics import precision_score, recall_score\n",
        "from collections import Counter\n",
        "from collections import defaultdict\n",
        "from matplotlib import pyplot as plt"
      ],
      "metadata": {
        "id": "XeGKCQKjxAD9"
      },
      "execution_count": null,
      "outputs": []
    },
    {
      "cell_type": "code",
      "source": [
        "from typing import List, Union\n",
        "from typing import Any\n",
        "from typing import Dict\n",
        "from typing import TypeVar\n",
        "from typing import NamedTuple, Optional"
      ],
      "metadata": {
        "id": "U4NCEisb0m2T"
      },
      "execution_count": null,
      "outputs": []
    },
    {
      "cell_type": "code",
      "source": [
        "import nltk\n",
        "nltk.download('stopwords')\n",
        "nltk.download('wordnet')\n",
        "nltk.download('punkt')\n",
        "from nltk.corpus import stopwords\n",
        "from nltk.corpus import wordnet as wn"
      ],
      "metadata": {
        "colab": {
          "base_uri": "https://localhost:8080/"
        },
        "id": "42_ZfksrqZ9F",
        "outputId": "b03c2cba-9688-458d-9acf-7e5576a72a69"
      },
      "execution_count": null,
      "outputs": [
        {
          "output_type": "stream",
          "name": "stdout",
          "text": [
            "[nltk_data] Downloading package stopwords to /root/nltk_data...\n",
            "[nltk_data]   Package stopwords is already up-to-date!\n",
            "[nltk_data] Downloading package wordnet to /root/nltk_data...\n",
            "[nltk_data]   Package wordnet is already up-to-date!\n",
            "[nltk_data] Downloading package punkt to /root/nltk_data...\n",
            "[nltk_data]   Package punkt is already up-to-date!\n"
          ]
        }
      ]
    },
    {
      "cell_type": "markdown",
      "source": [
        "# Get Data From Kaggle"
      ],
      "metadata": {
        "id": "5OEH3tR8n8XD"
      }
    },
    {
      "cell_type": "markdown",
      "source": [
        "Get kaggle.json file from kaggle and upload it to the content folder"
      ],
      "metadata": {
        "id": "ptMx-wYPrgqr"
      }
    },
    {
      "cell_type": "code",
      "source": [
        "!pwd # /content"
      ],
      "metadata": {
        "colab": {
          "base_uri": "https://localhost:8080/"
        },
        "id": "Ak2cGh9prm06",
        "outputId": "841cb310-3555-4f92-b250-cb10a63a298a"
      },
      "execution_count": null,
      "outputs": [
        {
          "output_type": "stream",
          "name": "stdout",
          "text": [
            "/content\n"
          ]
        }
      ]
    },
    {
      "cell_type": "code",
      "source": [
        "!mkdir /root/.kaggle\n",
        "!mkdir kaggle"
      ],
      "metadata": {
        "id": "03d8Hklgrpxi",
        "colab": {
          "base_uri": "https://localhost:8080/"
        },
        "outputId": "1a588178-93c3-4dab-cc99-e7e41af29d3c"
      },
      "execution_count": null,
      "outputs": [
        {
          "output_type": "stream",
          "name": "stdout",
          "text": [
            "mkdir: cannot create directory ‘/root/.kaggle’: File exists\n",
            "mkdir: cannot create directory ‘kaggle’: File exists\n"
          ]
        }
      ]
    },
    {
      "cell_type": "code",
      "source": [
        "!mv ./kaggle.json /root/.kaggle/kaggle.json\n",
        "#!cat /root/.kaggle/kaggle.json"
      ],
      "metadata": {
        "id": "z51VyhCursMW",
        "colab": {
          "base_uri": "https://localhost:8080/"
        },
        "outputId": "fa4faac8-f414-4e6d-aa4c-fe80e690eeb0"
      },
      "execution_count": null,
      "outputs": [
        {
          "output_type": "stream",
          "name": "stdout",
          "text": [
            "mv: cannot stat './kaggle.json': No such file or directory\n"
          ]
        }
      ]
    },
    {
      "cell_type": "code",
      "source": [
        "#!pip install kaggle\n",
        "!kaggle -v"
      ],
      "metadata": {
        "id": "y1g6tHWXslah",
        "colab": {
          "base_uri": "https://localhost:8080/"
        },
        "outputId": "5a9eabe8-695c-4333-96c7-51d73640bdc6"
      },
      "execution_count": null,
      "outputs": [
        {
          "output_type": "stream",
          "name": "stdout",
          "text": [
            "Kaggle API 1.5.12\n"
          ]
        }
      ]
    },
    {
      "cell_type": "code",
      "source": [
        "!chmod 600 /root/.kaggle/kaggle.json"
      ],
      "metadata": {
        "id": "KuQSB3IGsr7p"
      },
      "execution_count": null,
      "outputs": []
    },
    {
      "cell_type": "code",
      "source": [
        "!kaggle competitions files -c nlp-getting-started"
      ],
      "metadata": {
        "colab": {
          "base_uri": "https://localhost:8080/"
        },
        "id": "fCqsnXy_tE3M",
        "outputId": "3935fed9-678a-4cfa-df4f-d24fc668f0be"
      },
      "execution_count": null,
      "outputs": [
        {
          "output_type": "stream",
          "name": "stdout",
          "text": [
            "name                    size  creationDate         \n",
            "---------------------  -----  -------------------  \n",
            "test.csv               411KB  2019-12-16 20:36:20  \n",
            "sample_submission.csv   22KB  2019-12-16 20:36:20  \n",
            "train.csv              965KB  2019-12-16 20:36:20  \n"
          ]
        }
      ]
    },
    {
      "cell_type": "code",
      "source": [
        "!kaggle competitions download -c nlp-getting-started -p /content/kaggle/"
      ],
      "metadata": {
        "colab": {
          "base_uri": "https://localhost:8080/"
        },
        "id": "f43IO7CTsxjK",
        "outputId": "ee6bd5fb-31cf-495b-c013-2748bba4d1fa"
      },
      "execution_count": null,
      "outputs": [
        {
          "output_type": "stream",
          "name": "stdout",
          "text": [
            "nlp-getting-started.zip: Skipping, found more recently modified local copy (use --force to force download)\n"
          ]
        }
      ]
    },
    {
      "cell_type": "code",
      "source": [
        "!unzip -q /content/kaggle/nlp-getting-started.zip -d /content/kaggle/data"
      ],
      "metadata": {
        "id": "V3ET8MSetuk2",
        "colab": {
          "base_uri": "https://localhost:8080/"
        },
        "outputId": "da01e398-03ae-4639-f38a-967b93403964"
      },
      "execution_count": null,
      "outputs": [
        {
          "output_type": "stream",
          "name": "stdout",
          "text": [
            "replace /content/kaggle/data/sample_submission.csv? [y]es, [n]o, [A]ll, [N]one, [r]ename: n\n",
            "replace /content/kaggle/data/test.csv? [y]es, [n]o, [A]ll, [N]one, [r]ename: n\n",
            "replace /content/kaggle/data/train.csv? [y]es, [n]o, [A]ll, [N]one, [r]ename: n\n"
          ]
        }
      ]
    },
    {
      "cell_type": "code",
      "source": [
        "data_path = \"kaggle/data/train.csv\"\n",
        "data_file = open(data_path)\n",
        "read_file = csv.reader(data_file)\n",
        "headers = []\n",
        "headers = next(read_file)\n",
        "data = []\n",
        "for row in read_file:\n",
        "  data.append(row)"
      ],
      "metadata": {
        "id": "3FBaTgM2mrRK"
      },
      "execution_count": null,
      "outputs": []
    },
    {
      "cell_type": "code",
      "source": [
        "print(headers) # ['id', 'keyword', 'location', 'text', 'target']\n",
        "print(data[0])\n",
        "print(len(data))"
      ],
      "metadata": {
        "colab": {
          "base_uri": "https://localhost:8080/"
        },
        "id": "3IEM4-mmxxMX",
        "outputId": "5f6602d0-8054-4e43-ed36-796207b5f061"
      },
      "execution_count": null,
      "outputs": [
        {
          "output_type": "stream",
          "name": "stdout",
          "text": [
            "['id', 'keyword', 'location', 'text', 'target']\n",
            "['1', '', '', 'Our Deeds are the Reason of this #earthquake May ALLAH Forgive us all', '1']\n",
            "7613\n"
          ]
        }
      ]
    },
    {
      "cell_type": "code",
      "source": [
        "def shuffle(array):\n",
        "  array = np.random.permutation(array)\n",
        "  return array\n",
        "\n",
        "def split_data(data):\n",
        "  global test_data, train_data\n",
        "  test_data = data[5000:]\n",
        "  train_data = data[:5000]\n",
        "\n",
        "def shuffle_and_split(data):\n",
        "  data = shuffle(data)\n",
        "  split_data(data)\n",
        "  \n",
        "shuffle_and_split(data)"
      ],
      "metadata": {
        "id": "lAls_o5m6WEO"
      },
      "execution_count": null,
      "outputs": []
    },
    {
      "cell_type": "markdown",
      "source": [
        "# Extract Features"
      ],
      "metadata": {
        "id": "1HvJN22spr7-"
      }
    },
    {
      "cell_type": "markdown",
      "source": [
        "## Link as Feature"
      ],
      "metadata": {
        "id": "Cy0KgSe5RpG6"
      }
    },
    {
      "cell_type": "code",
      "source": [
        "true = 0\n",
        "false = 0\n",
        "for item in data:\n",
        "  link = False\n",
        "  if 'http' in item[3]:\n",
        "    link = True\n",
        "    true+=1\n",
        "  else:\n",
        "    false+=1\n",
        "  item.insert(4,link)\n",
        "headers.insert(4,'link')\n",
        "\n",
        "print(\"Number of Tweets with Links: \" + str(true))\n",
        "print(\"Number of Tweets without Links: \" + str(false))"
      ],
      "metadata": {
        "colab": {
          "base_uri": "https://localhost:8080/"
        },
        "id": "fxoHeQewukVe",
        "outputId": "b164d5f1-948c-4498-84b4-193a63ec79dc"
      },
      "execution_count": null,
      "outputs": [
        {
          "output_type": "stream",
          "name": "stdout",
          "text": [
            "Number of Tweets with Links: 3971\n",
            "Number of Tweets without Links: 3642\n"
          ]
        }
      ]
    },
    {
      "cell_type": "code",
      "source": [
        "plt.bar(['Link','No Link'], [true,false])\n",
        "plt.title(\"Distribution of Tweets With Links\")\n",
        "plt.xlabel(\"Has Link\")\n",
        "plt.ylabel(\"Number of Tweets\")\n",
        "plt.show()"
      ],
      "metadata": {
        "colab": {
          "base_uri": "https://localhost:8080/"
        },
        "id": "oF4TQ1Z3_qZX",
        "outputId": "96ba7bf2-4994-456e-8b47-d2a20e184519"
      },
      "execution_count": null,
      "outputs": [
        {
          "output_type": "display_data",
          "data": {
            "text/plain": [
              "<Figure size 432x288 with 1 Axes>"
            ],
            "image/png": "[encoded data removed]"
          },
          "metadata": {
            "needs_background": "light"
          }
        }
      ]
    },
    {
      "cell_type": "markdown",
      "source": [
        "## Hashtags as Feature"
      ],
      "metadata": {
        "id": "rprC79OSSf1z"
      }
    },
    {
      "cell_type": "code",
      "source": [
        "hashtag_nums = []\n",
        "for item in data:\n",
        "  hashtag = item[3].count('#')\n",
        "  item.insert(5,hashtag)\n",
        "  hashtag_nums.append(hashtag)\n",
        "headers.insert(5,'num_hashtags')"
      ],
      "metadata": {
        "id": "FawgiWKiw3i2"
      },
      "execution_count": null,
      "outputs": []
    },
    {
      "cell_type": "code",
      "source": [
        "plt.hist(hashtag_nums)\n",
        "plt.title(\"Distribution of Number of Hashtags in Tweets\")\n",
        "plt.xlabel(\"Number of Hashtags in Tweet\")\n",
        "plt.ylabel(\"Number of Tweets\")\n",
        "plt.show()\n",
        "\n",
        "print()\n",
        "\n",
        "plt.hist([i for i in hashtag_nums if i != 0])\n",
        "plt.title(\"Distribution of Number of Hashtags in Tweets (Excluding 0)\")\n",
        "plt.xlabel(\"Number of Hashtags in Tweet\")\n",
        "plt.ylabel(\"Number of Tweets\")\n",
        "plt.show()"
      ],
      "metadata": {
        "colab": {
          "base_uri": "https://localhost:8080/"
        },
        "id": "fA0b-UGI9Etu",
        "outputId": "f37548f9-75a5-4135-b285-2c54368dc869"
      },
      "execution_count": null,
      "outputs": [
        {
          "output_type": "display_data",
          "data": {
            "text/plain": [
              "<Figure size 432x288 with 1 Axes>"
            ],
            "image/png": "[encoded data removed]"
          },
          "metadata": {
            "needs_background": "light"
          }
        },
        {
          "output_type": "stream",
          "name": "stdout",
          "text": [
            "\n"
          ]
        },
        {
          "output_type": "display_data",
          "data": {
            "text/plain": [
              "<Figure size 432x288 with 1 Axes>"
            ],
            "image/png": "[encoded data removed]"
          },
          "metadata": {
            "needs_background": "light"
          }
        }
      ]
    },
    {
      "cell_type": "markdown",
      "source": [
        "## Number of Words & Characters Per Word"
      ],
      "metadata": {
        "id": "fZ3W-fBNRr1Y"
      }
    },
    {
      "cell_type": "markdown",
      "source": [
        "- num words\n",
        "- num chars\n",
        "- avg chars per word"
      ],
      "metadata": {
        "id": "TUTINg3sR5B2"
      }
    },
    {
      "cell_type": "markdown",
      "source": [
        "### Num Words"
      ],
      "metadata": {
        "id": "ry0ePKYhC4rJ"
      }
    },
    {
      "cell_type": "code",
      "source": [
        "word_counts=[]\n",
        "for item in data:\n",
        "  words = len(item[3].split())\n",
        "  w = 'other'\n",
        "  if words in (1,2,3,4,5):\n",
        "    w = '1-5'\n",
        "  elif words in (6,7,8,9,10):\n",
        "    w = '6-10'\n",
        "  elif words in (11,12,13,14,15):\n",
        "    w = '11-15'\n",
        "  elif words in (16,17,18,19,20):\n",
        "    w = '16-20'\n",
        "  elif words in (21,22,23,24,25):\n",
        "    w = '21-25'\n",
        "  elif words in (26,27,28,29,30):\n",
        "    w = '26-30'\n",
        "  word_counts.append(words)\n",
        "  item.insert(6,w)\n",
        "headers.insert(6,'word_count')\n",
        "print(data[100])"
      ],
      "metadata": {
        "colab": {
          "base_uri": "https://localhost:8080/"
        },
        "id": "Em1HusJ-z-tD",
        "outputId": "5024aa16-313d-4424-ad2e-07153d005462"
      },
      "execution_count": null,
      "outputs": [
        {
          "output_type": "stream",
          "name": "stdout",
          "text": [
            "['144', 'accident', 'UK', '.@NorwayMFA #Bahrain police had previously died in a road accident they were not killed by explosion https://t.co/gFJfgTodad', True, 1, '16-20', '1']\n"
          ]
        }
      ]
    },
    {
      "cell_type": "code",
      "source": [
        "plt.hist(word_counts)\n",
        "plt.title(\"Distribution of Number of Words in Tweets\")\n",
        "plt.xlabel(\"Number of Words in Tweet\")\n",
        "plt.ylabel(\"Number of Tweets\")\n",
        "plt.show()"
      ],
      "metadata": {
        "colab": {
          "base_uri": "https://localhost:8080/"
        },
        "id": "hqcJOw8B1mVb",
        "outputId": "27fb125d-f7c6-4807-efc8-91c7850fa254"
      },
      "execution_count": null,
      "outputs": [
        {
          "output_type": "display_data",
          "data": {
            "text/plain": [
              "<Figure size 432x288 with 1 Axes>"
            ],
            "image/png": "[encoded data removed]"
          },
          "metadata": {
            "needs_background": "light"
          }
        }
      ]
    },
    {
      "cell_type": "markdown",
      "source": [
        "### Num Chars"
      ],
      "metadata": {
        "id": "W3fXWREwC77E"
      }
    },
    {
      "cell_type": "code",
      "source": [
        "char_counts=[]\n",
        "for item in data:\n",
        "  chars = len(item[3])\n",
        "  char_counts.append(chars)\n",
        "  w = 'other'\n",
        "  if chars in [x for x in range(1,21)]:\n",
        "    w = '1-20'\n",
        "  elif chars in [x for x in range(21,41)]:\n",
        "    w = '21-40'\n",
        "  elif chars in [x for x in range(41,61)]:\n",
        "    w = '41-60'\n",
        "  elif chars in [x for x in range(61,81)]:\n",
        "    w = '61-80'\n",
        "  elif chars in [x for x in range(81,101)]:\n",
        "    w = '81-100'\n",
        "  elif chars in [x for x in range(101,121)]:\n",
        "    w = '101-120'\n",
        "  elif chars in [x for x in range(121,141)]:\n",
        "    w = '121-140'\n",
        "  elif chars in [x for x in range(141,161)]:\n",
        "    w = '141-160'\n",
        "  item.insert(7,w)\n",
        "headers.insert(7,'char_count')\n",
        "print(data[100])"
      ],
      "metadata": {
        "colab": {
          "base_uri": "https://localhost:8080/"
        },
        "id": "gWOeVuvuC2ip",
        "outputId": "4b6b4c97-2ad9-4072-df35-7477ca3ce4aa"
      },
      "execution_count": null,
      "outputs": [
        {
          "output_type": "stream",
          "name": "stdout",
          "text": [
            "['144', 'accident', 'UK', '.@NorwayMFA #Bahrain police had previously died in a road accident they were not killed by explosion https://t.co/gFJfgTodad', True, 1, '16-20', '121-140', '1']\n"
          ]
        }
      ]
    },
    {
      "cell_type": "code",
      "source": [
        "plt.hist(char_counts)\n",
        "plt.title(\"Distribution of Number of Characters in Tweets\")\n",
        "plt.xlabel(\"Number of Characters in Tweet\")\n",
        "plt.ylabel(\"Number of Tweets\")\n",
        "plt.show()"
      ],
      "metadata": {
        "colab": {
          "base_uri": "https://localhost:8080/"
        },
        "id": "OHlTwYqSDiyK",
        "outputId": "da3e3c95-b740-4475-901b-468aaf73cceb"
      },
      "execution_count": null,
      "outputs": [
        {
          "output_type": "display_data",
          "data": {
            "text/plain": [
              "<Figure size 432x288 with 1 Axes>"
            ],
            "image/png": "[encoded data removed]"
          },
          "metadata": {
            "needs_background": "light"
          }
        }
      ]
    },
    {
      "cell_type": "markdown",
      "source": [
        "### Avg Chars Per Word"
      ],
      "metadata": {
        "id": "n3Bw3pi6Gc_q"
      }
    },
    {
      "cell_type": "code",
      "source": [
        "avgs = []\n",
        "for item in data:\n",
        "  avg = round((len(item[3])-item[3].count(\" \"))/len(item[3].split()),1)\n",
        "  avgs.append(avg)\n",
        "  item.insert(8,avg)\n",
        "headers.insert(8,'avg_char_per_word')\n",
        "print(data[100])"
      ],
      "metadata": {
        "colab": {
          "base_uri": "https://localhost:8080/"
        },
        "id": "QYIQbWSJHFXz",
        "outputId": "c9a3d193-4179-489b-e661-b32c8822427b"
      },
      "execution_count": null,
      "outputs": [
        {
          "output_type": "stream",
          "name": "stdout",
          "text": [
            "['144', 'accident', 'UK', '.@NorwayMFA #Bahrain police had previously died in a road accident they were not killed by explosion https://t.co/gFJfgTodad', True, 1, '16-20', '121-140', 6.4, '1']\n"
          ]
        }
      ]
    },
    {
      "cell_type": "code",
      "source": [
        "plt.hist(avgs)\n",
        "plt.title(\"Distribution of Average Number of Characters Per Word in Tweets\")\n",
        "plt.xlabel(\"Average Number of Characters Per Word in Tweet\")\n",
        "plt.ylabel(\"Number of Tweets\")\n",
        "plt.show()"
      ],
      "metadata": {
        "colab": {
          "base_uri": "https://localhost:8080/"
        },
        "id": "L88yCC3MJEL3",
        "outputId": "008ba32e-3d50-48ae-b629-124ba8db4bfe"
      },
      "execution_count": null,
      "outputs": [
        {
          "output_type": "display_data",
          "data": {
            "text/plain": [
              "<Figure size 432x288 with 1 Axes>"
            ],
            "image/png": "[encoded data removed]"
          },
          "metadata": {
            "needs_background": "light"
          }
        }
      ]
    },
    {
      "cell_type": "markdown",
      "source": [
        "## Most Common Words as Features"
      ],
      "metadata": {
        "id": "Ws-LiX-KoDGj"
      }
    },
    {
      "cell_type": "code",
      "source": [
        "def most_common_words(subset):\n",
        "  all_text = \"\"\n",
        "  for i in range(len(subset)):\n",
        "    all_text+=subset[i][3]+\" \"\n",
        "\n",
        "  stop_words = stopwords.words('english')\n",
        "  stop_words += ['like',\"i'm\",\"get\",\"new\",\"via\",\"one\",\"would\",\"still\",\"got\",\"back\",'first','know','see','going','us','man','two','go','may',\"can't\",'full','last','rt','say','could','make','u','let','much','every']\n",
        "  all_text.lower()\n",
        "  words_list = all_text.split()\n",
        "  word_list = []\n",
        "\n",
        "  for word in words_list:\n",
        "    word = word.lower()\n",
        "    if word not in stop_words and re.search('[a-z]', word) is not None and word!=\"&amp;\" and word[:4]!=\"http\":\n",
        "      #tmp = wn.synsets(word)[0].pos()\n",
        "      word_list.append(word)\n",
        "      #part_of_speech[word.lower]= tmp\n",
        "\n",
        "  #words_dict = dict(sorted(words_dict.items(), key=lambda item: -item[1]))\n",
        "  words_dict = Counter(word_list)\n",
        "  words = words_dict.most_common(20)\n",
        "  labels = [a for a,_ in words]\n",
        "  values = [b for _,b in words]\n",
        "\n",
        "  fig = plt.figure(figsize =(20, 7))\n",
        "  # creating the bar plot\n",
        "  plt.bar(labels, values)\n",
        "\n",
        "  plt.xlabel(\"Common Words\")\n",
        "  plt.ylabel(\"Number of Occurances in All Tweets\")\n",
        "  plt.title(\"Distribution of Common Words in Tweets\")\n",
        "  plt.show()\n",
        " \n",
        "  keywords2 = []\n",
        "  for item in words_dict.most_common(100):\n",
        "    keywords2.append(item[0])\n",
        "  return keywords2\n",
        "\n",
        "keywords2 = most_common_words(data)"
      ],
      "metadata": {
        "id": "6YVXP_VfrV2b",
        "outputId": "df859ccc-62c3-4c2f-f213-2b0c90fb72a1",
        "colab": {
          "base_uri": "https://localhost:8080/"
        }
      },
      "execution_count": null,
      "outputs": [
        {
          "output_type": "display_data",
          "data": {
            "text/plain": [
              "<Figure size 1440x504 with 1 Axes>"
            ],
            "image/png": "[encoded data removed]"
          },
          "metadata": {
            "needs_background": "light"
          }
        }
      ]
    },
    {
      "cell_type": "code",
      "source": [
        "for item in data:\n",
        "  val = 'none'\n",
        "  for word in keywords2:\n",
        "    if word in item[3].lower():\n",
        "        val = word\n",
        "        break\n",
        "  item.insert(9,val)\n",
        "        \n",
        "headers.insert(9,'keyword2')"
      ],
      "metadata": {
        "id": "f2MPZFrkRnJz"
      },
      "execution_count": null,
      "outputs": []
    },
    {
      "cell_type": "markdown",
      "source": [
        "## Bigrams As Features"
      ],
      "metadata": {
        "id": "2XF3bK3AW-BS"
      }
    },
    {
      "cell_type": "code",
      "source": [
        "bigrams = defaultdict(int)\n",
        "data_bigrams = []\n",
        "for item in data:\n",
        "  tweet_text = re.sub(r'[^\\w\\s]', '', item[3]) # Remove Punctuation\n",
        "\n",
        "  stop_words = stopwords.words('english')\n",
        "  stop_words += ['like',\"i'm\",\"get\",\"new\",\"via\",\"one\",\"would\",\"still\",\"got\",\"back\",'first','know','see','going','us','man','two','go','may',\"can't\",'full','last','rt','say','could','make','u','let','much','every']\n",
        "  w = tweet_text.split()\n",
        "  r  = [word for word in w if word.lower() not in stop_words]\n",
        "  tweet_text = ' '.join(r)  \n",
        "\n",
        "  nltk_tokens = nltk.word_tokenize(tweet_text.lower())\n",
        "  lst = list(nltk.bigrams(nltk_tokens))\n",
        "  data_bigrams.append(lst)\n",
        "  for bigram in lst:\n",
        "    bigrams[bigram]+=1"
      ],
      "metadata": {
        "id": "v6So2pPXURxH"
      },
      "execution_count": null,
      "outputs": []
    },
    {
      "cell_type": "code",
      "source": [
        "common_bigrams = sorted(bigrams.items(), key=lambda item: item[1])\n",
        "common_bigrams = common_bigrams[-100:]\n",
        "\n",
        "bgs = common_bigrams[-15:]\n",
        "labels = [str(a) for a,_ in bgs if a[1] != 'na']\n",
        "values = [b for _,b in bgs if _[1] != 'na']\n",
        "\n",
        "fig = plt.figure(figsize =(30, 5))\n",
        "# creating the bar plot\n",
        "plt.bar(labels, values)\n",
        "\n",
        "plt.xlabel(\"Common Bigrams\")\n",
        "plt.ylabel(\"Number of Occurances in All Tweets\")\n",
        "plt.title(\"Distribution of Common Bigrams in Tweets\")\n",
        "plt.show()\n",
        "\n",
        "common_bigrams = [(a,b) for (a,b) in reversed([x for x,_ in common_bigrams]) if 'http' not in a and 'http' not in b and 'amp' not in a and 'amp' not in b]\n",
        "#common_bigrams.remove(('i', \"'m\"))\n",
        "#common_bigrams.remove(('do', \"n't\"))\n",
        "#common_bigrams.remove(('ca', \"n't\"))\n",
        "common_bigrams.remove(('gon', \"na\"))\n",
        "common_bigrams.remove(('wan', \"na\"))\n"
      ],
      "metadata": {
        "colab": {
          "base_uri": "https://localhost:8080/"
        },
        "id": "-gaqQEMpeCP1",
        "outputId": "fe43b2fa-0967-4cec-dcf8-542c61dae274"
      },
      "execution_count": null,
      "outputs": [
        {
          "output_type": "display_data",
          "data": {
            "text/plain": [
              "<Figure size 2160x360 with 1 Axes>"
            ],
            "image/png": "[encoded data removed]"
          },
          "metadata": {
            "needs_background": "light"
          }
        }
      ]
    },
    {
      "cell_type": "code",
      "source": [
        "i=0\n",
        "for item in data:\n",
        "  val = 'none'\n",
        "  for bigram in common_bigrams:\n",
        "    if bigram in data_bigrams[i]:\n",
        "        val = bigram\n",
        "        break\n",
        "  item.insert(10,val)\n",
        "  i+=1\n",
        "\n",
        "headers.insert(10,'bigrams')"
      ],
      "metadata": {
        "id": "x1mYY2otoLCE"
      },
      "execution_count": null,
      "outputs": []
    },
    {
      "cell_type": "markdown",
      "source": [
        "## Feature List"
      ],
      "metadata": {
        "id": "GHEcwKh6yAes"
      }
    },
    {
      "cell_type": "markdown",
      "source": [
        "- keyword (data[x][1])\n",
        "- location (data[x][2])\n",
        "- link (data[x][4])\n",
        "- num hashtags (data[x][5])\n",
        "- num words (data[x][6])\n",
        "- num chars (data[x][7])\n",
        "- avg chars per word (data[x][8])\n",
        "- keyword2 (data[x][9])\n",
        "- common bigrams (data[x][10])\n",
        "\n"
      ],
      "metadata": {
        "id": "cxmWsNvRVaJZ"
      }
    },
    {
      "cell_type": "code",
      "source": [
        "feature_nums = [1,2,4,5,6,7,8,9,10]\n",
        "target_num = [-1]\n",
        "nums = feature_nums + target_num\n",
        "features = []\n",
        "for num in feature_nums:\n",
        "  features.append(headers[num])"
      ],
      "metadata": {
        "id": "H1JrP8eHN8nC"
      },
      "execution_count": null,
      "outputs": []
    },
    {
      "cell_type": "code",
      "source": [
        "shuffle_and_split(data)"
      ],
      "metadata": {
        "colab": {
          "base_uri": "https://localhost:8080/"
        },
        "id": "Jxq36b2wHSX9",
        "outputId": "056694ee-c9c0-4ded-f54a-92ba1dc5f097"
      },
      "execution_count": null,
      "outputs": [
        {
          "output_type": "stream",
          "name": "stderr",
          "text": [
            "/usr/local/lib/python3.7/dist-packages/ipykernel_launcher.py:2: VisibleDeprecationWarning: Creating an ndarray from ragged nested sequences (which is a list-or-tuple of lists-or-tuples-or ndarrays with different lengths or shapes) is deprecated. If you meant to do this, you must specify 'dtype=object' when creating the ndarray.\n",
            "  \n"
          ]
        }
      ]
    },
    {
      "cell_type": "code",
      "source": [
        "print(features)"
      ],
      "metadata": {
        "colab": {
          "base_uri": "https://localhost:8080/"
        },
        "id": "0Bm1ePTyOVq6",
        "outputId": "1611710c-4335-4935-9159-94fdee39e832"
      },
      "execution_count": null,
      "outputs": [
        {
          "output_type": "stream",
          "name": "stdout",
          "text": [
            "['keyword', 'location', 'link', 'num_hashtags', 'word_count', 'char_count', 'avg_char_per_word', 'keyword2', 'bigrams']\n"
          ]
        }
      ]
    },
    {
      "cell_type": "markdown",
      "source": [
        "# Decision Tree"
      ],
      "metadata": {
        "id": "smAoYiMPyB-N"
      }
    },
    {
      "cell_type": "markdown",
      "source": [
        "Citation\n",
        "\n",
        "Entropy, Parition, Build Tree Sections (with some modifications)\n",
        "- Data Science from Scratch: First Principles with Python (GRUS Textbook) "
      ],
      "metadata": {
        "id": "mD5z5wySTxCN"
      }
    },
    {
      "cell_type": "markdown",
      "source": [
        "## Entropy"
      ],
      "metadata": {
        "id": "Lf8CA4ZozCcF"
      }
    },
    {
      "cell_type": "code",
      "source": [
        "def entropy(class_probabilities: List[float]) -> float:\n",
        "  '''Given a list of class probabilities, compute the entropy'''\n",
        "  return jnp.sum(jnp.asarray([-p*jnp.log2(p) for p in class_probabilities if p > 0]))\n",
        "\n",
        "def class_probabilities(labels: List[Any]) -> float:\n",
        "  total_count = jnp.size(labels)\n",
        "  return [count/total_count for count in Counter(labels).values()]\n",
        "\n",
        "def data_entropy(labels: List[Any]) -> float:\n",
        "  return entropy(class_probabilities(labels))\n",
        "\n",
        "def partition_entropy(subsets: List[List[Any]]) -> float:\n",
        "  '''Returns the entropy from this partition of data into subsets'''\n",
        "  total_count = jnp.sum(jnp.asarray([jnp.size(subset) for subset in subsets]))\n",
        "  return jnp.sum(jnp.asarray([data_entropy(subset)*jnp.size(subset)/total_count for subset in subsets]))"
      ],
      "metadata": {
        "id": "g3jcrUV4yxrr"
      },
      "execution_count": null,
      "outputs": []
    },
    {
      "cell_type": "markdown",
      "source": [
        "## Parition"
      ],
      "metadata": {
        "id": "-rArfTFo2I7Y"
      }
    },
    {
      "cell_type": "code",
      "source": [
        "T = TypeVar('T')\n",
        "\n",
        "def partition_by(inputs: List[T], attribute:str) -> Dict[Any, List[T]]:\n",
        "  '''Partitions the inputs into lists based on the specified attribute'''\n",
        "  partitions: Dict[Any,List[T]] = defaultdict(list)\n",
        "  for input in inputs:\n",
        "    key = getattr(input, attribute)\n",
        "    partitions[key].append(input)\n",
        "  return partitions\n",
        "\n",
        "def partition_entropy_by(inputs: List[Any], attribute:str,label_attribute:str) ->float:\n",
        "  '''Computes the entropy corresponding to the given partition'''\n",
        "  partitions = partition_by(inputs,attribute)\n",
        "  labels = [[getattr(input, label_attribute) for input in partition] for partition in partitions.values()]\n",
        "  return partition_entropy(labels)"
      ],
      "metadata": {
        "id": "TUFMpSL72HAV"
      },
      "execution_count": null,
      "outputs": []
    },
    {
      "cell_type": "markdown",
      "source": [
        "## Test Entropy and Partition"
      ],
      "metadata": {
        "id": "vgNrFYDM1vVr"
      }
    },
    {
      "cell_type": "code",
      "source": [
        "print(features)"
      ],
      "metadata": {
        "colab": {
          "base_uri": "https://localhost:8080/"
        },
        "id": "F9q262QITwIi",
        "outputId": "b34f87dc-2e5e-4956-83a5-bd10d0f6352e"
      },
      "execution_count": null,
      "outputs": [
        {
          "output_type": "stream",
          "name": "stdout",
          "text": [
            "['keyword', 'location', 'link', 'num_hashtags', 'word_count', 'char_count', 'avg_char_per_word', 'keyword2', 'bigrams']\n"
          ]
        }
      ]
    },
    {
      "cell_type": "code",
      "source": [
        "train_tweets = []\n",
        "\n",
        "class Tweet(NamedTuple):\n",
        "  keyword: str\n",
        "  location: str\n",
        "  link: bool\n",
        "  num_hashtags: int\n",
        "  word_count: str\n",
        "  char_count: str\n",
        "  avg_char_per_word: float\n",
        "  keyword2: str\n",
        "  bigrams: tuple\n",
        "  target: int\n",
        "\n",
        "for tweet in train_data:\n",
        "  train_tweets.append(Tweet(tweet[1],tweet[2],tweet[4],tweet[5],tweet[6],tweet[7],tweet[8],tweet[9],tweet[10],tweet[-1]))"
      ],
      "metadata": {
        "id": "zM_g0CyWTqQO"
      },
      "execution_count": null,
      "outputs": []
    },
    {
      "cell_type": "code",
      "source": [
        "def createTweetsObjects():\n",
        "  global train_data,test_data,train_tweets,test_tweets\n",
        "  train_tweets = []\n",
        "  test_tweets = []\n",
        "  for tweet in train_data:\n",
        "    train_tweets.append(Tweet(tweet[1],tweet[2],tweet[4],tweet[5],tweet[6],tweet[7],tweet[8],tweet[9],tweet[10],tweet[-1]))\n",
        "  for tweet in test_data:\n",
        "    test_tweets.append(Tweet(tweet[1],tweet[2],tweet[4],tweet[5],tweet[6],tweet[7],tweet[8],tweet[9],tweet[10],tweet[-1]))"
      ],
      "metadata": {
        "id": "nhE0RMXEbS0y"
      },
      "execution_count": null,
      "outputs": []
    },
    {
      "cell_type": "code",
      "source": [
        "createTweetsObjects()"
      ],
      "metadata": {
        "id": "2WvMdDiUbqbu"
      },
      "execution_count": null,
      "outputs": []
    },
    {
      "cell_type": "code",
      "source": [
        "print(len(train_tweets))\n",
        "print(len(train_data))"
      ],
      "metadata": {
        "colab": {
          "base_uri": "https://localhost:8080/"
        },
        "id": "DxHy7u2mVyXA",
        "outputId": "1e39e829-f1c8-41d5-a2f6-58868888f102"
      },
      "execution_count": null,
      "outputs": [
        {
          "output_type": "stream",
          "name": "stdout",
          "text": [
            "5000\n",
            "5000\n"
          ]
        }
      ]
    },
    {
      "cell_type": "code",
      "source": [
        "print(\"Inital Entropy of Features\")\n",
        "entropies = []\n",
        "for key in features:\n",
        "  entrpy = partition_entropy_by(train_tweets,key,'target')\n",
        "  entropies.append(entrpy)\n",
        "  print(key,entrpy)\n",
        "\n",
        "fig = plt.figure(figsize =(17, 5))\n",
        "\n",
        "plt.bar([key for key in features], entropies)\n",
        "\n",
        "plt.xlabel(\"Features\")\n",
        "plt.ylabel(\"Entropy\")\n",
        "plt.title(\"Initial Entropy of Features\")\n",
        "plt.show()"
      ],
      "metadata": {
        "colab": {
          "base_uri": "https://localhost:8080/",
          "height": 525
        },
        "id": "ZxuyEKSQWSYr",
        "outputId": "2b34ecb7-8d33-49ab-812d-2c98885b2979"
      },
      "execution_count": null,
      "outputs": [
        {
          "output_type": "stream",
          "name": "stdout",
          "text": [
            "Inital Entropy of Features\n",
            "keyword 0.7221234\n",
            "location 0.50415874\n",
            "link 0.9368526\n",
            "num_hashtags 0.9778624\n",
            "word_count 0.9652788\n",
            "char_count 0.9519294\n",
            "avg_char_per_word 0.9071006\n",
            "keyword2 0.8465205\n",
            "bigrams 0.8876663\n"
          ]
        },
        {
          "output_type": "display_data",
          "data": {
            "text/plain": [
              "<Figure size 1224x360 with 1 Axes>"
            ],
            "image/png": "[encoded data removed]"
          },
          "metadata": {
            "needs_background": "light"
          }
        }
      ]
    },
    {
      "cell_type": "markdown",
      "source": [
        "## Build Tree"
      ],
      "metadata": {
        "id": "-na0Idv44SQO"
      }
    },
    {
      "cell_type": "code",
      "source": [
        "class Leaf(NamedTuple):\n",
        "  value: Any\n",
        "\n",
        "class Split(NamedTuple):\n",
        "  attribute: str\n",
        "  subtrees: dict\n",
        "  default_value: Any = None\n",
        "\n",
        "DecisionTree = Union[Leaf,Split]"
      ],
      "metadata": {
        "id": "454J3DuR28o8"
      },
      "execution_count": null,
      "outputs": []
    },
    {
      "cell_type": "code",
      "source": [
        "class Tweet(NamedTuple):\n",
        "  keyword: str\n",
        "  location: str\n",
        "  target: int"
      ],
      "metadata": {
        "id": "uhZgO9ux9Svn"
      },
      "execution_count": null,
      "outputs": []
    },
    {
      "cell_type": "code",
      "source": [
        "def classify(tree:DecisionTree,input:Any) -> Any:\n",
        "  '''Classify the input using the given decision tree'''\n",
        "  \n",
        "  # If this is a leaf node, return its value\n",
        "  if isinstance(tree,Leaf):\n",
        "    return tree.value\n",
        "\n",
        "  subtree_key = getattr(input, tree.attribute)\n",
        "\n",
        "  if subtree_key not in tree.subtrees:\n",
        "    return tree.default_value\n",
        "  \n",
        "  subtree = tree.subtrees[subtree_key]\n",
        "  return classify(subtree,input)"
      ],
      "metadata": {
        "id": "nDiHJANM4BrT"
      },
      "execution_count": null,
      "outputs": []
    },
    {
      "cell_type": "code",
      "source": [
        "def build_tree_id3(inputs: List[Any],split_attributes:List[str],target_attribute:str)->DecisionTree:\n",
        "  # Count target labels\n",
        "  label_counts = Counter(getattr(input,target_attribute) for input in inputs)\n",
        "  most_common_label = label_counts.most_common(1)[0][0]\n",
        "\n",
        "  # If there's a unique label, predict it\n",
        "  if len(label_counts) == 1:\n",
        "    return Leaf(most_common_label)\n",
        "  \n",
        "  # If no split attributes left, return the majority label\n",
        "  if not split_attributes:\n",
        "    return Leaf(most_common_label)\n",
        "\n",
        "  # Otherwise split by the best attribute\n",
        "  def split_entropy(attribute:str) -> float:\n",
        "    return partition_entropy_by(inputs,attribute,target_attribute)\n",
        "  \n",
        "  best_attribute = min(split_attributes, key=split_entropy)\n",
        "\n",
        "  partitions = partition_by(inputs, best_attribute)\n",
        "  new_attributes = [a for a in split_attributes if a !=best_attribute]\n",
        "\n",
        "  # Recursively build subtrees\n",
        "  subtrees = {attribute_value: build_tree_id3(subset,new_attributes, target_attribute) for attribute_value,subset in partitions.items()}\n",
        "\n",
        "  return Split(best_attribute, subtrees, default_value=most_common_label)"
      ],
      "metadata": {
        "id": "QcWju7rK5sEG"
      },
      "execution_count": null,
      "outputs": []
    },
    {
      "cell_type": "markdown",
      "source": [
        "## Test Build Tree"
      ],
      "metadata": {
        "id": "-sWStJ_P9_lf"
      }
    },
    {
      "cell_type": "code",
      "source": [
        "decision_tree = build_tree_id3(train_tweets,['keyword2','num_hashtags'],'target')\n",
        "print(decision_tree)"
      ],
      "metadata": {
        "id": "zFJILcu2WlTS",
        "colab": {
          "base_uri": "https://localhost:8080/"
        },
        "outputId": "4099ac0b-5d89-4924-d4bc-33a53950f946"
      },
      "execution_count": null,
      "outputs": [
        {
          "output_type": "stream",
          "name": "stdout",
          "text": [
            "Split(attribute='keyword2', subtrees={'emergency': Split(attribute='num_hashtags', subtrees={2: Leaf(value='1'), 1: Leaf(value='1'), 0: Leaf(value='1'), 5: Leaf(value='0'), 3: Leaf(value='0'), 6: Leaf(value='0'), 4: Leaf(value='0')}, default_value='1'), 'time': Split(attribute='num_hashtags', subtrees={0: Leaf(value='0'), 2: Leaf(value='1'), 1: Leaf(value='0'), 3: Leaf(value='1'), 4: Leaf(value='0')}, default_value='0'), 'fire': Split(attribute='num_hashtags', subtrees={0: Leaf(value='1'), 1: Leaf(value='1'), 2: Leaf(value='1'), 6: Leaf(value='1'), 3: Leaf(value='1'), 5: Leaf(value='0'), 4: Leaf(value='1')}, default_value='1'), 'news': Split(attribute='num_hashtags', subtrees={0: Leaf(value='0'), 1: Leaf(value='1'), 2: Leaf(value='1'), 3: Leaf(value='1'), 10: Leaf(value='0'), 13: Leaf(value='1')}, default_value='1'), 'im': Split(attribute='num_hashtags', subtrees={1: Leaf(value='0'), 0: Leaf(value='0'), 3: Leaf(value='1'), 2: Leaf(value='0'), 6: Leaf(value='0'), 5: Leaf(value='0'), 4: Leaf(value='0')}, default_value='0'), 'think': Split(attribute='num_hashtags', subtrees={0: Leaf(value='0'), 1: Leaf(value='0'), 2: Leaf(value='0'), 3: Leaf(value='0')}, default_value='0'), 'none': Split(attribute='num_hashtags', subtrees={0: Leaf(value='0'), 1: Leaf(value='0'), 2: Leaf(value='0'), 3: Leaf(value='1'), 10: Leaf(value='1'), 5: Leaf(value='0'), 4: Leaf(value='0'), 6: Leaf(value='0'), 7: Leaf(value='0')}, default_value='0'), 'war': Split(attribute='num_hashtags', subtrees={0: Leaf(value='1'), 1: Leaf(value='1'), 2: Leaf(value='0'), 3: Leaf(value='1'), 6: Leaf(value='1')}, default_value='1'), 'car': Split(attribute='num_hashtags', subtrees={1: Leaf(value='0'), 0: Leaf(value='0'), 6: Leaf(value='1'), 2: Leaf(value='0'), 3: Leaf(value='1'), 7: Leaf(value='1')}, default_value='0'), 'watch': Split(attribute='num_hashtags', subtrees={0: Leaf(value='0'), 1: Leaf(value='0'), 2: Leaf(value='0'), 3: Leaf(value='1')}, default_value='0'), 'fatal': Split(attribute='num_hashtags', subtrees={0: Leaf(value='1'), 2: Leaf(value='1')}, default_value='1'), 'dead': Split(attribute='num_hashtags', subtrees={0: Leaf(value='0'), 2: Leaf(value='1'), 1: Leaf(value='0')}, default_value='0'), 'another': Split(attribute='num_hashtags', subtrees={0: Leaf(value='0'), 1: Leaf(value='1')}, default_value='0'), 'many': Split(attribute='num_hashtags', subtrees={3: Leaf(value='0'), 0: Leaf(value='0'), 1: Leaf(value='0'), 2: Leaf(value='0')}, default_value='0'), 'storm': Split(attribute='num_hashtags', subtrees={0: Leaf(value='1'), 3: Leaf(value='0'), 1: Leaf(value='1'), 2: Leaf(value='1'), 9: Leaf(value='0'), 5: Leaf(value='1'), 8: Leaf(value='1'), 6: Leaf(value='1')}, default_value='1'), 'day': Split(attribute='num_hashtags', subtrees={0: Leaf(value='0'), 3: Leaf(value='1'), 1: Leaf(value='0'), 2: Leaf(value='1'), 4: Leaf(value='0'), 7: Leaf(value='0'), 5: Leaf(value='0')}, default_value='0'), 'black': Split(attribute='num_hashtags', subtrees={3: Leaf(value='0'), 0: Leaf(value='0'), 1: Leaf(value='0')}, default_value='0'), 'nuclear': Split(attribute='num_hashtags', subtrees={0: Leaf(value='1'), 3: Leaf(value='1'), 1: Leaf(value='0'), 2: Leaf(value='0'), 5: Leaf(value='1'), 4: Leaf(value='1')}, default_value='1'), 'feel': Split(attribute='num_hashtags', subtrees={0: Leaf(value='0'), 1: Leaf(value='1')}, default_value='0'), 'bomb': Split(attribute='num_hashtags', subtrees={0: Leaf(value='1'), 1: Leaf(value='1'), 4: Leaf(value='1'), 2: Leaf(value='1')}, default_value='1'), 'oil': Split(attribute='num_hashtags', subtrees={0: Leaf(value='1'), 2: Leaf(value='1'), 1: Leaf(value='0'), 3: Leaf(value='0')}, default_value='1'), 'great': Split(attribute='num_hashtags', subtrees={0: Leaf(value='0'), 1: Leaf(value='0'), 2: Leaf(value='0')}, default_value='0'), 'need': Split(attribute='num_hashtags', subtrees={1: Leaf(value='0'), 0: Leaf(value='0'), 3: Leaf(value='0')}, default_value='0'), 'body': Split(attribute='num_hashtags', subtrees={3: Leaf(value='0'), 0: Leaf(value='0'), 7: Leaf(value='0'), 1: Leaf(value='0'), 2: Leaf(value='0'), 4: Leaf(value='0')}, default_value='0'), 'people': Split(attribute='num_hashtags', subtrees={0: Leaf(value='0'), 1: Leaf(value='1'), 4: Leaf(value='1'), 2: Leaf(value='1'), 3: Leaf(value='1')}, default_value='1'), 'love': Split(attribute='num_hashtags', subtrees={0: Leaf(value='0'), 3: Leaf(value='0'), 1: Leaf(value='0'), 2: Leaf(value='0'), 4: Leaf(value='0'), 11: Leaf(value='0')}, default_value='0'), 'since': Split(attribute='num_hashtags', subtrees={2: Leaf(value='1'), 0: Leaf(value='0')}, default_value='0'), 'collapse': Split(attribute='num_hashtags', subtrees={0: Leaf(value='1'), 1: Leaf(value='1'), 6: Leaf(value='0')}, default_value='1'), 'wreck': Split(attribute='num_hashtags', subtrees={0: Leaf(value='0'), 1: Leaf(value='0')}, default_value='0'), 'police': Split(attribute='num_hashtags', subtrees={0: Leaf(value='1'), 1: Leaf(value='1'), 2: Leaf(value='1'), 3: Leaf(value='1'), 4: Leaf(value='1')}, default_value='1'), 'never': Split(attribute='num_hashtags', subtrees={0: Leaf(value='0'), 3: Leaf(value='0'), 1: Leaf(value='0')}, default_value='0'), 'video': Split(attribute='num_hashtags', subtrees={0: Leaf(value='0'), 1: Leaf(value='1'), 4: Leaf(value='0'), 3: Leaf(value='0'), 8: Leaf(value='1'), 2: Leaf(value='1')}, default_value='0'), 'forest': Split(attribute='num_hashtags', subtrees={3: Leaf(value='0'), 0: Leaf(value='0')}, default_value='0'), 'burning': Split(attribute='num_hashtags', subtrees={0: Leaf(value='1'), 3: Leaf(value='0'), 5: Leaf(value='0'), 1: Leaf(value='1'), 2: Leaf(value='0')}, default_value='0'), 'suicide': Split(attribute='num_hashtags', subtrees={0: Leaf(value='1'), 4: Leaf(value='1'), 2: Leaf(value='1'), 1: Leaf(value='1'), 3: Leaf(value='1')}, default_value='1'), 'accident': Split(attribute='num_hashtags', subtrees={1: Leaf(value='1'), 0: Leaf(value='1'), 2: Leaf(value='1')}, default_value='1'), 'work': Split(attribute='num_hashtags', subtrees={0: Leaf(value='0'), 1: Leaf(value='1'), 2: Leaf(value='1'), 3: Leaf(value='0'), 6: Leaf(value='0')}, default_value='0'), 'train': Split(attribute='num_hashtags', subtrees={0: Leaf(value='1'), 1: Leaf(value='1'), 4: Leaf(value='0'), 2: Leaf(value='1'), 3: Leaf(value='1')}, default_value='1'), 'even': Split(attribute='num_hashtags', subtrees={0: Leaf(value='0'), 1: Leaf(value='1'), 2: Leaf(value='0')}, default_value='0'), 'ever': Split(attribute='num_hashtags', subtrees={0: Leaf(value='0'), 3: Leaf(value='1'), 2: Leaf(value='1')}, default_value='0'), 'old': Split(attribute='num_hashtags', subtrees={0: Leaf(value='0'), 1: Leaf(value='0'), 8: Leaf(value='0')}, default_value='0'), 'take': Split(attribute='num_hashtags', subtrees={0: Leaf(value='0'), 3: Leaf(value='1'), 1: Leaf(value='1'), 2: Leaf(value='1')}, default_value='0'), 'families': Split(attribute='num_hashtags', subtrees={0: Leaf(value='1'), 3: Leaf(value='1'), 2: Leaf(value='1'), 1: Leaf(value='1')}, default_value='1'), 'home': Split(attribute='num_hashtags', subtrees={0: Leaf(value='0'), 1: Leaf(value='0'), 4: Leaf(value='0'), 2: Leaf(value='0')}, default_value='0'), 'right': Split(attribute='num_hashtags', subtrees={0: Leaf(value='0'), 2: Leaf(value='0'), 1: Leaf(value='0')}, default_value='0'), 'please': Split(attribute='num_hashtags', subtrees={0: Leaf(value='0'), 1: Leaf(value='1'), 3: Leaf(value='0')}, default_value='0'), 'disaster': Split(attribute='num_hashtags', subtrees={0: Leaf(value='1'), 1: Leaf(value='1'), 2: Leaf(value='1'), 3: Leaf(value='1'), 4: Leaf(value='1'), 7: Leaf(value='1')}, default_value='1'), 'hit': Split(attribute='num_hashtags', subtrees={1: Leaf(value='1'), 0: Leaf(value='0'), 3: Leaf(value='0'), 2: Leaf(value='0')}, default_value='0'), 'mass': Split(attribute='num_hashtags', subtrees={3: Leaf(value='0'), 1: Leaf(value='1'), 0: Leaf(value='1'), 10: Leaf(value='1'), 2: Leaf(value='1')}, default_value='1'), 'city': Split(attribute='num_hashtags', subtrees={0: Leaf(value='0'), 4: Leaf(value='0'), 2: Leaf(value='1')}, default_value='0'), 'coming': Split(attribute='num_hashtags', subtrees={0: Leaf(value='0'), 2: Leaf(value='0'), 5: Leaf(value='1'), 4: Leaf(value='1'), 1: Leaf(value='1'), 3: Leaf(value='0')}, default_value='0'), 'evacuation': Split(attribute='num_hashtags', subtrees={1: Leaf(value='1'), 0: Leaf(value='1'), 4: Leaf(value='1')}, default_value='1'), 'without': Leaf(value='0'), 'want': Split(attribute='num_hashtags', subtrees={0: Leaf(value='0'), 5: Leaf(value='0'), 1: Leaf(value='0'), 2: Leaf(value='0'), 3: Leaf(value='0')}, default_value='0'), 'california': Split(attribute='num_hashtags', subtrees={0: Leaf(value='1'), 9: Leaf(value='0'), 1: Leaf(value='1'), 2: Leaf(value='1')}, default_value='1'), 'attack': Split(attribute='num_hashtags', subtrees={0: Leaf(value='1'), 1: Leaf(value='0'), 2: Leaf(value='1'), 3: Leaf(value='1')}, default_value='1'), 'look': Split(attribute='num_hashtags', subtrees={0: Leaf(value='0'), 3: Leaf(value='1'), 2: Leaf(value='1'), 1: Leaf(value='0'), 4: Leaf(value='1')}, default_value='0'), 'near': Split(attribute='num_hashtags', subtrees={0: Leaf(value='1'), 1: Leaf(value='1'), 2: Leaf(value='0')}, default_value='1'), 'really': Split(attribute='num_hashtags', subtrees={0: Leaf(value='0')}, default_value='0'), 'crash': Split(attribute='num_hashtags', subtrees={0: Leaf(value='1'), 1: Leaf(value='1'), 2: Leaf(value='1')}, default_value='1'), 'years': Split(attribute='num_hashtags', subtrees={0: Leaf(value='0'), 3: Leaf(value='0'), 1: Leaf(value='0')}, default_value='0'), 'way': Split(attribute='num_hashtags', subtrees={0: Leaf(value='0'), 1: Leaf(value='1'), 2: Leaf(value='0'), 8: Leaf(value='1')}, default_value='0'), 'top': Split(attribute='num_hashtags', subtrees={0: Leaf(value='0'), 1: Leaf(value='0'), 2: Leaf(value='0')}, default_value='0'), 'death': Split(attribute='num_hashtags', subtrees={0: Leaf(value='0'), 1: Leaf(value='0'), 4: Leaf(value='1')}, default_value='0'), 'read': Split(attribute='num_hashtags', subtrees={5: Leaf(value='1'), 0: Leaf(value='0'), 6: Leaf(value='1'), 3: Leaf(value='0'), 1: Leaf(value='0')}, default_value='0'), 'help': Split(attribute='num_hashtags', subtrees={2: Leaf(value='1'), 0: Leaf(value='0'), 1: Leaf(value='1')}, default_value='0'), 'good': Split(attribute='num_hashtags', subtrees={2: Leaf(value='1'), 0: Leaf(value='0'), 1: Leaf(value='0')}, default_value='0'), 'school': Split(attribute='num_hashtags', subtrees={0: Leaf(value='1'), 1: Leaf(value='0')}, default_value='1'), 'world': Split(attribute='num_hashtags', subtrees={3: Leaf(value='1'), 2: Leaf(value='0'), 0: Leaf(value='0'), 1: Leaf(value='1')}, default_value='0'), 'army': Split(attribute='num_hashtags', subtrees={1: Leaf(value='0'), 0: Leaf(value='0')}, default_value='0'), 'killed': Split(attribute='num_hashtags', subtrees={0: Leaf(value='1'), 2: Leaf(value='1'), 1: Leaf(value='1'), 4: Leaf(value='1'), 3: Leaf(value='0')}, default_value='1'), 'truck': Leaf(value='0'), 'fear': Split(attribute='num_hashtags', subtrees={0: Leaf(value='0'), 1: Leaf(value='1')}, default_value='0'), 'getting': Split(attribute='num_hashtags', subtrees={0: Leaf(value='0'), 1: Leaf(value='1'), 2: Leaf(value='0')}, default_value='0'), 'shit': Leaf(value='0'), 'come': Split(attribute='num_hashtags', subtrees={0: Leaf(value='0'), 1: Leaf(value='1'), 3: Leaf(value='0'), 2: Leaf(value='0')}, default_value='0'), 'hope': Split(attribute='num_hashtags', subtrees={0: Leaf(value='0')}, default_value='0'), 'said': Split(attribute='num_hashtags', subtrees={0: Leaf(value='0'), 2: Leaf(value='1'), 1: Leaf(value='0')}, default_value='0'), 'lol': Split(attribute='num_hashtags', subtrees={0: Leaf(value='0'), 1: Leaf(value='0'), 2: Leaf(value='1')}, default_value='0'), '@youtube': Split(attribute='num_hashtags', subtrees={0: Leaf(value='0'), 1: Leaf(value='0'), 2: Leaf(value='1'), 3: Leaf(value='0')}, default_value='0'), 'debris': Leaf(value='1'), 'live': Split(attribute='num_hashtags', subtrees={0: Leaf(value='0'), 2: Leaf(value='0'), 1: Leaf(value='0'), 6: Leaf(value='0')}, default_value='0'), 'found': Split(attribute='num_hashtags', subtrees={2: Leaf(value='1'), 0: Leaf(value='0'), 4: Leaf(value='1'), 1: Leaf(value='1')}, default_value='1'), 'year': Split(attribute='num_hashtags', subtrees={0: Leaf(value='0')}, default_value='0'), 'cross': Split(attribute='num_hashtags', subtrees={0: Leaf(value='0')}, default_value='0'), 'obama': Leaf(value='0'), \"that's\": Split(attribute='num_hashtags', subtrees={0: Leaf(value='0'), 2: Leaf(value='1'), 1: Leaf(value='0')}, default_value='0'), 'atomic': Split(attribute='num_hashtags', subtrees={2: Leaf(value='1'), 0: Leaf(value='1')}, default_value='1'), 'northern': Leaf(value='1'), 'life': Split(attribute='num_hashtags', subtrees={0: Leaf(value='0'), 1: Leaf(value='0'), 3: Leaf(value='1'), 2: Leaf(value='1')}, default_value='0'), 'buildings': Split(attribute='num_hashtags', subtrees={0: Leaf(value='1')}, default_value='1'), 'hiroshima': Leaf(value='1')}, default_value='0')\n"
          ]
        }
      ]
    },
    {
      "cell_type": "code",
      "source": [
        "def num_leaves(decision_tree):\n",
        "  leaves = 0\n",
        "  stack = [decision_tree]\n",
        "  while stack:\n",
        "    tree= stack.pop()\n",
        "    if isinstance(tree,Leaf):\n",
        "      leaves+=1\n",
        "    else:\n",
        "      for item in tree[1]:\n",
        "        stack.append(tree[1][item])\n",
        "  return leaves\n",
        "\n",
        "print(\"Number of Leaves in Decision Tree:\",num_leaves(decision_tree))"
      ],
      "metadata": {
        "colab": {
          "base_uri": "https://localhost:8080/"
        },
        "id": "5-GFpDvWYOSf",
        "outputId": "137e787c-b97d-4450-8c8b-3a79c784ca17"
      },
      "execution_count": null,
      "outputs": [
        {
          "output_type": "stream",
          "name": "stdout",
          "text": [
            "Number of Leaves in Decision Tree: 337\n"
          ]
        }
      ]
    },
    {
      "cell_type": "markdown",
      "source": [
        "## Accuracy of Tree"
      ],
      "metadata": {
        "id": "KYOXMOUHkgQe"
      }
    },
    {
      "cell_type": "code",
      "source": [
        "def accuracy(decision_tree,tweets):\n",
        "  correct = 0\n",
        "  incorrect = 0\n",
        "  for tweet in tweets:\n",
        "    predictedOutput(decision_tree,tweet)\n",
        "    if value== tweet.target:\n",
        "      correct+=1\n",
        "    else:\n",
        "      incorrect+=1\n",
        "  #print(\"Correct: \", correct)\n",
        "  #print(\"Incorrect: \", incorrect)\n",
        "\n",
        "  accuracy = correct/(correct+incorrect)\n",
        "  #print(\"Accuracy: \", accuracy)\n",
        "  return accuracy\n",
        "\n",
        "\n",
        "def predictedOutput(decision_tree,tweet):\n",
        "  ''' will use the decision_tree to predict if tweet is valid or not\n",
        "      changes the global variable value to 1 for valid and 0 for invalid\n",
        "  '''\n",
        "  global value\n",
        "  tree= decision_tree\n",
        "  attribute = tree[0]\n",
        "  tweet_val = tweet[features.index(attribute)]\n",
        "  try:\n",
        "    tree = tree[1][tweet_val]\n",
        "    if isinstance(tree,Leaf):\n",
        "        value = tree.value\n",
        "    else:\n",
        "      predictedOutput(tree,tweet)\n",
        "  except:\n",
        "    value = tree[2]"
      ],
      "metadata": {
        "id": "8cmwiNChd09V"
      },
      "execution_count": null,
      "outputs": []
    },
    {
      "cell_type": "code",
      "source": [
        "print(\"Training Data Accuracy: \", end=\"\")\n",
        "print(accuracy(decision_tree,train_tweets))\n",
        "print(\"Test Data Accuracy: \", end=\"\")\n",
        "print(accuracy(decision_tree,test_tweets))\n",
        "#predictedOutput(decision_tree,tweets[0])"
      ],
      "metadata": {
        "colab": {
          "base_uri": "https://localhost:8080/"
        },
        "id": "KQ81UTqSpb_I",
        "outputId": "88afde0c-0a3c-4546-931a-588e348891fe"
      },
      "execution_count": null,
      "outputs": [
        {
          "output_type": "stream",
          "name": "stdout",
          "text": [
            "Training Data Accuracy: 0.7158\n",
            "Test Data Accuracy: 0.6766169154228856\n"
          ]
        }
      ]
    },
    {
      "cell_type": "markdown",
      "source": [
        "## Precision and Recall of Tree"
      ],
      "metadata": {
        "id": "FviOkhgBezz1"
      }
    },
    {
      "cell_type": "code",
      "source": [
        "def precision(decision_tree,tweets):\n",
        "  num = 0\n",
        "  denom = 0\n",
        "  for tweet in tweets:\n",
        "    global value\n",
        "    predictedOutput(decision_tree,tweet)\n",
        "    if value== '1':\n",
        "      denom+=1\n",
        "      if tweet.target=='1':\n",
        "        num+=1\n",
        "  precision = num/denom\n",
        "  return precision"
      ],
      "metadata": {
        "id": "17YPA6Tde2_e"
      },
      "execution_count": null,
      "outputs": []
    },
    {
      "cell_type": "code",
      "source": [
        "print(\"Training Data Precision: \", end=\"\")\n",
        "print(precision(decision_tree,train_tweets))\n",
        "print(\"Test Data Precision: \", end=\"\")\n",
        "print(precision(decision_tree,test_tweets))"
      ],
      "metadata": {
        "colab": {
          "base_uri": "https://localhost:8080/"
        },
        "id": "uaVP0N5ue76h",
        "outputId": "79ae2b11-f6f5-4634-facb-b8c21cbc8421"
      },
      "execution_count": null,
      "outputs": [
        {
          "output_type": "stream",
          "name": "stdout",
          "text": [
            "Training Data Precision: 0.6947075208913649\n",
            "Test Data Precision: 0.6613924050632911\n"
          ]
        }
      ]
    },
    {
      "cell_type": "code",
      "source": [
        "def recall(decision_tree,tweets):\n",
        "  num = 0\n",
        "  denom = 0\n",
        "  for tweet in tweets:\n",
        "    global value\n",
        "    predictedOutput(decision_tree,tweet)\n",
        "    if value== '1' and tweet.target=='1':\n",
        "      num+=1\n",
        "      denom+=1\n",
        "    if value=='0' and tweet.target=='1':\n",
        "      denom+=1\n",
        "  recall = num/denom\n",
        "  return recall"
      ],
      "metadata": {
        "id": "h-qEv3aDhmXv"
      },
      "execution_count": null,
      "outputs": []
    },
    {
      "cell_type": "code",
      "source": [
        "print(\"Training Data Recall: \", end=\"\")\n",
        "print(recall(decision_tree,train_tweets))\n",
        "print(\"Test Data Recall: \", end=\"\")\n",
        "print(recall(decision_tree,test_tweets))"
      ],
      "metadata": {
        "colab": {
          "base_uri": "https://localhost:8080/"
        },
        "id": "qiy9S7VntBzg",
        "outputId": "e93014ef-757a-4a5a-9c36-aae0a5be4430"
      },
      "execution_count": null,
      "outputs": [
        {
          "output_type": "stream",
          "name": "stdout",
          "text": [
            "Training Data Recall: 0.5882075471698113\n",
            "Test Data Recall: 0.5447437011294527\n"
          ]
        }
      ]
    },
    {
      "cell_type": "markdown",
      "source": [
        "## Functions to Use to Build Trees "
      ],
      "metadata": {
        "id": "9Y02ER-oYe1p"
      }
    },
    {
      "cell_type": "markdown",
      "source": [
        "\n",
        "\n",
        "*   build_tree_id3(tweets,['keyword','location'],'target') -> returns a decision tree\n",
        "*   predictedOutput(tree,tweet) -> changes the global variable value to 1 if valid and 0 if not valid\n",
        "*   decision_tree_accuracies(tree,train_tweets,test_tweets) -> returns the train and test accuracies as a tuple (train_accuracy,test_accuracy)\n"
      ],
      "metadata": {
        "id": "zfcJTqllYe1q"
      }
    },
    {
      "cell_type": "code",
      "source": [
        "print(features)"
      ],
      "metadata": {
        "colab": {
          "base_uri": "https://localhost:8080/"
        },
        "id": "edwqzOXBBeyq",
        "outputId": "77115289-957f-439f-e015-6346338b5bfd"
      },
      "execution_count": null,
      "outputs": [
        {
          "output_type": "stream",
          "name": "stdout",
          "text": [
            "['keyword', 'location', 'link', 'num_hashtags', 'word_count', 'char_count', 'avg_char_per_word', 'keyword2', 'bigrams']\n"
          ]
        }
      ]
    },
    {
      "cell_type": "code",
      "source": [
        "tree_features = ['keyword', 'bigrams']"
      ],
      "metadata": {
        "id": "F7huu2GNBan9"
      },
      "execution_count": null,
      "outputs": []
    },
    {
      "cell_type": "code",
      "source": [
        "class Tweet(NamedTuple):\n",
        "  keyword: str\n",
        "  location: str\n",
        "  link: bool\n",
        "  num_hashtags: int\n",
        "  word_count: str\n",
        "  char_count: str\n",
        "  avg_char_per_word: float\n",
        "  keyword2: str\n",
        "  bigrams: tuple\n",
        "  target: int"
      ],
      "metadata": {
        "id": "wejVFR-lnWhm"
      },
      "execution_count": null,
      "outputs": []
    },
    {
      "cell_type": "code",
      "source": [
        "shuffle_and_split(data)\n",
        "createTweetsObjects() # if this produces an error refresh the cell that declares the Tweet class in the test entropy and partition sections\n",
        "tree = build_tree_id3(train_tweets,tree_features,'target')"
      ],
      "metadata": {
        "colab": {
          "base_uri": "https://localhost:8080/"
        },
        "outputId": "3cb1bcc7-0ec2-49ad-b401-36218d5bcd04",
        "id": "cOqsnHyoYe1r"
      },
      "execution_count": null,
      "outputs": [
        {
          "output_type": "stream",
          "name": "stderr",
          "text": [
            "/usr/local/lib/python3.7/dist-packages/ipykernel_launcher.py:2: VisibleDeprecationWarning: Creating an ndarray from ragged nested sequences (which is a list-or-tuple of lists-or-tuples-or ndarrays with different lengths or shapes) is deprecated. If you meant to do this, you must specify 'dtype=object' when creating the ndarray.\n",
            "  \n"
          ]
        }
      ]
    },
    {
      "cell_type": "code",
      "source": [
        "predictedOutput(tree,train_tweets[100])\n",
        "print(\"Predicted Value: \",value)\n",
        "print(\"Actual Value: \", train_tweets[100].target)\n",
        "\n",
        "predictedOutput(tree,train_tweets[40])\n",
        "print(\"Predicted Value: \",value)\n",
        "print(\"Actual Value: \", train_tweets[40].target)"
      ],
      "metadata": {
        "colab": {
          "base_uri": "https://localhost:8080/"
        },
        "outputId": "b831f994-bd62-4c2c-b7d1-724fc60802b4",
        "id": "bdTiMHt5Ye1r"
      },
      "execution_count": null,
      "outputs": [
        {
          "output_type": "stream",
          "name": "stdout",
          "text": [
            "Predicted Value:  0\n",
            "Actual Value:  0\n",
            "Predicted Value:  1\n",
            "Actual Value:  0\n"
          ]
        }
      ]
    },
    {
      "cell_type": "code",
      "source": [
        "print(\"Number of Leaves in Decision Tree:\", num_leaves(tree))"
      ],
      "metadata": {
        "colab": {
          "base_uri": "https://localhost:8080/"
        },
        "id": "5VZctt-nPccn",
        "outputId": "4a5428af-f420-4890-9469-678343c0a6f8"
      },
      "execution_count": null,
      "outputs": [
        {
          "output_type": "stream",
          "name": "stdout",
          "text": [
            "Number of Leaves in Decision Tree: 323\n"
          ]
        }
      ]
    },
    {
      "cell_type": "code",
      "source": [
        "def decision_tree_accuracies(tree,train_tweets,test_tweets):\n",
        "  one = accuracy(tree,train_tweets)\n",
        "  two = accuracy(tree,test_tweets)\n",
        "  #print(\"train acc:\",one)\n",
        "  #print(\"test acc:\",two)\n",
        "  return(one,two)\n"
      ],
      "metadata": {
        "id": "TH7FFWGWYe1r"
      },
      "execution_count": null,
      "outputs": []
    },
    {
      "cell_type": "code",
      "source": [
        "train_acc,test_acc = decision_tree_accuracies(tree,train_tweets,test_tweets)\n",
        "print(\"Train Accuracy:\", train_acc)\n",
        "print(\"Test Accuracy:\", test_acc)"
      ],
      "metadata": {
        "colab": {
          "base_uri": "https://localhost:8080/"
        },
        "outputId": "16aa0ac9-d679-4af0-9593-c9b2378d98f0",
        "id": "To2NkfWJYe1r"
      },
      "execution_count": null,
      "outputs": [
        {
          "output_type": "stream",
          "name": "stdout",
          "text": [
            "Train Accuracy: 0.7526\n",
            "Test Accuracy: 0.7416762342135477\n"
          ]
        }
      ]
    },
    {
      "cell_type": "markdown",
      "source": [
        "## Tree Predicting a Tweet (Example)"
      ],
      "metadata": {
        "id": "q1P20iBPYWEW"
      }
    },
    {
      "cell_type": "markdown",
      "source": [
        "See How a Decision Tree Will Predict if the Following Tweet is Valid or Not"
      ],
      "metadata": {
        "id": "HnqgYkqWYavx"
      }
    },
    {
      "cell_type": "code",
      "source": [
        "print(features)"
      ],
      "metadata": {
        "colab": {
          "base_uri": "https://localhost:8080/"
        },
        "id": "YbIMjaX_e5ul",
        "outputId": "ac600218-372d-4d67-a3ca-dc08b381b6e0"
      },
      "execution_count": null,
      "outputs": [
        {
          "output_type": "stream",
          "name": "stdout",
          "text": [
            "['keyword', 'location', 'link', 'num_hashtags', 'word_count', 'char_count', 'avg_char_per_word', 'keyword2', 'bigrams']\n"
          ]
        }
      ]
    },
    {
      "cell_type": "code",
      "source": [
        "tweet = Tweet(keyword='apocalypse', location='', link=False, num_hashtags=0, word_count='6-10', char_count='41-60', avg_char_per_word=6.1, keyword2='day', bigrams='none', target='0')"
      ],
      "metadata": {
        "id": "9aAqxICtZABo"
      },
      "execution_count": null,
      "outputs": []
    },
    {
      "cell_type": "code",
      "source": [
        "test_features = ['location','link', 'num_hashtags', 'word_count', 'char_count', 'bigrams']\n",
        "decision_tree = build_tree_id3(train_tweets,test_features,'target')"
      ],
      "metadata": {
        "id": "DbCPm6WLd4lh"
      },
      "execution_count": null,
      "outputs": []
    },
    {
      "cell_type": "code",
      "source": [
        "feats = test_features\n",
        "tweets_entropy = train_tweets\n",
        "for split in range(1,len(test_features)+1):\n",
        "  #print(\"Tree:\",decision_tree)\n",
        "  attr = decision_tree[0]\n",
        "  print(\"Split\",split,\":\",attr )\n",
        "  num=0\n",
        "  for i in range(9):\n",
        "    if features[i]==attr:\n",
        "      num = i\n",
        "      break\n",
        "  val = a = tweet[num]\n",
        "  if val==\"\":\n",
        "    val = \"empty string\"\n",
        "  print(\"Tweet =>\",attr, \"=>\",val)\n",
        "  try:\n",
        "    decision_tree = decision_tree[1][tweet[num]]\n",
        "    prediction = decision_tree[0]\n",
        "  except:\n",
        "    print(\"Value for this tweet feature not in tree\")\n",
        "    print(\"Default Value is \",decision_tree[2])\n",
        "    prediction=decision_tree[2]\n",
        "    print()\n",
        "    break\n",
        "\n",
        "  # Plot\n",
        "  entropies = []\n",
        "  for key in feats:\n",
        "    entrpy = partition_entropy_by(tweets_entropy,key,'target')\n",
        "    entropies.append(entrpy)\n",
        "    print(\"Entropy\",key,\":\",entrpy)\n",
        "\n",
        "  tweets_entropy = [item for item in tweets_entropy if item[num]==a]\n",
        "  \n",
        "\n",
        "  fig = plt.figure(figsize =(int(2.3*len(feats)), 3))\n",
        "\n",
        "  plt.bar([key for key in feats], entropies)\n",
        "\n",
        "  plt.xlabel(\"Features\")\n",
        "  plt.ylabel(\"Entropy\")\n",
        "  plt.title(\"Entropy of Features\")\n",
        "  plt.show()\n",
        "\n",
        "  feats.remove(attr)\n",
        "  print()\n",
        "\n",
        "print(\"Tree:\",decision_tree)\n",
        "print(\"Prediction:\",prediction)\n",
        "print(\"Actual Value:\", tweet.target)"
      ],
      "metadata": {
        "colab": {
          "base_uri": "https://localhost:8080/",
          "height": 1000
        },
        "id": "Cb8d_y9OZn1r",
        "outputId": "8e39f159-872e-4f51-a935-7798940c6063"
      },
      "execution_count": null,
      "outputs": [
        {
          "output_type": "stream",
          "name": "stdout",
          "text": [
            "Split 1 : location\n",
            "Tweet => location => empty string\n",
            "Entropy location : 0.5080663\n",
            "Entropy link : 0.938406\n",
            "Entropy num_hashtags : 0.97577345\n",
            "Entropy word_count : 0.9673147\n",
            "Entropy char_count : 0.9559908\n",
            "Entropy bigrams : 0.8894241\n"
          ]
        },
        {
          "output_type": "display_data",
          "data": {
            "text/plain": [
              "<Figure size 936x216 with 1 Axes>"
            ],
            "image/png": "[encoded data removed]"
          },
          "metadata": {
            "needs_background": "light"
          }
        },
        {
          "output_type": "stream",
          "name": "stdout",
          "text": [
            "\n",
            "Split 2 : bigrams\n",
            "Tweet => bigrams => none\n",
            "Entropy link : 0.93550897\n",
            "Entropy num_hashtags : 0.96815926\n",
            "Entropy word_count : 0.95906067\n",
            "Entropy char_count : 0.9468864\n",
            "Entropy bigrams : 0.8611812\n"
          ]
        },
        {
          "output_type": "display_data",
          "data": {
            "text/plain": [
              "<Figure size 792x216 with 1 Axes>"
            ],
            "image/png": "[encoded data removed]"
          },
          "metadata": {
            "needs_background": "light"
          }
        },
        {
          "output_type": "stream",
          "name": "stdout",
          "text": [
            "\n",
            "Split 3 : link\n",
            "Tweet => link => False\n",
            "Entropy link : 0.90900064\n",
            "Entropy num_hashtags : 0.9389436\n",
            "Entropy word_count : 0.93967414\n",
            "Entropy char_count : 0.92722255\n"
          ]
        },
        {
          "output_type": "display_data",
          "data": {
            "text/plain": [
              "<Figure size 648x216 with 1 Axes>"
            ],
            "image/png": "[encoded data removed]"
          },
          "metadata": {
            "needs_background": "light"
          }
        },
        {
          "output_type": "stream",
          "name": "stdout",
          "text": [
            "\n",
            "Split 4 : num_hashtags\n",
            "Tweet => num_hashtags => 0\n",
            "Entropy num_hashtags : 0.807024\n",
            "Entropy word_count : 0.8153536\n",
            "Entropy char_count : 0.81515574\n"
          ]
        },
        {
          "output_type": "display_data",
          "data": {
            "text/plain": [
              "<Figure size 432x216 with 1 Axes>"
            ],
            "image/png": "[encoded data removed]"
          },
          "metadata": {
            "needs_background": "light"
          }
        },
        {
          "output_type": "stream",
          "name": "stdout",
          "text": [
            "\n",
            "Split 5 : char_count\n",
            "Tweet => char_count => 41-60\n",
            "Entropy word_count : 0.77904963\n",
            "Entropy char_count : 0.77734494\n"
          ]
        },
        {
          "output_type": "display_data",
          "data": {
            "text/plain": [
              "<Figure size 288x216 with 1 Axes>"
            ],
            "image/png": "[encoded data removed]"
          },
          "metadata": {
            "needs_background": "light"
          }
        },
        {
          "output_type": "stream",
          "name": "stdout",
          "text": [
            "\n",
            "Split 6 : word_count\n",
            "Tweet => word_count => 6-10\n",
            "Entropy word_count : 0.6720335\n"
          ]
        },
        {
          "output_type": "display_data",
          "data": {
            "text/plain": [
              "<Figure size 144x216 with 1 Axes>"
            ],
            "image/png": "[encoded data removed]"
          },
          "metadata": {
            "needs_background": "light"
          }
        },
        {
          "output_type": "stream",
          "name": "stdout",
          "text": [
            "\n",
            "Tree: Leaf(value='0')\n",
            "Prediction: 0\n",
            "Actual Value: 0\n"
          ]
        }
      ]
    },
    {
      "cell_type": "markdown",
      "source": [
        "## Prevent Overfitting"
      ],
      "metadata": {
        "id": "pSohROx4Qidk"
      }
    },
    {
      "cell_type": "code",
      "source": [
        "print(features)"
      ],
      "metadata": {
        "colab": {
          "base_uri": "https://localhost:8080/"
        },
        "id": "I2UfXd39S5yt",
        "outputId": "7231ffb0-6697-4f33-db4f-352b31726c03"
      },
      "execution_count": null,
      "outputs": [
        {
          "output_type": "stream",
          "name": "stdout",
          "text": [
            "['keyword', 'location', 'link', 'num_hashtags', 'word_count', 'char_count', 'avg_char_per_word', 'keyword2', 'bigrams']\n"
          ]
        }
      ]
    },
    {
      "cell_type": "markdown",
      "source": [
        "When we use all the features, the average number of tweets per leaf is about 1 or 2.  Thus, the data is being overfit.  To prevent this, we can lower the number of features per decision tree and use random forests to combine the results of the trees."
      ],
      "metadata": {
        "id": "fhYNf7A4Qp-H"
      }
    },
    {
      "cell_type": "code",
      "source": [
        "tree_features = features\n",
        "shuffle_and_split(data)\n",
        "createTweetsObjects() # if this produces an error refresh the cell that declares the Tweet class in the test entropy and partition sections\n",
        "tree = build_tree_id3(train_tweets,tree_features,'target')\n",
        "leaves_9 = num_leaves(tree)\n",
        "print(\"Number of Leaves in Decision Tree:\", leaves_9)\n",
        "print(\"Average Number of Tweets Per Leaf in Decision Tree:\", len(train_tweets)/leaves_9)\n",
        "decision_tree_accuracies(tree,train_tweets,test_tweets)"
      ],
      "metadata": {
        "colab": {
          "base_uri": "https://localhost:8080/"
        },
        "id": "eXc_IEpJQh-W",
        "outputId": "3966ee9a-a5db-49e3-a4e9-7efdca5ea7cd"
      },
      "execution_count": null,
      "outputs": [
        {
          "output_type": "stream",
          "name": "stderr",
          "text": [
            "/usr/local/lib/python3.7/dist-packages/ipykernel_launcher.py:2: VisibleDeprecationWarning: Creating an ndarray from ragged nested sequences (which is a list-or-tuple of lists-or-tuples-or ndarrays with different lengths or shapes) is deprecated. If you meant to do this, you must specify 'dtype=object' when creating the ndarray.\n",
            "  \n"
          ]
        },
        {
          "output_type": "stream",
          "name": "stdout",
          "text": [
            "Number of Leaves in Decision Tree: 4073\n",
            "Average Number of Tweets Per Leaf in Decision Tree: 1.2275963663147558\n"
          ]
        },
        {
          "output_type": "execute_result",
          "data": {
            "text/plain": [
              "(0.9946, 0.6364332185227708)"
            ]
          },
          "metadata": {},
          "execution_count": 221
        }
      ]
    },
    {
      "cell_type": "markdown",
      "source": [
        "One Feature."
      ],
      "metadata": {
        "id": "8xIcraVXS9Vj"
      }
    },
    {
      "cell_type": "code",
      "source": [
        "tree_features = ['keyword2']\n",
        "shuffle_and_split(data)\n",
        "createTweetsObjects() # if this produces an error refresh the cell that declares the Tweet class in the test entropy and partition sections\n",
        "tree = build_tree_id3(train_tweets,tree_features,'target')\n",
        "leaves_1 = num_leaves(tree)\n",
        "print(\"Number of Leaves in Decision Tree:\", leaves_1)\n",
        "print(\"Average Number of Tweets Per Leaf in Decision Tree:\", len(train_tweets)/leaves_1)\n",
        "print()\n",
        "decision_tree_accuracies(tree,train_tweets,test_tweets)"
      ],
      "metadata": {
        "colab": {
          "base_uri": "https://localhost:8080/"
        },
        "id": "SfRc25HNSYXH",
        "outputId": "809f1c0b-a691-45b2-a667-a5bf787f822e"
      },
      "execution_count": null,
      "outputs": [
        {
          "output_type": "stream",
          "name": "stdout",
          "text": [
            "Number of Leaves in Decision Tree: 91\n",
            "Average Number of Tweets Per Leaf in Decision Tree: 54.94505494505494\n",
            "\n"
          ]
        },
        {
          "output_type": "stream",
          "name": "stderr",
          "text": [
            "/usr/local/lib/python3.7/dist-packages/ipykernel_launcher.py:2: VisibleDeprecationWarning: Creating an ndarray from ragged nested sequences (which is a list-or-tuple of lists-or-tuples-or ndarrays with different lengths or shapes) is deprecated. If you meant to do this, you must specify 'dtype=object' when creating the ndarray.\n",
            "  \n"
          ]
        },
        {
          "output_type": "execute_result",
          "data": {
            "text/plain": [
              "(0.7028, 0.6804439341752775)"
            ]
          },
          "metadata": {},
          "execution_count": 222
        }
      ]
    },
    {
      "cell_type": "markdown",
      "source": [
        "Two Features."
      ],
      "metadata": {
        "id": "EMeO9x_gTDnr"
      }
    },
    {
      "cell_type": "code",
      "source": [
        "tree_features = ['link','keyword2']\n",
        "shuffle_and_split(data)\n",
        "createTweetsObjects() # if this produces an error refresh the cell that declares the Tweet class in the test entropy and partition sections\n",
        "tree = build_tree_id3(train_tweets,tree_features,'target')\n",
        "leaves_2 = num_leaves(tree)\n",
        "print(\"Number of Leaves in Decision Tree:\", leaves_2)\n",
        "print(\"Average Number of Tweets Per Leaf in Decision Tree:\", len(train_tweets)/leaves_2)\n",
        "decision_tree_accuracies(tree,train_tweets,test_tweets)"
      ],
      "metadata": {
        "colab": {
          "base_uri": "https://localhost:8080/"
        },
        "id": "Ix-j08imTPyj",
        "outputId": "4366622c-b15c-48a8-a98e-29d78725ce5c"
      },
      "execution_count": null,
      "outputs": [
        {
          "output_type": "stream",
          "name": "stderr",
          "text": [
            "/usr/local/lib/python3.7/dist-packages/ipykernel_launcher.py:2: VisibleDeprecationWarning: Creating an ndarray from ragged nested sequences (which is a list-or-tuple of lists-or-tuples-or ndarrays with different lengths or shapes) is deprecated. If you meant to do this, you must specify 'dtype=object' when creating the ndarray.\n",
            "  \n"
          ]
        },
        {
          "output_type": "stream",
          "name": "stdout",
          "text": [
            "Number of Leaves in Decision Tree: 172\n",
            "Average Number of Tweets Per Leaf in Decision Tree: 29.069767441860463\n"
          ]
        },
        {
          "output_type": "execute_result",
          "data": {
            "text/plain": [
              "(0.7208, 0.6988136241867585)"
            ]
          },
          "metadata": {},
          "execution_count": 223
        }
      ]
    },
    {
      "cell_type": "markdown",
      "source": [
        "Three Features."
      ],
      "metadata": {
        "id": "aEaxxrvbSEMb"
      }
    },
    {
      "cell_type": "code",
      "source": [
        "tree_features = ['link','num_hashtags','keyword2']\n",
        "shuffle_and_split(data)\n",
        "createTweetsObjects() # if this produces an error refresh the cell that declares the Tweet class in the test entropy and partition sections\n",
        "tree = build_tree_id3(train_tweets,tree_features,'target')\n",
        "leaves_3 = num_leaves(tree)\n",
        "print(\"Number of Leaves in Decision Tree:\", leaves_3)\n",
        "print(\"Average Number of Tweets Per Leaf in Decision Tree:\", len(train_tweets)/leaves_3)\n",
        "decision_tree_accuracies(tree,train_tweets,test_tweets)"
      ],
      "metadata": {
        "colab": {
          "base_uri": "https://localhost:8080/"
        },
        "id": "2y764fqXTfa_",
        "outputId": "38e736af-9dee-4f67-ab56-d47babef40a7"
      },
      "execution_count": null,
      "outputs": [
        {
          "output_type": "stream",
          "name": "stderr",
          "text": [
            "/usr/local/lib/python3.7/dist-packages/ipykernel_launcher.py:2: VisibleDeprecationWarning: Creating an ndarray from ragged nested sequences (which is a list-or-tuple of lists-or-tuples-or ndarrays with different lengths or shapes) is deprecated. If you meant to do this, you must specify 'dtype=object' when creating the ndarray.\n",
            "  \n"
          ]
        },
        {
          "output_type": "stream",
          "name": "stdout",
          "text": [
            "Number of Leaves in Decision Tree: 467\n",
            "Average Number of Tweets Per Leaf in Decision Tree: 10.70663811563169\n"
          ]
        },
        {
          "output_type": "execute_result",
          "data": {
            "text/plain": [
              "(0.743, 0.6911595866819747)"
            ]
          },
          "metadata": {},
          "execution_count": 224
        }
      ]
    },
    {
      "cell_type": "code",
      "source": [
        "values = [leaves_1,leaves_2,leaves_3,leaves_9]\n",
        "values = [len(train_tweets)/l for l in values]\n",
        "labels = [1,2,3,9]\n",
        "\n",
        "fig = plt.figure(figsize =(10, 5))\n",
        "\n",
        "plt.bar(labels, values)\n",
        "\n",
        "plt.xlabel(\"Number of Features\")\n",
        "plt.ylabel(\"Avg Number of Tweets Per Leaf\")\n",
        "plt.title(\"Avg Number of Tweets Per Leaf As Number Of Features Increase\")\n",
        "plt.show()"
      ],
      "metadata": {
        "colab": {
          "base_uri": "https://localhost:8080/",
          "height": 350
        },
        "id": "XVUTCpJ_UfvK",
        "outputId": "3cd5866b-140a-4da0-8169-1db35f0701a6"
      },
      "execution_count": null,
      "outputs": [
        {
          "output_type": "display_data",
          "data": {
            "text/plain": [
              "<Figure size 720x360 with 1 Axes>"
            ],
            "image/png": "[encoded data removed]"
          },
          "metadata": {
            "needs_background": "light"
          }
        }
      ]
    },
    {
      "cell_type": "markdown",
      "source": [
        "Based off the analysis above, we will use trees that have 2-3 features (more specifically a higher average of tweets per leaf) to prevent overfitting the training data."
      ],
      "metadata": {
        "id": "1A7RDRSqVcfE"
      }
    },
    {
      "cell_type": "markdown",
      "source": [
        "## Kaggle Submission"
      ],
      "metadata": {
        "id": "Ig7qo6iLXUyi"
      }
    },
    {
      "cell_type": "code",
      "source": [
        "test_data_path = \"kaggle/data/test.csv\"\n",
        "test_data_file = open(test_data_path)\n",
        "read_file = csv.reader(test_data_file)\n",
        "_ = next(read_file)\n",
        "submit_data = []\n",
        "for row in read_file:\n",
        "  submit_data.append(row)\n",
        "print(len(submit_data))"
      ],
      "metadata": {
        "colab": {
          "base_uri": "https://localhost:8080/"
        },
        "id": "t3jnAuPSXYIA",
        "outputId": "54334862-b702-4911-e8b8-627e58fa1dc6"
      },
      "execution_count": null,
      "outputs": [
        {
          "output_type": "stream",
          "name": "stdout",
          "text": [
            "3263\n"
          ]
        }
      ]
    },
    {
      "cell_type": "code",
      "source": [
        "print(features)"
      ],
      "metadata": {
        "colab": {
          "base_uri": "https://localhost:8080/"
        },
        "id": "JAf2agdM-azu",
        "outputId": "56301f0d-0851-4c2f-82c9-35fd0b919410"
      },
      "execution_count": null,
      "outputs": [
        {
          "output_type": "stream",
          "name": "stdout",
          "text": [
            "['keyword', 'location', 'link', 'num_hashtags', 'word_count', 'char_count', 'avg_char_per_word', 'keyword2', 'bigrams']\n"
          ]
        }
      ]
    },
    {
      "cell_type": "code",
      "source": [
        "test_features = ['location','keyword']\n",
        "tree = build_tree_id3(train_tweets,test_features,'target')"
      ],
      "metadata": {
        "id": "ZefqG8gK1FtI"
      },
      "execution_count": null,
      "outputs": []
    },
    {
      "cell_type": "code",
      "source": [
        "submit_tweets = []\n",
        "for tweet in submit_data:\n",
        "  # link\n",
        "  link = 'http' in tweet[3]\n",
        "  \n",
        "  # num_hashtags\n",
        "  num_hashtags = tweet[3].count('#')\n",
        "  \n",
        "  # word_count\n",
        "  words = len(tweet[3].split())\n",
        "  w = 'other'\n",
        "  if words in (1,2,3,4,5):\n",
        "    w = '1-5'\n",
        "  elif words in (6,7,8,9,10):\n",
        "    w = '6-10'\n",
        "  elif words in (11,12,13,14,15):\n",
        "    w = '11-15'\n",
        "  elif words in (16,17,18,19,20):\n",
        "    w = '16-20'\n",
        "  elif words in (21,22,23,24,25):\n",
        "    w = '21-25'\n",
        "  elif words in (26,27,28,29,30):\n",
        "    w = '26-30'\n",
        "\n",
        "  # char_count\n",
        "  chars = len(tweet[3])\n",
        "  char_counts.append(chars)\n",
        "  c = 'other'\n",
        "  if chars in [x for x in range(1,21)]:\n",
        "    c = '1-20'\n",
        "  elif chars in [x for x in range(21,41)]:\n",
        "    c = '21-40'\n",
        "  elif chars in [x for x in range(41,61)]:\n",
        "    c = '41-60'\n",
        "  elif chars in [x for x in range(61,81)]:\n",
        "    c = '61-80'\n",
        "  elif chars in [x for x in range(81,101)]:\n",
        "    c = '81-100'\n",
        "  elif chars in [x for x in range(101,121)]:\n",
        "    c = '101-120'\n",
        "  elif chars in [x for x in range(121,141)]:\n",
        "    c = '121-140'\n",
        "  elif chars in [x for x in range(141,161)]:\n",
        "    c = '141-160'\n",
        "  \n",
        "  # avg_chars_per_word\n",
        "  avg = round((len(item[3])-item[3].count(\" \"))/len(item[3].split()),1)\n",
        "\n",
        "  # keyword2\n",
        "  kw2 = 'none'\n",
        "  for word in keywords2:\n",
        "    if word in tweet[3].lower():\n",
        "        kw2 = word\n",
        "        break\n",
        "\n",
        "  # bigrams\n",
        "  bg = 'none'\n",
        "  for bigram in common_bigrams:\n",
        "    if bigram[0] in tweet[3] and bigram[1] in tweet[3]:\n",
        "        bg = bigram\n",
        "        break\n",
        "\n",
        "  submit_tweets.append(Tweet(tweet[1],tweet[2],link,num_hashtags,w,c,avg,kw2,bg,'-1'))"
      ],
      "metadata": {
        "id": "kLIuWE1zX1zl"
      },
      "execution_count": null,
      "outputs": []
    },
    {
      "cell_type": "code",
      "source": [
        "submit_targets = []\n",
        "for i in range(len(submit_tweets)):\n",
        "  predictedOutput(tree,submit_tweets[i])\n",
        "  submit_targets.append(value)"
      ],
      "metadata": {
        "id": "NiL97RKEYoPB"
      },
      "execution_count": null,
      "outputs": []
    },
    {
      "cell_type": "code",
      "source": [
        "submit_targets.count('1')"
      ],
      "metadata": {
        "colab": {
          "base_uri": "https://localhost:8080/"
        },
        "id": "Bnq3uAJVY4-o",
        "outputId": "543714ad-8f49-4f01-c7be-e328806b1053"
      },
      "execution_count": null,
      "outputs": [
        {
          "output_type": "execute_result",
          "data": {
            "text/plain": [
              "830"
            ]
          },
          "metadata": {},
          "execution_count": 231
        }
      ]
    },
    {
      "cell_type": "code",
      "source": [
        "df = pd.read_csv(\"kaggle/data/sample_submission.csv\")\n",
        "for i in range(len(submit_targets)):\n",
        "  df.loc[i, 'target'] = int(submit_targets[i])\n",
        "df.to_csv(\"kaggle/data/sample_submission.csv\", index = False)"
      ],
      "metadata": {
        "id": "2VXPCZ1VaUVZ"
      },
      "execution_count": null,
      "outputs": []
    },
    {
      "cell_type": "markdown",
      "source": [
        "Be careful - only 5 submissions allowed per day per user"
      ],
      "metadata": {
        "id": "c6BeDqaaejzu"
      }
    },
    {
      "cell_type": "code",
      "source": [
        "!kaggle competitions submit -c nlp-getting-started -f kaggle/data/sample_submission.csv -m \"Single Decision Tree\""
      ],
      "metadata": {
        "id": "GskRd1XrcKZJ",
        "colab": {
          "base_uri": "https://localhost:8080/"
        },
        "outputId": "a09429cc-4130-4e5f-e351-8db44d05f464"
      },
      "execution_count": null,
      "outputs": [
        {
          "output_type": "stream",
          "name": "stdout",
          "text": [
            "100% 22.2k/22.2k [00:00<00:00, 51.0kB/s]\n",
            "Successfully submitted to Natural Language Processing with Disaster Tweets"
          ]
        }
      ]
    },
    {
      "cell_type": "code",
      "source": [
        "!kaggle competitions submissions -c nlp-getting-started"
      ],
      "metadata": {
        "id": "nxBc0g74dNkF",
        "colab": {
          "base_uri": "https://localhost:8080/"
        },
        "outputId": "651db873-cf1f-4da3-fcc6-e367b613bc83"
      },
      "execution_count": null,
      "outputs": [
        {
          "output_type": "stream",
          "name": "stdout",
          "text": [
            "fileName                   date                 description                                      status    publicScore  privateScore  \n",
            "-------------------------  -------------------  -----------------------------------------------  --------  -----------  ------------  \n",
            "sample_submission.csv      2022-04-25 03:51:14  Single Decision Tree                             complete  0.65430                    \n",
            "sample_submission.csv      2022-04-25 03:45:00                                                   complete  0.71713                    \n",
            "sample_submission.csv      2022-04-25 03:41:47  Random Forest (60 Trees) : Optimal Feature Mix   complete  0.74777                    \n",
            "sample_submission (3).csv  2022-04-24 23:53:07   RandomForestClassifier()                        complete  0.77536                    \n",
            "sample_submission (2).csv  2022-04-24 06:52:44  Random Forest (60 Tress): Optimal Feature Mix    complete  0.74992                    \n",
            "sample_submission (1).csv  2022-04-24 06:40:26  Random Forest (50 Trees): Feature Randomization  complete  0.72080                    \n"
          ]
        }
      ]
    },
    {
      "cell_type": "markdown",
      "source": [
        "Each individual decision tree has varying accuracies depending on the features they use and the training data they use.  It is typically between 60-70%."
      ],
      "metadata": {
        "id": "ZoJIepIl2Io0"
      }
    },
    {
      "cell_type": "markdown",
      "source": [
        "publicScore is the accuracy of the kaggle test data"
      ],
      "metadata": {
        "id": "Qk_ovc-SdcoH"
      }
    },
    {
      "cell_type": "markdown",
      "source": [
        "# Random Forests"
      ],
      "metadata": {
        "id": "-Ph21W8syGLn"
      }
    },
    {
      "cell_type": "markdown",
      "source": [
        "## Build Trees"
      ],
      "metadata": {
        "id": "_TArmTguec1K"
      }
    },
    {
      "cell_type": "code",
      "source": [
        "print(features)"
      ],
      "metadata": {
        "colab": {
          "base_uri": "https://localhost:8080/"
        },
        "id": "79kXn0ghZOO8",
        "outputId": "f0cf2610-db0a-4a46-e58d-95222fbf9921"
      },
      "execution_count": null,
      "outputs": [
        {
          "output_type": "stream",
          "name": "stdout",
          "text": [
            "['keyword', 'location', 'link', 'num_hashtags', 'word_count', 'char_count', 'avg_char_per_word', 'keyword2', 'bigrams']\n"
          ]
        }
      ]
    },
    {
      "cell_type": "code",
      "source": [
        "shuffle_and_split(data)\n",
        "createTweetsObjects()\n",
        "tree_features = ['keyword','bigrams'] # can change this to get tree made from different features\n",
        "tree = build_tree_id3(train_tweets,tree_features,'target')\n",
        "train_acc,test_acc = decision_tree_accuracies(tree,train_tweets,test_tweets)\n",
        "print(\"Train acc:\",train_acc)\n",
        "print(\"Test acc:\",test_acc)"
      ],
      "metadata": {
        "id": "I7MMoM-XlkZq",
        "colab": {
          "base_uri": "https://localhost:8080/"
        },
        "outputId": "be9c7e02-7d95-430e-9618-34cfcbc52aec"
      },
      "execution_count": null,
      "outputs": [
        {
          "output_type": "stream",
          "name": "stderr",
          "text": [
            "/usr/local/lib/python3.7/dist-packages/ipykernel_launcher.py:2: VisibleDeprecationWarning: Creating an ndarray from ragged nested sequences (which is a list-or-tuple of lists-or-tuples-or ndarrays with different lengths or shapes) is deprecated. If you meant to do this, you must specify 'dtype=object' when creating the ndarray.\n",
            "  \n"
          ]
        },
        {
          "output_type": "stream",
          "name": "stdout",
          "text": [
            "Train acc: 0.7582\n",
            "Test acc: 0.7313432835820896\n"
          ]
        }
      ]
    },
    {
      "cell_type": "markdown",
      "source": [
        "### Most Optimal Trees with 1,2, or 3 Features"
      ],
      "metadata": {
        "id": "YJu2vB__BfS7"
      }
    },
    {
      "cell_type": "code",
      "source": [
        "list1 = [0,1,2,3,4,5,6,7,8]\n",
        "\n",
        "perm = []\n",
        "\n",
        "for i in range(1,4):\n",
        "    perm.extend(list(itertools.combinations(list1, r=i)))\n",
        "print(len(perm))"
      ],
      "metadata": {
        "colab": {
          "base_uri": "https://localhost:8080/"
        },
        "id": "HxDTHFZTyuzB",
        "outputId": "464a01d5-204d-40f6-dd01-264b13396867"
      },
      "execution_count": null,
      "outputs": [
        {
          "output_type": "stream",
          "name": "stdout",
          "text": [
            "129\n"
          ]
        }
      ]
    },
    {
      "cell_type": "code",
      "source": [
        "trees = []\n",
        "tree_stats = {}\n",
        "shuffle_and_split(data)\n",
        "for comb in perm:\n",
        "  feats = [features[i] for i in comb]\n",
        "  #print(feats)\n",
        "  \n",
        "  t = build_tree_id3(train_tweets,feats,'target')\n",
        "  if(5000/num_leaves(t)<5):\n",
        "    continue\n",
        "\n",
        "  trees.append(feats)\n",
        "  acc = (decision_tree_accuracies(t,train_tweets,test_tweets)[1]) # if this produces an error rerun the accuracy function cell in the accuracy of tree section\n",
        "  tree_stats[str(feats)] = acc\n",
        "  #print()\n",
        "\n",
        "x = sorted(tree_stats.items(), key=lambda item: -item[1])\n",
        "x = x[:20]\n",
        "feat_set_str = [a for a,_ in x]\n",
        "best_performing_feature_sets = [a for a in trees if str(a) in feat_set_str]\n",
        "print(best_performing_feature_sets)"
      ],
      "metadata": {
        "colab": {
          "base_uri": "https://localhost:8080/"
        },
        "id": "tSTIUGydznT6",
        "outputId": "21d12975-9947-48a8-d889-780a5ea88dc7"
      },
      "execution_count": null,
      "outputs": [
        {
          "output_type": "stream",
          "name": "stderr",
          "text": [
            "/usr/local/lib/python3.7/dist-packages/ipykernel_launcher.py:2: VisibleDeprecationWarning: Creating an ndarray from ragged nested sequences (which is a list-or-tuple of lists-or-tuples-or ndarrays with different lengths or shapes) is deprecated. If you meant to do this, you must specify 'dtype=object' when creating the ndarray.\n",
            "  \n"
          ]
        },
        {
          "output_type": "stream",
          "name": "stdout",
          "text": [
            "[['keyword'], ['keyword2'], ['keyword', 'link'], ['keyword', 'num_hashtags'], ['keyword', 'bigrams'], ['link', 'keyword2'], ['num_hashtags', 'keyword2'], ['word_count', 'keyword2'], ['keyword2', 'bigrams'], ['keyword', 'link', 'num_hashtags'], ['keyword', 'link', 'bigrams'], ['keyword', 'num_hashtags', 'bigrams'], ['link', 'num_hashtags', 'keyword2'], ['link', 'word_count', 'keyword2'], ['link', 'char_count', 'keyword2'], ['link', 'keyword2', 'bigrams'], ['num_hashtags', 'word_count', 'keyword2'], ['num_hashtags', 'keyword2', 'bigrams'], ['word_count', 'keyword2', 'bigrams'], ['char_count', 'keyword2', 'bigrams']]\n"
          ]
        }
      ]
    },
    {
      "cell_type": "markdown",
      "source": [
        "The cell above runs for about 3 minutes because it builds and evualtes the accuracy of 129 decision trees.\n",
        "\n",
        "\n",
        "If you want to skip it, then set the best_performing_feature_sets variable manually with the cell below"
      ],
      "metadata": {
        "id": "oyMhySTVExax"
      }
    },
    {
      "cell_type": "code",
      "source": [
        "#best_performing_feature_sets = [['keyword'], ['keyword2'], ['keyword', 'link'], ['keyword', 'num_hashtags'], ['keyword', 'bigrams'], ['link', 'keyword2'], ['num_hashtags', 'keyword2'], ['word_count', 'keyword2'], ['keyword2', 'bigrams'], ['keyword', 'link', 'num_hashtags'], ['keyword', 'link', 'bigrams'], ['keyword', 'num_hashtags', 'bigrams'], ['link', 'num_hashtags', 'keyword2'], ['link', 'word_count', 'keyword2'], ['link', 'char_count', 'keyword2'], ['link', 'keyword2', 'bigrams'], ['num_hashtags', 'word_count', 'keyword2'], ['num_hashtags', 'keyword2', 'bigrams'], ['word_count', 'keyword2', 'bigrams'], ['char_count', 'keyword2', 'bigrams']]"
      ],
      "metadata": {
        "id": "PFAy447mFuEV"
      },
      "execution_count": null,
      "outputs": []
    },
    {
      "cell_type": "code",
      "source": [
        "trees = []\n",
        "shuffle_and_split(data)\n",
        "test_accs = []\n",
        "for i in range(10):\n",
        "  for j in range(3):\n",
        "    shuffle_and_split(data)\n",
        "    createTweetsObjects()\n",
        "    trees.append(build_tree_id3(train_tweets,best_performing_feature_sets[i],'target'))\n",
        "    train_acc,test_acc = decision_tree_accuracies(trees[len(trees)-1],train_tweets,test_tweets) # if this produces an error rerun the accuracy function cell in the accuracy of tree section\n",
        "    print(\"Train accuracy:\",train_acc,\"Test accuracy:\",test_acc) \n",
        "    test_accs.append(test_acc)"
      ],
      "metadata": {
        "colab": {
          "base_uri": "https://localhost:8080/"
        },
        "id": "nfLg_qFYBvR7",
        "outputId": "d54b35b0-49a4-4a08-9750-8a72f211c0b9"
      },
      "execution_count": null,
      "outputs": [
        {
          "output_type": "stream",
          "name": "stderr",
          "text": [
            "/usr/local/lib/python3.7/dist-packages/ipykernel_launcher.py:2: VisibleDeprecationWarning: Creating an ndarray from ragged nested sequences (which is a list-or-tuple of lists-or-tuples-or ndarrays with different lengths or shapes) is deprecated. If you meant to do this, you must specify 'dtype=object' when creating the ndarray.\n",
            "  \n"
          ]
        },
        {
          "output_type": "stream",
          "name": "stdout",
          "text": [
            "Train accuracy: 0.7468 Test accuracy: 0.7313432835820896\n",
            "Train accuracy: 0.749 Test accuracy: 0.730195177956372\n",
            "Train accuracy: 0.7386 Test accuracy: 0.7470340604668962\n",
            "Train accuracy: 0.6934 Test accuracy: 0.6949866054343666\n",
            "Train accuracy: 0.7008 Test accuracy: 0.6800612323000382\n",
            "Train accuracy: 0.6932 Test accuracy: 0.6961347110600842\n",
            "Train accuracy: 0.7714 Test accuracy: 0.7393800229621125\n",
            "Train accuracy: 0.7714 Test accuracy: 0.7374665135859165\n",
            "Train accuracy: 0.7728 Test accuracy: 0.7455032529659396\n",
            "Train accuracy: 0.7808 Test accuracy: 0.7106773823191733\n",
            "Train accuracy: 0.7732 Test accuracy: 0.7125908916953693\n",
            "Train accuracy: 0.7808 Test accuracy: 0.7141216991963261\n",
            "Train accuracy: 0.758 Test accuracy: 0.7248373517030233\n",
            "Train accuracy: 0.7558 Test accuracy: 0.7252200535782626\n",
            "Train accuracy: 0.7624 Test accuracy: 0.7168006123230004\n",
            "Train accuracy: 0.7248 Test accuracy: 0.6900114810562572\n",
            "Train accuracy: 0.7228 Test accuracy: 0.6926903941829315\n",
            "Train accuracy: 0.721 Test accuracy: 0.7022579410639113\n",
            "Train accuracy: 0.7156 Test accuracy: 0.6800612323000382\n",
            "Train accuracy: 0.7156 Test accuracy: 0.669345579793341\n",
            "Train accuracy: 0.7146 Test accuracy: 0.681592039800995\n",
            "Train accuracy: 0.7314 Test accuracy: 0.6704936854190585\n",
            "Train accuracy: 0.726 Test accuracy: 0.6842709529276694\n",
            "Train accuracy: 0.7282 Test accuracy: 0.6777650210486031\n",
            "Train accuracy: 0.721 Test accuracy: 0.6995790279372369\n",
            "Train accuracy: 0.7206 Test accuracy: 0.6926903941829315\n",
            "Train accuracy: 0.7214 Test accuracy: 0.7095292766934558\n",
            "Train accuracy: 0.8084 Test accuracy: 0.732108687332568\n",
            "Train accuracy: 0.8038 Test accuracy: 0.7294297742058936\n",
            "Train accuracy: 0.8098 Test accuracy: 0.722158438576349\n"
          ]
        }
      ]
    },
    {
      "cell_type": "markdown",
      "source": [
        "### Kaggle Submission Hard Coded Random Forest"
      ],
      "metadata": {
        "id": "BNGPt3beCG72"
      }
    },
    {
      "cell_type": "code",
      "source": [
        "outputs=[]\n",
        "for i in range(len(trees)):\n",
        "  outputs.append([])\n",
        "  for j in range(len(submit_tweets)):\n",
        "    predictedOutput(trees[i],submit_tweets[j])\n",
        "    outputs[i].append(value)\n",
        "len(outputs[i])"
      ],
      "metadata": {
        "colab": {
          "base_uri": "https://localhost:8080/"
        },
        "id": "_GkZnnQvCI6n",
        "outputId": "cc868768-8b9a-4efd-bf5a-350c87105187"
      },
      "execution_count": null,
      "outputs": [
        {
          "output_type": "execute_result",
          "data": {
            "text/plain": [
              "3263"
            ]
          },
          "metadata": {},
          "execution_count": 240
        }
      ]
    },
    {
      "cell_type": "code",
      "source": [
        "len(trees)"
      ],
      "metadata": {
        "colab": {
          "base_uri": "https://localhost:8080/"
        },
        "id": "Ux9GWXZzUrxj",
        "outputId": "ae9fbf9b-69f5-45e5-929f-f9324c210436"
      },
      "execution_count": null,
      "outputs": [
        {
          "output_type": "execute_result",
          "data": {
            "text/plain": [
              "30"
            ]
          },
          "metadata": {},
          "execution_count": 241
        }
      ]
    },
    {
      "cell_type": "code",
      "source": [
        "output = []\n",
        "for i in range(len(outputs[i])):\n",
        "  zero = 0\n",
        "  one = 0\n",
        "  for j in range(len(trees)):\n",
        "    if outputs[j][i]=='0':\n",
        "      zero+=test_accs[j]*1000\n",
        "    else:\n",
        "      one+=test_accs[j]*1000\n",
        "  if zero>one:\n",
        "    output.append(0)\n",
        "  else:\n",
        "    output.append(1)\n",
        "\n",
        "print(output.count(1))"
      ],
      "metadata": {
        "colab": {
          "base_uri": "https://localhost:8080/"
        },
        "id": "fFLxBbm4COkc",
        "outputId": "053c36af-c2d7-44c7-88c8-bf0e189a0bba"
      },
      "execution_count": null,
      "outputs": [
        {
          "output_type": "stream",
          "name": "stdout",
          "text": [
            "1143\n"
          ]
        }
      ]
    },
    {
      "cell_type": "code",
      "source": [
        "df = pd.read_csv(\"kaggle/data/sample_submission.csv\")\n",
        "for i in range(len(output)):\n",
        "  df.loc[i, 'target'] = int(output[i])\n",
        "df.to_csv(\"kaggle/data/sample_submission.csv\", index = False)"
      ],
      "metadata": {
        "id": "GgzPOyyrCXl4"
      },
      "execution_count": null,
      "outputs": []
    },
    {
      "cell_type": "code",
      "source": [
        "#!kaggle competitions submit -c nlp-getting-started -f kaggle/data/sample_submission.csv -m \"Random Forest (60 Trees) : Optimal Feature Mix\""
      ],
      "metadata": {
        "colab": {
          "base_uri": "https://localhost:8080/"
        },
        "id": "oJyS-bxWCZ0K",
        "outputId": "52b36376-66a3-4163-a427-a807ebb0dcf0"
      },
      "execution_count": null,
      "outputs": [
        {
          "output_type": "stream",
          "name": "stdout",
          "text": [
            "100% 22.2k/22.2k [00:00<00:00, 50.2kB/s]\n",
            "Successfully submitted to Natural Language Processing with Disaster Tweets"
          ]
        }
      ]
    },
    {
      "cell_type": "code",
      "source": [
        "!kaggle competitions submissions -c nlp-getting-started"
      ],
      "metadata": {
        "colab": {
          "base_uri": "https://localhost:8080/"
        },
        "id": "pqFTRXFyCdAI",
        "outputId": "d2ba8693-36d5-48a2-95d6-f320d95a2016"
      },
      "execution_count": null,
      "outputs": [
        {
          "output_type": "stream",
          "name": "stdout",
          "text": [
            "fileName                   date                 description                                      status    publicScore  privateScore  \n",
            "-------------------------  -------------------  -----------------------------------------------  --------  -----------  ------------  \n",
            "sample_submission.csv      2022-04-25 03:51:14  Single Decision Tree                             complete  0.65430                    \n",
            "sample_submission.csv      2022-04-25 03:45:00                                                   complete  0.71713                    \n",
            "sample_submission.csv      2022-04-25 03:41:47  Random Forest (60 Trees) : Optimal Feature Mix   complete  0.74777                    \n",
            "sample_submission (3).csv  2022-04-24 23:53:07   RandomForestClassifier()                        complete  0.77536                    \n",
            "sample_submission (2).csv  2022-04-24 06:52:44  Random Forest (60 Tress): Optimal Feature Mix    complete  0.74992                    \n",
            "sample_submission (1).csv  2022-04-24 06:40:26  Random Forest (50 Trees): Feature Randomization  complete  0.72080                    \n"
          ]
        }
      ]
    },
    {
      "cell_type": "markdown",
      "source": [
        "The hard coded random forest has an accuracy of about 75%"
      ],
      "metadata": {
        "id": "I0B604Q1zCfT"
      }
    },
    {
      "cell_type": "markdown",
      "source": [
        "## sklearn RandomForestClassifier"
      ],
      "metadata": {
        "id": "DmmemiJdehRk"
      }
    },
    {
      "cell_type": "code",
      "source": [
        "predictedOutput(tree,train_tweets[100])\n",
        "print(\"Predicted Value: \",value)\n",
        "print(\"Actual Value: \", train_tweets[100].target)"
      ],
      "metadata": {
        "id": "Ai3F53W065Xs",
        "outputId": "c8b67c73-046e-46ae-fb3c-cd4175307f35",
        "colab": {
          "base_uri": "https://localhost:8080/"
        }
      },
      "execution_count": null,
      "outputs": [
        {
          "output_type": "stream",
          "name": "stdout",
          "text": [
            "Predicted Value:  1\n",
            "Actual Value:  1\n"
          ]
        }
      ]
    },
    {
      "cell_type": "code",
      "source": [
        "df = pd.read_csv('kaggle/data/train.csv') # 'kaggle/data/train.csv'\n",
        "df1 = pd.read_csv('kaggle/data/test.csv') # 'kaggle/data/test.csv'\n",
        "df.head()"
      ],
      "metadata": {
        "id": "0L_NbSq_ksZT",
        "colab": {
          "base_uri": "https://localhost:8080/",
          "height": 206
        },
        "outputId": "b6fa1f49-9111-4b91-c809-b5a097760b28"
      },
      "execution_count": null,
      "outputs": [
        {
          "output_type": "execute_result",
          "data": {
            "text/plain": [
              "   id keyword location                                               text  \\\n",
              "0   1     NaN      NaN  Our Deeds are the Reason of this #earthquake M...   \n",
              "1   4     NaN      NaN             Forest fire near La Ronge Sask. Canada   \n",
              "2   5     NaN      NaN  All residents asked to 'shelter in place' are ...   \n",
              "3   6     NaN      NaN  13,000 people receive #wildfires evacuation or...   \n",
              "4   7     NaN      NaN  Just got sent this photo from Ruby #Alaska as ...   \n",
              "\n",
              "   target  \n",
              "0       1  \n",
              "1       1  \n",
              "2       1  \n",
              "3       1  \n",
              "4       1  "
            ],
            "text/html": [
              "\n",
              "  <div id=\"df-4080d58f-d331-45a5-aba1-3c3d8545ec56\">\n",
              "    <div class=\"colab-df-container\">\n",
              "      <div>\n",
              "<style scoped>\n",
              "    .dataframe tbody tr th:only-of-type {\n",
              "        vertical-align: middle;\n",
              "    }\n",
              "\n",
              "    .dataframe tbody tr th {\n",
              "        vertical-align: top;\n",
              "    }\n",
              "\n",
              "    .dataframe thead th {\n",
              "        text-align: right;\n",
              "    }\n",
              "</style>\n",
              "<table border=\"1\" class=\"dataframe\">\n",
              "  <thead>\n",
              "    <tr style=\"text-align: right;\">\n",
              "      <th></th>\n",
              "      <th>id</th>\n",
              "      <th>keyword</th>\n",
              "      <th>location</th>\n",
              "      <th>text</th>\n",
              "      <th>target</th>\n",
              "    </tr>\n",
              "  </thead>\n",
              "  <tbody>\n",
              "    <tr>\n",
              "      <th>0</th>\n",
              "      <td>1</td>\n",
              "      <td>NaN</td>\n",
              "      <td>NaN</td>\n",
              "      <td>Our Deeds are the Reason of this #earthquake M...</td>\n",
              "      <td>1</td>\n",
              "    </tr>\n",
              "    <tr>\n",
              "      <th>1</th>\n",
              "      <td>4</td>\n",
              "      <td>NaN</td>\n",
              "      <td>NaN</td>\n",
              "      <td>Forest fire near La Ronge Sask. Canada</td>\n",
              "      <td>1</td>\n",
              "    </tr>\n",
              "    <tr>\n",
              "      <th>2</th>\n",
              "      <td>5</td>\n",
              "      <td>NaN</td>\n",
              "      <td>NaN</td>\n",
              "      <td>All residents asked to 'shelter in place' are ...</td>\n",
              "      <td>1</td>\n",
              "    </tr>\n",
              "    <tr>\n",
              "      <th>3</th>\n",
              "      <td>6</td>\n",
              "      <td>NaN</td>\n",
              "      <td>NaN</td>\n",
              "      <td>13,000 people receive #wildfires evacuation or...</td>\n",
              "      <td>1</td>\n",
              "    </tr>\n",
              "    <tr>\n",
              "      <th>4</th>\n",
              "      <td>7</td>\n",
              "      <td>NaN</td>\n",
              "      <td>NaN</td>\n",
              "      <td>Just got sent this photo from Ruby #Alaska as ...</td>\n",
              "      <td>1</td>\n",
              "    </tr>\n",
              "  </tbody>\n",
              "</table>\n",
              "</div>\n",
              "      <button class=\"colab-df-convert\" onclick=\"convertToInteractive('df-4080d58f-d331-45a5-aba1-3c3d8545ec56')\"\n",
              "              title=\"Convert this dataframe to an interactive table.\"\n",
              "              style=\"display:none;\">\n",
              "        \n",
              "  <svg xmlns=\"http://www.w3.org/2000/svg\" height=\"24px\"viewBox=\"0 0 24 24\"\n",
              "       width=\"24px\">\n",
              "    <path d=\"M0 0h24v24H0V0z\" fill=\"none\"/>\n",
              "    <path d=\"M18.56 5.44l.94 2.06.94-2.06 2.06-.94-2.06-.94-.94-2.06-.94 2.06-2.06.94zm-11 1L8.5 8.5l.94-2.06 2.06-.94-2.06-.94L8.5 2.5l-.94 2.06-2.06.94zm10 10l.94 2.06.94-2.06 2.06-.94-2.06-.94-.94-2.06-.94 2.06-2.06.94z\"/><path d=\"M17.41 7.96l-1.37-1.37c-.4-.4-.92-.59-1.43-.59-.52 0-1.04.2-1.43.59L10.3 9.45l-7.72 7.72c-.78.78-.78 2.05 0 2.83L4 21.41c.39.39.9.59 1.41.59.51 0 1.02-.2 1.41-.59l7.78-7.78 2.81-2.81c.8-.78.8-2.07 0-2.86zM5.41 20L4 18.59l7.72-7.72 1.47 1.35L5.41 20z\"/>\n",
              "  </svg>\n",
              "      </button>\n",
              "      \n",
              "  <style>\n",
              "    .colab-df-container {\n",
              "      display:flex;\n",
              "      flex-wrap:wrap;\n",
              "      gap: 12px;\n",
              "    }\n",
              "\n",
              "    .colab-df-convert {\n",
              "      background-color: #E8F0FE;\n",
              "      border: none;\n",
              "      border-radius: 50%;\n",
              "      cursor: pointer;\n",
              "      display: none;\n",
              "      fill: #1967D2;\n",
              "      height: 32px;\n",
              "      padding: 0 0 0 0;\n",
              "      width: 32px;\n",
              "    }\n",
              "\n",
              "    .colab-df-convert:hover {\n",
              "      background-color: #E2EBFA;\n",
              "      box-shadow: 0px 1px 2px rgba(60, 64, 67, 0.3), 0px 1px 3px 1px rgba(60, 64, 67, 0.15);\n",
              "      fill: #174EA6;\n",
              "    }\n",
              "\n",
              "    [theme=dark] .colab-df-convert {\n",
              "      background-color: #3B4455;\n",
              "      fill: #D2E3FC;\n",
              "    }\n",
              "\n",
              "    [theme=dark] .colab-df-convert:hover {\n",
              "      background-color: #434B5C;\n",
              "      box-shadow: 0px 1px 3px 1px rgba(0, 0, 0, 0.15);\n",
              "      filter: drop-shadow(0px 1px 2px rgba(0, 0, 0, 0.3));\n",
              "      fill: #FFFFFF;\n",
              "    }\n",
              "  </style>\n",
              "\n",
              "      <script>\n",
              "        const buttonEl =\n",
              "          document.querySelector('#df-4080d58f-d331-45a5-aba1-3c3d8545ec56 button.colab-df-convert');\n",
              "        buttonEl.style.display =\n",
              "          google.colab.kernel.accessAllowed ? 'block' : 'none';\n",
              "\n",
              "        async function convertToInteractive(key) {\n",
              "          const element = document.querySelector('#df-4080d58f-d331-45a5-aba1-3c3d8545ec56');\n",
              "          const dataTable =\n",
              "            await google.colab.kernel.invokeFunction('convertToInteractive',\n",
              "                                                     [key], {});\n",
              "          if (!dataTable) return;\n",
              "\n",
              "          const docLinkHtml = 'Like what you see? Visit the ' +\n",
              "            '<a target=\"_blank\" href=https://colab.research.google.com/notebooks/data_table.ipynb>data table notebook</a>'\n",
              "            + ' to learn more about interactive tables.';\n",
              "          element.innerHTML = '';\n",
              "          dataTable['output_type'] = 'display_data';\n",
              "          await google.colab.output.renderOutput(dataTable, element);\n",
              "          const docLink = document.createElement('div');\n",
              "          docLink.innerHTML = docLinkHtml;\n",
              "          element.appendChild(docLink);\n",
              "        }\n",
              "      </script>\n",
              "    </div>\n",
              "  </div>\n",
              "  "
            ]
          },
          "metadata": {},
          "execution_count": 246
        }
      ]
    },
    {
      "cell_type": "code",
      "source": [
        "df['keyword'].value_counts()"
      ],
      "metadata": {
        "colab": {
          "base_uri": "https://localhost:8080/"
        },
        "id": "u_4xtoDqTOcC",
        "outputId": "aaf8c84d-7cc8-4310-e250-9da460ec1120"
      },
      "execution_count": null,
      "outputs": [
        {
          "output_type": "execute_result",
          "data": {
            "text/plain": [
              "fatalities               45\n",
              "deluge                   42\n",
              "armageddon               42\n",
              "sinking                  41\n",
              "damage                   41\n",
              "                         ..\n",
              "forest%20fire            19\n",
              "epicentre                12\n",
              "threat                   11\n",
              "inundation               10\n",
              "radiation%20emergency     9\n",
              "Name: keyword, Length: 221, dtype: int64"
            ]
          },
          "metadata": {},
          "execution_count": 247
        }
      ]
    },
    {
      "cell_type": "code",
      "source": [
        "df['location'].value_counts()"
      ],
      "metadata": {
        "colab": {
          "base_uri": "https://localhost:8080/"
        },
        "id": "fxk2OBuuTDTE",
        "outputId": "8f9c9f7a-6dea-47b0-a93b-47ab5821f04e"
      },
      "execution_count": null,
      "outputs": [
        {
          "output_type": "execute_result",
          "data": {
            "text/plain": [
              "USA                    104\n",
              "New York                71\n",
              "United States           50\n",
              "London                  45\n",
              "Canada                  29\n",
              "                      ... \n",
              "MontrÌ©al, QuÌ©bec       1\n",
              "Montreal                 1\n",
              "ÌÏT: 6.4682,3.18287      1\n",
              "Live4Heed??              1\n",
              "Lincoln                  1\n",
              "Name: location, Length: 3341, dtype: int64"
            ]
          },
          "metadata": {},
          "execution_count": 248
        }
      ]
    },
    {
      "cell_type": "code",
      "source": [
        "(df.loc[df['target'] == 0]).head()"
      ],
      "metadata": {
        "colab": {
          "base_uri": "https://localhost:8080/",
          "height": 206
        },
        "id": "nKSTfdzlTIfu",
        "outputId": "7e53ed9a-cc1b-4ab6-a3d0-a3365c8722fd"
      },
      "execution_count": null,
      "outputs": [
        {
          "output_type": "execute_result",
          "data": {
            "text/plain": [
              "    id keyword location                          text  target\n",
              "15  23     NaN      NaN                What's up man?       0\n",
              "16  24     NaN      NaN                 I love fruits       0\n",
              "17  25     NaN      NaN              Summer is lovely       0\n",
              "18  26     NaN      NaN             My car is so fast       0\n",
              "19  28     NaN      NaN  What a goooooooaaaaaal!!!!!!       0"
            ],
            "text/html": [
              "\n",
              "  <div id=\"df-fad07b8b-f641-49fb-92a0-eb8209eadead\">\n",
              "    <div class=\"colab-df-container\">\n",
              "      <div>\n",
              "<style scoped>\n",
              "    .dataframe tbody tr th:only-of-type {\n",
              "        vertical-align: middle;\n",
              "    }\n",
              "\n",
              "    .dataframe tbody tr th {\n",
              "        vertical-align: top;\n",
              "    }\n",
              "\n",
              "    .dataframe thead th {\n",
              "        text-align: right;\n",
              "    }\n",
              "</style>\n",
              "<table border=\"1\" class=\"dataframe\">\n",
              "  <thead>\n",
              "    <tr style=\"text-align: right;\">\n",
              "      <th></th>\n",
              "      <th>id</th>\n",
              "      <th>keyword</th>\n",
              "      <th>location</th>\n",
              "      <th>text</th>\n",
              "      <th>target</th>\n",
              "    </tr>\n",
              "  </thead>\n",
              "  <tbody>\n",
              "    <tr>\n",
              "      <th>15</th>\n",
              "      <td>23</td>\n",
              "      <td>NaN</td>\n",
              "      <td>NaN</td>\n",
              "      <td>What's up man?</td>\n",
              "      <td>0</td>\n",
              "    </tr>\n",
              "    <tr>\n",
              "      <th>16</th>\n",
              "      <td>24</td>\n",
              "      <td>NaN</td>\n",
              "      <td>NaN</td>\n",
              "      <td>I love fruits</td>\n",
              "      <td>0</td>\n",
              "    </tr>\n",
              "    <tr>\n",
              "      <th>17</th>\n",
              "      <td>25</td>\n",
              "      <td>NaN</td>\n",
              "      <td>NaN</td>\n",
              "      <td>Summer is lovely</td>\n",
              "      <td>0</td>\n",
              "    </tr>\n",
              "    <tr>\n",
              "      <th>18</th>\n",
              "      <td>26</td>\n",
              "      <td>NaN</td>\n",
              "      <td>NaN</td>\n",
              "      <td>My car is so fast</td>\n",
              "      <td>0</td>\n",
              "    </tr>\n",
              "    <tr>\n",
              "      <th>19</th>\n",
              "      <td>28</td>\n",
              "      <td>NaN</td>\n",
              "      <td>NaN</td>\n",
              "      <td>What a goooooooaaaaaal!!!!!!</td>\n",
              "      <td>0</td>\n",
              "    </tr>\n",
              "  </tbody>\n",
              "</table>\n",
              "</div>\n",
              "      <button class=\"colab-df-convert\" onclick=\"convertToInteractive('df-fad07b8b-f641-49fb-92a0-eb8209eadead')\"\n",
              "              title=\"Convert this dataframe to an interactive table.\"\n",
              "              style=\"display:none;\">\n",
              "        \n",
              "  <svg xmlns=\"http://www.w3.org/2000/svg\" height=\"24px\"viewBox=\"0 0 24 24\"\n",
              "       width=\"24px\">\n",
              "    <path d=\"M0 0h24v24H0V0z\" fill=\"none\"/>\n",
              "    <path d=\"M18.56 5.44l.94 2.06.94-2.06 2.06-.94-2.06-.94-.94-2.06-.94 2.06-2.06.94zm-11 1L8.5 8.5l.94-2.06 2.06-.94-2.06-.94L8.5 2.5l-.94 2.06-2.06.94zm10 10l.94 2.06.94-2.06 2.06-.94-2.06-.94-.94-2.06-.94 2.06-2.06.94z\"/><path d=\"M17.41 7.96l-1.37-1.37c-.4-.4-.92-.59-1.43-.59-.52 0-1.04.2-1.43.59L10.3 9.45l-7.72 7.72c-.78.78-.78 2.05 0 2.83L4 21.41c.39.39.9.59 1.41.59.51 0 1.02-.2 1.41-.59l7.78-7.78 2.81-2.81c.8-.78.8-2.07 0-2.86zM5.41 20L4 18.59l7.72-7.72 1.47 1.35L5.41 20z\"/>\n",
              "  </svg>\n",
              "      </button>\n",
              "      \n",
              "  <style>\n",
              "    .colab-df-container {\n",
              "      display:flex;\n",
              "      flex-wrap:wrap;\n",
              "      gap: 12px;\n",
              "    }\n",
              "\n",
              "    .colab-df-convert {\n",
              "      background-color: #E8F0FE;\n",
              "      border: none;\n",
              "      border-radius: 50%;\n",
              "      cursor: pointer;\n",
              "      display: none;\n",
              "      fill: #1967D2;\n",
              "      height: 32px;\n",
              "      padding: 0 0 0 0;\n",
              "      width: 32px;\n",
              "    }\n",
              "\n",
              "    .colab-df-convert:hover {\n",
              "      background-color: #E2EBFA;\n",
              "      box-shadow: 0px 1px 2px rgba(60, 64, 67, 0.3), 0px 1px 3px 1px rgba(60, 64, 67, 0.15);\n",
              "      fill: #174EA6;\n",
              "    }\n",
              "\n",
              "    [theme=dark] .colab-df-convert {\n",
              "      background-color: #3B4455;\n",
              "      fill: #D2E3FC;\n",
              "    }\n",
              "\n",
              "    [theme=dark] .colab-df-convert:hover {\n",
              "      background-color: #434B5C;\n",
              "      box-shadow: 0px 1px 3px 1px rgba(0, 0, 0, 0.15);\n",
              "      filter: drop-shadow(0px 1px 2px rgba(0, 0, 0, 0.3));\n",
              "      fill: #FFFFFF;\n",
              "    }\n",
              "  </style>\n",
              "\n",
              "      <script>\n",
              "        const buttonEl =\n",
              "          document.querySelector('#df-fad07b8b-f641-49fb-92a0-eb8209eadead button.colab-df-convert');\n",
              "        buttonEl.style.display =\n",
              "          google.colab.kernel.accessAllowed ? 'block' : 'none';\n",
              "\n",
              "        async function convertToInteractive(key) {\n",
              "          const element = document.querySelector('#df-fad07b8b-f641-49fb-92a0-eb8209eadead');\n",
              "          const dataTable =\n",
              "            await google.colab.kernel.invokeFunction('convertToInteractive',\n",
              "                                                     [key], {});\n",
              "          if (!dataTable) return;\n",
              "\n",
              "          const docLinkHtml = 'Like what you see? Visit the ' +\n",
              "            '<a target=\"_blank\" href=https://colab.research.google.com/notebooks/data_table.ipynb>data table notebook</a>'\n",
              "            + ' to learn more about interactive tables.';\n",
              "          element.innerHTML = '';\n",
              "          dataTable['output_type'] = 'display_data';\n",
              "          await google.colab.output.renderOutput(dataTable, element);\n",
              "          const docLink = document.createElement('div');\n",
              "          docLink.innerHTML = docLinkHtml;\n",
              "          element.appendChild(docLink);\n",
              "        }\n",
              "      </script>\n",
              "    </div>\n",
              "  </div>\n",
              "  "
            ]
          },
          "metadata": {},
          "execution_count": 249
        }
      ]
    },
    {
      "cell_type": "code",
      "source": [
        "StopWords = nltk.corpus.stopwords.words('english')\n",
        "def sample(text):\n",
        "    text = ''.join([word.lower() for word in text if word not in string.punctuation])\n",
        "    split = re.split('\\W+',text)\n",
        "    text = [word for word in split if word not in StopWords]\n",
        "    return text \n",
        "df['sample'] = df['text'].apply(lambda x:sample(x))\n",
        "df.head()"
      ],
      "metadata": {
        "colab": {
          "base_uri": "https://localhost:8080/",
          "height": 206
        },
        "id": "FQUzClaaUy95",
        "outputId": "2dac1c4c-62d8-44ae-958d-4e2b9404f192"
      },
      "execution_count": null,
      "outputs": [
        {
          "output_type": "execute_result",
          "data": {
            "text/plain": [
              "   id keyword location                                               text  \\\n",
              "0   1     NaN      NaN  Our Deeds are the Reason of this #earthquake M...   \n",
              "1   4     NaN      NaN             Forest fire near La Ronge Sask. Canada   \n",
              "2   5     NaN      NaN  All residents asked to 'shelter in place' are ...   \n",
              "3   6     NaN      NaN  13,000 people receive #wildfires evacuation or...   \n",
              "4   7     NaN      NaN  Just got sent this photo from Ruby #Alaska as ...   \n",
              "\n",
              "   target                                             sample  \n",
              "0       1  [deeds, reason, earthquake, may, allah, forgiv...  \n",
              "1       1      [forest, fire, near, la, ronge, sask, canada]  \n",
              "2       1  [residents, asked, shelter, place, notified, o...  \n",
              "3       1  [13000, people, receive, wildfires, evacuation...  \n",
              "4       1  [got, sent, photo, ruby, alaska, smoke, wildfi...  "
            ],
            "text/html": [
              "\n",
              "  <div id=\"df-ebdc8c7a-9155-45d5-8660-f923f5a3c5c6\">\n",
              "    <div class=\"colab-df-container\">\n",
              "      <div>\n",
              "<style scoped>\n",
              "    .dataframe tbody tr th:only-of-type {\n",
              "        vertical-align: middle;\n",
              "    }\n",
              "\n",
              "    .dataframe tbody tr th {\n",
              "        vertical-align: top;\n",
              "    }\n",
              "\n",
              "    .dataframe thead th {\n",
              "        text-align: right;\n",
              "    }\n",
              "</style>\n",
              "<table border=\"1\" class=\"dataframe\">\n",
              "  <thead>\n",
              "    <tr style=\"text-align: right;\">\n",
              "      <th></th>\n",
              "      <th>id</th>\n",
              "      <th>keyword</th>\n",
              "      <th>location</th>\n",
              "      <th>text</th>\n",
              "      <th>target</th>\n",
              "      <th>sample</th>\n",
              "    </tr>\n",
              "  </thead>\n",
              "  <tbody>\n",
              "    <tr>\n",
              "      <th>0</th>\n",
              "      <td>1</td>\n",
              "      <td>NaN</td>\n",
              "      <td>NaN</td>\n",
              "      <td>Our Deeds are the Reason of this #earthquake M...</td>\n",
              "      <td>1</td>\n",
              "      <td>[deeds, reason, earthquake, may, allah, forgiv...</td>\n",
              "    </tr>\n",
              "    <tr>\n",
              "      <th>1</th>\n",
              "      <td>4</td>\n",
              "      <td>NaN</td>\n",
              "      <td>NaN</td>\n",
              "      <td>Forest fire near La Ronge Sask. Canada</td>\n",
              "      <td>1</td>\n",
              "      <td>[forest, fire, near, la, ronge, sask, canada]</td>\n",
              "    </tr>\n",
              "    <tr>\n",
              "      <th>2</th>\n",
              "      <td>5</td>\n",
              "      <td>NaN</td>\n",
              "      <td>NaN</td>\n",
              "      <td>All residents asked to 'shelter in place' are ...</td>\n",
              "      <td>1</td>\n",
              "      <td>[residents, asked, shelter, place, notified, o...</td>\n",
              "    </tr>\n",
              "    <tr>\n",
              "      <th>3</th>\n",
              "      <td>6</td>\n",
              "      <td>NaN</td>\n",
              "      <td>NaN</td>\n",
              "      <td>13,000 people receive #wildfires evacuation or...</td>\n",
              "      <td>1</td>\n",
              "      <td>[13000, people, receive, wildfires, evacuation...</td>\n",
              "    </tr>\n",
              "    <tr>\n",
              "      <th>4</th>\n",
              "      <td>7</td>\n",
              "      <td>NaN</td>\n",
              "      <td>NaN</td>\n",
              "      <td>Just got sent this photo from Ruby #Alaska as ...</td>\n",
              "      <td>1</td>\n",
              "      <td>[got, sent, photo, ruby, alaska, smoke, wildfi...</td>\n",
              "    </tr>\n",
              "  </tbody>\n",
              "</table>\n",
              "</div>\n",
              "      <button class=\"colab-df-convert\" onclick=\"convertToInteractive('df-ebdc8c7a-9155-45d5-8660-f923f5a3c5c6')\"\n",
              "              title=\"Convert this dataframe to an interactive table.\"\n",
              "              style=\"display:none;\">\n",
              "        \n",
              "  <svg xmlns=\"http://www.w3.org/2000/svg\" height=\"24px\"viewBox=\"0 0 24 24\"\n",
              "       width=\"24px\">\n",
              "    <path d=\"M0 0h24v24H0V0z\" fill=\"none\"/>\n",
              "    <path d=\"M18.56 5.44l.94 2.06.94-2.06 2.06-.94-2.06-.94-.94-2.06-.94 2.06-2.06.94zm-11 1L8.5 8.5l.94-2.06 2.06-.94-2.06-.94L8.5 2.5l-.94 2.06-2.06.94zm10 10l.94 2.06.94-2.06 2.06-.94-2.06-.94-.94-2.06-.94 2.06-2.06.94z\"/><path d=\"M17.41 7.96l-1.37-1.37c-.4-.4-.92-.59-1.43-.59-.52 0-1.04.2-1.43.59L10.3 9.45l-7.72 7.72c-.78.78-.78 2.05 0 2.83L4 21.41c.39.39.9.59 1.41.59.51 0 1.02-.2 1.41-.59l7.78-7.78 2.81-2.81c.8-.78.8-2.07 0-2.86zM5.41 20L4 18.59l7.72-7.72 1.47 1.35L5.41 20z\"/>\n",
              "  </svg>\n",
              "      </button>\n",
              "      \n",
              "  <style>\n",
              "    .colab-df-container {\n",
              "      display:flex;\n",
              "      flex-wrap:wrap;\n",
              "      gap: 12px;\n",
              "    }\n",
              "\n",
              "    .colab-df-convert {\n",
              "      background-color: #E8F0FE;\n",
              "      border: none;\n",
              "      border-radius: 50%;\n",
              "      cursor: pointer;\n",
              "      display: none;\n",
              "      fill: #1967D2;\n",
              "      height: 32px;\n",
              "      padding: 0 0 0 0;\n",
              "      width: 32px;\n",
              "    }\n",
              "\n",
              "    .colab-df-convert:hover {\n",
              "      background-color: #E2EBFA;\n",
              "      box-shadow: 0px 1px 2px rgba(60, 64, 67, 0.3), 0px 1px 3px 1px rgba(60, 64, 67, 0.15);\n",
              "      fill: #174EA6;\n",
              "    }\n",
              "\n",
              "    [theme=dark] .colab-df-convert {\n",
              "      background-color: #3B4455;\n",
              "      fill: #D2E3FC;\n",
              "    }\n",
              "\n",
              "    [theme=dark] .colab-df-convert:hover {\n",
              "      background-color: #434B5C;\n",
              "      box-shadow: 0px 1px 3px 1px rgba(0, 0, 0, 0.15);\n",
              "      filter: drop-shadow(0px 1px 2px rgba(0, 0, 0, 0.3));\n",
              "      fill: #FFFFFF;\n",
              "    }\n",
              "  </style>\n",
              "\n",
              "      <script>\n",
              "        const buttonEl =\n",
              "          document.querySelector('#df-ebdc8c7a-9155-45d5-8660-f923f5a3c5c6 button.colab-df-convert');\n",
              "        buttonEl.style.display =\n",
              "          google.colab.kernel.accessAllowed ? 'block' : 'none';\n",
              "\n",
              "        async function convertToInteractive(key) {\n",
              "          const element = document.querySelector('#df-ebdc8c7a-9155-45d5-8660-f923f5a3c5c6');\n",
              "          const dataTable =\n",
              "            await google.colab.kernel.invokeFunction('convertToInteractive',\n",
              "                                                     [key], {});\n",
              "          if (!dataTable) return;\n",
              "\n",
              "          const docLinkHtml = 'Like what you see? Visit the ' +\n",
              "            '<a target=\"_blank\" href=https://colab.research.google.com/notebooks/data_table.ipynb>data table notebook</a>'\n",
              "            + ' to learn more about interactive tables.';\n",
              "          element.innerHTML = '';\n",
              "          dataTable['output_type'] = 'display_data';\n",
              "          await google.colab.output.renderOutput(dataTable, element);\n",
              "          const docLink = document.createElement('div');\n",
              "          docLink.innerHTML = docLinkHtml;\n",
              "          element.appendChild(docLink);\n",
              "        }\n",
              "      </script>\n",
              "    </div>\n",
              "  </div>\n",
              "  "
            ]
          },
          "metadata": {},
          "execution_count": 250
        }
      ]
    },
    {
      "cell_type": "code",
      "source": [
        "X_train, X_test, Y_train, Y_test = train_test_split(df['text'], df['target'])\n",
        "X_train.head()"
      ],
      "metadata": {
        "colab": {
          "base_uri": "https://localhost:8080/"
        },
        "id": "vMricZ5-VXKe",
        "outputId": "217a4426-0a04-4ea6-9ac1-684bcd61126a"
      },
      "execution_count": null,
      "outputs": [
        {
          "output_type": "execute_result",
          "data": {
            "text/plain": [
              "1039    Nine giant body sized garbage bags later...I'm...\n",
              "4917    I liked a @YouTube video from @itsjustinstuart...\n",
              "2633    Megadeth Week - Symphony Of Destruction http:/...\n",
              "2679    @TinyJecht Are you another Stand-user? If you ...\n",
              "4483    No #news of #hostages in #Libya\\n\\nhttp://t.co...\n",
              "Name: text, dtype: object"
            ]
          },
          "metadata": {},
          "execution_count": 251
        }
      ]
    },
    {
      "cell_type": "code",
      "source": [
        "df_vec = TfidfVectorizer() # transforms the text of the tweet into a usable vector (feature extraction of the tweet)\n",
        "X_train_vec = df_vec.fit_transform(X_train)\n",
        "X_test_vec = df_vec.transform(X_test)"
      ],
      "metadata": {
        "id": "7kY8nTqlIOd-"
      },
      "execution_count": null,
      "outputs": []
    },
    {
      "cell_type": "code",
      "source": [
        "rfc = RandomForestClassifier()\n",
        "rfc_model = rfc.fit(X_train_vec, Y_train.values.ravel())\n",
        "pred = rfc_model.predict(X_test_vec)"
      ],
      "metadata": {
        "id": "cAyBCSIIIUpP"
      },
      "execution_count": null,
      "outputs": []
    },
    {
      "cell_type": "code",
      "source": [
        "prec = precision_score(Y_test, pred)\n",
        "print(f\"Accuracy: {round((pred==Y_test).sum()/len(pred), 3)} Precision: {round(prec, 3)}\")"
      ],
      "metadata": {
        "colab": {
          "base_uri": "https://localhost:8080/"
        },
        "id": "J2vykC0fId8X",
        "outputId": "b08541a8-5842-47f7-9776-8887102e8c2b"
      },
      "execution_count": null,
      "outputs": [
        {
          "output_type": "stream",
          "name": "stdout",
          "text": [
            "Accuracy: 0.78 Precision: 0.857\n"
          ]
        }
      ]
    },
    {
      "cell_type": "markdown",
      "source": [
        "### Kaggle Submission of Random Forest (sklearn RandomForestClassifier)"
      ],
      "metadata": {
        "id": "Kcu47z6E56-a"
      }
    },
    {
      "cell_type": "code",
      "source": [
        "df1['target'] = -1\n",
        "df1['sample'] = df1['text'].apply(lambda x:sample(x))"
      ],
      "metadata": {
        "id": "gsnHLTpe5-Ua"
      },
      "execution_count": null,
      "outputs": []
    },
    {
      "cell_type": "code",
      "source": [
        "a, kaggle_test, c, d = train_test_split(df1['text'], df1['target'],train_size=1)"
      ],
      "metadata": {
        "id": "vX6Jnr0R6i-n"
      },
      "execution_count": null,
      "outputs": []
    },
    {
      "cell_type": "code",
      "source": [
        "df_vec = TfidfVectorizer() # transforms the text of the tweet into a usable vector (feature extraction of the tweet)\n",
        "X_train_vec = df_vec.fit_transform(X_train)\n",
        "X_test_vec = df_vec.transform(kaggle_test)"
      ],
      "metadata": {
        "id": "WQXUqGD73yd7"
      },
      "execution_count": null,
      "outputs": []
    },
    {
      "cell_type": "code",
      "source": [
        "rfc = RandomForestClassifier()\n",
        "rfc_model = rfc.fit(X_train_vec, Y_train.values.ravel())\n",
        "pred = rfc_model.predict(X_test_vec)"
      ],
      "metadata": {
        "id": "zkZ73RHz73XR"
      },
      "execution_count": null,
      "outputs": []
    },
    {
      "cell_type": "code",
      "source": [
        "np.bincount(pred)"
      ],
      "metadata": {
        "colab": {
          "base_uri": "https://localhost:8080/"
        },
        "id": "XchhmGKc79Ft",
        "outputId": "b53bf6da-86bc-495c-b285-5c6fac0eebfa"
      },
      "execution_count": null,
      "outputs": [
        {
          "output_type": "execute_result",
          "data": {
            "text/plain": [
              "array([2301,  961])"
            ]
          },
          "metadata": {},
          "execution_count": 259
        }
      ]
    },
    {
      "cell_type": "code",
      "source": [
        "submit_list = list(kaggle_test.items())"
      ],
      "metadata": {
        "id": "THtO7UqC8_fy"
      },
      "execution_count": null,
      "outputs": []
    },
    {
      "cell_type": "code",
      "source": [
        "submit = []\n",
        "for i in range(3263):\n",
        "  submit.append(1)"
      ],
      "metadata": {
        "id": "hBxCVIJ897Ms"
      },
      "execution_count": null,
      "outputs": []
    },
    {
      "cell_type": "code",
      "source": [
        "i=0\n",
        "for index,_ in submit_list:\n",
        "  submit[index] = pred[i]\n",
        "  i+=1"
      ],
      "metadata": {
        "id": "wmxpTnJg9sse"
      },
      "execution_count": null,
      "outputs": []
    },
    {
      "cell_type": "code",
      "source": [
        "submit.count(0)"
      ],
      "metadata": {
        "colab": {
          "base_uri": "https://localhost:8080/"
        },
        "id": "CPHnaypF_ANL",
        "outputId": "036cfd7e-3472-47f0-a613-0a5cd47c657d"
      },
      "execution_count": null,
      "outputs": [
        {
          "output_type": "execute_result",
          "data": {
            "text/plain": [
              "2301"
            ]
          },
          "metadata": {},
          "execution_count": 263
        }
      ]
    },
    {
      "cell_type": "code",
      "source": [
        "df2 = pd.read_csv(\"kaggle/data/sample_submission.csv\")\n",
        "for i in range(len(submit)):\n",
        "  df2.loc[i, 'target'] = int(submit[i])\n",
        "df2.to_csv(\"kaggle/data/sample_submission.csv\", index = False)"
      ],
      "metadata": {
        "id": "EEMSnCe8-vD9"
      },
      "execution_count": null,
      "outputs": []
    },
    {
      "cell_type": "code",
      "source": [
        "#!kaggle competitions submit -c nlp-getting-started -f kaggle/data/sample_submission.csv -m \"RandomForestClassifier()\""
      ],
      "metadata": {
        "id": "4UOigFkI_NH7"
      },
      "execution_count": null,
      "outputs": []
    },
    {
      "cell_type": "code",
      "source": [
        "!kaggle competitions submissions -c nlp-getting-started"
      ],
      "metadata": {
        "id": "JN-l9foi_QK_",
        "colab": {
          "base_uri": "https://localhost:8080/"
        },
        "outputId": "c50d4620-c27e-432f-cef8-e820f984ecf1"
      },
      "execution_count": null,
      "outputs": [
        {
          "output_type": "stream",
          "name": "stdout",
          "text": [
            "fileName                   date                 description                                      status    publicScore  privateScore  \n",
            "-------------------------  -------------------  -----------------------------------------------  --------  -----------  ------------  \n",
            "sample_submission.csv      2022-04-25 03:51:14  Single Decision Tree                             complete  0.65430                    \n",
            "sample_submission.csv      2022-04-25 03:45:00                                                   complete  0.71713                    \n",
            "sample_submission.csv      2022-04-25 03:41:47  Random Forest (60 Trees) : Optimal Feature Mix   complete  0.74777                    \n",
            "sample_submission (3).csv  2022-04-24 23:53:07   RandomForestClassifier()                        complete  0.77536                    \n",
            "sample_submission (2).csv  2022-04-24 06:52:44  Random Forest (60 Tress): Optimal Feature Mix    complete  0.74992                    \n",
            "sample_submission (1).csv  2022-04-24 06:40:26  Random Forest (50 Trees): Feature Randomization  complete  0.72080                    \n"
          ]
        }
      ]
    },
    {
      "cell_type": "markdown",
      "source": [
        "The sklearn RandomForestClassifier() gives us an accuracy of about 77-78% on the Kaggle submission/test data which can be seen above.\n"
      ],
      "metadata": {
        "id": "QR2ezNck_q8N"
      }
    }
  ]
}