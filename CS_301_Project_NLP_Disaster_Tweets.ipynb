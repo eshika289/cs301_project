{
  "nbformat": 4,
  "nbformat_minor": 0,
  "metadata": {
    "colab": {
      "name": "CS 301 Project - NLP - Disaster Tweets",
      "provenance": [],
      "collapsed_sections": [
        "3MZjlumnpEKm",
        "5OEH3tR8n8XD",
        "1HvJN22spr7-",
        "Cy0KgSe5RpG6",
        "rprC79OSSf1z",
        "fZ3W-fBNRr1Y",
        "ry0ePKYhC4rJ",
        "W3fXWREwC77E",
        "n3Bw3pi6Gc_q",
        "Ws-LiX-KoDGj",
        "2XF3bK3AW-BS",
        "GHEcwKh6yAes",
        "smAoYiMPyB-N",
        "Lf8CA4ZozCcF",
        "-rArfTFo2I7Y",
        "vgNrFYDM1vVr",
        "-na0Idv44SQO",
        "-sWStJ_P9_lf",
        "KYOXMOUHkgQe",
        "FviOkhgBezz1",
        "9Y02ER-oYe1p",
        "q1P20iBPYWEW",
        "pSohROx4Qidk",
        "Ig7qo6iLXUyi",
        "-Ph21W8syGLn",
        "_TArmTguec1K",
        "DmmemiJdehRk",
        "Kcu47z6E56-a"
      ],
      "include_colab_link": true
    },
    "kernelspec": {
      "name": "python3",
      "display_name": "Python 3"
    },
    "language_info": {
      "name": "python"
    }
  },
  "cells": [
    {
      "cell_type": "markdown",
      "metadata": {
        "id": "view-in-github",
        "colab_type": "text"
      },
      "source": [
        "<a href=\"https://colab.research.google.com/github/eshika289/cs301_project/blob/main/CS_301_Project_NLP_Disaster_Tweets.ipynb\" target=\"_parent\"><img src=\"https://colab.research.google.com/assets/colab-badge.svg\" alt=\"Open In Colab\"/></a>"
      ]
    },
    {
      "cell_type": "markdown",
      "source": [
        "# Import Statements"
      ],
      "metadata": {
        "id": "3MZjlumnpEKm"
      }
    },
    {
      "cell_type": "code",
      "source": [
        "import jax.numpy as jnp\n",
        "from jax import grad, jit, vmap\n",
        "from jax import random\n",
        "import jax"
      ],
      "metadata": {
        "id": "APL0P06erOf-"
      },
      "execution_count": 2,
      "outputs": []
    },
    {
      "cell_type": "markdown",
      "source": [
        "https://jax.readthedocs.io/en/latest/notebooks/quickstart.html"
      ],
      "metadata": {
        "id": "aHrLY07ZwuRq"
      }
    },
    {
      "cell_type": "code",
      "source": [
        "import os, shutil\n",
        "import csv\n",
        "import re\n",
        "import string\n",
        "import math\n",
        "import random\n",
        "import numpy as np\n",
        "import pandas as pd \n",
        "import re\n",
        "from sklearn.model_selection import train_test_split\n",
        "from sklearn.feature_extraction.text import TfidfVectorizer\n",
        "from sklearn.ensemble import RandomForestClassifier\n",
        "from sklearn.metrics import precision_score, recall_score\n",
        "from collections import Counter\n",
        "from collections import defaultdict\n",
        "from matplotlib import pyplot as plt"
      ],
      "metadata": {
        "id": "XeGKCQKjxAD9"
      },
      "execution_count": 3,
      "outputs": []
    },
    {
      "cell_type": "code",
      "source": [
        "from typing import List, Union\n",
        "from typing import Any\n",
        "from typing import Dict\n",
        "from typing import TypeVar\n",
        "from typing import NamedTuple, Optional"
      ],
      "metadata": {
        "id": "U4NCEisb0m2T"
      },
      "execution_count": 4,
      "outputs": []
    },
    {
      "cell_type": "code",
      "source": [
        "import nltk\n",
        "nltk.download('stopwords')\n",
        "nltk.download('wordnet')\n",
        "nltk.download('punkt')\n",
        "from nltk.corpus import stopwords\n",
        "from nltk.corpus import wordnet as wn"
      ],
      "metadata": {
        "colab": {
          "base_uri": "https://localhost:8080/"
        },
        "id": "42_ZfksrqZ9F",
        "outputId": "5d39c11d-d5aa-48e2-ab22-18bcf825de48"
      },
      "execution_count": 5,
      "outputs": [
        {
          "output_type": "stream",
          "name": "stdout",
          "text": [
            "[nltk_data] Downloading package stopwords to /root/nltk_data...\n",
            "[nltk_data]   Unzipping corpora/stopwords.zip.\n",
            "[nltk_data] Downloading package wordnet to /root/nltk_data...\n",
            "[nltk_data]   Unzipping corpora/wordnet.zip.\n",
            "[nltk_data] Downloading package punkt to /root/nltk_data...\n",
            "[nltk_data]   Unzipping tokenizers/punkt.zip.\n"
          ]
        }
      ]
    },
    {
      "cell_type": "markdown",
      "source": [
        "# Get Data From Kaggle"
      ],
      "metadata": {
        "id": "5OEH3tR8n8XD"
      }
    },
    {
      "cell_type": "markdown",
      "source": [
        "Get kaggle.json file from kaggle and upload it to the content folder"
      ],
      "metadata": {
        "id": "ptMx-wYPrgqr"
      }
    },
    {
      "cell_type": "code",
      "source": [
        "!pwd # /content"
      ],
      "metadata": {
        "colab": {
          "base_uri": "https://localhost:8080/"
        },
        "id": "Ak2cGh9prm06",
        "outputId": "d1d6533a-5141-426c-9d03-dfa80a91b167"
      },
      "execution_count": 6,
      "outputs": [
        {
          "output_type": "stream",
          "name": "stdout",
          "text": [
            "/content\n"
          ]
        }
      ]
    },
    {
      "cell_type": "code",
      "source": [
        "!mkdir /root/.kaggle\n",
        "!mkdir kaggle"
      ],
      "metadata": {
        "id": "03d8Hklgrpxi"
      },
      "execution_count": 7,
      "outputs": []
    },
    {
      "cell_type": "code",
      "source": [
        "!mv ./kaggle.json /root/.kaggle/kaggle.json\n",
        "#!cat /root/.kaggle/kaggle.json"
      ],
      "metadata": {
        "id": "z51VyhCursMW"
      },
      "execution_count": 8,
      "outputs": []
    },
    {
      "cell_type": "code",
      "source": [
        "#!pip install kaggle\n",
        "!kaggle -v"
      ],
      "metadata": {
        "id": "y1g6tHWXslah",
        "colab": {
          "base_uri": "https://localhost:8080/"
        },
        "outputId": "702c562a-d9ab-4c06-cfd2-c35f1fb1f36a"
      },
      "execution_count": 9,
      "outputs": [
        {
          "output_type": "stream",
          "name": "stdout",
          "text": [
            "Warning: Your Kaggle API key is readable by other users on this system! To fix this, you can run 'chmod 600 /root/.kaggle/kaggle.json'\n",
            "Kaggle API 1.5.12\n"
          ]
        }
      ]
    },
    {
      "cell_type": "code",
      "source": [
        "!chmod 600 /root/.kaggle/kaggle.json"
      ],
      "metadata": {
        "id": "KuQSB3IGsr7p"
      },
      "execution_count": 10,
      "outputs": []
    },
    {
      "cell_type": "code",
      "source": [
        "!kaggle competitions files -c nlp-getting-started"
      ],
      "metadata": {
        "colab": {
          "base_uri": "https://localhost:8080/"
        },
        "id": "fCqsnXy_tE3M",
        "outputId": "f9284fe0-b59f-4658-d6cd-379739cdeb37"
      },
      "execution_count": 11,
      "outputs": [
        {
          "output_type": "stream",
          "name": "stdout",
          "text": [
            "name                    size  creationDate         \n",
            "---------------------  -----  -------------------  \n",
            "sample_submission.csv   22KB  2019-12-16 20:36:20  \n",
            "train.csv              965KB  2019-12-16 20:36:20  \n",
            "test.csv               411KB  2019-12-16 20:36:20  \n"
          ]
        }
      ]
    },
    {
      "cell_type": "code",
      "source": [
        "!kaggle competitions download -c nlp-getting-started -p /content/kaggle/"
      ],
      "metadata": {
        "colab": {
          "base_uri": "https://localhost:8080/"
        },
        "id": "f43IO7CTsxjK",
        "outputId": "38dffcdb-ab35-4739-c1b1-27c960b0ba64"
      },
      "execution_count": 12,
      "outputs": [
        {
          "output_type": "stream",
          "name": "stdout",
          "text": [
            "Downloading nlp-getting-started.zip to /content/kaggle\n",
            "\r  0% 0.00/593k [00:00<?, ?B/s]\n",
            "\r100% 593k/593k [00:00<00:00, 104MB/s]\n"
          ]
        }
      ]
    },
    {
      "cell_type": "code",
      "source": [
        "!unzip -q /content/kaggle/nlp-getting-started.zip -d /content/kaggle/data"
      ],
      "metadata": {
        "id": "V3ET8MSetuk2"
      },
      "execution_count": 13,
      "outputs": []
    },
    {
      "cell_type": "code",
      "source": [
        "data_path = \"kaggle/data/train.csv\"\n",
        "data_file = open(data_path)\n",
        "read_file = csv.reader(data_file)\n",
        "headers = []\n",
        "headers = next(read_file)\n",
        "data = []\n",
        "for row in read_file:\n",
        "  data.append(row)"
      ],
      "metadata": {
        "id": "3FBaTgM2mrRK"
      },
      "execution_count": 14,
      "outputs": []
    },
    {
      "cell_type": "code",
      "source": [
        "print(headers) # ['id', 'keyword', 'location', 'text', 'target']\n",
        "print(data[0])\n",
        "print(len(data))"
      ],
      "metadata": {
        "colab": {
          "base_uri": "https://localhost:8080/"
        },
        "id": "3IEM4-mmxxMX",
        "outputId": "dc0c0e31-2c49-4a02-f691-5c4b07d60e82"
      },
      "execution_count": 15,
      "outputs": [
        {
          "output_type": "stream",
          "name": "stdout",
          "text": [
            "['id', 'keyword', 'location', 'text', 'target']\n",
            "['1', '', '', 'Our Deeds are the Reason of this #earthquake May ALLAH Forgive us all', '1']\n",
            "7613\n"
          ]
        }
      ]
    },
    {
      "cell_type": "code",
      "source": [
        "def shuffle(array):\n",
        "  array = np.random.permutation(array)\n",
        "  return array\n",
        "\n",
        "def split_data(data):\n",
        "  global test_data, train_data\n",
        "  test_data = data[5000:]\n",
        "  train_data = data[:5000]\n",
        "\n",
        "def shuffle_and_split(data):\n",
        "  data = shuffle(data)\n",
        "  split_data(data)\n",
        "  \n",
        "shuffle_and_split(data)"
      ],
      "metadata": {
        "id": "lAls_o5m6WEO"
      },
      "execution_count": 16,
      "outputs": []
    },
    {
      "cell_type": "markdown",
      "source": [
        "# Extract Features"
      ],
      "metadata": {
        "id": "1HvJN22spr7-"
      }
    },
    {
      "cell_type": "markdown",
      "source": [
        "## Link as Feature"
      ],
      "metadata": {
        "id": "Cy0KgSe5RpG6"
      }
    },
    {
      "cell_type": "code",
      "source": [
        "true = 0\n",
        "false = 0\n",
        "for item in data:\n",
        "  link = False\n",
        "  if 'http' in item[3]:\n",
        "    link = True\n",
        "    true+=1\n",
        "  else:\n",
        "    false+=1\n",
        "  item.insert(4,link)\n",
        "headers.insert(4,'link')\n",
        "\n",
        "print(\"Number of Tweets with Links: \" + str(true))\n",
        "print(\"Number of Tweets without Links: \" + str(false))"
      ],
      "metadata": {
        "colab": {
          "base_uri": "https://localhost:8080/"
        },
        "id": "fxoHeQewukVe",
        "outputId": "e1f5cda7-f805-48d7-f306-941d650da3bb"
      },
      "execution_count": 17,
      "outputs": [
        {
          "output_type": "stream",
          "name": "stdout",
          "text": [
            "Number of Tweets with Links: 3971\n",
            "Number of Tweets without Links: 3642\n"
          ]
        }
      ]
    },
    {
      "cell_type": "code",
      "source": [
        "plt.bar(['Link','No Link'], [true,false])\n",
        "plt.title(\"Distribution of Tweets With Links\")\n",
        "plt.xlabel(\"Has Link\")\n",
        "plt.ylabel(\"Number of Tweets\")\n",
        "plt.show()"
      ],
      "metadata": {
        "colab": {
          "base_uri": "https://localhost:8080/",
          "height": 0
        },
        "id": "oF4TQ1Z3_qZX",
        "outputId": "051589d3-f919-4fd6-ada4-0c02c14bf6bd"
      },
      "execution_count": 18,
      "outputs": [
        {
          "output_type": "display_data",
          "data": {
            "text/plain": [
              "<Figure size 432x288 with 1 Axes>"
            ],
            "image/png": "[encoded data removed]"
          },
          "metadata": {
            "needs_background": "light"
          }
        }
      ]
    },
    {
      "cell_type": "markdown",
      "source": [
        "## Hashtags as Feature"
      ],
      "metadata": {
        "id": "rprC79OSSf1z"
      }
    },
    {
      "cell_type": "code",
      "source": [
        "hashtag_nums = []\n",
        "for item in data:\n",
        "  hashtag = item[3].count('#')\n",
        "  item.insert(5,hashtag)\n",
        "  hashtag_nums.append(hashtag)\n",
        "headers.insert(5,'num_hashtags')"
      ],
      "metadata": {
        "id": "FawgiWKiw3i2"
      },
      "execution_count": 19,
      "outputs": []
    },
    {
      "cell_type": "code",
      "source": [
        "plt.hist(hashtag_nums)\n",
        "plt.title(\"Distribution of Number of Hashtags in Tweets\")\n",
        "plt.xlabel(\"Number of Hashtags in Tweet\")\n",
        "plt.ylabel(\"Number of Tweets\")\n",
        "plt.show()\n",
        "\n",
        "print()\n",
        "\n",
        "plt.hist([i for i in hashtag_nums if i != 0])\n",
        "plt.title(\"Distribution of Number of Hashtags in Tweets (Excluding 0)\")\n",
        "plt.xlabel(\"Number of Hashtags in Tweet\")\n",
        "plt.ylabel(\"Number of Tweets\")\n",
        "plt.show()"
      ],
      "metadata": {
        "colab": {
          "base_uri": "https://localhost:8080/",
          "height": 0
        },
        "id": "fA0b-UGI9Etu",
        "outputId": "c48297d8-7c55-4b4d-d000-0f0b6258d471"
      },
      "execution_count": 20,
      "outputs": [
        {
          "output_type": "display_data",
          "data": {
            "text/plain": [
              "<Figure size 432x288 with 1 Axes>"
            ],
            "image/png": "[encoded data removed]"
          },
          "metadata": {
            "needs_background": "light"
          }
        },
        {
          "output_type": "stream",
          "name": "stdout",
          "text": [
            "\n"
          ]
        },
        {
          "output_type": "display_data",
          "data": {
            "text/plain": [
              "<Figure size 432x288 with 1 Axes>"
            ],
            "image/png": "[encoded data removed]"
          },
          "metadata": {
            "needs_background": "light"
          }
        }
      ]
    },
    {
      "cell_type": "markdown",
      "source": [
        "## Number of Words & Characters Per Word"
      ],
      "metadata": {
        "id": "fZ3W-fBNRr1Y"
      }
    },
    {
      "cell_type": "markdown",
      "source": [
        "- num words\n",
        "- num chars\n",
        "- avg chars per word"
      ],
      "metadata": {
        "id": "TUTINg3sR5B2"
      }
    },
    {
      "cell_type": "markdown",
      "source": [
        "### Num Words"
      ],
      "metadata": {
        "id": "ry0ePKYhC4rJ"
      }
    },
    {
      "cell_type": "code",
      "source": [
        "word_counts=[]\n",
        "for item in data:\n",
        "  words = len(item[3].split())\n",
        "  w = 'other'\n",
        "  if words in (1,2,3,4,5):\n",
        "    w = '1-5'\n",
        "  elif words in (6,7,8,9,10):\n",
        "    w = '6-10'\n",
        "  elif words in (11,12,13,14,15):\n",
        "    w = '11-15'\n",
        "  elif words in (16,17,18,19,20):\n",
        "    w = '16-20'\n",
        "  elif words in (21,22,23,24,25):\n",
        "    w = '21-25'\n",
        "  elif words in (26,27,28,29,30):\n",
        "    w = '26-30'\n",
        "  word_counts.append(words)\n",
        "  item.insert(6,w)\n",
        "headers.insert(6,'word_count')\n",
        "print(data[100])"
      ],
      "metadata": {
        "colab": {
          "base_uri": "https://localhost:8080/"
        },
        "id": "Em1HusJ-z-tD",
        "outputId": "35d5c5ec-0dde-483e-86b3-e05493d592fe"
      },
      "execution_count": 21,
      "outputs": [
        {
          "output_type": "stream",
          "name": "stdout",
          "text": [
            "['144', 'accident', 'UK', '.@NorwayMFA #Bahrain police had previously died in a road accident they were not killed by explosion https://t.co/gFJfgTodad', True, 1, '16-20', '1']\n"
          ]
        }
      ]
    },
    {
      "cell_type": "code",
      "source": [
        "plt.hist(word_counts)\n",
        "plt.title(\"Distribution of Number of Words in Tweets\")\n",
        "plt.xlabel(\"Number of Words in Tweet\")\n",
        "plt.ylabel(\"Number of Tweets\")\n",
        "plt.show()"
      ],
      "metadata": {
        "colab": {
          "base_uri": "https://localhost:8080/",
          "height": 0
        },
        "id": "hqcJOw8B1mVb",
        "outputId": "8a1ddea9-de31-4eab-c6a3-49d62ed1d6df"
      },
      "execution_count": 22,
      "outputs": [
        {
          "output_type": "display_data",
          "data": {
            "text/plain": [
              "<Figure size 432x288 with 1 Axes>"
            ],
            "image/png": "[encoded data removed]"
          },
          "metadata": {
            "needs_background": "light"
          }
        }
      ]
    },
    {
      "cell_type": "markdown",
      "source": [
        "### Num Chars"
      ],
      "metadata": {
        "id": "W3fXWREwC77E"
      }
    },
    {
      "cell_type": "code",
      "source": [
        "char_counts=[]\n",
        "for item in data:\n",
        "  chars = len(item[3])\n",
        "  char_counts.append(chars)\n",
        "  w = 'other'\n",
        "  if chars in [x for x in range(1,21)]:\n",
        "    w = '1-20'\n",
        "  elif chars in [x for x in range(21,41)]:\n",
        "    w = '21-40'\n",
        "  elif chars in [x for x in range(41,61)]:\n",
        "    w = '41-60'\n",
        "  elif chars in [x for x in range(61,81)]:\n",
        "    w = '61-80'\n",
        "  elif chars in [x for x in range(81,101)]:\n",
        "    w = '81-100'\n",
        "  elif chars in [x for x in range(101,121)]:\n",
        "    w = '101-120'\n",
        "  elif chars in [x for x in range(121,141)]:\n",
        "    w = '121-140'\n",
        "  elif chars in [x for x in range(141,161)]:\n",
        "    w = '141-160'\n",
        "  item.insert(7,w)\n",
        "headers.insert(7,'char_count')\n",
        "print(data[100])"
      ],
      "metadata": {
        "colab": {
          "base_uri": "https://localhost:8080/"
        },
        "id": "gWOeVuvuC2ip",
        "outputId": "53ac9d26-6603-49ed-92f7-0ca758142e8a"
      },
      "execution_count": 23,
      "outputs": [
        {
          "output_type": "stream",
          "name": "stdout",
          "text": [
            "['144', 'accident', 'UK', '.@NorwayMFA #Bahrain police had previously died in a road accident they were not killed by explosion https://t.co/gFJfgTodad', True, 1, '16-20', '121-140', '1']\n"
          ]
        }
      ]
    },
    {
      "cell_type": "code",
      "source": [
        "plt.hist(char_counts)\n",
        "plt.title(\"Distribution of Number of Characters in Tweets\")\n",
        "plt.xlabel(\"Number of Characters in Tweet\")\n",
        "plt.ylabel(\"Number of Tweets\")\n",
        "plt.show()"
      ],
      "metadata": {
        "colab": {
          "base_uri": "https://localhost:8080/",
          "height": 0
        },
        "id": "OHlTwYqSDiyK",
        "outputId": "b08e933d-9caf-4232-e827-b37da381841f"
      },
      "execution_count": 24,
      "outputs": [
        {
          "output_type": "display_data",
          "data": {
            "text/plain": [
              "<Figure size 432x288 with 1 Axes>"
            ],
            "image/png": "[encoded data removed]"
          },
          "metadata": {
            "needs_background": "light"
          }
        }
      ]
    },
    {
      "cell_type": "markdown",
      "source": [
        "### Avg Chars Per Word"
      ],
      "metadata": {
        "id": "n3Bw3pi6Gc_q"
      }
    },
    {
      "cell_type": "code",
      "source": [
        "avgs = []\n",
        "for item in data:\n",
        "  avg = round((len(item[3])-item[3].count(\" \"))/len(item[3].split()),1)\n",
        "  avgs.append(avg)\n",
        "  item.insert(8,avg)\n",
        "headers.insert(8,'avg_char_per_word')\n",
        "print(data[100])"
      ],
      "metadata": {
        "colab": {
          "base_uri": "https://localhost:8080/"
        },
        "id": "QYIQbWSJHFXz",
        "outputId": "7ad42f7d-7d17-4240-9b6e-945902a67c71"
      },
      "execution_count": 25,
      "outputs": [
        {
          "output_type": "stream",
          "name": "stdout",
          "text": [
            "['144', 'accident', 'UK', '.@NorwayMFA #Bahrain police had previously died in a road accident they were not killed by explosion https://t.co/gFJfgTodad', True, 1, '16-20', '121-140', 6.4, '1']\n"
          ]
        }
      ]
    },
    {
      "cell_type": "code",
      "source": [
        "plt.hist(avgs)\n",
        "plt.title(\"Distribution of Average Number of Characters Per Word in Tweets\")\n",
        "plt.xlabel(\"Average Number of Characters Per Word in Tweet\")\n",
        "plt.ylabel(\"Number of Tweets\")\n",
        "plt.show()"
      ],
      "metadata": {
        "colab": {
          "base_uri": "https://localhost:8080/",
          "height": 0
        },
        "id": "L88yCC3MJEL3",
        "outputId": "2bd8dfba-d22a-44a0-e3f7-328a5a2f7886"
      },
      "execution_count": 26,
      "outputs": [
        {
          "output_type": "display_data",
          "data": {
            "text/plain": [
              "<Figure size 432x288 with 1 Axes>"
            ],
            "image/png": "[encoded data removed]"
          },
          "metadata": {
            "needs_background": "light"
          }
        }
      ]
    },
    {
      "cell_type": "markdown",
      "source": [
        "## Most Common Words as Features"
      ],
      "metadata": {
        "id": "Ws-LiX-KoDGj"
      }
    },
    {
      "cell_type": "code",
      "source": [
        "def most_common_words(subset):\n",
        "  all_text = \"\"\n",
        "  for i in range(len(subset)):\n",
        "    all_text+=subset[i][3]+\" \"\n",
        "\n",
        "  stop_words = stopwords.words('english')\n",
        "  stop_words += ['like',\"i'm\",\"get\",\"new\",\"via\",\"one\",\"would\",\"still\",\"got\",\"back\",'first','know','see','going','us','man','two','go','may',\"can't\",'full','last','rt','say','could','make','u','let','much','every']\n",
        "  all_text.lower()\n",
        "  words_list = all_text.split()\n",
        "  word_list = []\n",
        "\n",
        "  for word in words_list:\n",
        "    word = word.lower()\n",
        "    if word not in stop_words and re.search('[a-z]', word) is not None and word!=\"&amp;\" and word[:4]!=\"http\":\n",
        "      #tmp = wn.synsets(word)[0].pos()\n",
        "      word_list.append(word)\n",
        "      #part_of_speech[word.lower]= tmp\n",
        "\n",
        "  #words_dict = dict(sorted(words_dict.items(), key=lambda item: -item[1]))\n",
        "  words_dict = Counter(word_list)\n",
        "  words = words_dict.most_common(20)\n",
        "  labels = [a for a,_ in words]\n",
        "  values = [b for _,b in words]\n",
        "\n",
        "  fig = plt.figure(figsize =(20, 7))\n",
        "  # creating the bar plot\n",
        "  plt.bar(labels, values)\n",
        "\n",
        "  plt.xlabel(\"Common Words\")\n",
        "  plt.ylabel(\"Number of Occurances in All Tweets\")\n",
        "  plt.title(\"Distribution of Common Words in Tweets\")\n",
        "  plt.show()\n",
        " \n",
        "  keywords2 = []\n",
        "  for item in words_dict.most_common(100):\n",
        "    keywords2.append(item[0])\n",
        "  return keywords2\n",
        "\n",
        "keywords2 = most_common_words(data)"
      ],
      "metadata": {
        "id": "6YVXP_VfrV2b",
        "outputId": "6a716a71-4ba4-40fc-f49a-1ecaa3411ddd",
        "colab": {
          "base_uri": "https://localhost:8080/",
          "height": 0
        }
      },
      "execution_count": 27,
      "outputs": [
        {
          "output_type": "display_data",
          "data": {
            "text/plain": [
              "<Figure size 1440x504 with 1 Axes>"
            ],
            "image/png": "[encoded data removed]"
          },
          "metadata": {
            "needs_background": "light"
          }
        }
      ]
    },
    {
      "cell_type": "code",
      "source": [
        "for item in data:\n",
        "  val = 'none'\n",
        "  for word in keywords2:\n",
        "    if word in item[3].lower():\n",
        "        val = word\n",
        "        break\n",
        "  item.insert(9,val)\n",
        "        \n",
        "headers.insert(9,'keyword2')"
      ],
      "metadata": {
        "id": "f2MPZFrkRnJz"
      },
      "execution_count": 28,
      "outputs": []
    },
    {
      "cell_type": "markdown",
      "source": [
        "## Bigrams As Features"
      ],
      "metadata": {
        "id": "2XF3bK3AW-BS"
      }
    },
    {
      "cell_type": "code",
      "source": [
        "bigrams = defaultdict(int)\n",
        "data_bigrams = []\n",
        "for item in data:\n",
        "  tweet_text = re.sub(r'[^\\w\\s]', '', item[3]) # Remove Punctuation\n",
        "\n",
        "  stop_words = stopwords.words('english')\n",
        "  stop_words += ['like',\"i'm\",\"get\",\"new\",\"via\",\"one\",\"would\",\"still\",\"got\",\"back\",'first','know','see','going','us','man','two','go','may',\"can't\",'full','last','rt','say','could','make','u','let','much','every']\n",
        "  w = tweet_text.split()\n",
        "  r  = [word for word in w if word.lower() not in stop_words]\n",
        "  tweet_text = ' '.join(r)  \n",
        "\n",
        "  nltk_tokens = nltk.word_tokenize(tweet_text.lower())\n",
        "  lst = list(nltk.bigrams(nltk_tokens))\n",
        "  data_bigrams.append(lst)\n",
        "  for bigram in lst:\n",
        "    bigrams[bigram]+=1"
      ],
      "metadata": {
        "id": "v6So2pPXURxH"
      },
      "execution_count": 29,
      "outputs": []
    },
    {
      "cell_type": "code",
      "source": [
        "common_bigrams = sorted(bigrams.items(), key=lambda item: item[1])\n",
        "common_bigrams = common_bigrams[-100:]\n",
        "\n",
        "bgs = common_bigrams[-15:]\n",
        "labels = [str(a) for a,_ in bgs if a[1] != 'na']\n",
        "values = [b for _,b in bgs if _[1] != 'na']\n",
        "\n",
        "fig = plt.figure(figsize =(30, 5))\n",
        "# creating the bar plot\n",
        "plt.bar(labels, values)\n",
        "\n",
        "plt.xlabel(\"Common Bigrams\")\n",
        "plt.ylabel(\"Number of Occurances in All Tweets\")\n",
        "plt.title(\"Distribution of Common Bigrams in Tweets\")\n",
        "plt.show()\n",
        "\n",
        "common_bigrams = [(a,b) for (a,b) in reversed([x for x,_ in common_bigrams]) if 'http' not in a and 'http' not in b and 'amp' not in a and 'amp' not in b]\n",
        "#common_bigrams.remove(('i', \"'m\"))\n",
        "#common_bigrams.remove(('do', \"n't\"))\n",
        "#common_bigrams.remove(('ca', \"n't\"))\n",
        "common_bigrams.remove(('gon', \"na\"))\n",
        "common_bigrams.remove(('wan', \"na\"))\n"
      ],
      "metadata": {
        "colab": {
          "base_uri": "https://localhost:8080/",
          "height": 0
        },
        "id": "-gaqQEMpeCP1",
        "outputId": "7e539f81-9e64-4a8a-f711-1f3f8870e519"
      },
      "execution_count": 30,
      "outputs": [
        {
          "output_type": "display_data",
          "data": {
            "text/plain": [
              "<Figure size 2160x360 with 1 Axes>"
            ],
            "image/png": "[encoded data removed]"
          },
          "metadata": {
            "needs_background": "light"
          }
        }
      ]
    },
    {
      "cell_type": "code",
      "source": [
        "i=0\n",
        "for item in data:\n",
        "  val = 'none'\n",
        "  for bigram in common_bigrams:\n",
        "    if bigram in data_bigrams[i]:\n",
        "        val = bigram\n",
        "        break\n",
        "  item.insert(10,val)\n",
        "  i+=1\n",
        "\n",
        "headers.insert(10,'bigrams')"
      ],
      "metadata": {
        "id": "x1mYY2otoLCE"
      },
      "execution_count": 31,
      "outputs": []
    },
    {
      "cell_type": "markdown",
      "source": [
        "## Feature List"
      ],
      "metadata": {
        "id": "GHEcwKh6yAes"
      }
    },
    {
      "cell_type": "markdown",
      "source": [
        "- keyword (data[x][1])\n",
        "- location (data[x][2])\n",
        "- link (data[x][4])\n",
        "- num hashtags (data[x][5])\n",
        "- num words (data[x][6])\n",
        "- num chars (data[x][7])\n",
        "- avg chars per word (data[x][8])\n",
        "- keyword2 (data[x][9])\n",
        "- common bigrams (data[x][10])\n",
        "\n"
      ],
      "metadata": {
        "id": "cxmWsNvRVaJZ"
      }
    },
    {
      "cell_type": "code",
      "source": [
        "feature_nums = [1,2,4,5,6,7,8,9,10]\n",
        "target_num = [-1]\n",
        "nums = feature_nums + target_num\n",
        "features = []\n",
        "for num in feature_nums:\n",
        "  features.append(headers[num])"
      ],
      "metadata": {
        "id": "H1JrP8eHN8nC"
      },
      "execution_count": 32,
      "outputs": []
    },
    {
      "cell_type": "code",
      "source": [
        "shuffle_and_split(data)"
      ],
      "metadata": {
        "colab": {
          "base_uri": "https://localhost:8080/"
        },
        "id": "Jxq36b2wHSX9",
        "outputId": "1f16d19b-da82-472d-e555-9fe8b537f788"
      },
      "execution_count": 33,
      "outputs": [
        {
          "output_type": "stream",
          "name": "stderr",
          "text": [
            "/usr/local/lib/python3.7/dist-packages/ipykernel_launcher.py:2: VisibleDeprecationWarning: Creating an ndarray from ragged nested sequences (which is a list-or-tuple of lists-or-tuples-or ndarrays with different lengths or shapes) is deprecated. If you meant to do this, you must specify 'dtype=object' when creating the ndarray.\n",
            "  \n"
          ]
        }
      ]
    },
    {
      "cell_type": "code",
      "source": [
        "print(features)"
      ],
      "metadata": {
        "colab": {
          "base_uri": "https://localhost:8080/"
        },
        "id": "0Bm1ePTyOVq6",
        "outputId": "a437f9c0-3770-4147-b0f0-219e02c8c9e6"
      },
      "execution_count": 34,
      "outputs": [
        {
          "output_type": "stream",
          "name": "stdout",
          "text": [
            "['keyword', 'location', 'link', 'num_hashtags', 'word_count', 'char_count', 'avg_char_per_word', 'keyword2', 'bigrams']\n"
          ]
        }
      ]
    },
    {
      "cell_type": "markdown",
      "source": [
        "# Decision Tree"
      ],
      "metadata": {
        "id": "smAoYiMPyB-N"
      }
    },
    {
      "cell_type": "markdown",
      "source": [
        "Citation\n",
        "\n",
        "Entropy, Parition, Build Tree Sections (with some modifications)\n",
        "- Data Science from Scratch: First Principles with Python (GRUS Textbook) "
      ],
      "metadata": {
        "id": "mD5z5wySTxCN"
      }
    },
    {
      "cell_type": "markdown",
      "source": [
        "## Entropy"
      ],
      "metadata": {
        "id": "Lf8CA4ZozCcF"
      }
    },
    {
      "cell_type": "code",
      "source": [
        "def entropy(class_probabilities: List[float]) -> float:\n",
        "  '''Given a list of class probabilities, compute the entropy'''\n",
        "  return jnp.sum(jnp.asarray([-p*jnp.log2(p) for p in class_probabilities if p > 0]))\n",
        "\n",
        "def class_probabilities(labels: List[Any]) -> float:\n",
        "  total_count = jnp.size(labels)\n",
        "  return [count/total_count for count in Counter(labels).values()]\n",
        "\n",
        "def data_entropy(labels: List[Any]) -> float:\n",
        "  return entropy(class_probabilities(labels))\n",
        "\n",
        "def partition_entropy(subsets: List[List[Any]]) -> float:\n",
        "  '''Returns the entropy from this partition of data into subsets'''\n",
        "  total_count = jnp.sum(jnp.asarray([jnp.size(subset) for subset in subsets]))\n",
        "  return jnp.sum(jnp.asarray([data_entropy(subset)*jnp.size(subset)/total_count for subset in subsets]))"
      ],
      "metadata": {
        "id": "g3jcrUV4yxrr"
      },
      "execution_count": 35,
      "outputs": []
    },
    {
      "cell_type": "markdown",
      "source": [
        "## Parition"
      ],
      "metadata": {
        "id": "-rArfTFo2I7Y"
      }
    },
    {
      "cell_type": "code",
      "source": [
        "T = TypeVar('T')\n",
        "\n",
        "def partition_by(inputs: List[T], attribute:str) -> Dict[Any, List[T]]:\n",
        "  '''Partitions the inputs into lists based on the specified attribute'''\n",
        "  partitions: Dict[Any,List[T]] = defaultdict(list)\n",
        "  for input in inputs:\n",
        "    key = getattr(input, attribute)\n",
        "    partitions[key].append(input)\n",
        "  return partitions\n",
        "\n",
        "def partition_entropy_by(inputs: List[Any], attribute:str,label_attribute:str) ->float:\n",
        "  '''Computes the entropy corresponding to the given partition'''\n",
        "  partitions = partition_by(inputs,attribute)\n",
        "  labels = [[getattr(input, label_attribute) for input in partition] for partition in partitions.values()]\n",
        "  return partition_entropy(labels)"
      ],
      "metadata": {
        "id": "TUFMpSL72HAV"
      },
      "execution_count": 36,
      "outputs": []
    },
    {
      "cell_type": "markdown",
      "source": [
        "## Test Entropy and Partition"
      ],
      "metadata": {
        "id": "vgNrFYDM1vVr"
      }
    },
    {
      "cell_type": "code",
      "source": [
        "print(features)"
      ],
      "metadata": {
        "colab": {
          "base_uri": "https://localhost:8080/"
        },
        "id": "F9q262QITwIi",
        "outputId": "e82513b6-e309-4a38-d035-cd28dbbf4af4"
      },
      "execution_count": 37,
      "outputs": [
        {
          "output_type": "stream",
          "name": "stdout",
          "text": [
            "['keyword', 'location', 'link', 'num_hashtags', 'word_count', 'char_count', 'avg_char_per_word', 'keyword2', 'bigrams']\n"
          ]
        }
      ]
    },
    {
      "cell_type": "code",
      "source": [
        "train_tweets = []\n",
        "\n",
        "class Tweet(NamedTuple):\n",
        "  keyword: str\n",
        "  location: str\n",
        "  link: bool\n",
        "  num_hashtags: int\n",
        "  word_count: str\n",
        "  char_count: str\n",
        "  avg_char_per_word: float\n",
        "  keyword2: str\n",
        "  bigrams: tuple\n",
        "  target: int\n",
        "\n",
        "for tweet in train_data:\n",
        "  train_tweets.append(Tweet(tweet[1],tweet[2],tweet[4],tweet[5],tweet[6],tweet[7],tweet[8],tweet[9],tweet[10],tweet[-1]))"
      ],
      "metadata": {
        "id": "zM_g0CyWTqQO"
      },
      "execution_count": 38,
      "outputs": []
    },
    {
      "cell_type": "code",
      "source": [
        "def createTweetsObjects():\n",
        "  global train_data,test_data,train_tweets,test_tweets\n",
        "  train_tweets = []\n",
        "  test_tweets = []\n",
        "  for tweet in train_data:\n",
        "    train_tweets.append(Tweet(tweet[1],tweet[2],tweet[4],tweet[5],tweet[6],tweet[7],tweet[8],tweet[9],tweet[10],tweet[-1]))\n",
        "  for tweet in test_data:\n",
        "    test_tweets.append(Tweet(tweet[1],tweet[2],tweet[4],tweet[5],tweet[6],tweet[7],tweet[8],tweet[9],tweet[10],tweet[-1]))"
      ],
      "metadata": {
        "id": "nhE0RMXEbS0y"
      },
      "execution_count": 39,
      "outputs": []
    },
    {
      "cell_type": "code",
      "source": [
        "createTweetsObjects()"
      ],
      "metadata": {
        "id": "2WvMdDiUbqbu"
      },
      "execution_count": 40,
      "outputs": []
    },
    {
      "cell_type": "code",
      "source": [
        "print(len(train_tweets))\n",
        "print(len(train_data))"
      ],
      "metadata": {
        "colab": {
          "base_uri": "https://localhost:8080/"
        },
        "id": "DxHy7u2mVyXA",
        "outputId": "8516d3c3-7244-467f-a22c-5c1445b5fc61"
      },
      "execution_count": 41,
      "outputs": [
        {
          "output_type": "stream",
          "name": "stdout",
          "text": [
            "5000\n",
            "5000\n"
          ]
        }
      ]
    },
    {
      "cell_type": "code",
      "source": [
        "print(\"Inital Entropy of Features\")\n",
        "entropies = []\n",
        "for key in features:\n",
        "  entrpy = partition_entropy_by(train_tweets,key,'target')\n",
        "  entropies.append(entrpy)\n",
        "  print(key,entrpy)\n",
        "\n",
        "fig = plt.figure(figsize =(17, 5))\n",
        "\n",
        "plt.bar([key for key in features], entropies)\n",
        "\n",
        "plt.xlabel(\"Features\")\n",
        "plt.ylabel(\"Entropy\")\n",
        "plt.title(\"Initial Entropy of Features\")\n",
        "plt.show()"
      ],
      "metadata": {
        "colab": {
          "base_uri": "https://localhost:8080/",
          "height": 542
        },
        "id": "ZxuyEKSQWSYr",
        "outputId": "8e76e8e9-5f22-4eb2-b3d3-4f5f60a3c144"
      },
      "execution_count": 42,
      "outputs": [
        {
          "output_type": "stream",
          "name": "stderr",
          "text": [
            "WARNING:absl:No GPU/TPU found, falling back to CPU. (Set TF_CPP_MIN_LOG_LEVEL=0 and rerun for more info.)\n"
          ]
        },
        {
          "output_type": "stream",
          "name": "stdout",
          "text": [
            "Inital Entropy of Features\n",
            "keyword 0.72344774\n",
            "location 0.5151793\n",
            "link 0.9400621\n",
            "num_hashtags 0.97787493\n",
            "word_count 0.9681432\n",
            "char_count 0.9559909\n",
            "avg_char_per_word 0.91118443\n",
            "keyword2 0.8405342\n",
            "bigrams 0.8868632\n"
          ]
        },
        {
          "output_type": "display_data",
          "data": {
            "text/plain": [
              "<Figure size 1224x360 with 1 Axes>"
            ],
            "image/png": "[encoded data removed]"
          },
          "metadata": {
            "needs_background": "light"
          }
        }
      ]
    },
    {
      "cell_type": "markdown",
      "source": [
        "## Build Tree"
      ],
      "metadata": {
        "id": "-na0Idv44SQO"
      }
    },
    {
      "cell_type": "code",
      "source": [
        "class Leaf(NamedTuple):\n",
        "  value: Any\n",
        "\n",
        "class Split(NamedTuple):\n",
        "  attribute: str\n",
        "  subtrees: dict\n",
        "  default_value: Any = None\n",
        "\n",
        "DecisionTree = Union[Leaf,Split]"
      ],
      "metadata": {
        "id": "454J3DuR28o8"
      },
      "execution_count": 43,
      "outputs": []
    },
    {
      "cell_type": "code",
      "source": [
        "class Tweet(NamedTuple):\n",
        "  keyword: str\n",
        "  location: str\n",
        "  target: int"
      ],
      "metadata": {
        "id": "uhZgO9ux9Svn"
      },
      "execution_count": 44,
      "outputs": []
    },
    {
      "cell_type": "code",
      "source": [
        "def classify(tree:DecisionTree,input:Any) -> Any:\n",
        "  '''Classify the input using the given decision tree'''\n",
        "  \n",
        "  # If this is a leaf node, return its value\n",
        "  if isinstance(tree,Leaf):\n",
        "    return tree.value\n",
        "\n",
        "  subtree_key = getattr(input, tree.attribute)\n",
        "\n",
        "  if subtree_key not in tree.subtrees:\n",
        "    return tree.default_value\n",
        "  \n",
        "  subtree = tree.subtrees[subtree_key]\n",
        "  return classify(subtree,input)"
      ],
      "metadata": {
        "id": "nDiHJANM4BrT"
      },
      "execution_count": 45,
      "outputs": []
    },
    {
      "cell_type": "code",
      "source": [
        "def build_tree_id3(inputs: List[Any],split_attributes:List[str],target_attribute:str)->DecisionTree:\n",
        "  # Count target labels\n",
        "  label_counts = Counter(getattr(input,target_attribute) for input in inputs)\n",
        "  most_common_label = label_counts.most_common(1)[0][0]\n",
        "\n",
        "  # If there's a unique label, predict it\n",
        "  if len(label_counts) == 1:\n",
        "    return Leaf(most_common_label)\n",
        "  \n",
        "  # If no split attributes left, return the majority label\n",
        "  if not split_attributes:\n",
        "    return Leaf(most_common_label)\n",
        "\n",
        "  # Otherwise split by the best attribute\n",
        "  def split_entropy(attribute:str) -> float:\n",
        "    return partition_entropy_by(inputs,attribute,target_attribute)\n",
        "  \n",
        "  best_attribute = min(split_attributes, key=split_entropy)\n",
        "\n",
        "  partitions = partition_by(inputs, best_attribute)\n",
        "  new_attributes = [a for a in split_attributes if a !=best_attribute]\n",
        "\n",
        "  # Recursively build subtrees\n",
        "  subtrees = {attribute_value: build_tree_id3(subset,new_attributes, target_attribute) for attribute_value,subset in partitions.items()}\n",
        "\n",
        "  return Split(best_attribute, subtrees, default_value=most_common_label)"
      ],
      "metadata": {
        "id": "QcWju7rK5sEG"
      },
      "execution_count": 46,
      "outputs": []
    },
    {
      "cell_type": "markdown",
      "source": [
        "## Test Build Tree"
      ],
      "metadata": {
        "id": "-sWStJ_P9_lf"
      }
    },
    {
      "cell_type": "code",
      "source": [
        "decision_tree = build_tree_id3(train_tweets,['keyword2','num_hashtags'],'target')\n",
        "print(decision_tree)"
      ],
      "metadata": {
        "id": "zFJILcu2WlTS",
        "colab": {
          "base_uri": "https://localhost:8080/"
        },
        "outputId": "0b76c1fc-7842-4384-9da3-53d70a590198"
      },
      "execution_count": 47,
      "outputs": [
        {
          "output_type": "stream",
          "name": "stdout",
          "text": [
            "Split(attribute='keyword2', subtrees={'many': Split(attribute='num_hashtags', subtrees={0: Leaf(value='0'), 3: Leaf(value='0'), 1: Leaf(value='0')}, default_value='0'), 'storm': Split(attribute='num_hashtags', subtrees={0: Leaf(value='1'), 1: Leaf(value='1'), 4: Leaf(value='1'), 2: Leaf(value='1'), 3: Leaf(value='1'), 5: Leaf(value='1'), 6: Leaf(value='1'), 10: Leaf(value='1')}, default_value='1'), 'fire': Split(attribute='num_hashtags', subtrees={0: Leaf(value='1'), 2: Leaf(value='1'), 1: Leaf(value='1'), 4: Leaf(value='1'), 5: Leaf(value='1'), 3: Leaf(value='1')}, default_value='1'), 'day': Split(attribute='num_hashtags', subtrees={0: Leaf(value='0'), 2: Leaf(value='0'), 1: Leaf(value='0'), 5: Leaf(value='0'), 3: Leaf(value='1'), 4: Leaf(value='0')}, default_value='0'), 'none': Split(attribute='num_hashtags', subtrees={0: Leaf(value='0'), 1: Leaf(value='0'), 2: Leaf(value='0'), 4: Leaf(value='0'), 3: Leaf(value='0'), 5: Leaf(value='1'), 6: Leaf(value='0'), 7: Leaf(value='0'), 10: Leaf(value='1')}, default_value='0'), 'collapse': Split(attribute='num_hashtags', subtrees={0: Leaf(value='1'), 1: Leaf(value='1'), 6: Leaf(value='0')}, default_value='1'), 'found': Split(attribute='num_hashtags', subtrees={1: Leaf(value='1'), 4: Leaf(value='1'), 0: Leaf(value='0'), 2: Leaf(value='1')}, default_value='1'), 'dead': Split(attribute='num_hashtags', subtrees={1: Leaf(value='0'), 0: Leaf(value='0'), 2: Leaf(value='0')}, default_value='0'), 'time': Split(attribute='num_hashtags', subtrees={0: Leaf(value='0'), 2: Leaf(value='1'), 1: Leaf(value='1'), 4: Leaf(value='0'), 5: Leaf(value='0')}, default_value='0'), 'police': Split(attribute='num_hashtags', subtrees={0: Leaf(value='1'), 2: Leaf(value='1'), 1: Leaf(value='1'), 4: Leaf(value='1'), 3: Leaf(value='0')}, default_value='1'), 'war': Split(attribute='num_hashtags', subtrees={0: Leaf(value='1'), 1: Leaf(value='1'), 2: Leaf(value='0'), 3: Leaf(value='1')}, default_value='1'), 'ever': Split(attribute='num_hashtags', subtrees={0: Leaf(value='0'), 2: Leaf(value='1')}, default_value='0'), 'top': Split(attribute='num_hashtags', subtrees={2: Leaf(value='0'), 0: Leaf(value='0'), 1: Leaf(value='0')}, default_value='0'), 'way': Split(attribute='num_hashtags', subtrees={0: Leaf(value='0'), 1: Leaf(value='0'), 8: Leaf(value='1'), 2: Leaf(value='0')}, default_value='0'), 'getting': Split(attribute='num_hashtags', subtrees={0: Leaf(value='0'), 1: Leaf(value='1'), 2: Leaf(value='0')}, default_value='0'), 'debris': Leaf(value='1'), 'said': Split(attribute='num_hashtags', subtrees={2: Leaf(value='1'), 0: Leaf(value='0'), 1: Leaf(value='0')}, default_value='0'), 'school': Split(attribute='num_hashtags', subtrees={1: Leaf(value='0'), 0: Leaf(value='0'), 2: Leaf(value='1')}, default_value='0'), 'lol': Split(attribute='num_hashtags', subtrees={0: Leaf(value='0'), 1: Leaf(value='0')}, default_value='0'), 'body': Split(attribute='num_hashtags', subtrees={1: Leaf(value='0'), 0: Leaf(value='0'), 2: Leaf(value='0'), 4: Leaf(value='0'), 3: Leaf(value='0'), 7: Leaf(value='0')}, default_value='0'), 'fear': Split(attribute='num_hashtags', subtrees={0: Leaf(value='0'), 1: Leaf(value='1'), 5: Leaf(value='1')}, default_value='0'), 'really': Split(attribute='num_hashtags', subtrees={1: Leaf(value='1'), 0: Leaf(value='0')}, default_value='0'), 'emergency': Split(attribute='num_hashtags', subtrees={1: Leaf(value='1'), 2: Leaf(value='1'), 3: Leaf(value='0'), 0: Leaf(value='1'), 5: Leaf(value='0'), 4: Leaf(value='0'), 6: Leaf(value='0')}, default_value='1'), 'california': Split(attribute='num_hashtags', subtrees={9: Leaf(value='0'), 0: Leaf(value='1'), 2: Leaf(value='0'), 1: Leaf(value='1')}, default_value='1'), 'want': Split(attribute='num_hashtags', subtrees={0: Leaf(value='0'), 2: Leaf(value='0'), 1: Leaf(value='0'), 3: Leaf(value='0'), 5: Leaf(value='0')}, default_value='0'), 'fatal': Split(attribute='num_hashtags', subtrees={0: Leaf(value='0'), 2: Leaf(value='1')}, default_value='0'), 'im': Split(attribute='num_hashtags', subtrees={0: Leaf(value='0'), 1: Leaf(value='0'), 3: Leaf(value='1'), 2: Leaf(value='0'), 4: Leaf(value='1'), 5: Leaf(value='0'), 6: Leaf(value='0')}, default_value='0'), 'crash': Split(attribute='num_hashtags', subtrees={0: Leaf(value='1'), 1: Leaf(value='1'), 2: Leaf(value='1')}, default_value='1'), 'accident': Split(attribute='num_hashtags', subtrees={0: Leaf(value='1'), 3: Leaf(value='1'), 2: Leaf(value='1'), 1: Leaf(value='1')}, default_value='1'), 'need': Split(attribute='num_hashtags', subtrees={0: Leaf(value='0'), 1: Leaf(value='0')}, default_value='0'), 'world': Split(attribute='num_hashtags', subtrees={1: Leaf(value='0'), 0: Leaf(value='0'), 3: Leaf(value='1'), 2: Leaf(value='0'), 5: Leaf(value='1')}, default_value='0'), 'right': Split(attribute='num_hashtags', subtrees={0: Leaf(value='0'), 2: Leaf(value='0'), 1: Leaf(value='0')}, default_value='0'), 'come': Split(attribute='num_hashtags', subtrees={0: Leaf(value='0'), 2: Leaf(value='1'), 1: Leaf(value='0')}, default_value='0'), 'people': Split(attribute='num_hashtags', subtrees={2: Leaf(value='1'), 0: Leaf(value='0'), 1: Leaf(value='1'), 3: Leaf(value='1'), 6: Leaf(value='1')}, default_value='1'), 'mass': Split(attribute='num_hashtags', subtrees={1: Leaf(value='1'), 3: Leaf(value='0'), 0: Leaf(value='1'), 2: Leaf(value='1'), 8: Leaf(value='1')}, default_value='1'), 'train': Split(attribute='num_hashtags', subtrees={0: Leaf(value='1'), 1: Leaf(value='1')}, default_value='1'), 'hope': Split(attribute='num_hashtags', subtrees={0: Leaf(value='0'), 1: Leaf(value='1')}, default_value='0'), 'good': Split(attribute='num_hashtags', subtrees={0: Leaf(value='0'), 1: Leaf(value='0'), 2: Leaf(value='1')}, default_value='0'), 'please': Split(attribute='num_hashtags', subtrees={0: Leaf(value='0'), 1: Leaf(value='0')}, default_value='0'), 'old': Split(attribute='num_hashtags', subtrees={3: Leaf(value='0'), 0: Leaf(value='0'), 8: Leaf(value='0'), 1: Leaf(value='0'), 2: Leaf(value='0')}, default_value='0'), 'families': Split(attribute='num_hashtags', subtrees={0: Leaf(value='1'), 1: Leaf(value='1'), 3: Leaf(value='1'), 2: Leaf(value='1')}, default_value='1'), 'life': Split(attribute='num_hashtags', subtrees={1: Leaf(value='0'), 0: Leaf(value='0'), 2: Leaf(value='1'), 3: Leaf(value='1')}, default_value='0'), 'black': Split(attribute='num_hashtags', subtrees={0: Leaf(value='0'), 3: Leaf(value='0'), 1: Leaf(value='0')}, default_value='0'), 'love': Split(attribute='num_hashtags', subtrees={0: Leaf(value='0'), 4: Leaf(value='0'), 1: Leaf(value='0'), 2: Leaf(value='0'), 3: Leaf(value='0'), 11: Leaf(value='0')}, default_value='0'), 'feel': Split(attribute='num_hashtags', subtrees={0: Leaf(value='0'), 1: Leaf(value='1')}, default_value='0'), 'think': Split(attribute='num_hashtags', subtrees={0: Leaf(value='0'), 1: Leaf(value='0'), 2: Leaf(value='0')}, default_value='0'), 'car': Split(attribute='num_hashtags', subtrees={0: Leaf(value='0'), 1: Leaf(value='0'), 2: Leaf(value='0'), 6: Leaf(value='1')}, default_value='0'), 'disaster': Split(attribute='num_hashtags', subtrees={2: Leaf(value='1'), 3: Leaf(value='1'), 7: Leaf(value='1'), 1: Leaf(value='1'), 0: Leaf(value='1'), 4: Leaf(value='1'), 8: Leaf(value='1')}, default_value='1'), \"that's\": Split(attribute='num_hashtags', subtrees={0: Leaf(value='0'), 1: Leaf(value='1'), 2: Leaf(value='0')}, default_value='0'), 'help': Split(attribute='num_hashtags', subtrees={0: Leaf(value='0'), 1: Leaf(value='1'), 2: Leaf(value='0'), 3: Leaf(value='0')}, default_value='0'), 'years': Split(attribute='num_hashtags', subtrees={0: Leaf(value='1'), 2: Leaf(value='0'), 3: Leaf(value='0')}, default_value='1'), 'live': Split(attribute='num_hashtags', subtrees={0: Leaf(value='1'), 1: Leaf(value='0'), 2: Leaf(value='0'), 3: Leaf(value='0'), 6: Leaf(value='0')}, default_value='1'), 'nuclear': Split(attribute='num_hashtags', subtrees={0: Leaf(value='1'), 1: Leaf(value='0'), 4: Leaf(value='0'), 5: Leaf(value='1')}, default_value='1'), 'news': Split(attribute='num_hashtags', subtrees={3: Leaf(value='1'), 0: Leaf(value='0'), 1: Leaf(value='1'), 4: Leaf(value='1'), 2: Leaf(value='0'), 13: Leaf(value='1'), 10: Leaf(value='1')}, default_value='1'), 'watch': Split(attribute='num_hashtags', subtrees={2: Leaf(value='0'), 1: Leaf(value='0'), 0: Leaf(value='0'), 3: Leaf(value='0')}, default_value='0'), 'suicide': Split(attribute='num_hashtags', subtrees={0: Leaf(value='1'), 4: Leaf(value='1'), 1: Leaf(value='1'), 2: Leaf(value='1'), 3: Leaf(value='1')}, default_value='1'), 'work': Split(attribute='num_hashtags', subtrees={0: Leaf(value='0'), 6: Leaf(value='0'), 1: Leaf(value='0'), 4: Leaf(value='0'), 2: Leaf(value='1'), 3: Leaf(value='0')}, default_value='0'), 'home': Split(attribute='num_hashtags', subtrees={0: Leaf(value='0'), 1: Leaf(value='0'), 3: Leaf(value='0'), 4: Leaf(value='0')}, default_value='0'), 'death': Split(attribute='num_hashtags', subtrees={0: Leaf(value='1'), 1: Leaf(value='0'), 4: Leaf(value='1')}, default_value='1'), 'look': Split(attribute='num_hashtags', subtrees={0: Leaf(value='0'), 1: Leaf(value='0'), 2: Leaf(value='0')}, default_value='0'), 'attack': Split(attribute='num_hashtags', subtrees={2: Leaf(value='1'), 0: Leaf(value='1'), 1: Leaf(value='1'), 3: Leaf(value='0')}, default_value='1'), 'video': Split(attribute='num_hashtags', subtrees={0: Leaf(value='0'), 1: Leaf(value='0'), 2: Leaf(value='0'), 3: Leaf(value='0'), 4: Leaf(value='0'), 6: Leaf(value='0')}, default_value='0'), 'atomic': Split(attribute='num_hashtags', subtrees={0: Leaf(value='0'), 2: Leaf(value='1')}, default_value='1'), 'another': Split(attribute='num_hashtags', subtrees={0: Leaf(value='0'), 1: Leaf(value='1'), 2: Leaf(value='1')}, default_value='0'), 'even': Split(attribute='num_hashtags', subtrees={1: Leaf(value='0'), 2: Leaf(value='0'), 0: Leaf(value='0')}, default_value='0'), 'army': Split(attribute='num_hashtags', subtrees={1: Leaf(value='0'), 0: Leaf(value='1'), 3: Leaf(value='0'), 2: Leaf(value='1')}, default_value='0'), 'hiroshima': Leaf(value='1'), 'hit': Split(attribute='num_hashtags', subtrees={1: Leaf(value='1'), 0: Leaf(value='0'), 3: Leaf(value='0')}, default_value='0'), 'killed': Split(attribute='num_hashtags', subtrees={0: Leaf(value='1'), 1: Leaf(value='1'), 3: Leaf(value='0'), 4: Leaf(value='1'), 2: Leaf(value='1')}, default_value='1'), 'evacuation': Split(attribute='num_hashtags', subtrees={0: Leaf(value='1'), 1: Leaf(value='1'), 4: Leaf(value='1')}, default_value='1'), 'bomb': Split(attribute='num_hashtags', subtrees={1: Leaf(value='1'), 0: Leaf(value='1'), 3: Leaf(value='1'), 4: Leaf(value='1'), 2: Leaf(value='1')}, default_value='1'), '@youtube': Split(attribute='num_hashtags', subtrees={0: Leaf(value='0'), 1: Leaf(value='0'), 2: Leaf(value='1'), 3: Leaf(value='0')}, default_value='0'), 'read': Split(attribute='num_hashtags', subtrees={0: Leaf(value='0'), 5: Leaf(value='1'), 6: Leaf(value='1')}, default_value='0'), 'oil': Split(attribute='num_hashtags', subtrees={0: Leaf(value='1'), 5: Leaf(value='0'), 3: Leaf(value='0'), 2: Leaf(value='1'), 1: Leaf(value='0')}, default_value='1'), 'coming': Split(attribute='num_hashtags', subtrees={0: Leaf(value='0'), 2: Leaf(value='0'), 3: Leaf(value='0'), 4: Leaf(value='1'), 5: Leaf(value='1'), 1: Leaf(value='1')}, default_value='0'), 'city': Split(attribute='num_hashtags', subtrees={2: Leaf(value='1'), 0: Leaf(value='0'), 3: Leaf(value='1'), 4: Leaf(value='0')}, default_value='0'), 'burning': Split(attribute='num_hashtags', subtrees={0: Leaf(value='0'), 3: Leaf(value='0'), 5: Leaf(value='0'), 1: Leaf(value='1'), 2: Leaf(value='0')}, default_value='0'), 'wreck': Split(attribute='num_hashtags', subtrees={0: Leaf(value='0'), 1: Leaf(value='1'), 3: Leaf(value='1')}, default_value='0'), 'take': Split(attribute='num_hashtags', subtrees={0: Leaf(value='0'), 2: Leaf(value='1'), 1: Leaf(value='1'), 3: Leaf(value='1')}, default_value='0'), 'forest': Split(attribute='num_hashtags', subtrees={0: Leaf(value='0')}, default_value='0'), 'year': Leaf(value='0'), 'great': Split(attribute='num_hashtags', subtrees={0: Leaf(value='0'), 2: Leaf(value='0'), 1: Leaf(value='0')}, default_value='0'), 'since': Split(attribute='num_hashtags', subtrees={0: Leaf(value='0')}, default_value='0'), 'obama': Split(attribute='num_hashtags', subtrees={0: Leaf(value='0')}, default_value='0'), 'without': Split(attribute='num_hashtags', subtrees={0: Leaf(value='0'), 1: Leaf(value='1')}, default_value='0'), 'cross': Split(attribute='num_hashtags', subtrees={0: Leaf(value='0'), 1: Leaf(value='1')}, default_value='1'), 'never': Split(attribute='num_hashtags', subtrees={0: Leaf(value='0'), 1: Leaf(value='0'), 3: Leaf(value='0')}, default_value='0'), 'near': Split(attribute='num_hashtags', subtrees={0: Leaf(value='1'), 2: Leaf(value='0'), 1: Leaf(value='1')}, default_value='1'), 'shit': Split(attribute='num_hashtags', subtrees={0: Leaf(value='0')}, default_value='0'), 'buildings': Split(attribute='num_hashtags', subtrees={0: Leaf(value='0')}, default_value='0'), 'truck': Split(attribute='num_hashtags', subtrees={0: Leaf(value='0')}, default_value='0')}, default_value='0')\n"
          ]
        }
      ]
    },
    {
      "cell_type": "code",
      "source": [
        "def num_leaves(decision_tree):\n",
        "  leaves = 0\n",
        "  stack = [decision_tree]\n",
        "  while stack:\n",
        "    tree= stack.pop()\n",
        "    if isinstance(tree,Leaf):\n",
        "      leaves+=1\n",
        "    else:\n",
        "      for item in tree[1]:\n",
        "        stack.append(tree[1][item])\n",
        "  return leaves\n",
        "\n",
        "print(\"Number of Leaves in Decision Tree:\",num_leaves(decision_tree))"
      ],
      "metadata": {
        "colab": {
          "base_uri": "https://localhost:8080/"
        },
        "id": "5-GFpDvWYOSf",
        "outputId": "879a5a76-edcf-4c3d-fe2c-526f3858d772"
      },
      "execution_count": 48,
      "outputs": [
        {
          "output_type": "stream",
          "name": "stdout",
          "text": [
            "Number of Leaves in Decision Tree: 334\n"
          ]
        }
      ]
    },
    {
      "cell_type": "markdown",
      "source": [
        "## Accuracy of Tree"
      ],
      "metadata": {
        "id": "KYOXMOUHkgQe"
      }
    },
    {
      "cell_type": "code",
      "source": [
        "def accuracy(decision_tree,tweets):\n",
        "  correct = 0\n",
        "  incorrect = 0\n",
        "  for tweet in tweets:\n",
        "    predictedOutput(decision_tree,tweet)\n",
        "    if value== tweet.target:\n",
        "      correct+=1\n",
        "    else:\n",
        "      incorrect+=1\n",
        "  #print(\"Correct: \", correct)\n",
        "  #print(\"Incorrect: \", incorrect)\n",
        "\n",
        "  accuracy = correct/(correct+incorrect)\n",
        "  #print(\"Accuracy: \", accuracy)\n",
        "  return accuracy\n",
        "\n",
        "\n",
        "def predictedOutput(decision_tree,tweet):\n",
        "  ''' will use the decision_tree to predict if tweet is valid or not\n",
        "      changes the global variable value to 1 for valid and 0 for invalid\n",
        "  '''\n",
        "  global value\n",
        "  tree= decision_tree\n",
        "  attribute = tree[0]\n",
        "  tweet_val = tweet[features.index(attribute)]\n",
        "  try:\n",
        "    tree = tree[1][tweet_val]\n",
        "    if isinstance(tree,Leaf):\n",
        "        value = tree.value\n",
        "    else:\n",
        "      predictedOutput(tree,tweet)\n",
        "  except:\n",
        "    value = tree[2]"
      ],
      "metadata": {
        "id": "8cmwiNChd09V"
      },
      "execution_count": 49,
      "outputs": []
    },
    {
      "cell_type": "code",
      "source": [
        "print(\"Training Data Accuracy: \", end=\"\")\n",
        "print(accuracy(decision_tree,train_tweets))\n",
        "print(\"Test Data Accuracy: \", end=\"\")\n",
        "print(accuracy(decision_tree,test_tweets))\n",
        "#predictedOutput(decision_tree,tweets[0])"
      ],
      "metadata": {
        "colab": {
          "base_uri": "https://localhost:8080/"
        },
        "id": "KQ81UTqSpb_I",
        "outputId": "5888bb5b-a797-4ed6-ddb5-6e9202c5d7b0"
      },
      "execution_count": 50,
      "outputs": [
        {
          "output_type": "stream",
          "name": "stdout",
          "text": [
            "Training Data Accuracy: 0.7186\n",
            "Test Data Accuracy: 0.6785304247990815\n"
          ]
        }
      ]
    },
    {
      "cell_type": "markdown",
      "source": [
        "## Precision and Recall of Tree"
      ],
      "metadata": {
        "id": "FviOkhgBezz1"
      }
    },
    {
      "cell_type": "code",
      "source": [
        "def precision(decision_tree,tweets):\n",
        "  num = 0\n",
        "  denom = 0\n",
        "  for tweet in tweets:\n",
        "    global value\n",
        "    predictedOutput(decision_tree,tweet)\n",
        "    if value== '1':\n",
        "      denom+=1\n",
        "      if tweet.target=='1':\n",
        "        num+=1\n",
        "  precision = num/denom\n",
        "  return precision"
      ],
      "metadata": {
        "id": "17YPA6Tde2_e"
      },
      "execution_count": 51,
      "outputs": []
    },
    {
      "cell_type": "code",
      "source": [
        "print(\"Training Data Precision: \", end=\"\")\n",
        "print(precision(decision_tree,train_tweets))\n",
        "print(\"Test Data Precision: \", end=\"\")\n",
        "print(precision(decision_tree,test_tweets))"
      ],
      "metadata": {
        "colab": {
          "base_uri": "https://localhost:8080/"
        },
        "id": "uaVP0N5ue76h",
        "outputId": "ff5caecd-02fd-43e7-8645-cb5e8471bcfe"
      },
      "execution_count": 52,
      "outputs": [
        {
          "output_type": "stream",
          "name": "stdout",
          "text": [
            "Training Data Precision: 0.7093225246091488\n",
            "Test Data Precision: 0.6677814938684504\n"
          ]
        }
      ]
    },
    {
      "cell_type": "code",
      "source": [
        "def recall(decision_tree,tweets):\n",
        "  num = 0\n",
        "  denom = 0\n",
        "  for tweet in tweets:\n",
        "    global value\n",
        "    predictedOutput(decision_tree,tweet)\n",
        "    if value== '1' and tweet.target=='1':\n",
        "      num+=1\n",
        "      denom+=1\n",
        "    if value=='0' and tweet.target=='1':\n",
        "      denom+=1\n",
        "  recall = num/denom\n",
        "  return recall"
      ],
      "metadata": {
        "id": "h-qEv3aDhmXv"
      },
      "execution_count": 53,
      "outputs": []
    },
    {
      "cell_type": "code",
      "source": [
        "print(\"Training Data Recall: \", end=\"\")\n",
        "print(recall(decision_tree,train_tweets))\n",
        "print(\"Test Data Recall: \", end=\"\")\n",
        "print(recall(decision_tree,test_tweets))"
      ],
      "metadata": {
        "colab": {
          "base_uri": "https://localhost:8080/"
        },
        "id": "qiy9S7VntBzg",
        "outputId": "77dc9895-5d04-4235-9d12-2586a4b9e2f8"
      },
      "execution_count": 54,
      "outputs": [
        {
          "output_type": "stream",
          "name": "stdout",
          "text": [
            "Training Data Recall: 0.5751173708920188\n",
            "Test Data Recall: 0.5249780893952674\n"
          ]
        }
      ]
    },
    {
      "cell_type": "markdown",
      "source": [
        "## Functions to Use to Build Trees "
      ],
      "metadata": {
        "id": "9Y02ER-oYe1p"
      }
    },
    {
      "cell_type": "markdown",
      "source": [
        "\n",
        "\n",
        "*   build_tree_id3(tweets,['keyword','location'],'target') -> returns a decision tree\n",
        "*   predictedOutput(tree,tweet) -> changes the global variable value to 1 if valid and 0 if not valid\n",
        "*   decision_tree_accuracies(tree,train_tweets,test_tweets) -> returns the train and test accuracies as a tuple (train_accuracy,test_accuracy)\n"
      ],
      "metadata": {
        "id": "zfcJTqllYe1q"
      }
    },
    {
      "cell_type": "code",
      "source": [
        "print(features)"
      ],
      "metadata": {
        "colab": {
          "base_uri": "https://localhost:8080/"
        },
        "id": "edwqzOXBBeyq",
        "outputId": "a1d498fd-2fa3-4e7c-83db-bfa1cbcd4c93"
      },
      "execution_count": 55,
      "outputs": [
        {
          "output_type": "stream",
          "name": "stdout",
          "text": [
            "['keyword', 'location', 'link', 'num_hashtags', 'word_count', 'char_count', 'avg_char_per_word', 'keyword2', 'bigrams']\n"
          ]
        }
      ]
    },
    {
      "cell_type": "code",
      "source": [
        "tree_features = ['keyword', 'bigrams']"
      ],
      "metadata": {
        "id": "F7huu2GNBan9"
      },
      "execution_count": 56,
      "outputs": []
    },
    {
      "cell_type": "code",
      "source": [
        "class Tweet(NamedTuple):\n",
        "  keyword: str\n",
        "  location: str\n",
        "  link: bool\n",
        "  num_hashtags: int\n",
        "  word_count: str\n",
        "  char_count: str\n",
        "  avg_char_per_word: float\n",
        "  keyword2: str\n",
        "  bigrams: tuple\n",
        "  target: int"
      ],
      "metadata": {
        "id": "wejVFR-lnWhm"
      },
      "execution_count": 57,
      "outputs": []
    },
    {
      "cell_type": "code",
      "source": [
        "shuffle_and_split(data)\n",
        "createTweetsObjects() # if this produces an error refresh the cell that declares the Tweet class in the test entropy and partition sections\n",
        "tree = build_tree_id3(train_tweets,tree_features,'target')"
      ],
      "metadata": {
        "colab": {
          "base_uri": "https://localhost:8080/"
        },
        "outputId": "4320f11b-152d-40b9-edd6-9fc8c2da7d6e",
        "id": "cOqsnHyoYe1r"
      },
      "execution_count": 58,
      "outputs": [
        {
          "output_type": "stream",
          "name": "stderr",
          "text": [
            "/usr/local/lib/python3.7/dist-packages/ipykernel_launcher.py:2: VisibleDeprecationWarning: Creating an ndarray from ragged nested sequences (which is a list-or-tuple of lists-or-tuples-or ndarrays with different lengths or shapes) is deprecated. If you meant to do this, you must specify 'dtype=object' when creating the ndarray.\n",
            "  \n"
          ]
        }
      ]
    },
    {
      "cell_type": "code",
      "source": [
        "predictedOutput(tree,train_tweets[100])\n",
        "print(\"Predicted Value: \",value)\n",
        "print(\"Actual Value: \", train_tweets[100].target)\n",
        "\n",
        "predictedOutput(tree,train_tweets[40])\n",
        "print(\"Predicted Value: \",value)\n",
        "print(\"Actual Value: \", train_tweets[40].target)"
      ],
      "metadata": {
        "colab": {
          "base_uri": "https://localhost:8080/"
        },
        "outputId": "3a6c2621-e2bf-43a1-846a-ac4cb4accf01",
        "id": "bdTiMHt5Ye1r"
      },
      "execution_count": 59,
      "outputs": [
        {
          "output_type": "stream",
          "name": "stdout",
          "text": [
            "Predicted Value:  0\n",
            "Actual Value:  0\n",
            "Predicted Value:  0\n",
            "Actual Value:  0\n"
          ]
        }
      ]
    },
    {
      "cell_type": "code",
      "source": [
        "print(\"Number of Leaves in Decision Tree:\", num_leaves(tree))"
      ],
      "metadata": {
        "colab": {
          "base_uri": "https://localhost:8080/"
        },
        "id": "5VZctt-nPccn",
        "outputId": "ae35af73-48fd-422a-f85a-b1bc37cbdab2"
      },
      "execution_count": 60,
      "outputs": [
        {
          "output_type": "stream",
          "name": "stdout",
          "text": [
            "Number of Leaves in Decision Tree: 324\n"
          ]
        }
      ]
    },
    {
      "cell_type": "code",
      "source": [
        "def decision_tree_accuracies(tree,train_tweets,test_tweets):\n",
        "  one = accuracy(tree,train_tweets)\n",
        "  two = accuracy(tree,test_tweets)\n",
        "  #print(\"train acc:\",one)\n",
        "  #print(\"test acc:\",two)\n",
        "  return(one,two)\n"
      ],
      "metadata": {
        "id": "TH7FFWGWYe1r"
      },
      "execution_count": 61,
      "outputs": []
    },
    {
      "cell_type": "code",
      "source": [
        "train_acc,test_acc = decision_tree_accuracies(tree,train_tweets,test_tweets)\n",
        "print(\"Train Accuracy:\", train_acc)\n",
        "print(\"Test Accuracy:\", test_acc)"
      ],
      "metadata": {
        "colab": {
          "base_uri": "https://localhost:8080/"
        },
        "outputId": "e65a05c2-193c-4d80-f9d9-322e59a272d5",
        "id": "To2NkfWJYe1r"
      },
      "execution_count": 62,
      "outputs": [
        {
          "output_type": "stream",
          "name": "stdout",
          "text": [
            "Train Accuracy: 0.7616\n",
            "Test Accuracy: 0.7248373517030233\n"
          ]
        }
      ]
    },
    {
      "cell_type": "markdown",
      "source": [
        "## Tree Predicting a Tweet (Example)"
      ],
      "metadata": {
        "id": "q1P20iBPYWEW"
      }
    },
    {
      "cell_type": "markdown",
      "source": [
        "See How a Decision Tree Will Predict if the Following Tweet is Valid or Not"
      ],
      "metadata": {
        "id": "HnqgYkqWYavx"
      }
    },
    {
      "cell_type": "code",
      "source": [
        "print(features)"
      ],
      "metadata": {
        "colab": {
          "base_uri": "https://localhost:8080/"
        },
        "id": "YbIMjaX_e5ul",
        "outputId": "70e95a0a-7b1f-4371-8620-264ce8528acd"
      },
      "execution_count": 63,
      "outputs": [
        {
          "output_type": "stream",
          "name": "stdout",
          "text": [
            "['keyword', 'location', 'link', 'num_hashtags', 'word_count', 'char_count', 'avg_char_per_word', 'keyword2', 'bigrams']\n"
          ]
        }
      ]
    },
    {
      "cell_type": "code",
      "source": [
        "tweet = Tweet(keyword='apocalypse', location='', link=False, num_hashtags=0, word_count='6-10', char_count='41-60', avg_char_per_word=6.1, keyword2='day', bigrams='none', target='0')"
      ],
      "metadata": {
        "id": "9aAqxICtZABo"
      },
      "execution_count": 64,
      "outputs": []
    },
    {
      "cell_type": "code",
      "source": [
        "test_features = ['location','link', 'num_hashtags', 'word_count', 'char_count', 'bigrams']\n",
        "decision_tree = build_tree_id3(train_tweets,test_features,'target')"
      ],
      "metadata": {
        "id": "DbCPm6WLd4lh"
      },
      "execution_count": 65,
      "outputs": []
    },
    {
      "cell_type": "code",
      "source": [
        "feats = test_features\n",
        "tweets_entropy = train_tweets\n",
        "for split in range(1,len(test_features)+1):\n",
        "  print(\"Tree:\",decision_tree)\n",
        "  attr = decision_tree[0]\n",
        "  print(\"Split\",split,\":\",attr )\n",
        "  num=0\n",
        "  for i in range(9):\n",
        "    if features[i]==attr:\n",
        "      num = i\n",
        "      break\n",
        "  val = a = tweet[num]\n",
        "  if val==\"\":\n",
        "    val = \"empty string\"\n",
        "  print(\"Tweet =>\",attr, \"=>\",val)\n",
        "  try:\n",
        "    decision_tree = decision_tree[1][tweet[num]]\n",
        "    prediction = decision_tree[0]\n",
        "  except:\n",
        "    print(\"Value for this tweet feature not in tree\")\n",
        "    print(\"Default Value is \",decision_tree[2])\n",
        "    prediction=decision_tree[2]\n",
        "    print()\n",
        "    break\n",
        "\n",
        "  # Plot\n",
        "  entropies = []\n",
        "  for key in feats:\n",
        "    entrpy = partition_entropy_by(tweets_entropy,key,'target')\n",
        "    entropies.append(entrpy)\n",
        "    print(\"Entropy\",key,\":\",entrpy)\n",
        "\n",
        "  tweets_entropy = [item for item in tweets_entropy if item[num]==a]\n",
        "  \n",
        "\n",
        "  fig = plt.figure(figsize =(int(2.3*len(feats)), 3))\n",
        "\n",
        "  plt.bar([key for key in feats], entropies)\n",
        "\n",
        "  plt.xlabel(\"Features\")\n",
        "  plt.ylabel(\"Entropy\")\n",
        "  plt.title(\"Entropy of Features\")\n",
        "  plt.show()\n",
        "\n",
        "  feats.remove(attr)\n",
        "  print()\n",
        "\n",
        "print(\"Tree:\",decision_tree)\n",
        "print(\"Prediction:\",prediction)\n",
        "print(\"Actual Value:\", tweet.target)"
      ],
      "metadata": {
        "colab": {
          "base_uri": "https://localhost:8080/",
          "height": 1000
        },
        "id": "Cb8d_y9OZn1r",
        "outputId": "4767e438-6019-42ff-94dc-1d09504cbcf6"
      },
      "execution_count": 66,
      "outputs": [
        {
          "output_type": "stream",
          "name": "stdout",
          "text": [
            "Tree: Split(attribute='location', subtrees={'': Split(attribute='bigrams', subtrees={'none': Split(attribute='link', subtrees={True: Split(attribute='char_count', subtrees={'81-100': Split(attribute='num_hashtags', subtrees={1: Split(attribute='word_count', subtrees={'11-15': Leaf(value='1'), '6-10': Leaf(value='0')}, default_value='0'), 0: Split(attribute='word_count', subtrees={'11-15': Leaf(value='1'), '6-10': Leaf(value='1'), '16-20': Leaf(value='0')}, default_value='1'), 3: Leaf(value='1'), 2: Split(attribute='word_count', subtrees={'6-10': Leaf(value='0'), '11-15': Leaf(value='0')}, default_value='0'), 4: Split(attribute='word_count', subtrees={'11-15': Leaf(value='0'), '6-10': Leaf(value='1')}, default_value='0'), 6: Leaf(value='0'), 5: Leaf(value='1')}, default_value='1'), '101-120': Split(attribute='num_hashtags', subtrees={10: Split(attribute='word_count', subtrees={'11-15': Leaf(value='1')}, default_value='1'), 5: Leaf(value='0'), 0: Split(attribute='word_count', subtrees={'6-10': Leaf(value='0'), '11-15': Leaf(value='1'), '16-20': Leaf(value='0'), '21-25': Leaf(value='0')}, default_value='1'), 1: Split(attribute='word_count', subtrees={'11-15': Leaf(value='1'), '16-20': Leaf(value='0'), '6-10': Leaf(value='1')}, default_value='1'), 2: Split(attribute='word_count', subtrees={'16-20': Leaf(value='1'), '11-15': Leaf(value='0')}, default_value='0'), 3: Split(attribute='word_count', subtrees={'11-15': Leaf(value='0')}, default_value='0'), 7: Leaf(value='0')}, default_value='1'), '61-80': Split(attribute='word_count', subtrees={'6-10': Split(attribute='num_hashtags', subtrees={0: Leaf(value='1'), 1: Leaf(value='0'), 3: Leaf(value='1')}, default_value='1'), '11-15': Split(attribute='num_hashtags', subtrees={0: Leaf(value='0'), 1: Leaf(value='0'), 3: Leaf(value='0')}, default_value='0'), '1-5': Leaf(value='0')}, default_value='0'), '121-140': Split(attribute='num_hashtags', subtrees={0: Split(attribute='word_count', subtrees={'16-20': Leaf(value='1'), '11-15': Leaf(value='1'), '21-25': Leaf(value='1')}, default_value='1'), 1: Split(attribute='word_count', subtrees={'16-20': Leaf(value='1'), '21-25': Leaf(value='1'), '11-15': Leaf(value='1')}, default_value='1'), 4: Split(attribute='word_count', subtrees={'11-15': Leaf(value='0'), '16-20': Leaf(value='0'), '21-25': Leaf(value='1')}, default_value='0'), 3: Split(attribute='word_count', subtrees={'16-20': Leaf(value='0'), '11-15': Leaf(value='1'), '21-25': Leaf(value='1')}, default_value='0'), 8: Split(attribute='word_count', subtrees={'16-20': Leaf(value='0')}, default_value='0'), 5: Split(attribute='word_count', subtrees={'11-15': Leaf(value='1'), '16-20': Leaf(value='1')}, default_value='1'), 2: Split(attribute='word_count', subtrees={'16-20': Leaf(value='1'), '11-15': Leaf(value='0')}, default_value='1'), 6: Leaf(value='0'), 13: Leaf(value='1'), 10: Leaf(value='1'), 7: Leaf(value='1')}, default_value='1'), '41-60': Split(attribute='word_count', subtrees={'1-5': Split(attribute='num_hashtags', subtrees={0: Leaf(value='0')}, default_value='0'), '6-10': Split(attribute='num_hashtags', subtrees={0: Leaf(value='0')}, default_value='0')}, default_value='0'), '21-40': Split(attribute='num_hashtags', subtrees={0: Split(attribute='word_count', subtrees={'1-5': Leaf(value='0')}, default_value='0')}, default_value='0'), '141-160': Split(attribute='num_hashtags', subtrees={2: Leaf(value='0'), 0: Split(attribute='word_count', subtrees={'16-20': Leaf(value='0'), '21-25': Leaf(value='0')}, default_value='0'), 1: Split(attribute='word_count', subtrees={'21-25': Leaf(value='0'), '16-20': Leaf(value='1')}, default_value='0'), 3: Leaf(value='1')}, default_value='0')}, default_value='1'), False: Split(attribute='char_count', subtrees={'141-160': Split(attribute='num_hashtags', subtrees={0: Split(attribute='word_count', subtrees={'21-25': Leaf(value='1'), '26-30': Leaf(value='0')}, default_value='0'), 1: Leaf(value='0'), 3: Leaf(value='1'), 2: Leaf(value='1'), 4: Leaf(value='1')}, default_value='0'), '101-120': Split(attribute='num_hashtags', subtrees={1: Split(attribute='word_count', subtrees={'21-25': Leaf(value='0'), '16-20': Leaf(value='0'), '11-15': Leaf(value='0')}, default_value='0'), 0: Split(attribute='word_count', subtrees={'21-25': Leaf(value='0'), '16-20': Leaf(value='0'), '26-30': Leaf(value='0'), '11-15': Leaf(value='0')}, default_value='0'), 2: Split(attribute='word_count', subtrees={'16-20': Leaf(value='1')}, default_value='1'), 3: Leaf(value='1'), 6: Leaf(value='1')}, default_value='0'), '121-140': Split(attribute='num_hashtags', subtrees={0: Split(attribute='word_count', subtrees={'21-25': Leaf(value='0'), '26-30': Leaf(value='0'), '16-20': Leaf(value='0'), 'other': Leaf(value='0')}, default_value='0'), 2: Split(attribute='word_count', subtrees={'21-25': Leaf(value='0'), '16-20': Leaf(value='0')}, default_value='0'), 1: Split(attribute='word_count', subtrees={'21-25': Leaf(value='0'), '16-20': Leaf(value='1'), '26-30': Leaf(value='0')}, default_value='0'), 4: Leaf(value='0'), 11: Leaf(value='0'), 3: Leaf(value='0'), 8: Leaf(value='1')}, default_value='0'), '81-100': Split(attribute='word_count', subtrees={'16-20': Split(attribute='num_hashtags', subtrees={0: Leaf(value='0'), 1: Leaf(value='1'), 2: Leaf(value='1')}, default_value='0'), '11-15': Split(attribute='num_hashtags', subtrees={0: Leaf(value='0'), 2: Leaf(value='0'), 1: Leaf(value='1')}, default_value='0'), '21-25': Leaf(value='1'), '6-10': Leaf(value='0'), '1-5': Leaf(value='1')}, default_value='0'), '41-60': Split(attribute='num_hashtags', subtrees={0: Split(attribute='word_count', subtrees={'6-10': Leaf(value='0'), '11-15': Leaf(value='0'), '1-5': Leaf(value='0')}, default_value='0'), 1: Split(attribute='word_count', subtrees={'11-15': Leaf(value='1'), '6-10': Leaf(value='0')}, default_value='1'), 3: Leaf(value='0')}, default_value='0'), '61-80': Split(attribute='num_hashtags', subtrees={0: Split(attribute='word_count', subtrees={'6-10': Leaf(value='0'), '11-15': Leaf(value='0'), '16-20': Leaf(value='0')}, default_value='0'), 2: Split(attribute='word_count', subtrees={'11-15': Leaf(value='0'), '6-10': Leaf(value='0'), '16-20': Leaf(value='0')}, default_value='0'), 1: Split(attribute='word_count', subtrees={'6-10': Leaf(value='0'), '11-15': Leaf(value='0')}, default_value='0'), 5: Leaf(value='1'), 3: Leaf(value='1')}, default_value='0'), '21-40': Split(attribute='num_hashtags', subtrees={0: Split(attribute='word_count', subtrees={'6-10': Leaf(value='0'), '1-5': Leaf(value='0')}, default_value='0'), 1: Split(attribute='word_count', subtrees={'6-10': Leaf(value='0'), '1-5': Leaf(value='1')}, default_value='0'), 2: Leaf(value='1')}, default_value='0'), '1-20': Split(attribute='num_hashtags', subtrees={0: Split(attribute='word_count', subtrees={'1-5': Leaf(value='0')}, default_value='0')}, default_value='0')}, default_value='0')}, default_value='0'), ('youtube', 'video'): Split(attribute='char_count', subtrees={'81-100': Leaf(value='0'), '121-140': Leaf(value='0'), '101-120': Split(attribute='word_count', subtrees={'16-20': Leaf(value='0'), '11-15': Leaf(value='1')}, default_value='0'), '61-80': Leaf(value='0')}, default_value='0'), ('body', 'bag'): Leaf(value='0'), ('market', 'crash'): Leaf(value='0'), ('rescuers', 'searching'): Leaf(value='1'), ('cross', 'body'): Leaf(value='0'), ('mass', 'murder'): Split(attribute='num_hashtags', subtrees={0: Split(attribute='link', subtrees={False: Split(attribute='word_count', subtrees={'16-20': Leaf(value='1'), '11-15': Split(attribute='char_count', subtrees={'61-80': Leaf(value='1'), '81-100': Leaf(value='1')}, default_value='1'), '21-25': Leaf(value='1')}, default_value='1'), True: Leaf(value='0')}, default_value='1'), 1: Leaf(value='1')}, default_value='1'), ('heat', 'wave'): Split(attribute='char_count', subtrees={'81-100': Split(attribute='link', subtrees={False: Split(attribute='num_hashtags', subtrees={0: Split(attribute='word_count', subtrees={'16-20': Leaf(value='1')}, default_value='1')}, default_value='1')}, default_value='1'), '121-140': Leaf(value='0'), '101-120': Leaf(value='1'), '61-80': Leaf(value='1'), '41-60': Leaf(value='1')}, default_value='1'), ('oil', 'spill'): Split(attribute='char_count', subtrees={'81-100': Leaf(value='1'), '101-120': Leaf(value='1'), '21-40': Leaf(value='0'), '61-80': Leaf(value='1')}, default_value='1'), ('70', 'years'): Leaf(value='1'), ('burning', 'buildings'): Split(attribute='word_count', subtrees={'11-15': Split(attribute='char_count', subtrees={'81-100': Leaf(value='0'), '61-80': Leaf(value='1')}, default_value='0'), '16-20': Split(attribute='link', subtrees={False: Split(attribute='char_count', subtrees={'101-120': Split(attribute='num_hashtags', subtrees={0: Leaf(value='1')}, default_value='1'), '121-140': Leaf(value='1')}, default_value='1'), True: Leaf(value='1')}, default_value='1'), '6-10': Leaf(value='0'), '21-25': Leaf(value='0'), '26-30': Leaf(value='0')}, default_value='0'), ('knock', 'detonation'): Split(attribute='char_count', subtrees={'121-140': Leaf(value='0'), '101-120': Split(attribute='word_count', subtrees={'11-15': Split(attribute='link', subtrees={True: Split(attribute='num_hashtags', subtrees={0: Leaf(value='0')}, default_value='0')}, default_value='0'), '6-10': Split(attribute='link', subtrees={True: Split(attribute='num_hashtags', subtrees={0: Leaf(value='0')}, default_value='0')}, default_value='0')}, default_value='0'), '81-100': Split(attribute='link', subtrees={True: Split(attribute='num_hashtags', subtrees={0: Split(attribute='word_count', subtrees={'6-10': Leaf(value='0')}, default_value='0')}, default_value='0')}, default_value='0')}, default_value='0'), ('charged', 'manslaughter'): Leaf(value='1'), ('mass', 'murderer'): Leaf(value='1'), ('suicide', 'bomber'): Leaf(value='1'), ('northern', 'california'): Leaf(value='1'), ('structural', 'failure'): Split(attribute='link', subtrees={True: Leaf(value='1'), False: Split(attribute='char_count', subtrees={'121-140': Split(attribute='num_hashtags', subtrees={0: Split(attribute='word_count', subtrees={'16-20': Leaf(value='1')}, default_value='1')}, default_value='1'), '81-100': Leaf(value='0'), '101-120': Leaf(value='1')}, default_value='1')}, default_value='1'), ('debris', 'found'): Leaf(value='1'), ('dust', 'storm'): Leaf(value='1'), ('prebreak', 'best'): Split(attribute='char_count', subtrees={'121-140': Leaf(value='1'), '101-120': Split(attribute='link', subtrees={True: Split(attribute='num_hashtags', subtrees={3: Split(attribute='word_count', subtrees={'16-20': Leaf(value='1')}, default_value='1')}, default_value='1')}, default_value='1')}, default_value='1'), ('wild', 'fires'): Leaf(value='1'), ('fedex', 'longer'): Split(attribute='char_count', subtrees={'101-120': Leaf(value='0'), '121-140': Leaf(value='1'), '81-100': Leaf(value='1')}, default_value='0'), ('body', 'bags'): Leaf(value='0'), ('typhoondevastated', 'saipan'): Leaf(value='1'), ('confirmed', 'mh370'): Leaf(value='1'), ('trapped', 'miners'): Split(attribute='word_count', subtrees={'16-20': Split(attribute='num_hashtags', subtrees={2: Leaf(value='0'), 0: Leaf(value='1')}, default_value='1'), '11-15': Leaf(value='0'), '6-10': Leaf(value='0')}, default_value='0'), ('fall', 'cliff'): Split(attribute='link', subtrees={True: Leaf(value='1'), False: Leaf(value='0')}, default_value='0'), ('body', 'bagging'): Leaf(value='0'), ('content', 'policy'): Leaf(value='0'), ('suicide', 'bombing'): Leaf(value='1'), ('officer', 'wounded'): Leaf(value='1'), ('reddit', 'quarantine'): Split(attribute='char_count', subtrees={'61-80': Split(attribute='link', subtrees={True: Split(attribute='num_hashtags', subtrees={0: Split(attribute='word_count', subtrees={'6-10': Leaf(value='0')}, default_value='0')}, default_value='0')}, default_value='0'), '81-100': Leaf(value='0'), '101-120': Leaf(value='0')}, default_value='0'), ('nuclear', 'reactor'): Split(attribute='char_count', subtrees={'101-120': Split(attribute='link', subtrees={False: Leaf(value='1'), True: Leaf(value='0')}, default_value='1'), '81-100': Leaf(value='0'), '121-140': Leaf(value='1')}, default_value='0'), ('natural', 'disaster'): Split(attribute='char_count', subtrees={'61-80': Leaf(value='0'), '121-140': Leaf(value='1'), '101-120': Leaf(value='1')}, default_value='1'), ('sandstorm', 'minute'): Leaf(value='1'), ('hundreds', 'migrants'): Leaf(value='1'), ('outbreak', 'legionnaires'): Leaf(value='1'), ('war', 'zone'): Split(attribute='char_count', subtrees={'21-40': Leaf(value='1'), '81-100': Leaf(value='0'), '121-140': Leaf(value='1'), '61-80': Leaf(value='0'), '41-60': Leaf(value='0')}, default_value='0'), ('severe', 'thunderstorm'): Leaf(value='1'), ('reunion', 'island'): Leaf(value='1'), ('emergency', 'services'): Split(attribute='word_count', subtrees={'16-20': Leaf(value='0'), '11-15': Leaf(value='1')}, default_value='0'), ('loud', 'bang'): Leaf(value='0'), ('mh370', 'malaysia'): Leaf(value='1'), ('emergency', 'plan'): Leaf(value='1'), ('homes', 'razed'): Leaf(value='1')}, default_value='0'), 'NY, CT & Greece': Leaf(value='1'), 'Raleigh (Garner/Cleveland) NC': Leaf(value='0'), 'Nairobi-KENYA': Leaf(value='1'), 'United States': Split(attribute='bigrams', subtrees={'none': Split(attribute='char_count', subtrees={'21-40': Leaf(value='0'), '121-140': Split(attribute='num_hashtags', subtrees={0: Split(attribute='link', subtrees={True: Split(attribute='word_count', subtrees={'21-25': Leaf(value='1'), '16-20': Leaf(value='0')}, default_value='1'), False: Split(attribute='word_count', subtrees={'21-25': Leaf(value='0'), '16-20': Leaf(value='1')}, default_value='0')}, default_value='1'), 2: Leaf(value='0'), 3: Leaf(value='0'), 1: Leaf(value='0')}, default_value='0'), '81-100': Split(attribute='num_hashtags', subtrees={1: Leaf(value='1'), 0: Leaf(value='0')}, default_value='0'), '61-80': Split(attribute='link', subtrees={True: Leaf(value='1'), False: Leaf(value='0')}, default_value='1'), '41-60': Leaf(value='1'), '101-120': Leaf(value='1')}, default_value='0'), ('severe', 'thunderstorm'): Leaf(value='1'), ('sandstorm', 'minute'): Leaf(value='1'), ('youtube', 'video'): Leaf(value='0'), ('market', 'crash'): Leaf(value='0')}, default_value='1'), 'Boston MA': Leaf(value='0'), \"Wherever I'm sent\": Leaf(value='0'), 'Perth, Western Australia': Split(attribute='word_count', subtrees={'21-25': Leaf(value='0'), '16-20': Leaf(value='1')}, default_value='0'), 'Bakersfield, California': Leaf(value='1'), 'SÌ£o Paulo SP,  Brasil': Leaf(value='1'), 'Pennsylvania, USA': Leaf(value='0'), 'Oregon, USA': Leaf(value='0'), 'New Orleans, LA': Leaf(value='0'), 'Costa Rica': Leaf(value='0'), 'St. Louis, MO': Split(attribute='word_count', subtrees={'1-5': Leaf(value='0'), '16-20': Leaf(value='1'), '11-15': Leaf(value='0')}, default_value='0'), 'highlands&slands scotland': Leaf(value='0'), 'Paignton': Split(attribute='link', subtrees={True: Split(attribute='num_hashtags', subtrees={2: Split(attribute='word_count', subtrees={'16-20': Split(attribute='char_count', subtrees={'121-140': Split(attribute='bigrams', subtrees={('cross', 'body'): Leaf(value='0')}, default_value='0')}, default_value='0')}, default_value='0')}, default_value='0')}, default_value='0'), 'New York': Split(attribute='num_hashtags', subtrees={0: Split(attribute='bigrams', subtrees={'none': Split(attribute='word_count', subtrees={'16-20': Split(attribute='link', subtrees={True: Split(attribute='char_count', subtrees={'121-140': Leaf(value='0')}, default_value='0')}, default_value='0'), '6-10': Leaf(value='1'), '11-15': Leaf(value='0'), '21-25': Leaf(value='0')}, default_value='0'), ('cross', 'body'): Leaf(value='0'), ('natural', 'disaster'): Leaf(value='0'), ('mass', 'murder'): Leaf(value='1')}, default_value='0'), 1: Leaf(value='1'), 5: Split(attribute='link', subtrees={True: Split(attribute='word_count', subtrees={'16-20': Split(attribute='char_count', subtrees={'121-140': Split(attribute='bigrams', subtrees={'none': Leaf(value='0')}, default_value='0')}, default_value='0')}, default_value='0')}, default_value='0'), 4: Leaf(value='0')}, default_value='0'), 'Zeerust, South Africa': Leaf(value='0'), '??? ???? ?f glory. ?': Leaf(value='0'), 'Montana, USA': Leaf(value='0'), 'Ottawa, Ontario': Leaf(value='1'), 'Dreieich, Germany': Leaf(value='1'), 'ss': Leaf(value='0'), 'Spring Tx': Leaf(value='0'), 'Pedophile hunting ground': Leaf(value='1'), 'Chicago': Split(attribute='num_hashtags', subtrees={3: Leaf(value='0'), 0: Leaf(value='1'), 2: Leaf(value='0')}, default_value='0'), 'Birmingham & Bristol': Leaf(value='1'), 'California': Split(attribute='num_hashtags', subtrees={0: Split(attribute='word_count', subtrees={'11-15': Leaf(value='1'), '16-20': Split(attribute='link', subtrees={True: Split(attribute='char_count', subtrees={'121-140': Split(attribute='bigrams', subtrees={'none': Leaf(value='0')}, default_value='0')}, default_value='0'), False: Split(attribute='char_count', subtrees={'121-140': Split(attribute='bigrams', subtrees={'none': Leaf(value='1')}, default_value='1')}, default_value='1')}, default_value='0'), '21-25': Leaf(value='0')}, default_value='1'), 3: Leaf(value='1'), 1: Leaf(value='1'), 2: Leaf(value='0')}, default_value='1'), 'Austin, TX': Split(attribute='char_count', subtrees={'101-120': Leaf(value='0'), '121-140': Split(attribute='word_count', subtrees={'21-25': Leaf(value='0'), '16-20': Leaf(value='1')}, default_value='1'), '41-60': Leaf(value='0')}, default_value='0'), 'nyc': Split(attribute='word_count', subtrees={'6-10': Leaf(value='1'), '11-15': Leaf(value='1'), '21-25': Leaf(value='0')}, default_value='1'), 'Manila City': Leaf(value='0'), '{GoT | Modern AU | Lizz}': Leaf(value='0'), 'New York. NY': Leaf(value='0'), 'India': Split(attribute='word_count', subtrees={'11-15': Split(attribute='char_count', subtrees={'101-120': Split(attribute='link', subtrees={True: Split(attribute='num_hashtags', subtrees={0: Split(attribute='bigrams', subtrees={'none': Leaf(value='0')}, default_value='0')}, default_value='0')}, default_value='0'), '61-80': Leaf(value='1'), '121-140': Leaf(value='1'), '81-100': Leaf(value='1')}, default_value='1'), '16-20': Leaf(value='1'), '6-10': Leaf(value='1'), '26-30': Split(attribute='link', subtrees={False: Split(attribute='num_hashtags', subtrees={0: Split(attribute='char_count', subtrees={'121-140': Split(attribute='bigrams', subtrees={'none': Leaf(value='1')}, default_value='1')}, default_value='1')}, default_value='1')}, default_value='1'), '21-25': Leaf(value='0')}, default_value='1'), 'Washington State': Leaf(value='1'), ' Jariana Town': Leaf(value='0'), 'canada': Leaf(value='1'), 'gaffney, sc ': Leaf(value='0'), 'ilford': Leaf(value='0'), 'Stanford University': Leaf(value='0'), 'alberta, canada': Leaf(value='1'), 'Washington, D.C.': Split(attribute='link', subtrees={True: Split(attribute='num_hashtags', subtrees={0: Leaf(value='1'), 2: Leaf(value='0')}, default_value='1'), False: Leaf(value='0')}, default_value='1'), ' Neverland ': Leaf(value='0'), 'Milwaukee, WI': Split(attribute='char_count', subtrees={'121-140': Leaf(value='0'), '101-120': Leaf(value='0'), '61-80': Leaf(value='1')}, default_value='0'), 'Charlotte, North Carolina': Leaf(value='0'), 'Denver, Colorado': Split(attribute='word_count', subtrees={'16-20': Leaf(value='1'), '26-30': Leaf(value='0'), '6-10': Leaf(value='0'), '11-15': Leaf(value='1')}, default_value='1'), 'Manchester, UK': Split(attribute='word_count', subtrees={'11-15': Leaf(value='1'), '6-10': Leaf(value='0')}, default_value='1'), 'Noida, NCR, India': Leaf(value='1'), 'USA': Split(attribute='bigrams', subtrees={'none': Split(attribute='word_count', subtrees={'16-20': Split(attribute='num_hashtags', subtrees={1: Split(attribute='char_count', subtrees={'121-140': Split(attribute='link', subtrees={True: Leaf(value='0'), False: Leaf(value='1')}, default_value='0'), '101-120': Leaf(value='1'), '141-160': Leaf(value='0')}, default_value='0'), 0: Split(attribute='link', subtrees={True: Split(attribute='char_count', subtrees={'121-140': Leaf(value='0')}, default_value='0'), False: Split(attribute='char_count', subtrees={'101-120': Leaf(value='0'), '121-140': Leaf(value='0')}, default_value='0')}, default_value='0'), 4: Leaf(value='1'), 2: Leaf(value='1'), 3: Leaf(value='1')}, default_value='0'), '11-15': Split(attribute='num_hashtags', subtrees={1: Split(attribute='char_count', subtrees={'121-140': Leaf(value='0'), '81-100': Leaf(value='1')}, default_value='1'), 4: Leaf(value='1'), 0: Split(attribute='link', subtrees={True: Split(attribute='char_count', subtrees={'81-100': Leaf(value='1')}, default_value='1'), False: Leaf(value='0')}, default_value='1'), 2: Leaf(value='0')}, default_value='1'), '6-10': Leaf(value='1'), '21-25': Split(attribute='link', subtrees={True: Leaf(value='1'), False: Split(attribute='char_count', subtrees={'101-120': Leaf(value='0'), '121-140': Split(attribute='num_hashtags', subtrees={0: Leaf(value='0')}, default_value='0')}, default_value='0')}, default_value='1'), '26-30': Leaf(value='0')}, default_value='1'), ('sandstorm', 'minute'): Leaf(value='1'), ('reddit', 'quarantine'): Leaf(value='0'), ('mass', 'murderer'): Leaf(value='1'), ('officer', 'wounded'): Leaf(value='1'), ('heat', 'wave'): Leaf(value='1'), ('fedex', 'longer'): Leaf(value='1'), ('natural', 'disaster'): Leaf(value='1'), ('breaking', 'news'): Leaf(value='1'), ('wild', 'fires'): Leaf(value='1'), ('structural', 'failure'): Leaf(value='1')}, default_value='1'), 'England, Great Britain.': Leaf(value='1'), 'Gainesville, FL': Split(attribute='link', subtrees={False: Leaf(value='1'), True: Leaf(value='0')}, default_value='1'), 'Orlando/Cocoa Beach, FL': Leaf(value='0'), 'Chicopee MA': Leaf(value='0'), 'South Bloomfield, OH': Leaf(value='1'), 'Canada': Split(attribute='word_count', subtrees={'16-20': Split(attribute='char_count', subtrees={'121-140': Split(attribute='bigrams', subtrees={'none': Split(attribute='num_hashtags', subtrees={0: Split(attribute='link', subtrees={True: Leaf(value='0')}, default_value='0'), 1: Leaf(value='1')}, default_value='1'), ('debris', 'found'): Leaf(value='1'), ('oil', 'spill'): Leaf(value='1'), ('fatal', 'outbreak'): Leaf(value='1')}, default_value='1'), '81-100': Leaf(value='1'), '101-120': Leaf(value='0')}, default_value='1'), '11-15': Split(attribute='num_hashtags', subtrees={0: Split(attribute='char_count', subtrees={'61-80': Split(attribute='link', subtrees={False: Split(attribute='bigrams', subtrees={'none': Leaf(value='0')}, default_value='0')}, default_value='0'), '101-120': Split(attribute='link', subtrees={False: Split(attribute='bigrams', subtrees={'none': Leaf(value='1')}, default_value='1')}, default_value='1')}, default_value='0'), 3: Leaf(value='1'), 2: Leaf(value='0'), 1: Leaf(value='0')}, default_value='0'), '6-10': Leaf(value='1'), '21-25': Split(attribute='link', subtrees={True: Split(attribute='num_hashtags', subtrees={0: Split(attribute='char_count', subtrees={'121-140': Split(attribute='bigrams', subtrees={'none': Leaf(value='1')}, default_value='1')}, default_value='1')}, default_value='1')}, default_value='1'), '1-5': Leaf(value='0')}, default_value='1'), 'Guatemala': Leaf(value='1'), 'mi': Leaf(value='0'), 'Brasil': Leaf(value='0'), 'The Internet & NYC': Leaf(value='0'), 'California, United States': Split(attribute='char_count', subtrees={'81-100': Split(attribute='link', subtrees={False: Split(attribute='num_hashtags', subtrees={1: Split(attribute='word_count', subtrees={'16-20': Split(attribute='bigrams', subtrees={'none': Leaf(value='0')}, default_value='0')}, default_value='0')}, default_value='0')}, default_value='0'), '121-140': Leaf(value='0')}, default_value='0'), 'United Kingdom,Fraserburgh': Leaf(value='0'), 'Lima, Peru': Leaf(value='0'), 'Lagos': Split(attribute='num_hashtags', subtrees={1: Leaf(value='0'), 0: Leaf(value='1')}, default_value='0'), 'Illinois, USA': Split(attribute='num_hashtags', subtrees={0: Leaf(value='1'), 1: Leaf(value='0')}, default_value='1'), 'mpls. ': Leaf(value='0'), 'maryland': Leaf(value='1'), 'Quincy': Leaf(value='0'), 'Washington': Leaf(value='1'), 'Huntsville AL': Leaf(value='1'), 'Holly Springs, NC ': Leaf(value='1'), 'Harpurhey, Manchester, UK': Leaf(value='0'), 'Washington DC / Nantes, France': Leaf(value='1'), 'Portsmouth, UK': Leaf(value='0'), 'New York City': Split(attribute='char_count', subtrees={'121-140': Leaf(value='1'), '101-120': Split(attribute='num_hashtags', subtrees={0: Split(attribute='word_count', subtrees={'16-20': Leaf(value='1'), '11-15': Leaf(value='0')}, default_value='1'), 1: Leaf(value='0'), 2: Leaf(value='0')}, default_value='0')}, default_value='1'), 'Providence RI / Lisnaskea ': Leaf(value='1'), 'Newcastle, England': Leaf(value='0'), 'Macon, GA': Leaf(value='1'), 'Amsterdam': Leaf(value='1'), 'Port Williams NS': Leaf(value='1'), 'The Orwellion police-state': Leaf(value='0'), 'Charlotte, NC': Split(attribute='word_count', subtrees={'16-20': Leaf(value='1'), '6-10': Leaf(value='0'), '11-15': Leaf(value='0')}, default_value='0'), 'Cascadia': Leaf(value='0'), 'Ireland': Split(attribute='word_count', subtrees={'21-25': Split(attribute='link', subtrees={False: Leaf(value='1'), True: Split(attribute='num_hashtags', subtrees={2: Leaf(value='1'), 0: Leaf(value='0')}, default_value='1')}, default_value='1'), '1-5': Leaf(value='0'), '16-20': Leaf(value='0'), '6-10': Leaf(value='1')}, default_value='0'), 'Houston': Split(attribute='word_count', subtrees={'11-15': Leaf(value='1'), '6-10': Leaf(value='0')}, default_value='1'), 'Corpus Christi': Leaf(value='1'), 'San Jose, CA': Leaf(value='0'), 'Enterprise, Alabama': Leaf(value='0'), 'Knoxville, TN': Leaf(value='1'), 'Kolkata': Split(attribute='num_hashtags', subtrees={0: Leaf(value='0'), 1: Leaf(value='1')}, default_value='0'), 'Greenpoint, Brooklyn': Leaf(value='0'), 'canberra': Leaf(value='0'), 'San Francisco, CA': Split(attribute='char_count', subtrees={'81-100': Leaf(value='1'), '101-120': Leaf(value='0'), '61-80': Leaf(value='1')}, default_value='1'), 'Deadend, UK': Leaf(value='0'), 'Somewhere between Chicago & Milwaukee': Leaf(value='0'), 'CCH ': Leaf(value='0'), 'Sacramento, CA': Split(attribute='link', subtrees={False: Leaf(value='0'), True: Split(attribute='word_count', subtrees={'16-20': Leaf(value='1'), '11-15': Split(attribute='char_count', subtrees={'101-120': Leaf(value='1'), '81-100': Leaf(value='0')}, default_value='1'), '6-10': Leaf(value='1')}, default_value='1')}, default_value='1'), 'Worldwide': Split(attribute='num_hashtags', subtrees={2: Leaf(value='0'), 0: Split(attribute='bigrams', subtrees={'none': Split(attribute='char_count', subtrees={'121-140': Split(attribute='link', subtrees={True: Split(attribute='word_count', subtrees={'16-20': Leaf(value='1')}, default_value='1')}, default_value='1'), '81-100': Leaf(value='1'), '101-120': Split(attribute='word_count', subtrees={'16-20': Leaf(value='1'), '11-15': Leaf(value='0')}, default_value='1')}, default_value='1'), ('california', 'wildfire'): Leaf(value='1'), ('suicide', 'bomber'): Leaf(value='1'), ('dust', 'storm'): Leaf(value='0')}, default_value='1')}, default_value='1'), 'iTunes': Leaf(value='1'), 'Stalybridge, Tameside': Leaf(value='1'), '19.600858, -99.047821': Leaf(value='1'), 'Augusta, Maine, 04330': Leaf(value='0'), 'Toronto': Split(attribute='word_count', subtrees={'11-15': Leaf(value='0'), '16-20': Split(attribute='link', subtrees={False: Leaf(value='1'), True: Leaf(value='0')}, default_value='1'), '21-25': Split(attribute='link', subtrees={False: Split(attribute='num_hashtags', subtrees={0: Split(attribute='char_count', subtrees={'101-120': Split(attribute='bigrams', subtrees={'none': Leaf(value='1')}, default_value='1')}, default_value='1')}, default_value='1'), True: Leaf(value='1')}, default_value='1')}, default_value='0'), 'The Grey Area': Leaf(value='1'), 'London': Split(attribute='word_count', subtrees={'16-20': Split(attribute='char_count', subtrees={'101-120': Split(attribute='num_hashtags', subtrees={0: Split(attribute='link', subtrees={False: Split(attribute='bigrams', subtrees={'none': Leaf(value='0')}, default_value='0')}, default_value='0'), 1: Leaf(value='0')}, default_value='0'), '121-140': Leaf(value='1'), '81-100': Leaf(value='0')}, default_value='1'), '21-25': Split(attribute='num_hashtags', subtrees={1: Split(attribute='link', subtrees={False: Split(attribute='char_count', subtrees={'121-140': Split(attribute='bigrams', subtrees={'none': Leaf(value='0')}, default_value='0')}, default_value='0')}, default_value='0'), 0: Leaf(value='0')}, default_value='0'), '11-15': Split(attribute='link', subtrees={False: Split(attribute='num_hashtags', subtrees={0: Split(attribute='char_count', subtrees={'61-80': Split(attribute='bigrams', subtrees={'none': Leaf(value='0')}, default_value='0')}, default_value='0')}, default_value='0'), True: Leaf(value='0')}, default_value='0'), '1-5': Split(attribute='num_hashtags', subtrees={1: Leaf(value='1'), 0: Leaf(value='0')}, default_value='0'), '6-10': Leaf(value='1'), '26-30': Leaf(value='1')}, default_value='0'), '140920-21 & 150718-19 BEIJING': Leaf(value='0'), 'Kenya': Split(attribute='word_count', subtrees={'16-20': Leaf(value='0'), '21-25': Split(attribute='link', subtrees={False: Split(attribute='num_hashtags', subtrees={0: Split(attribute='char_count', subtrees={'121-140': Split(attribute='bigrams', subtrees={('loud', 'bang'): Leaf(value='0')}, default_value='0')}, default_value='0')}, default_value='0')}, default_value='0'), '11-15': Leaf(value='1')}, default_value='0'), 'Washington, DC': Split(attribute='char_count', subtrees={'121-140': Split(attribute='word_count', subtrees={'16-20': Split(attribute='num_hashtags', subtrees={1: Leaf(value='1'), 0: Split(attribute='bigrams', subtrees={'none': Split(attribute='link', subtrees={True: Leaf(value='0')}, default_value='0'), ('70', 'years'): Leaf(value='1')}, default_value='1')}, default_value='1'), '21-25': Leaf(value='1'), '11-15': Leaf(value='0')}, default_value='1'), '81-100': Leaf(value='1'), '101-120': Leaf(value='1'), '61-80': Leaf(value='0')}, default_value='1'), 'World': Split(attribute='word_count', subtrees={'11-15': Split(attribute='char_count', subtrees={'101-120': Leaf(value='1'), '121-140': Leaf(value='0')}, default_value='1'), '6-10': Leaf(value='1'), '21-25': Leaf(value='1'), '16-20': Leaf(value='0')}, default_value='1'), 'cleveland, oh': Leaf(value='1'), '#FLIGHTCITY UK  ': Leaf(value='0'), 'Northern Colorado': Leaf(value='0'), 'MAD as Hell': Leaf(value='1'), 'Livingston, IL  U.S.A.': Leaf(value='1'), 'Philadelphia, PA': Split(attribute='word_count', subtrees={'16-20': Leaf(value='1'), '11-15': Leaf(value='0')}, default_value='1'), 'Aveiro, Portugal': Leaf(value='0'), 'Photo : Blue Mountains ': Leaf(value='0'), 'Laredo, TX': Leaf(value='0'), 'Mentor OH': Leaf(value='0'), 'NYC / International': Leaf(value='1'), 'NYC': Split(attribute='char_count', subtrees={'101-120': Leaf(value='0'), '141-160': Leaf(value='0'), '81-100': Split(attribute='num_hashtags', subtrees={0: Leaf(value='1'), 1: Leaf(value='0')}, default_value='1'), '121-140': Split(attribute='link', subtrees={False: Leaf(value='0'), True: Split(attribute='num_hashtags', subtrees={0: Split(attribute='word_count', subtrees={'11-15': Split(attribute='bigrams', subtrees={'none': Leaf(value='0')}, default_value='0')}, default_value='0')}, default_value='0')}, default_value='0'), '41-60': Leaf(value='0')}, default_value='0'), 'livin in a plastic world': Leaf(value='1'), 'Los Angeles, CA': Split(attribute='char_count', subtrees={'121-140': Split(attribute='num_hashtags', subtrees={1: Leaf(value='1'), 0: Split(attribute='bigrams', subtrees={'none': Split(attribute='link', subtrees={False: Split(attribute='word_count', subtrees={'16-20': Leaf(value='1'), '21-25': Leaf(value='0')}, default_value='0'), True: Leaf(value='0')}, default_value='0'), ('outbreak', 'legionnaires'): Leaf(value='1')}, default_value='0')}, default_value='1'), '141-160': Leaf(value='0'), '101-120': Leaf(value='0'), '81-100': Split(attribute='link', subtrees={True: Split(attribute='bigrams', subtrees={'none': Split(attribute='num_hashtags', subtrees={0: Split(attribute='word_count', subtrees={'11-15': Leaf(value='1')}, default_value='1')}, default_value='1'), ('oil', 'spill'): Leaf(value='1')}, default_value='1'), False: Leaf(value='0')}, default_value='1')}, default_value='0'), 'Hame': Leaf(value='1'), 'SWMO': Leaf(value='1'), '??????? ??????? ????????': Leaf(value='1'), 'Phoenix Az': Leaf(value='1'), 'NYC area': Leaf(value='0'), 'Manchester': Split(attribute='word_count', subtrees={'11-15': Leaf(value='0'), '6-10': Leaf(value='0'), '16-20': Split(attribute='link', subtrees={True: Leaf(value='1'), False: Leaf(value='0')}, default_value='1')}, default_value='0'), 'PG Chillin!': Leaf(value='1'), 'Oregon': Split(attribute='char_count', subtrees={'121-140': Leaf(value='0'), '81-100': Leaf(value='1'), '61-80': Leaf(value='0')}, default_value='0'), 'Ontario, Canada': Split(attribute='num_hashtags', subtrees={2: Leaf(value='1'), 0: Leaf(value='0'), 3: Leaf(value='1')}, default_value='1'), 'Edinburgh': Leaf(value='0'), '??': Split(attribute='word_count', subtrees={'6-10': Leaf(value='0'), '11-15': Leaf(value='1')}, default_value='0'), 'icon: cheese3d': Leaf(value='0'), 'Wisconsin': Leaf(value='0'), 'USA/SO FLORIDA via BROOKLYN NY': Leaf(value='0'), 'Diamondville': Leaf(value='0'), 'Narnia': Leaf(value='0'), 'Liverpool': Leaf(value='1'), 'Manchester, England': Leaf(value='0'), '?? ??': Leaf(value='0'), 'Wales, United Kingdom': Leaf(value='0'), 'Ile-Ife,Osun state, Nigeria': Leaf(value='1'), 'Inexpressible Island ': Leaf(value='1'), 'Seattle, Washington': Leaf(value='0'), 'Freeport IL. USA': Leaf(value='1'), 'Fountain Valley, CA': Leaf(value='0'), 'Hammersmith, London': Leaf(value='1'), 'Cleveland, OH': Split(attribute='link', subtrees={True: Leaf(value='0'), False: Leaf(value='1')}, default_value='0'), 'ph': Leaf(value='0'), 'mainly California': Leaf(value='1'), 'Dhaka, Bangladsh': Leaf(value='1'), 'Tucson, Az': Leaf(value='1'), 'Seattle, WA': Split(attribute='num_hashtags', subtrees={1: Split(attribute='link', subtrees={True: Leaf(value='1'), False: Leaf(value='0')}, default_value='1'), 0: Leaf(value='1'), 5: Leaf(value='0')}, default_value='1'), 'Get our App': Leaf(value='1'), 'Frostburg': Leaf(value='0'), 'Afghanistan, USA': Leaf(value='1'), 'Heathrow': Leaf(value='1'), 'Quito, Ecuador.': Leaf(value='1'), 'Top Secret': Leaf(value='1'), 'In the clouds...': Leaf(value='0'), 'Global-NoLocation': Leaf(value='1'), 'PSA Nursing ': Leaf(value='0'), 'Fresno, CA': Leaf(value='1'), 'Host of #MindMoversPodcast': Leaf(value='1'), 'Reading UK': Leaf(value='0'), 'Nigeria, WORLDWIDE': Leaf(value='0'), ' BC, US, Asia or Europe.': Leaf(value='0'), 'GLOBAL': Split(attribute='link', subtrees={True: Leaf(value='1'), False: Leaf(value='0')}, default_value='1'), 'beacon hills ': Leaf(value='1'), 'Park Ridge, Illinois': Leaf(value='0'), 'Porthcawl': Leaf(value='1'), 'Johannesburg, South Africa': Leaf(value='0'), 'Bronx NY': Leaf(value='1'), 'Australia': Split(attribute='num_hashtags', subtrees={0: Split(attribute='char_count', subtrees={'101-120': Split(attribute='link', subtrees={False: Leaf(value='0'), True: Leaf(value='1')}, default_value='0'), '121-140': Leaf(value='0'), '21-40': Leaf(value='1'), '81-100': Split(attribute='link', subtrees={True: Split(attribute='word_count', subtrees={'11-15': Split(attribute='bigrams', subtrees={'none': Leaf(value='0')}, default_value='0')}, default_value='0')}, default_value='0'), '141-160': Leaf(value='1')}, default_value='1'), 2: Split(attribute='word_count', subtrees={'16-20': Leaf(value='0'), '11-15': Leaf(value='0'), '21-25': Leaf(value='1'), '6-10': Leaf(value='0')}, default_value='0'), 1: Leaf(value='1'), 3: Leaf(value='0')}, default_value='0'), 'Wildomar, CA': Leaf(value='0'), 'Washington, D.C. ': Leaf(value='1'), '( ?å¡ ?? ?å¡), ': Leaf(value='0'), 'Hamilton County, IN': Leaf(value='1'), 'NY': Leaf(value='0'), 'Some where': Leaf(value='0'), 'dubai ': Leaf(value='1'), 'front row at a show': Leaf(value='0'), 'Mississauga, Ontario': Leaf(value='0'), 'Spokane, Washington': Leaf(value='1'), 'The Pig Sty': Leaf(value='1'), 'Center for Domestic Preparedness': Leaf(value='1'), 'Beit El - Israel': Leaf(value='1'), 'Kansas': Leaf(value='1'), 'DC Metro area': Leaf(value='0'), 'Estados Unidos': Leaf(value='1'), 'The Land of MAss Stupidity': Leaf(value='1'), 'nor*cal': Leaf(value='0'), 'Kansas City, MO': Split(attribute='word_count', subtrees={'6-10': Leaf(value='1'), '16-20': Leaf(value='0')}, default_value='1'), 'Australian Capital Territory': Leaf(value='1'), 'Subconscious LA': Split(attribute='link', subtrees={True: Split(attribute='num_hashtags', subtrees={0: Split(attribute='word_count', subtrees={'11-15': Split(attribute='char_count', subtrees={'121-140': Split(attribute='bigrams', subtrees={'none': Leaf(value='1')}, default_value='1')}, default_value='1')}, default_value='1')}, default_value='1')}, default_value='1'), 'Atlanta, Georgia USA': Leaf(value='0'), 'W.I.T.S Academy': Leaf(value='0'), 'U.S.A': Split(attribute='num_hashtags', subtrees={1: Leaf(value='0'), 0: Leaf(value='1')}, default_value='1'), '18 \\x89Û¢ CC': Leaf(value='0'), 'USA ': Leaf(value='0'), 'Virginia, USA': Split(attribute='word_count', subtrees={'6-10': Leaf(value='0'), '1-5': Leaf(value='1')}, default_value='0'), 'North Jersey': Leaf(value='0'), '304': Leaf(value='0'), 'Canada BC': Leaf(value='0'), 'Vancouver, British Columbia': Leaf(value='1'), 'Global': Split(attribute='bigrams', subtrees={'none': Split(attribute='word_count', subtrees={'21-25': Leaf(value='1'), '11-15': Leaf(value='1'), '6-10': Split(attribute='link', subtrees={True: Split(attribute='num_hashtags', subtrees={0: Split(attribute='char_count', subtrees={'61-80': Leaf(value='0')}, default_value='0')}, default_value='0')}, default_value='0')}, default_value='1'), ('body', 'bagging'): Leaf(value='0')}, default_value='1'), '570 Vanderbilt; Brooklyn, NY': Leaf(value='0'), 'London / Berlin / Online': Leaf(value='0'), 'Memphis, TN': Split(attribute='num_hashtags', subtrees={0: Leaf(value='1'), 6: Leaf(value='0')}, default_value='1'), 'Somewhere Out There': Leaf(value='1'), 'The American Wasteland (MV)': Leaf(value='0'), 'Philippines': Split(attribute='link', subtrees={False: Leaf(value='0'), True: Leaf(value='1')}, default_value='0'), 'Tips on my blog at': Leaf(value='0'), '? ': Leaf(value='0'), 'Orbost, Victoria, Australia': Leaf(value='1'), 'Predjama, Eslovenia.': Leaf(value='0'), 'England': Split(attribute='link', subtrees={True: Leaf(value='1'), False: Leaf(value='0')}, default_value='1'), 'Auckland': Leaf(value='0'), 'tx': Split(attribute='link', subtrees={False: Split(attribute='num_hashtags', subtrees={0: Split(attribute='word_count', subtrees={'1-5': Split(attribute='char_count', subtrees={'41-60': Split(attribute='bigrams', subtrees={'none': Leaf(value='1')}, default_value='1')}, default_value='1')}, default_value='1')}, default_value='1')}, default_value='1'), 'TV5, Philippines': Leaf(value='1'), 'Paradise, NV': Leaf(value='0'), '?????': Split(attribute='word_count', subtrees={'6-10': Leaf(value='1'), '16-20': Leaf(value='0'), '21-25': Leaf(value='0')}, default_value='0'), 'Massachusetts': Split(attribute='char_count', subtrees={'61-80': Leaf(value='0'), '101-120': Leaf(value='1'), '81-100': Split(attribute='link', subtrees={False: Leaf(value='0'), True: Leaf(value='1')}, default_value='0'), '121-140': Leaf(value='1')}, default_value='1'), \"St. John's, NL, Canada\": Leaf(value='1'), 'Sandton, South Africa': Leaf(value='0'), 'Walthamstow, London': Leaf(value='0'), 'On the court ': Leaf(value='0'), 'va': Split(attribute='word_count', subtrees={'21-25': Leaf(value='0'), '16-20': Leaf(value='1')}, default_value='0'), 'California, USA': Split(attribute='char_count', subtrees={'121-140': Split(attribute='num_hashtags', subtrees={2: Leaf(value='0'), 0: Leaf(value='0'), 1: Split(attribute='link', subtrees={False: Leaf(value='1'), True: Split(attribute='word_count', subtrees={'16-20': Split(attribute='bigrams', subtrees={'none': Leaf(value='1')}, default_value='1')}, default_value='1')}, default_value='1')}, default_value='0'), '41-60': Leaf(value='0'), '101-120': Leaf(value='1')}, default_value='0'), 'Newcastle': Split(attribute='link', subtrees={True: Leaf(value='0'), False: Leaf(value='1')}, default_value='0'), 'Yuba City, CA': Leaf(value='0'), 'New Jersey': Split(attribute='word_count', subtrees={'21-25': Leaf(value='0'), '26-30': Leaf(value='0'), '16-20': Leaf(value='1')}, default_value='0'), 'Greater Los Angeles Bearia': Leaf(value='0'), 'Christchurch New Zealand': Leaf(value='0'), 'Shelby County': Leaf(value='1'), 'south of heaven ': Leaf(value='1'), 'Central Illinois': Leaf(value='1'), 'Suginami-ku, Tokyo, Japan': Leaf(value='1'), '??????': Split(attribute='word_count', subtrees={'1-5': Leaf(value='0'), '11-15': Leaf(value='1')}, default_value='0'), 'Madrid': Leaf(value='1'), 'Charleston S.C.': Leaf(value='1'), 'austin, texas': Leaf(value='1'), 'Lagos, Nigeria': Leaf(value='1'), 'Malibu/SantaFe/Winning!': Leaf(value='1'), 'PROUD INDIANS': Leaf(value='1'), 'Castaic, CA': Leaf(value='0'), 'Davidson, NC': Leaf(value='0'), 'City of Angels, CA': Leaf(value='0'), 'Columbus': Split(attribute='word_count', subtrees={'1-5': Leaf(value='0'), '6-10': Leaf(value='1')}, default_value='0'), 'Houston, Texas': Leaf(value='1'), 'Magnolia': Leaf(value='0'), 'Atlanta, GA': Split(attribute='word_count', subtrees={'6-10': Leaf(value='0'), '16-20': Leaf(value='1'), '21-25': Leaf(value='1'), '11-15': Leaf(value='1')}, default_value='1'), 'Coolidge, AZ': Leaf(value='0'), '//RP\\\\ ot @Mort3mer\\\\\\\\': Leaf(value='0'), 'EARTH ': Leaf(value='0'), 'ColoRADo': Leaf(value='0'), 'The P (South Philly)': Leaf(value='1'), 'Vista, CA': Leaf(value='1'), 'GREENSBORO,NORTH CAROLINA': Leaf(value='1'), 'Dallas, TX': Split(attribute='char_count', subtrees={'61-80': Split(attribute='bigrams', subtrees={'none': Leaf(value='0'), ('wild', 'fires'): Leaf(value='1')}, default_value='0'), '101-120': Leaf(value='1'), '81-100': Leaf(value='1')}, default_value='0'), 'I ACCEPT SONG REQUESTS': Leaf(value='1'), 'Wakefield, West Yorkshire': Leaf(value='0'), 'LONG ISLAND, NY': Leaf(value='0'), 'Livingston, MT': Leaf(value='0'), 'Calgary, Alberta': Split(attribute='link', subtrees={True: Leaf(value='1'), False: Leaf(value='0')}, default_value='1'), 'WORLDWIDE-BOSTON': Leaf(value='0'), 'Njoro, Kenya': Leaf(value='1'), 'North West England UK': Leaf(value='1'), 'Whole World ': Leaf(value='1'), '???????? ?????????.': Leaf(value='0'), 'Ashland, Oregon': Leaf(value='1'), 'Cochrane, Alberta, Canada': Leaf(value='1'), 'West Africa': Leaf(value='1'), 'Sao Paulo, Brazil': Leaf(value='0'), 'London, England': Split(attribute='word_count', subtrees={'16-20': Leaf(value='0'), '6-10': Leaf(value='0'), '11-15': Leaf(value='0'), '1-5': Leaf(value='1'), '21-25': Leaf(value='0')}, default_value='0'), 'Texas, USA': Leaf(value='0'), 'Honduras': Leaf(value='0'), 'Scottsdale. AZ': Leaf(value='0'), 'Trinidad & Tobago': Split(attribute='link', subtrees={False: Leaf(value='0'), True: Leaf(value='1')}, default_value='0'), 'England, United Kingdom': Leaf(value='1'), 'United States of America': Leaf(value='1'), \"elena's bed // info on link\": Leaf(value='0'), 'San Diego, CA': Split(attribute='char_count', subtrees={'121-140': Split(attribute='word_count', subtrees={'16-20': Leaf(value='0'), '21-25': Leaf(value='1')}, default_value='1'), '101-120': Leaf(value='0'), '81-100': Leaf(value='0')}, default_value='0'), 'Everywhere': Split(attribute='char_count', subtrees={'81-100': Split(attribute='word_count', subtrees={'6-10': Leaf(value='1'), '11-15': Leaf(value='0'), '16-20': Leaf(value='0')}, default_value='0'), '121-140': Leaf(value='1'), '41-60': Split(attribute='link', subtrees={True: Split(attribute='num_hashtags', subtrees={0: Split(attribute='word_count', subtrees={'1-5': Split(attribute='bigrams', subtrees={'none': Leaf(value='0')}, default_value='0')}, default_value='0')}, default_value='0'), False: Leaf(value='0')}, default_value='0'), '141-160': Leaf(value='0'), '61-80': Leaf(value='0'), '101-120': Leaf(value='0')}, default_value='0'), 'Birmingham': Split(attribute='link', subtrees={True: Leaf(value='1'), False: Leaf(value='0')}, default_value='1'), 'Vancouver, BC.': Leaf(value='0'), 'Minneapolis - St. Paul': Leaf(value='1'), 'Proudly frozen Canuck eh !!': Leaf(value='0'), 'Oklahoma City, OK': Split(attribute='word_count', subtrees={'16-20': Leaf(value='1'), '11-15': Leaf(value='1'), '6-10': Leaf(value='0')}, default_value='1'), 'Vancouver BC': Leaf(value='0'), 'Chiswick, London': Leaf(value='0'), 'seattle wa': Leaf(value='0'), 'Kajang ? UiTM Puncak Alam': Leaf(value='0'), 'come here in 20 minutes for an ass kicking': Leaf(value='0'), 'Chicago, Illinois': Split(attribute='num_hashtags', subtrees={1: Leaf(value='0'), 0: Leaf(value='1')}, default_value='0'), 'Stage with Trey Songz': Leaf(value='0'), 'hollywoodland ': Leaf(value='0'), 'Switzerland': Leaf(value='0'), 'ANYWEHERE !!': Leaf(value='0'), 'Guildford, UK': Leaf(value='0'), 'big boy \\x89Û¢ 0802': Leaf(value='0'), 'Boston, MA': Split(attribute='link', subtrees={True: Split(attribute='num_hashtags', subtrees={1: Leaf(value='0'), 0: Leaf(value='1')}, default_value='0'), False: Leaf(value='0')}, default_value='0'), 'New York, NY': Split(attribute='bigrams', subtrees={'none': Split(attribute='char_count', subtrees={'101-120': Split(attribute='link', subtrees={True: Leaf(value='0'), False: Leaf(value='1')}, default_value='0'), '121-140': Split(attribute='num_hashtags', subtrees={1: Split(attribute='link', subtrees={True: Split(attribute='word_count', subtrees={'16-20': Leaf(value='0')}, default_value='0')}, default_value='0'), 0: Split(attribute='link', subtrees={False: Split(attribute='word_count', subtrees={'21-25': Leaf(value='1')}, default_value='1')}, default_value='1'), 3: Leaf(value='1')}, default_value='1'), '81-100': Leaf(value='0'), '41-60': Leaf(value='0')}, default_value='0'), ('body', 'bagging'): Leaf(value='0'), ('outbreak', 'legionnaires'): Leaf(value='1'), ('oil', 'spill'): Leaf(value='1')}, default_value='0'), 'Waukesha, WI': Leaf(value='0'), 'Illinois': Leaf(value='0'), '(a) property of the universe': Leaf(value='0'), 'Stowmarket': Leaf(value='1'), 'San Francisco': Split(attribute='word_count', subtrees={'16-20': Split(attribute='num_hashtags', subtrees={2: Leaf(value='1'), 0: Split(attribute='link', subtrees={False: Leaf(value='0'), True: Split(attribute='char_count', subtrees={'121-140': Split(attribute='bigrams', subtrees={'none': Leaf(value='1')}, default_value='1')}, default_value='1')}, default_value='0'), 3: Leaf(value='1')}, default_value='1'), '11-15': Leaf(value='0'), '21-25': Split(attribute='link', subtrees={False: Leaf(value='1'), True: Leaf(value='0')}, default_value='1'), '6-10': Leaf(value='1')}, default_value='1'), 'The South & WestCoast ': Leaf(value='0'), 'Cleveland, TN': Leaf(value='0'), 'iTunes - RSS': Leaf(value='1'), 'Chicago, IL': Split(attribute='char_count', subtrees={'121-140': Split(attribute='word_count', subtrees={'21-25': Split(attribute='link', subtrees={True: Leaf(value='1'), False: Leaf(value='0')}, default_value='1'), '11-15': Leaf(value='1'), '16-20': Split(attribute='num_hashtags', subtrees={0: Leaf(value='0'), 2: Leaf(value='1')}, default_value='0')}, default_value='1'), '101-120': Leaf(value='1'), '81-100': Leaf(value='0'), '21-40': Leaf(value='0'), '141-160': Leaf(value='1')}, default_value='1'), 'http://www.amazon.com/dp/B00HR': Leaf(value='1'), 'Hendersonville, NC': Leaf(value='0'), 'The Wood': Leaf(value='0'), 'Banbridge': Leaf(value='1'), 'wherever the $$$ at': Leaf(value='0'), 'Quezon City, Philippines': Leaf(value='1'), '505 W. Maple, Suite 100': Leaf(value='0'), 'sweden': Leaf(value='0'), 'Inverness, Nova Scotia': Leaf(value='0'), 'Tampa': Leaf(value='0'), '3???2???????': Leaf(value='0'), '94123': Leaf(value='0'), 'Brazos Valley, Texas': Leaf(value='1'), 'Loading...': Leaf(value='1'), 'Netherlands,Amsterdam-Virtual ': Leaf(value='0'), 'UK & Ibiza': Leaf(value='0'), 'Evanston, IL': Leaf(value='1'), \"'SAN ANTONIOOOOO'\": Leaf(value='0'), 'Malaysia': Split(attribute='link', subtrees={True: Leaf(value='1'), False: Leaf(value='0')}, default_value='1'), 'Belgium': Split(attribute='word_count', subtrees={'1-5': Leaf(value='0'), '16-20': Leaf(value='1')}, default_value='0'), 'Africa': Leaf(value='1'), 'Santo Domingo Alma Rosa ': Leaf(value='1'), 'Five down from the Coffeeshop': Leaf(value='1'), 'Rio': Leaf(value='0'), 'dope show': Leaf(value='0'), 'Anonymous': Split(attribute='char_count', subtrees={'121-140': Leaf(value='1'), '141-160': Leaf(value='0')}, default_value='1'), 'Chicago Area': Leaf(value='0'), 'Cape Town': Split(attribute='char_count', subtrees={'81-100': Leaf(value='0'), '61-80': Leaf(value='0'), '41-60': Leaf(value='1')}, default_value='0'), 'South Africa': Split(attribute='word_count', subtrees={'16-20': Leaf(value='0'), '11-15': Leaf(value='1')}, default_value='0'), 'Arizona ': Split(attribute='word_count', subtrees={'16-20': Leaf(value='1'), '11-15': Leaf(value='0')}, default_value='1'), 'plymouth': Leaf(value='1'), 'Yellowknife': Leaf(value='1'), 'Melbourne, Florida': Leaf(value='1'), 'West Vancouver, B.C.': Leaf(value='0'), '@potteratthedisc': Leaf(value='1'), 'Srinagar,Kashmir': Leaf(value='1'), 'Bozeman, Montana': Leaf(value='0'), 'United Kingdom': Split(attribute='char_count', subtrees={'81-100': Split(attribute='bigrams', subtrees={'none': Leaf(value='0'), ('oil', 'spill'): Leaf(value='1')}, default_value='0'), '41-60': Leaf(value='1'), '101-120': Leaf(value='1'), '121-140': Leaf(value='0')}, default_value='0'), 'Pretoria': Leaf(value='0'), 'Pennsylvania': Split(attribute='char_count', subtrees={'61-80': Leaf(value='0'), '41-60': Leaf(value='0'), '101-120': Leaf(value='0'), '121-140': Leaf(value='1')}, default_value='0'), 'NYC :) Ex- #Islamophobe': Split(attribute='num_hashtags', subtrees={2: Leaf(value='1'), 4: Leaf(value='0'), 0: Leaf(value='1')}, default_value='1'), 'State College, PA': Split(attribute='char_count', subtrees={'121-140': Split(attribute='link', subtrees={True: Split(attribute='num_hashtags', subtrees={0: Split(attribute='word_count', subtrees={'11-15': Split(attribute='bigrams', subtrees={'none': Leaf(value='0')}, default_value='0')}, default_value='0')}, default_value='0')}, default_value='0'), '81-100': Leaf(value='0')}, default_value='0'), 'Gotham City': Leaf(value='0'), 'Some other mansion': Leaf(value='0'), 'Elsewhere, NZ': Leaf(value='0'), 'Here there and everywhere': Leaf(value='1'), \"???????, ??'??????\": Leaf(value='0'), 'Cheshire. London. #allover': Leaf(value='0'), 'Hampshire UK': Leaf(value='0'), 'Sydney Australia': Leaf(value='1'), 'In the moment': Leaf(value='0'), 'ducked off . . . ': Leaf(value='0'), 'Las Vegas, Nevada': Split(attribute='word_count', subtrees={'16-20': Leaf(value='0'), '11-15': Leaf(value='1'), '21-25': Leaf(value='1')}, default_value='1'), 'Arizona': Split(attribute='link', subtrees={True: Split(attribute='num_hashtags', subtrees={0: Split(attribute='word_count', subtrees={'16-20': Split(attribute='char_count', subtrees={'101-120': Split(attribute='bigrams', subtrees={'none': Leaf(value='1')}, default_value='1')}, default_value='1')}, default_value='1')}, default_value='1')}, default_value='1'), 'in my head': Leaf(value='0'), 'ohio': Leaf(value='0'), '434': Leaf(value='0'), 'Boise, Idaho': Leaf(value='1'), 'PA.USA': Leaf(value='0'), ' ?currently writing a book?': Leaf(value='0'), 'Manchester, The World, England': Leaf(value='0'), 'HTX': Leaf(value='0'), 'Ontario Canada': Leaf(value='0'), 'Phoenix, AZ': Split(attribute='num_hashtags', subtrees={0: Leaf(value='1'), 3: Split(attribute='word_count', subtrees={'11-15': Leaf(value='1'), '16-20': Leaf(value='0')}, default_value='1')}, default_value='1'), 'Traverse City, MI': Leaf(value='1'), '#RedSoxNation': Leaf(value='0'), 'Haddonfield, NJ': Leaf(value='1'), 'Nicola Valley': Leaf(value='1'), 'Hyderabad Telangana INDIA': Leaf(value='1'), 'Auburn, AL': Leaf(value='1'), 'Aberdeenshire': Leaf(value='0'), 'Columbia, SC': Split(attribute='word_count', subtrees={'6-10': Leaf(value='0'), '16-20': Leaf(value='1')}, default_value='0'), 'Slatina,Romania': Leaf(value='0'), 'Wema building': Leaf(value='0'), 'somewhere USA ': Leaf(value='0'), 'InterplanetaryZone': Leaf(value='0'), 'East Islip, NY': Leaf(value='1'), 'Lagos Nigeria': Split(attribute='link', subtrees={False: Leaf(value='0'), True: Leaf(value='1')}, default_value='0'), 'Holland MI via Houston, CLE': Leaf(value='0'), 'Clayton, NC': Leaf(value='1'), 'Twitter Lockout in progress': Leaf(value='0'), 'Oakland, CA': Leaf(value='1'), 'Huntley, IL': Leaf(value='0'), 'SF Bay Area': Split(attribute='num_hashtags', subtrees={4: Leaf(value='1'), 1: Leaf(value='0')}, default_value='1'), 'Happily Married with 2 kids ': Leaf(value='0'), 'Vermont, USA': Leaf(value='0'), 'Moscow, Russia': Leaf(value='0'), 'Toronto, Bob-Lo, Miami Beach': Leaf(value='1'), 'Houston, TX': Split(attribute='char_count', subtrees={'121-140': Leaf(value='1'), '81-100': Leaf(value='0'), '101-120': Leaf(value='0'), '141-160': Leaf(value='1')}, default_value='1'), 'russia': Leaf(value='0'), 'Calgary, AB, Canada': Leaf(value='1'), 'In The Mansion': Leaf(value='0'), 'Auckland, New Zealand': Leaf(value='0'), 'uk': Split(attribute='num_hashtags', subtrees={0: Leaf(value='1'), 1: Leaf(value='0'), 2: Leaf(value='0')}, default_value='0'), 'Orlando, Fl': Leaf(value='0'), 'Stay Fly?': Leaf(value='1'), 'Portland, Oregon': Leaf(value='1'), 'Hamilton, Ontario Canada': Leaf(value='1'), 'Nigeria': Split(attribute='num_hashtags', subtrees={0: Split(attribute='word_count', subtrees={'11-15': Split(attribute='char_count', subtrees={'101-120': Leaf(value='1'), '81-100': Split(attribute='link', subtrees={True: Split(attribute='bigrams', subtrees={'none': Leaf(value='1')}, default_value='1')}, default_value='1')}, default_value='1'), '16-20': Split(attribute='char_count', subtrees={'101-120': Leaf(value='0'), '121-140': Split(attribute='link', subtrees={True: Split(attribute='bigrams', subtrees={'none': Leaf(value='1')}, default_value='1')}, default_value='1')}, default_value='0'), '6-10': Leaf(value='1'), '21-25': Split(attribute='link', subtrees={True: Leaf(value='0'), False: Leaf(value='1')}, default_value='0')}, default_value='1'), 1: Leaf(value='1'), 2: Leaf(value='1')}, default_value='1'), 'Miami?Gainesville': Leaf(value='0'), 'golborne, north west england.': Leaf(value='0'), 'Port Harcourt, Nigeria': Leaf(value='1'), 'Melbourne, Australia': Split(attribute='char_count', subtrees={'21-40': Leaf(value='1'), '101-120': Leaf(value='1'), '121-140': Leaf(value='1'), '81-100': Split(attribute='link', subtrees={True: Split(attribute='num_hashtags', subtrees={0: Split(attribute='word_count', subtrees={'11-15': Split(attribute='bigrams', subtrees={'none': Leaf(value='1')}, default_value='1')}, default_value='1')}, default_value='1')}, default_value='1')}, default_value='1'), '-?s?s?j??s-': Leaf(value='1'), 'International Action': Leaf(value='1'), 'Salt Lake City, UT': Leaf(value='1'), ' ? ??????? ? ( ?? å¡ ? ? ? å¡)': Leaf(value='1'), 'Buffalo, NY': Split(attribute='word_count', subtrees={'11-15': Leaf(value='1'), '16-20': Leaf(value='0')}, default_value='1'), 'ARGENTINA': Leaf(value='1'), 'Indonesia\\n': Leaf(value='1'), 'Fakefams': Leaf(value='1'), 'Prehistoric Earth': Leaf(value='0'), 'louisville, kentucky': Leaf(value='0'), 'Kawartha Lakes, Ontario, Canad': Leaf(value='0'), 'Athens,Greece': Leaf(value='1'), 'Live mÌÁs': Leaf(value='0'), 'Las Vegas, NV ': Leaf(value='1'), 'somewhere in cali ': Leaf(value='0'), 'Boston': Split(attribute='word_count', subtrees={'11-15': Leaf(value='1'), '16-20': Split(attribute='char_count', subtrees={'121-140': Leaf(value='1'), '101-120': Leaf(value='0')}, default_value='1')}, default_value='1'), 'US': Split(attribute='num_hashtags', subtrees={0: Leaf(value='1'), 6: Leaf(value='0')}, default_value='1'), 'somewhere in Portugal': Leaf(value='0'), 'infj ': Leaf(value='1'), 'London, Riyadh': Leaf(value='1'), 'kissimmee,fl.': Leaf(value='0'), 'Ashxjonespr@gmail.com': Leaf(value='1'), 'England ': Leaf(value='0'), 'London ': Leaf(value='0'), 'Shady Pines ': Leaf(value='0'), 'peshawar pakistan ': Leaf(value='0'), 'Winston Salem, North Carolina': Leaf(value='0'), 'Greenfield, Massachusetts': Leaf(value='0'), 'Georgia': Leaf(value='0'), 'The Circle of Life': Leaf(value='0'), 'Did anybody see me here ??': Leaf(value='1'), 'Earth ': Leaf(value='0'), 'bangalore': Leaf(value='1'), 'Mackay, QLD, Australia': Split(attribute='link', subtrees={False: Split(attribute='num_hashtags', subtrees={0: Split(attribute='word_count', subtrees={'11-15': Split(attribute='char_count', subtrees={'81-100': Split(attribute='bigrams', subtrees={('burning', 'buildings'): Leaf(value='0')}, default_value='0')}, default_value='0')}, default_value='0')}, default_value='0')}, default_value='0'), 'New Sweden': Split(attribute='link', subtrees={False: Leaf(value='1'), True: Leaf(value='0')}, default_value='1'), 'Docker container': Leaf(value='0'), 'Tulsa, Oklahoma': Leaf(value='1'), 'Ashford, Kent, United Kingdom': Leaf(value='1'), 'on to the next adventure': Leaf(value='1'), 'Florida': Split(attribute='word_count', subtrees={'11-15': Split(attribute='char_count', subtrees={'101-120': Split(attribute='link', subtrees={True: Split(attribute='num_hashtags', subtrees={0: Split(attribute='bigrams', subtrees={'none': Leaf(value='1')}, default_value='1')}, default_value='1')}, default_value='1'), '81-100': Leaf(value='0')}, default_value='0'), '16-20': Leaf(value='0'), '6-10': Leaf(value='0'), '21-25': Leaf(value='1'), '26-30': Leaf(value='0')}, default_value='0'), 'in the Word of God': Leaf(value='0'), 'right next to you': Leaf(value='0'), 'Los Angeles New York': Leaf(value='0'), 'EveryWhere': Leaf(value='0'), 'Irving , Texas': Leaf(value='0'), 'Selma2Oakland': Leaf(value='1'), 'Hoxton, London': Leaf(value='1'), 'portland, oregon': Leaf(value='1'), 'Miami via Lima': Leaf(value='0'), 'Gaborone, Botswana': Leaf(value='0'), 'Aarhus, Central Jutland': Leaf(value='0'), 'Yellowknife, NT': Leaf(value='1'), 'Leicester': Split(attribute='word_count', subtrees={'16-20': Leaf(value='0'), '6-10': Leaf(value='0'), '11-15': Leaf(value='1'), '1-5': Leaf(value='1')}, default_value='0'), 'Colombo,Sri Lanka.': Leaf(value='0'), 'proudly South African': Leaf(value='1'), 'Montgomery, AL': Leaf(value='1'), 'Colorado': Split(attribute='num_hashtags', subtrees={0: Leaf(value='1'), 2: Leaf(value='1'), 1: Leaf(value='0')}, default_value='1'), 'Mumbai': Split(attribute='char_count', subtrees={'141-160': Leaf(value='1'), '41-60': Leaf(value='1'), '121-140': Leaf(value='1'), '81-100': Leaf(value='0'), '61-80': Leaf(value='0')}, default_value='1'), 'Slappin and Smackin ': Leaf(value='0'), 'Richmond, VA': Leaf(value='0'), 'Madison, WI': Leaf(value='0'), 'UK': Split(attribute='char_count', subtrees={'101-120': Split(attribute='link', subtrees={True: Split(attribute='num_hashtags', subtrees={0: Split(attribute='word_count', subtrees={'11-15': Split(attribute='bigrams', subtrees={'none': Leaf(value='1')}, default_value='1')}, default_value='1')}, default_value='1'), False: Leaf(value='1')}, default_value='1'), '121-140': Split(attribute='num_hashtags', subtrees={1: Leaf(value='1'), 3: Split(attribute='link', subtrees={True: Split(attribute='word_count', subtrees={'16-20': Split(attribute='bigrams', subtrees={'none': Leaf(value='1')}, default_value='1')}, default_value='1')}, default_value='1'), 0: Leaf(value='1'), 2: Leaf(value='0')}, default_value='1'), '61-80': Split(attribute='word_count', subtrees={'6-10': Leaf(value='1'), '11-15': Leaf(value='0')}, default_value='1'), '41-60': Leaf(value='0')}, default_value='1'), 'us-east-1a': Leaf(value='0'), 'Waterford MI': Leaf(value='0'), 'Rockville, Maryland': Leaf(value='1'), 'Amarillo': Leaf(value='1'), 'www.twitch.tv/PKSparkxx': Leaf(value='0'), 'IRAQ': Leaf(value='1'), 'Sacae Plains': Leaf(value='1'), '?@symbolicjensen?': Leaf(value='0'), 'Florida, USA': Split(attribute='link', subtrees={True: Split(attribute='num_hashtags', subtrees={0: Split(attribute='word_count', subtrees={'11-15': Split(attribute='char_count', subtrees={'81-100': Split(attribute='bigrams', subtrees={'none': Leaf(value='0')}, default_value='0')}, default_value='0')}, default_value='0')}, default_value='0'), False: Leaf(value='1')}, default_value='1'), 'London / Birmingham': Leaf(value='0'), 'Indiana': Leaf(value='0'), 'Gotham City,USA': Leaf(value='0'), 'World news': Leaf(value='1'), 'Coventry': Leaf(value='0'), 'Tyler, TX': Leaf(value='0'), 'Morganville, Texas.': Leaf(value='0'), 'Minneapolis,MN,US': Leaf(value='1'), ' Alberta': Leaf(value='1'), 'Bokaro Steel City, Jharkhand': Leaf(value='0'), 'WORLDWIDE!': Leaf(value='0'), 'instagram: bribriony': Leaf(value='0'), 'Austin, Texas': Split(attribute='link', subtrees={True: Leaf(value='0'), False: Leaf(value='1')}, default_value='0'), 'Mexico City': Leaf(value='0'), 'Planet of da Bathing Apes': Leaf(value='1'), 'denver colorado': Leaf(value='0'), 'Columbus, OH': Split(attribute='link', subtrees={False: Leaf(value='0'), True: Leaf(value='1')}, default_value='0'), 'Turkmenistan': Leaf(value='0'), \"IUPUI '19\": Leaf(value='0'), 'Outside The Matrix, I Think.': Leaf(value='1'), 'pittsboro': Leaf(value='1'), 'BROOKLYN, NYC': Leaf(value='1'), 'St Louis, MO': Leaf(value='1'), 'online ': Split(attribute='word_count', subtrees={'21-25': Leaf(value='1'), '11-15': Leaf(value='0')}, default_value='1'), 'san gabriel la union': Leaf(value='0'), 'Hattiesburg, MS': Leaf(value='0'), 'MÌ©rida, YucatÌÁn': Leaf(value='0'), 'Phila.': Leaf(value='0'), 'Scotland, United Kingdom': Split(attribute='word_count', subtrees={'26-30': Leaf(value='0'), '1-5': Leaf(value='1')}, default_value='0'), 'Bandar Lampung, Indonesia': Leaf(value='1'), 'Magnolia, Fiore ': Leaf(value='1'), 'LIVERPOOL': Leaf(value='0'), 'Nevada (wishing for Colorado)': Leaf(value='0'), '?semekeepschanging@soyeh?': Leaf(value='0'), 'ÌÏT: 39.982988,-75.261624': Leaf(value='1'), 'Lincoln, NE': Leaf(value='1'), 'Vidalia GA': Leaf(value='0'), 'PSN: Pipbois ': Leaf(value='0'), '1/3 of the blam squad ': Leaf(value='0'), 'sÌ£o luis': Leaf(value='0'), 'Weston super mare': Leaf(value='0'), 'Balikesir - Eskisehir': Leaf(value='0'), 'In Space': Leaf(value='0'), 'Visit our  dedicated website @': Leaf(value='1'), 'rome': Leaf(value='0'), 'Emirates': Leaf(value='0'), 'Va Beach, Virginia': Leaf(value='1'), 'I Heard #2MBikers': Leaf(value='1'), 'Charlotte ': Leaf(value='1'), '????? ???? ????': Leaf(value='1'), 'District of Gentrification/ DC': Leaf(value='0'), 'Planet Earth': Split(attribute='word_count', subtrees={'11-15': Split(attribute='link', subtrees={True: Split(attribute='num_hashtags', subtrees={0: Split(attribute='char_count', subtrees={'81-100': Split(attribute='bigrams', subtrees={'none': Leaf(value='1')}, default_value='1')}, default_value='1')}, default_value='1')}, default_value='1'), '6-10': Leaf(value='1')}, default_value='1'), 'lia\\x89Û¢dani\\x89Û¢laura': Leaf(value='0'), 'Bellville, Ohio': Leaf(value='0'), 'British Columbia, Canada': Leaf(value='1'), 'Tafekop Ga-Matsepe': Leaf(value='1'), 'Marietta, GA': Leaf(value='1'), 'Orange County, NY': Leaf(value='0'), 'ÌÏT: 6.488400524109015,3.352798039832285': Leaf(value='1'), 'Every Where in the World': Leaf(value='1'), 'Vietnam': Leaf(value='1'), ' Road to the Billionaires Club': Split(attribute='char_count', subtrees={'121-140': Leaf(value='0'), '141-160': Split(attribute='link', subtrees={False: Split(attribute='num_hashtags', subtrees={0: Split(attribute='word_count', subtrees={'26-30': Split(attribute='bigrams', subtrees={'none': Leaf(value='1')}, default_value='1')}, default_value='1')}, default_value='1')}, default_value='1')}, default_value='0'), 'Los Angeles': Split(attribute='char_count', subtrees={'101-120': Split(attribute='num_hashtags', subtrees={3: Leaf(value='0'), 0: Leaf(value='1'), 1: Leaf(value='0')}, default_value='0'), '121-140': Split(attribute='word_count', subtrees={'21-25': Leaf(value='1'), '16-20': Leaf(value='1'), '26-30': Split(attribute='link', subtrees={False: Split(attribute='num_hashtags', subtrees={0: Split(attribute='bigrams', subtrees={'none': Leaf(value='0')}, default_value='0')}, default_value='0')}, default_value='0')}, default_value='1'), '61-80': Leaf(value='1'), '81-100': Leaf(value='0'), '141-160': Leaf(value='0')}, default_value='1'), 'Tucson, Arizona ': Leaf(value='1'), 'Manhattan, NY': Split(attribute='link', subtrees={False: Leaf(value='1'), True: Leaf(value='0')}, default_value='1'), 'Westerland': Leaf(value='1'), 'Sunshine Coast, Queensland': Leaf(value='0'), 'Ideally under a big tree': Leaf(value='0'), 'PDX': Leaf(value='1'), '92': Leaf(value='1'), 'Chile': Leaf(value='0'), 'Karachi': Leaf(value='1'), 'Philippines ': Leaf(value='1'), 'In a crazy genius mind': Leaf(value='0'), 'Calgary,AB, Canada': Leaf(value='1'), '107-18 79TH STREET': Leaf(value='0'), 'Maracay y Nirgua, Venezuela': Leaf(value='1'), 'London, UK': Split(attribute='word_count', subtrees={'21-25': Leaf(value='1'), '11-15': Split(attribute='num_hashtags', subtrees={0: Leaf(value='1'), 2: Leaf(value='0')}, default_value='1'), '16-20': Split(attribute='num_hashtags', subtrees={0: Leaf(value='0'), 2: Leaf(value='1')}, default_value='0')}, default_value='1'), 'Watertown, Mass.': Leaf(value='1'), 'Paris ': Leaf(value='1'), 'Brecksville, OH': Leaf(value='0'), 'Moscow': Leaf(value='0'), 'Seattle': Split(attribute='num_hashtags', subtrees={0: Leaf(value='0'), 3: Leaf(value='1'), 2: Leaf(value='0'), 1: Leaf(value='1')}, default_value='0'), 'Tripsburg, ms.': Leaf(value='0'), 'Pontevedra, Galicia': Leaf(value='0'), 'Georgia, USA': Leaf(value='0'), 'staggering on tenement roofs': Leaf(value='0'), 'Uruguay / Westeros / Gallifrey': Leaf(value='0'), 'Baltimore, MD': Split(attribute='word_count', subtrees={'11-15': Leaf(value='0'), '16-20': Leaf(value='0'), '6-10': Leaf(value='1')}, default_value='0'), 'Atlanta': Split(attribute='word_count', subtrees={'11-15': Leaf(value='1'), '6-10': Leaf(value='0'), '21-25': Split(attribute='num_hashtags', subtrees={1: Leaf(value='1'), 0: Leaf(value='0')}, default_value='1'), '16-20': Leaf(value='0')}, default_value='0'), 'Washington, DC & Charlotte, NC': Leaf(value='1'), 'New Orleans ,Louisiana': Split(attribute='word_count', subtrees={'1-5': Leaf(value='1'), '6-10': Leaf(value='0')}, default_value='1'), 'Saint Paul': Leaf(value='1'), 'ÌÏT: 1.50225,103.742992': Leaf(value='1'), 'Phoenix': Split(attribute='link', subtrees={False: Leaf(value='0'), True: Leaf(value='1')}, default_value='0'), 'Chapel Hill, NC': Leaf(value='1'), 'los angeles, ca': Leaf(value='0'), 'new york': Split(attribute='word_count', subtrees={'16-20': Leaf(value='0'), '11-15': Leaf(value='1'), '6-10': Leaf(value='0')}, default_value='0'), 'Stockholm, Sweden': Leaf(value='1'), 'Kuala Lumpur': Leaf(value='1'), 'Buy Give Me My Money ': Leaf(value='0'), 'San Francisco Bay Area': Split(attribute='num_hashtags', subtrees={0: Leaf(value='0'), 1: Leaf(value='1')}, default_value='0'), 'Chandler, AZ': Leaf(value='1'), 'MA': Split(attribute='word_count', subtrees={'1-5': Leaf(value='0'), '21-25': Leaf(value='1')}, default_value='0'), 'SEATTLE, WA USA': Leaf(value='1'), 'Glasgow, Scotland': Leaf(value='0'), 'Santiago de Cmpostela Galicia': Leaf(value='1'), 'Istanbul': Leaf(value='0'), 'Location': Split(attribute='num_hashtags', subtrees={0: Leaf(value='0'), 1: Leaf(value='1')}, default_value='0'), 'Virginia': Split(attribute='word_count', subtrees={'6-10': Leaf(value='0'), '16-20': Leaf(value='1')}, default_value='0'), 'Atlanta g.a.': Leaf(value='0'), 'Michigan': Split(attribute='link', subtrees={False: Leaf(value='0'), True: Leaf(value='1')}, default_value='1'), 'they/them': Leaf(value='0'), 'Fairgrounds Resident': Leaf(value='0'), 'Birmingham and the Marches': Leaf(value='1'), 'MAURITIUS': Leaf(value='1'), 'a van down by the river': Leaf(value='0'), 'Mogadishu, Somalia': Leaf(value='1'), 'Conroe, TX': Leaf(value='0'), 'Hawaii': Leaf(value='1'), 'My subconscious': Leaf(value='0'), 'Scotland': Split(attribute='char_count', subtrees={'141-160': Leaf(value='1'), '101-120': Split(attribute='link', subtrees={True: Leaf(value='0'), False: Leaf(value='1')}, default_value='0'), '121-140': Leaf(value='0')}, default_value='0'), 'Buenos Aires, Argentina': Split(attribute='link', subtrees={True: Leaf(value='0'), False: Leaf(value='1')}, default_value='0'), 'Bleak House': Leaf(value='1'), 'Toronto, Worldwide ': Leaf(value='0'), 'QUEENS.': Leaf(value='0'), 'Duval, WV 25573, USA ?': Leaf(value='0'), 'Chennai': Leaf(value='1'), 'probably the strip club': Leaf(value='0'), 'Buffalo NY': Leaf(value='1'), '? Philly Baby ?': Leaf(value='0'), 'Calgary/Airdrie/RedDeer/AB': Leaf(value='0'), 'LiVE MÌ\\x81S': Leaf(value='0'), 'sisterhood': Leaf(value='0'), 'July 11th, 2015. ?': Leaf(value='0'), 'Rapid City, South Dakota': Leaf(value='1'), 'Fort Knox, KY 40121': Leaf(value='1'), 'Does it really matter!': Split(attribute='link', subtrees={True: Split(attribute='num_hashtags', subtrees={0: Split(attribute='word_count', subtrees={'1-5': Split(attribute='char_count', subtrees={'21-40': Split(attribute='bigrams', subtrees={'none': Leaf(value='1')}, default_value='1')}, default_value='1')}, default_value='1')}, default_value='1')}, default_value='1'), 'East Coast': Split(attribute='link', subtrees={False: Leaf(value='0'), True: Leaf(value='1')}, default_value='0'), 'Bay Area': Leaf(value='0'), 'Insula Barataria': Leaf(value='0'), 'Kwajalein/Virginia/Dayton, OH': Leaf(value='1'), 'Dundas, Ontario': Leaf(value='0'), 'Lakewood, Tennessee': Leaf(value='0'), 'Karachi, Pakistan': Leaf(value='1'), 'Cleveland, OH - San Diego, CA': Leaf(value='1'), 'Bournemouth': Leaf(value='0'), 'Soufside': Leaf(value='0'), 'Cambridge, MA': Leaf(value='0'), 'Lima-Peru': Leaf(value='0'), 'Boksburg': Leaf(value='0'), 'Nomad, USA': Leaf(value='0'), 'Nanaimo, BC, Canada': Leaf(value='1'), 'Fairy Tail! ': Leaf(value='1'), 'Palo Alto, California': Leaf(value='1'), 'Rio de Janeiro': Leaf(value='0'), '???': Leaf(value='1'), 'Indonesia': Split(attribute='char_count', subtrees={'81-100': Split(attribute='num_hashtags', subtrees={0: Leaf(value='0'), 4: Leaf(value='1')}, default_value='0'), '121-140': Leaf(value='1'), '41-60': Leaf(value='0'), '101-120': Leaf(value='0'), '61-80': Leaf(value='1')}, default_value='1'), 'Greensboro, North Carolina': Leaf(value='1'), 'Area 8 ': Leaf(value='0'), 'Calgary, Alberta, Canada': Leaf(value='1'), 'Singapore': Split(attribute='link', subtrees={True: Leaf(value='0'), False: Leaf(value='1')}, default_value='0'), 'Anchorage, AK': Split(attribute='link', subtrees={False: Leaf(value='1'), True: Leaf(value='0')}, default_value='1'), 'Midwest City, OK': Leaf(value='0'), 'The 5th Dimension. ': Leaf(value='1'), 'austin tx': Leaf(value='0'), 'southern california': Leaf(value='0'), 'Tallahassee Florida': Leaf(value='1'), 'Kuala Lumpur, Malaysia': Leaf(value='0'), 'Whitby, ON': Leaf(value='0'), 'Walker County, Alabama': Leaf(value='1'), 'Minna, Nigeria': Leaf(value='1'), 'The Netherlands': Split(attribute='num_hashtags', subtrees={0: Leaf(value='1'), 4: Leaf(value='0')}, default_value='1'), 'Pakistan, Islamabad': Leaf(value='1'), 'Voorhees, NJ': Leaf(value='1'), 'Himalayan Mountains': Leaf(value='1'), 'LYNBROOK': Leaf(value='0'), 'Dublin, Ireland': Split(attribute='link', subtrees={False: Leaf(value='1'), True: Leaf(value='0')}, default_value='1'), 'Chicago, Il': Leaf(value='0'), 'Reality': Leaf(value='1'), 'U.S.': Leaf(value='1'), 'Wellington': Leaf(value='0'), 'Plano,TX': Leaf(value='0'), 'Somewhere ': Leaf(value='0'), 'Sydney': Split(attribute='word_count', subtrees={'21-25': Split(attribute='num_hashtags', subtrees={0: Leaf(value='1'), 1: Leaf(value='0')}, default_value='1'), '11-15': Leaf(value='1'), '6-10': Leaf(value='0'), '16-20': Leaf(value='0')}, default_value='0'), 'Lahar & Gwalior': Leaf(value='1'), 'Kentucky, USA': Leaf(value='0'), 'brooklyn, NYC': Leaf(value='0'), 'Eddyville, Oregon 97343': Leaf(value='1'), 'Europe': Leaf(value='1'), 'U.S.A and Canada': Leaf(value='0'), 'cognitive dissonance town': Leaf(value='0'), 'Maryland, USA': Leaf(value='0'), 'Geneva': Split(attribute='char_count', subtrees={'101-120': Leaf(value='1'), '61-80': Leaf(value='0'), '121-140': Leaf(value='0')}, default_value='0'), 'Every where': Leaf(value='0'), 'VitÌ_ria (ES)': Leaf(value='0'), '  News': Leaf(value='1'), 'SouthEast Asia': Leaf(value='1'), 'TonyJ@Centralizedhockey.com': Leaf(value='1'), 'kansas': Leaf(value='0'), 'dreamy lake': Leaf(value='0'), 'PA': Leaf(value='0'), 'Cypress, CA 90630': Leaf(value='0'), 'L. A.': Leaf(value='1'), 'Rhyme Or Reason?': Leaf(value='1'), 'boston': Leaf(value='0'), 'in my own personal hell (:': Leaf(value='0'), 'Taylor Swift': Leaf(value='0'), 'Pueblo, Colorado': Leaf(value='0'), '#HAMont': Leaf(value='0'), 'Austin/Los Angeles': Leaf(value='0'), 'Pratt-on-Wye': Leaf(value='0'), 'Neverland': Leaf(value='0'), 'Queen Creek AZ': Leaf(value='0'), 'Alicante, Valencia': Leaf(value='0'), 'Concord, NH ': Leaf(value='1'), 'Overland Park, KS': Leaf(value='1'), 'Pueblo, CO': Leaf(value='1'), 'Terlingua, Texas': Leaf(value='1'), 'garowe puntland somalia': Leaf(value='1'), 'y/e/l': Leaf(value='0'), 'Kirkwall': Leaf(value='0'), 'Greenville': Leaf(value='0'), 'Victoria, Canada': Leaf(value='0'), 'Chamblee, Georgia': Leaf(value='1'), 'Brentwood,TN': Leaf(value='0'), 'Central Florida': Leaf(value='1'), 'Guayaquil': Leaf(value='0'), 'followurDREAMS(& my instagram)': Leaf(value='0'), 'My contac 27B80F7E 08170156520': Leaf(value='0'), 'QLD Australia': Leaf(value='1'), 'San Diego CA': Leaf(value='1'), 'they/them ': Split(attribute='link', subtrees={False: Leaf(value='0'), True: Leaf(value='1')}, default_value='0'), 'Athens, Greece': Leaf(value='1'), 'TN': Leaf(value='0'), 'california': Leaf(value='0'), 'Swaning Around': Split(attribute='word_count', subtrees={'11-15': Leaf(value='1'), '6-10': Leaf(value='0')}, default_value='1'), 'Freeport il ': Leaf(value='0'), 'Eureka, California, USA': Leaf(value='1'), 'Jersey': Leaf(value='0'), 'Paname City': Leaf(value='0'), 'Books Published, USA': Leaf(value='0'), 'PA, USA': Leaf(value='1'), 'Pontefract UK': Leaf(value='1'), 'WAISTDEEP, TX': Leaf(value='0'), 'Antioch, CA ': Leaf(value='0'), '? Jet Life ?': Leaf(value='0'), 'Johannesburg, South Africa ': Leaf(value='0'), 'Orlando, FL': Leaf(value='0'), 'In the Shadows...': Leaf(value='0'), '(Spain)': Leaf(value='1'), 'Fukushima city Fukushima.pref': Leaf(value='0'), 'NYC-LA-MIAMI': Leaf(value='1'), 'Pioneer Village, KY': Leaf(value='1'), 'Riyadh': Leaf(value='0'), 'Skyport de la Rosa': Leaf(value='0'), 'Hackney, London': Leaf(value='0'), 'Madrid, Comunidad de Madrid': Leaf(value='0'), 'Blackpool': Leaf(value='1'), '261 5th Avenue New York, NY ': Leaf(value='1'), 'world': Leaf(value='1'), 'SaudI arabia - riyadh ': Leaf(value='0'), 'Suplex City': Split(attribute='word_count', subtrees={'6-10': Leaf(value='0'), '16-20': Leaf(value='1')}, default_value='0'), 'UK, Republic of Ireland and Australia': Leaf(value='0'), 'statesboro/vidalia': Leaf(value='0'), 'Broadview Heights, Ohio': Leaf(value='0'), 'Nairobi': Leaf(value='1'), 'London, Kent & SE England.': Leaf(value='0'), 'CA ??DC': Leaf(value='0'), 'Colorado/WorldWide': Leaf(value='0'), 'Augusta, GA': Leaf(value='0'), 'Las Vegas, NV USA': Leaf(value='0'), 'Brizzle City !': Leaf(value='1'), 'North Ferriby, East Yorkshire': Leaf(value='0'), 'Accra,Ghana': Leaf(value='0'), 'Leesburg, FL': Leaf(value='0'), '#MadeInNorthumberland': Leaf(value='0'), 'Nowhere. Everywhere.': Leaf(value='0'), 'White Plains, NY': Leaf(value='0'), 'Earth': Split(attribute='char_count', subtrees={'121-140': Split(attribute='link', subtrees={False: Leaf(value='0'), True: Leaf(value='1')}, default_value='1'), '101-120': Leaf(value='1'), '61-80': Leaf(value='1'), '81-100': Leaf(value='0')}, default_value='1'), 'Gold Coast, Australia': Split(attribute='word_count', subtrees={'11-15': Leaf(value='0'), '6-10': Leaf(value='1')}, default_value='0'), 'Montreal': Leaf(value='1'), \"Your Sister's Bedroom\": Leaf(value='1'), 'The shores of Lake Kilby': Leaf(value='0'), 'Porto Alegre, Rio Grande do Sul': Leaf(value='0'), 'Uppsala, Sweden': Leaf(value='0'), 'Basking Ridge, NJ': Leaf(value='0'), 'hey Georgia': Leaf(value='0'), 'Catalonia, Spain': Leaf(value='0'), 'HOMRA.': Leaf(value='0'), 'Van Buren, MO': Leaf(value='0'), 'SÌ£o Paulo': Leaf(value='1'), 'Slateport City, Hoenn': Leaf(value='0'), 'Fort Walton Beach, FL': Leaf(value='1'), 'Baltimore': Leaf(value='0'), 'Bridport, England': Leaf(value='0'), '#goingdownthetoilet Illinois': Leaf(value='1'), 'denmark': Leaf(value='1'), 'Sacramento': Leaf(value='1'), 'Evergreen Colorado': Leaf(value='0'), 'Spain but Opa-Locka, FL': Leaf(value='1'), 'en el pais de los arrechos': Leaf(value='0'), 'Anderson, SC': Leaf(value='1'), 'Trapped in my Conscience ': Leaf(value='0'), '\\x89Û¢ Views From The Six \\x89Û¢': Leaf(value='0'), 'WestEnd, Puritan Ave ': Leaf(value='0'), 'The Desert of the Real': Leaf(value='1'), ' 616 \\x89Û¢ Kentwood , MI ': Leaf(value='1'), 'The Epicenter, and Beyond': Leaf(value='0'), 'Enterprise, NV': Leaf(value='0'), 'Washington, USA': Leaf(value='1'), 'SoCal': Leaf(value='0'), 'Littleton, CO': Leaf(value='0'), 'Alaska': Leaf(value='0'), 'Leeds': Leaf(value='1'), 'Warm Heart Of Africa': Leaf(value='0'), 'Queens, NY': Leaf(value='0'), 'Freeport Ny': Leaf(value='0'), 'Kansas City': Split(attribute='word_count', subtrees={'16-20': Split(attribute='link', subtrees={True: Split(attribute='num_hashtags', subtrees={0: Split(attribute='char_count', subtrees={'121-140': Split(attribute='bigrams', subtrees={'none': Leaf(value='0')}, default_value='0')}, default_value='0')}, default_value='0')}, default_value='0'), '6-10': Leaf(value='0')}, default_value='0'), \"Atlanta - FAU class of '18\": Leaf(value='1'), 'Fort Lauderdale, FL': Leaf(value='1'), 'Halfrica': Leaf(value='1'), 'Trumann, Arkansas': Leaf(value='0'), '2005 |-/': Leaf(value='0'), 'Playa del Carmen, Mexico': Leaf(value='1'), 'Victorville, CA': Leaf(value='0'), 'PROV': Leaf(value='0'), 'Unknown': Leaf(value='0'), 'Colorado Springs': Leaf(value='0'), 'Silicon Valley': Split(attribute='link', subtrees={True: Leaf(value='1'), False: Leaf(value='0')}, default_value='1'), 'Inglewood, CA': Leaf(value='0'), 'Varies ': Leaf(value='0'), 'Spinning through time.': Leaf(value='0'), 'Baker City Oregon': Leaf(value='0'), 'Eau Claire, Wisconsin': Leaf(value='1'), 'Odawara, Japan': Leaf(value='0'), 'Winnipeg, Manitoba': Leaf(value='0'), 'Hogsmeade': Leaf(value='0'), \"Wherever I'm needed\": Leaf(value='0'), 'New York, USA': Split(attribute='word_count', subtrees={'6-10': Leaf(value='1'), '11-15': Leaf(value='0')}, default_value='0'), 'Earth-616': Leaf(value='0'), 'Waco, Texas': Leaf(value='0'), \"Riyadh ')\": Leaf(value='1'), 'NJ': Split(attribute='word_count', subtrees={'1-5': Leaf(value='0'), '21-25': Leaf(value='1')}, default_value='0'), 'Trinidad and Tobago': Leaf(value='0'), 'IM LOST ': Leaf(value='0'), 'London UK': Split(attribute='link', subtrees={False: Leaf(value='1'), True: Leaf(value='0')}, default_value='1'), 'Iraq|Afghanistan| RSA |Baghdad': Leaf(value='0'), '#BlackLivesMatter': Leaf(value='1'), 'St Paul, MN': Leaf(value='0'), '253': Leaf(value='0'), 'Vancouver Canada': Leaf(value='0'), 'somewhere too cold for me': Leaf(value='1'), 'Phoenix, Arizona, USA': Leaf(value='1'), 'Topeka, KS': Leaf(value='0'), 'Budapest, Hungary': Leaf(value='0'), 'Scottsdale, AZ': Leaf(value='0'), 'Fashion Heaven. IG: TMId_': Leaf(value='0'), 'Shrewsbury': Leaf(value='0'), 'Your screen': Leaf(value='1'), 'Maryland': Split(attribute='link', subtrees={False: Split(attribute='num_hashtags', subtrees={0: Split(attribute='word_count', subtrees={'21-25': Split(attribute='char_count', subtrees={'121-140': Split(attribute='bigrams', subtrees={'none': Leaf(value='0')}, default_value='0')}, default_value='0')}, default_value='0')}, default_value='0'), True: Leaf(value='0')}, default_value='0'), 'Based in CA - Serve Nationwide': Leaf(value='1'), 'Austin': Leaf(value='1'), 'Japan': Split(attribute='link', subtrees={True: Leaf(value='1'), False: Leaf(value='0')}, default_value='1'), 'Maldives': Split(attribute='num_hashtags', subtrees={1: Leaf(value='0'), 0: Leaf(value='1')}, default_value='0'), ' New England': Leaf(value='1'), 'Mexico! ^_^': Leaf(value='0'), 'Mumbai, India': Leaf(value='0'), 'M!$$!$$!PP!': Leaf(value='1'), 'Nashville, TN': Split(attribute='char_count', subtrees={'41-60': Leaf(value='1'), '121-140': Split(attribute='num_hashtags', subtrees={0: Leaf(value='0'), 2: Leaf(value='1')}, default_value='0'), '101-120': Leaf(value='1'), '81-100': Leaf(value='0')}, default_value='1'), 'dallas': Leaf(value='1'), 'Cambridge, Massachusetts, U.S.': Leaf(value='0'), '??? ???? ??????': Leaf(value='1'), '21, Porto': Leaf(value='0'), \"Sharkatraz/Bindle's Cleft, PA\": Leaf(value='0'), 'Riverside, California.': Leaf(value='1'), 'Greater Manchester, UK': Leaf(value='0'), 'VÌ_a LÌÁctea': Leaf(value='0'), 'blackfalds.': Leaf(value='0'), 'Charleston, SC': Leaf(value='1'), 'the own zone layer ': Leaf(value='0'), 'illinois. united state ': Leaf(value='0'), 'New Britain, CT': Leaf(value='0'), 'New Hampshire': Split(attribute='word_count', subtrees={'21-25': Leaf(value='0'), '11-15': Split(attribute='link', subtrees={False: Leaf(value='0'), True: Leaf(value='1')}, default_value='0'), '16-20': Leaf(value='1')}, default_value='0'), 'Glasgow': Leaf(value='0'), 'The North': Leaf(value='0'), 'Somewhere Only We Know ?': Leaf(value='0'), 'Corpus Christi, Texas': Leaf(value='1'), 'Anna Maria, FL': Leaf(value='0'), 'University of South Florida': Leaf(value='0'), 'Own planet!!': Leaf(value='1'), 'buffalo / madrid / granada': Leaf(value='0'), 'Paris': Split(attribute='word_count', subtrees={'11-15': Leaf(value='1'), '16-20': Leaf(value='0')}, default_value='1'), 'Highland Park, CA': Leaf(value='0'), 'Caribbean': Leaf(value='1'), 'Forging my Story': Leaf(value='0'), 'WA State': Leaf(value='1'), 'Helsinki': Leaf(value='1'), 'Paulton, England': Leaf(value='0'), 'Ottawa, Canada': Leaf(value='1'), \" 45å¡ 5'12.53N   14å¡ 7'24.93E\": Leaf(value='0'), 'Italy': Split(attribute='word_count', subtrees={'11-15': Leaf(value='0'), '21-25': Leaf(value='0'), '16-20': Leaf(value='1')}, default_value='0'), 'Telangana': Leaf(value='1'), 'miami': Leaf(value='1'), 'Penn Hills, PA': Leaf(value='0'), \"Eww, I'm not Paul Elam\": Leaf(value='1'), 'belleville': Leaf(value='0'), 'marysville ca ': Leaf(value='0'), 'Ktx': Leaf(value='1'), 'Buenos Aires': Split(attribute='link', subtrees={True: Leaf(value='1'), False: Leaf(value='0')}, default_value='1'), 'Oxford / bristol': Leaf(value='0'), 'North Dartmouth, Massachusetts': Leaf(value='0'), 'Medan,Indonesia': Leaf(value='0'), 'TX': Leaf(value='0'), 'Oxford, MS': Leaf(value='1'), 'Based out of Portland, Oregon': Leaf(value='0'), 'Ted&Qz Inc, Ireland, Europe': Leaf(value='0'), \"Someday I'll live in England. \": Leaf(value='0'), '#PhanTrash': Leaf(value='0'), 'SE London(heart is by the sea)': Leaf(value='1'), 'South West, England': Leaf(value='1'), 'teh internets': Leaf(value='0'), 'Quilmes , Arg': Leaf(value='1'), 'Cherry Creek Denver CO': Leaf(value='1'), 'Saskatchewan, Canada': Leaf(value='0'), 'Portland, OR': Split(attribute='num_hashtags', subtrees={2: Leaf(value='1'), 0: Leaf(value='0')}, default_value='0'), 'philly': Leaf(value='0'), 'instagram- Chloe_Bellx': Leaf(value='0'), 'Anywhere I like': Leaf(value='0'), 'MI,USA': Leaf(value='0'), 'I-75 in Florida': Leaf(value='1'), 'Niagara Falls, Ontario': Leaf(value='1'), 'Delhi': Leaf(value='0'), 'Alicante, Spain': Leaf(value='1'), 'Htx': Leaf(value='0'), '956': Leaf(value='0'), 'Upper manhattan, New York': Leaf(value='1'), 'Nashville, Tennessee': Leaf(value='1'), 'Silver Spring, MD': Split(attribute='word_count', subtrees={'16-20': Leaf(value='1'), '21-25': Leaf(value='0')}, default_value='1'), 'Pakistan': Split(attribute='word_count', subtrees={'26-30': Leaf(value='1'), '6-10': Leaf(value='1'), '11-15': Leaf(value='0')}, default_value='1'), 'Rheinbach / Germany': Leaf(value='0'), 'london town..': Leaf(value='0'), 'Adelaide, Australia': Leaf(value='0'), 'Antigua ?? NYC ': Leaf(value='0'), 'CA physically- Boston Strong?': Split(attribute='link', subtrees={True: Leaf(value='1'), False: Leaf(value='0')}, default_value='1'), 'New Haven, Connecticut': Leaf(value='1'), 'Chicora ?? Oakland': Leaf(value='0'), \"#WhereverI'mAt\": Leaf(value='0'), 'State of Dreaming': Leaf(value='0'), 'Paranaque City': Leaf(value='0'), 'Live4Heed??': Leaf(value='0'), 'khartoum sudan': Leaf(value='0'), 'the Refrigerator ': Leaf(value='0'), 'Hawaii USA': Leaf(value='1'), 'Anywhere': Leaf(value='1'), 'taking pain like pleasure': Leaf(value='0'), 'Oshawa/Toronto': Leaf(value='1'), 'St. Louis Mo.': Leaf(value='0'), 'Nashua NH': Leaf(value='1'), 'chicago': Leaf(value='1'), 'Cambridge, Massachusetts': Leaf(value='0'), 'everywhere': Split(attribute='link', subtrees={True: Leaf(value='1'), False: Leaf(value='0')}, default_value='1'), 'Peterborough, On': Leaf(value='1'), 'oxford': Leaf(value='0'), 'New Delhi, India': Leaf(value='1'), 'Bolton & Tewkesbury, UK': Leaf(value='1'), 'Roppongi, Minato, Tokyo ': Leaf(value='0'), 'Thrissur': Leaf(value='1'), 'New York - Connecticut': Leaf(value='0'), 'Santiago de Chile': Leaf(value='1'), 'Berlin - Germany': Leaf(value='1'), 'Statute Of Limitations_': Leaf(value='0'), 'NH via Boston, MA': Leaf(value='0'), 'Between Dire and Radiant': Leaf(value='0'), 'MIchigan': Leaf(value='1'), 'IG : Sincerely_TSUNAMI': Leaf(value='0'), 'Ojodu,Lagos': Leaf(value='0'), 'Quincy MA': Leaf(value='1'), 'Calgary, AB': Split(attribute='num_hashtags', subtrees={2: Leaf(value='0'), 0: Leaf(value='1'), 5: Leaf(value='1')}, default_value='1'), 'Dakar': Leaf(value='1'), 'Arkansas': Leaf(value='1'), 'KÌ¦ln, Nordrhein-Westfalen': Leaf(value='1'), 'Victoria, BC': Leaf(value='1'), '5/5 access / rt link please x': Leaf(value='0'), 'Multinational *****': Leaf(value='0'), 'Tennessee, USA': Leaf(value='1'), \"In @4SkinChan 's arms\": Leaf(value='1'), 'Here & There': Leaf(value='1'), 'Coimbatore': Leaf(value='1'), 'death star': Leaf(value='0'), 'Itirapina, SÌ£o Paulo': Leaf(value='0'), 'CORNFIELDS': Leaf(value='1'), 'Pocatello, ID': Leaf(value='1'), 'Auburn ': Leaf(value='0'), 'Higher Places': Leaf(value='0'), 'Sheff/Bangor/Salamanca/Madrid': Leaf(value='0'), 'DFW, Texas': Leaf(value='1'), 'USA, Alabama': Leaf(value='1'), 'Hilton Head, SC  ': Leaf(value='0'), 'London/Surrey ': Leaf(value='0'), 'Hamilton, ON': Leaf(value='0'), 'Im In Route ': Leaf(value='1'), 'youtube.com/channel/UCHWTLC9B4ZjUGh7yDlb55Iw': Leaf(value='0'), 'Calgary': Leaf(value='1'), 'Afghanistan': Leaf(value='1'), 'New Jersey, usually': Leaf(value='0'), 'Dallas, TX ': Leaf(value='1'), 'Brisbane Australia': Leaf(value='0'), 'Roadside': Leaf(value='0'), 'Texas': Leaf(value='0'), 'Piedmont Area, North Carolina': Leaf(value='1'), 'LA': Leaf(value='0'), 'In the potters hands': Leaf(value='1'), 'Croydon': Leaf(value='0'), 'New Jersey ': Leaf(value='1'), 'Harlem, NY or Chocolate City': Leaf(value='0'), 'New York ': Split(attribute='link', subtrees={False: Leaf(value='0'), True: Leaf(value='1')}, default_value='0'), 'scandinavia': Leaf(value='0'), 'Leicester, England': Leaf(value='1'), 'columbus ohio': Leaf(value='0'), 'Manila, Philippines': Leaf(value='1'), 'Adelaide, South Australia': Leaf(value='0'), 'Polmont ': Leaf(value='0'), 'Lansing, Michigan': Leaf(value='0'), 'Alphen aan den Rijn, Holland': Leaf(value='0'), 'Kuwait': Leaf(value='1'), 'Whippany, NJ': Leaf(value='0'), 'Epic City, BB.': Leaf(value='1'), 'Fredonia,NY': Leaf(value='1'), 'Haarlem': Leaf(value='0'), 'Where the money at': Leaf(value='0'), 'on twitter ': Leaf(value='0'), 'The Desert': Leaf(value='1'), 'South Stand': Leaf(value='0'), 'Rocky Mountains': Leaf(value='1'), '#WashingtonState #Seattle': Leaf(value='1'), 'Tallahassee, FL': Leaf(value='0'), 'Greenville,SC': Leaf(value='0'), 'Mount Vernon, NY': Leaf(value='0'), 'Riverdale, GA ': Leaf(value='0'), 'At your back': Leaf(value='0'), 'amsterdayum 120615 062415': Leaf(value='0'), 'NC': Leaf(value='0'), 'Thailand Malaysia Indonesia ': Leaf(value='1'), 'Adelaide': Leaf(value='1'), 'Brisbane': Split(attribute='num_hashtags', subtrees={1: Leaf(value='1'), 0: Leaf(value='0')}, default_value='1'), '2 high 2 come down ': Leaf(value='1'), 'Old Blighty': Leaf(value='1'), 'Bedford, England': Leaf(value='0'), 'Hinterestland': Leaf(value='0'), 'Northern Kentucky, USA': Leaf(value='1'), 'Bronx, NY': Leaf(value='0'), 'South of D.C.': Leaf(value='1'), 'Bug Forest': Leaf(value='0'), 'Los Angeles, London, Kent': Leaf(value='0'), 'lesa * she/her': Leaf(value='0'), 'Nottingham, England': Leaf(value='0'), 'Bangalore, India': Leaf(value='0'), 'Not a U.S resident': Leaf(value='1'), 'Unite. Bless. Wallahi ': Leaf(value='0'), 'milky way': Leaf(value='0'), 'Funtua, Nigeria': Leaf(value='1'), 'london': Split(attribute='link', subtrees={False: Leaf(value='0'), True: Leaf(value='1')}, default_value='0'), 'Den Helder, Rijkswerf': Leaf(value='0'), 'Pacific Northwest': Leaf(value='1'), 'Kolkata, India': Leaf(value='0'), 'Orlando,FL  USA': Leaf(value='0'), 'Alabama': Leaf(value='0'), 'Toronto, ON': Leaf(value='1'), 'Benton City, Washington': Leaf(value='1'), 'chillin at ceder rapids': Leaf(value='0'), 'Roads/Trails Everywhere': Leaf(value='0'), 'far away': Leaf(value='0'), 'Brazil': Leaf(value='0'), 'Sacramento, California': Leaf(value='0'), 'North London': Leaf(value='0'), 'Dallas Fort-Worth': Split(attribute='link', subtrees={True: Split(attribute='num_hashtags', subtrees={0: Split(attribute='word_count', subtrees={'11-15': Split(attribute='char_count', subtrees={'81-100': Split(attribute='bigrams', subtrees={'none': Leaf(value='0')}, default_value='0')}, default_value='0')}, default_value='0')}, default_value='0')}, default_value='0'), 'S.F. Bay area': Leaf(value='1'), 'taken by piper curda': Leaf(value='1'), '(he/him)': Leaf(value='0'), 'Coventry, UK': Leaf(value='0'), 'AEP': Leaf(value='0'), \"where I'm supposed to be\": Leaf(value='0'), 'Leaving Bikini Bottom': Leaf(value='0'), 'Honolulu, Hawaii': Leaf(value='1'), '\\x81Êwagger!Ì\\x90ominicanÌ÷': Leaf(value='1'), 'Earthling (For now!)': Leaf(value='1'), 'Around the world': Leaf(value='1'), 'Brooklyn, NY': Leaf(value='0'), 'Christiana,Tennessee': Leaf(value='0'), 'Jakarta': Split(attribute='link', subtrees={True: Leaf(value='1'), False: Leaf(value='0')}, default_value='1'), 'Winston-Salem, NC': Split(attribute='link', subtrees={False: Leaf(value='0'), True: Leaf(value='1')}, default_value='0'), '14/cis/istj ': Leaf(value='0'), 'County Durham, United Kingdom': Leaf(value='0'), 'Franklin, TN near Nashville': Leaf(value='1'), 'Tractor land aka Bristol': Leaf(value='0'), 'Kashmir!': Leaf(value='1'), 'Denver, CO': Split(attribute='num_hashtags', subtrees={3: Leaf(value='0'), 1: Leaf(value='0'), 0: Leaf(value='1'), 2: Leaf(value='1')}, default_value='0'), 'Sydney, New South Wales': Leaf(value='1'), '518 åá NY': Leaf(value='0'), 'NYC,US - Cali, Colombia': Leaf(value='0'), 'BKI-KUA': Leaf(value='0'), 'Tokyo & Osaka': Leaf(value='1'), 'Santa Monica, CA': Leaf(value='0'), 'New England': Leaf(value='1'), 'Waddesdon': Leaf(value='1'), 'Washington, Krasnodar (Russia)': Leaf(value='1'), 'nc': Leaf(value='0'), 'Bucharest': Leaf(value='1'), 'Dublin City, Ireland': Leaf(value='1'), 'Tennessee': Leaf(value='1'), 'Puerto Rico': Split(attribute='link', subtrees={True: Leaf(value='1'), False: Leaf(value='0')}, default_value='1'), 'BodÌü, Norge': Leaf(value='0'), 'CT, USA': Leaf(value='0'), 'Beaumont, TX': Leaf(value='1'), 'Huntsville, AL': Leaf(value='0'), '[marvel\\x89Û¢dragon age\\x89Û¢wicdiv]': Leaf(value='0'), 'Waco TX': Leaf(value='1'), 'Alvin, TX': Leaf(value='0'), 'State of Georgia': Leaf(value='0'), 'Contoocook Valley Region of Ne': Leaf(value='0'), 'Le Memenet': Leaf(value='0'), 'North Carolina': Split(attribute='char_count', subtrees={'121-140': Leaf(value='0'), '101-120': Leaf(value='0'), '81-100': Leaf(value='1')}, default_value='0'), 'Intermountain West': Leaf(value='1'), 'Instagram - @heyimginog ': Leaf(value='0'), 'qosqo': Leaf(value='1'), 'Centurion ': Leaf(value='1'), 'Houston TX': Leaf(value='1'), 'Washington D.C.': Split(attribute='word_count', subtrees={'11-15': Leaf(value='1'), '16-20': Leaf(value='0')}, default_value='1'), 'Eldoret, kenya': Leaf(value='1'), 'worldwide': Split(attribute='word_count', subtrees={'11-15': Split(attribute='link', subtrees={True: Split(attribute='num_hashtags', subtrees={0: Split(attribute='char_count', subtrees={'81-100': Split(attribute='bigrams', subtrees={'none': Leaf(value='0')}, default_value='0')}, default_value='0')}, default_value='0')}, default_value='0'), '21-25': Leaf(value='0'), '16-20': Leaf(value='1')}, default_value='0'), 'In #Fairie, where else? ;-)': Leaf(value='0'), 'Tulsa, OK': Leaf(value='1'), 'Dalston, Hackney': Leaf(value='1'), 'Layang-Layang, Perak': Leaf(value='0'), 'Greeley, CO': Leaf(value='1'), '#GDJB #ASOT': Leaf(value='0'), 'RhodeIsland': Leaf(value='0'), '627': Leaf(value='0'), 'cody, austin follows ?*?': Leaf(value='1'), 'GrC Founder, 8,000 Subscribers': Leaf(value='0'), 'Planet Eyal, Shandral System': Leaf(value='1'), 'Birdland, New Meridian, FD': Leaf(value='0'), 'Glenview to Knoxville ': Leaf(value='0'), '?????? ??? ?????? ????????': Leaf(value='0'), 'Cuernavaca, Morelos, MÌ©xico.': Leaf(value='1'), 'Rhode Island': Leaf(value='0'), 'nearest trash can ': Leaf(value='0'), 'Honolulu,Hawaii ': Leaf(value='0'), 'Cottonwood Arizona': Leaf(value='1'), 'The Canopy Kingdom': Leaf(value='0'), 'ava': Leaf(value='0'), 'the burrow': Leaf(value='0'), 'A.A.S my Aztec Princess': Leaf(value='0'), 'Newcastle, OK': Leaf(value='0'), '412 NW 5th Ave. Portland OR': Leaf(value='0'), 'Made Here In Detroit ': Leaf(value='1'), 'Enfield, UK': Leaf(value='0'), 'Geneva. And beyond. ': Leaf(value='0'), 'Searching for Bae ': Leaf(value='1'), 'Lake Highlands': Leaf(value='0'), 'The dark': Leaf(value='0'), 'Arlington, VA': Leaf(value='0'), 'israel': Leaf(value='1'), 'Perenjori, WA': Leaf(value='1'), 'In your mind': Leaf(value='0'), 'Indianapolis, IN': Leaf(value='1'), 'In the spirit world': Leaf(value='1'), 'Gettysburg, PA': Leaf(value='0'), 'glasgow': Leaf(value='1'), 'Ely, Cambridgeshire': Leaf(value='1'), 'Fort Worth,  Texas ': Leaf(value='1'), 'Thibodaux, LA': Leaf(value='0'), 'Concord, CA': Leaf(value='1'), 'ATLANTA , GEORGIA ': Leaf(value='0'), 'Bend, Oregon': Leaf(value='1'), 'but i love kaylen ??': Leaf(value='1'), 'Wilmington, NC': Leaf(value='1'), 'Baydestrian': Leaf(value='1'), 'International ': Leaf(value='1'), 'Carterville': Leaf(value='1'), 'CT & NY': Leaf(value='0'), 'nbc washington': Leaf(value='1'), 'KOLKATA': Leaf(value='0'), 'Okuma Town, Fukushima': Leaf(value='0'), 'Mountains': Leaf(value='0'), 'England & Wales Border, UK': Leaf(value='0'), 'South, USA': Leaf(value='1'), 'Halton, Ontario': Leaf(value='1'), 'DC': Split(attribute='num_hashtags', subtrees={1: Leaf(value='0'), 0: Leaf(value='1')}, default_value='0'), 'Isle of Man': Leaf(value='1'), 'Caracas, Venezuela.': Leaf(value='1'), 'SOUTHERN CALIFORNIA DESERT': Leaf(value='0'), 'Utah, USA': Leaf(value='0'), 'm3, k, a, d': Leaf(value='0'), 'Jersey City, NJ': Leaf(value='0'), 'North West London': Leaf(value='0'), 'Makai': Leaf(value='0'), 'Pittsburgh PA': Leaf(value='0'), 'SWinfo@dot.state.al.us': Leaf(value='1'), 'WorldWide': Split(attribute='num_hashtags', subtrees={3: Leaf(value='1'), 4: Leaf(value='1'), 1: Leaf(value='0'), 0: Leaf(value='1')}, default_value='1'), 'Louisville, KY ': Leaf(value='0'), 'Sweden': Leaf(value='0'), 'Port Orange, FL': Leaf(value='1'), 'Alliston Ontario': Leaf(value='0'), 'Loughton, Essex, UK': Leaf(value='0'), 'Free State, South Africa': Leaf(value='1'), 'Leeds, U.K.': Leaf(value='0'), 'Brighton and Hove': Leaf(value='0'), 'Karachi ': Leaf(value='1'), 'Gainesville/Tampa, FL': Leaf(value='0'), 'Bow, NH': Leaf(value='0'), 'somewhere outside': Leaf(value='1'), 'urÌ£nus': Leaf(value='0'), 'Hailing from Dayton ': Leaf(value='0'), 'Colorado, USA': Leaf(value='0'), \"Jakarta/Kuala Lumpur/S'pore\": Leaf(value='1'), 'Between the worlds ': Leaf(value='0'), 'Long Island, NY': Leaf(value='1'), \"don't run\": Leaf(value='0'), ' Bouvet Island': Leaf(value='1'), 'PLFD cuh..': Leaf(value='0'), 'San Diego, Texas.': Leaf(value='0'), 'YA MOTHA BED': Leaf(value='1'), 'Piedmont Triad, NC': Leaf(value='1'), 'Mooseknuckle, Maine': Leaf(value='1'), 'Florida USA': Leaf(value='0'), 'Lancaster, Pennsylvania, USA': Leaf(value='1'), 'Warri': Leaf(value='1'), 'Marysville, MI': Leaf(value='0'), 'Somewhere in Jersey': Leaf(value='0'), 'Kensington, MD': Leaf(value='1'), 'Gloucester, MA': Leaf(value='1'), 'The Windy City': Leaf(value='1'), 'ÌÏT: 43.631838,-79.55807': Leaf(value='0'), 'Heinz Field ': Leaf(value='1'), '[ Blonde Bi Fry. ]': Leaf(value='0'), 'Hagerstown, MD': Leaf(value='1'), 'Kingston, Pennsylvania': Leaf(value='0'), 'Oslo, Norway': Leaf(value='1'), 'ARIZONA': Leaf(value='0'), '  Glasgow ': Leaf(value='0'), 'my deli': Leaf(value='0'), 'Worldwide - Global': Leaf(value='1'), 'Portugal': Split(attribute='link', subtrees={True: Leaf(value='0'), False: Leaf(value='1')}, default_value='0'), 'Republica Dominicana': Leaf(value='1'), 'London, United Kingdom': Leaf(value='1'), 'fujo garbage heaven ': Leaf(value='0'), 'mnl': Leaf(value='0'), 'Like us on Face ': Leaf(value='0'), 'Victoria, British Columbia': Leaf(value='1'), 'Kent': Leaf(value='0'), 'Duncan': Leaf(value='1'), 'Toronto, Ontario': Leaf(value='0'), 'watford': Leaf(value='0'), 'zboyer@washingtontimes.com': Leaf(value='1'), 'california | oregon | peru |': Leaf(value='0'), 'Ogba, Lagos, Nigeria': Leaf(value='1'), 'Palestine ': Leaf(value='0'), 'Newark, NJ': Leaf(value='0'), 'Melbourne-ish': Leaf(value='0'), 'Unites States': Leaf(value='1'), 'North Carolina, USA': Leaf(value='1'), 'Wrigley Field': Leaf(value='0'), 'San Diego': Leaf(value='0'), 'Houston |??| Corsicana': Leaf(value='0'), 'Greensburg, PA': Leaf(value='0'), 'Uganda': Leaf(value='0'), \"'soooota\": Leaf(value='1'), 'Desert Storm?? |BCHS|': Leaf(value='0'), '  å_ ': Leaf(value='0'), 'Derbyshire, United Kingdom': Leaf(value='0'), 'All around the world!': Leaf(value='0'), 'Brackley Beach, PE, Canada': Leaf(value='0'), 'Milton/Tallahassee': Leaf(value='1'), 'Sumter, SC': Leaf(value='0'), 'The World': Leaf(value='1'), 'Tennessee/Gallifrey': Leaf(value='1'), 'Killarney': Leaf(value='0'), 'italy': Leaf(value='1'), 'INDIA': Leaf(value='0'), 'Lancashire, United Kingdom': Leaf(value='0'), 'Seattle WA': Leaf(value='1'), 'Karachi Pakistan': Leaf(value='1'), '\\x89ÛÊ\\x89ÛÊ\\x89ÛÊ': Leaf(value='1'), 'manchester, uk.': Leaf(value='0'), 'Boston/Montreal ': Leaf(value='0'), 'Eagle Pass, Texas': Leaf(value='1'), 'Pompano Beach, FL': Leaf(value='0'), 'Timaru District, New Zealand': Leaf(value='1'), 'Missouri, USA': Leaf(value='0'), 'Cairo, Egypt.': Leaf(value='0'), 'Jerseyville, IL': Leaf(value='1'), 'Worcester, MA': Leaf(value='1'), 'Pune, Maharashtra': Leaf(value='1'), 'Nova Scotia, Canada': Leaf(value='0'), 'china': Split(attribute='num_hashtags', subtrees={3: Split(attribute='link', subtrees={True: Split(attribute='word_count', subtrees={'16-20': Split(attribute='char_count', subtrees={'121-140': Split(attribute='bigrams', subtrees={('prebreak', 'best'): Leaf(value='0')}, default_value='0')}, default_value='0')}, default_value='0')}, default_value='0'), 0: Leaf(value='0')}, default_value='0'), 'Tunbridge Wells': Leaf(value='0'), 'Ylisse': Leaf(value='0'), 'probably not home': Leaf(value='0'), '[@blackparavde is my frankie]': Leaf(value='0'), 'Novi, MI': Leaf(value='1'), 'Leeds, England': Leaf(value='0'), \"Spare 'Oom\": Split(attribute='num_hashtags', subtrees={1: Leaf(value='0'), 0: Leaf(value='1')}, default_value='0'), 'Raleigh, NC': Leaf(value='1'), 'Rock Springs, WY': Leaf(value='1'), 'Buxton, Venice, and Nottingham': Leaf(value='1'), 'The Multiverse': Leaf(value='0'), 'NBO': Leaf(value='0'), 'winston-salem north carolina': Leaf(value='1'), ' New Delhi ': Leaf(value='0'), 'Arkansas, Jonesboro': Leaf(value='1'), 'Los Angeles for now': Leaf(value='1'), 'my house': Leaf(value='0'), 'Home is where we park it!': Leaf(value='1'), 'Mid north coast of NSW': Leaf(value='1'), 'Nashville, Tn': Leaf(value='0'), 'Aurora, Ontario ': Leaf(value='0'), 'Mogadishu, New Jersey': Leaf(value='0'), 'Roanoke, VA': Leaf(value='0'), 'Silang, Cavite / ParaÌ±aque': Leaf(value='0'), 'Melbourne': Split(attribute='link', subtrees={True: Leaf(value='1'), False: Leaf(value='0')}, default_value='1'), 'he/him or she/her (ask)': Leaf(value='0'), 'Helsinki, Finland': Leaf(value='0'), 'Stockton on tees Teesside UK': Leaf(value='1'), 'Kokomo, In': Leaf(value='1'), 'los angeles': Leaf(value='1'), '3rd Eye Chakra': Leaf(value='1'), 'Philadelphia': Leaf(value='1'), 'Argus Industries \\\\m/666\\\\m/': Leaf(value='1'), 'Primum non nocere': Leaf(value='1'), 'Lehigh Valley, PA': Leaf(value='1'), 'Chicago, IL ': Leaf(value='1'), 'Cobblestone': Leaf(value='1'), 'Viejo': Leaf(value='0'), 'Fort Calhoun, NE': Leaf(value='0'), 'Pittsburgh': Leaf(value='0'), 'Roaming around the world': Leaf(value='1'), 'Sydney, Australia': Leaf(value='0'), 'Raleigh Durham, NC': Leaf(value='1'), 'Webster, TX': Leaf(value='1'), 'Merica!': Leaf(value='0'), 'Not Steven Yeun / AMC.': Leaf(value='0'), 'Vancouver (HQ) and worldwide': Leaf(value='1'), 'Waterfront': Leaf(value='0'), 'bk. ': Leaf(value='0'), 'IDN': Leaf(value='0'), 'Las Vegas, NV': Leaf(value='1'), '???????????': Leaf(value='0'), 'Hughes, AR': Leaf(value='1'), 'di langit 7 bidadari (^,^ )': Leaf(value='1'), 'Sunrise Manor, NV': Leaf(value='1'), 'Your Conversation': Leaf(value='0'), 'London/Lagos/FL ÌÏT: 6.6200132,': Leaf(value='1'), 'Asgard': Leaf(value='1'), 'Broomfield, CO': Leaf(value='1'), 'Surabaya': Leaf(value='1'), 'Peterborough, Ont.': Leaf(value='1'), 'Ukraine': Leaf(value='1'), 'A little house in the outback.': Leaf(value='1'), 'Jaipur, Rajasthan, India': Leaf(value='0'), 'Melbourne Australia': Leaf(value='1'), 'bajaur': Leaf(value='1'), 'Just Happy to Be Anywhere': Leaf(value='1'), 'Lyallpur, Pakistan': Leaf(value='1'), 'toronto \\x89Û¢ dallas': Leaf(value='0'), 'Chester, IL': Leaf(value='0'), 'Cimerak - Pangandaran': Leaf(value='0'), 'Hartford, Connecticut': Leaf(value='1'), 'STL ?NOLA': Leaf(value='0'), 'CLT': Leaf(value='0'), 'Wausau, Wisconsin': Leaf(value='0'), 'between ideas & 3-5pm AEST': Leaf(value='0'), '??? ??? ????? ??? ???.': Leaf(value='1'), 'Hamilton, Ontario CA': Leaf(value='0'), 'Erie, PA': Leaf(value='0'), 'Shanghai': Leaf(value='0'), 'North Carolina ': Leaf(value='0'), 'God is Love. ': Leaf(value='0'), 'justin & ari follow || tvd': Leaf(value='0'), 'texas': Leaf(value='0'), \"Namjoon's pants\": Leaf(value='0'), 'Saint Lucia': Leaf(value='1'), 'Extraterrestrial Highway': Leaf(value='0'), 'Laventillemoorings ': Leaf(value='0'), 'LA/OC/Vegas': Leaf(value='0'), 'Halifax, Nouvelle-Ìäcosse': Leaf(value='0'), 'Here And There': Leaf(value='1'), 'Bloomington, Indiana': Leaf(value='1'), \"United States where it's warm\": Leaf(value='0'), 'Cardiff, UK': Leaf(value='1'), '21.462446,-158.022017': Leaf(value='1'), 'texas a&m university': Leaf(value='0'), 'AUSTRALIA-SOUTHAFRICA-CAMBODIA': Leaf(value='1'), 'Somerset, UK': Leaf(value='0'), 'Birmingham, UK': Leaf(value='1'), 'Bolivar, MO': Leaf(value='0'), 'Belfast': Leaf(value='0'), 'VONT ISLAND, LAGOS': Leaf(value='0'), \"UGA '15 Alumnus - Economics \": Leaf(value='0'), 'Welt': Leaf(value='1'), 'Orlando ': Leaf(value='0'), 'Mumbai india': Leaf(value='1'), 'rural ohio (fuck)': Leaf(value='1'), 'Arlington, VA and DC': Leaf(value='1'), 'Torry Alvarez love forever ? ?': Leaf(value='0'), 'Edappally,Kochi': Leaf(value='0'), 'Lucknow, India': Leaf(value='1'), 'Upstairs.': Leaf(value='1'), 'Nagpur': Leaf(value='0'), 'Trost District': Leaf(value='0'), 'Vancouver, BC': Split(attribute='num_hashtags', subtrees={1: Leaf(value='0'), 0: Split(attribute='link', subtrees={False: Leaf(value='0'), True: Leaf(value='1')}, default_value='0'), 2: Leaf(value='0')}, default_value='0'), 'Brisbane.': Leaf(value='1'), 'Massachusetts ': Leaf(value='0'), 'on twitter': Leaf(value='0'), 'Ondo': Leaf(value='1'), 'DC, frequently NYC/San Diego': Leaf(value='1'), 'Ankara - Malatya - ad Orontem': Leaf(value='1'), 'Los Angeles, California': Leaf(value='0'), 'Gages Lake, IL': Leaf(value='1'), 'EVERYWHERE': Leaf(value='1'), 'N?? Y???.': Leaf(value='0'), 'Massachusetts, USA': Split(attribute='word_count', subtrees={'16-20': Leaf(value='0'), '21-25': Leaf(value='1')}, default_value='1'), 'REPUBLICA DOMINICANA': Leaf(value='1'), 'Bacon': Leaf(value='0'), '772 Temperance Permenence': Leaf(value='1'), 'Dammam- KSA': Leaf(value='1'), 'Dorset, UK': Leaf(value='0'), 'The Shire': Leaf(value='0'), 'New York, New York': Split(attribute='num_hashtags', subtrees={1: Leaf(value='0'), 0: Leaf(value='1')}, default_value='0'), 'NEWCASTLE': Leaf(value='0'), 'Milky Way galaxy ': Leaf(value='0'), 'Jerusalem': Split(attribute='word_count', subtrees={'11-15': Leaf(value='1'), '16-20': Leaf(value='0')}, default_value='1'), 'South Pasadena, CA': Leaf(value='0'), 'Plano, IL': Leaf(value='0'), 'Oneonta, NY/ Staten Island, NY': Leaf(value='1'), 'Soul Somalia/Body Montreal': Leaf(value='0'), 'Erbil': Leaf(value='1'), 'Wood Buffalo, Alberta': Leaf(value='0'), 'Morioh, Japan': Leaf(value='0'), '?': Split(attribute='word_count', subtrees={'1-5': Leaf(value='0'), '21-25': Leaf(value='1')}, default_value='0'), 'New Zealand': Leaf(value='1'), 'dorito land': Leaf(value='0'), 'New Hanover County, NC': Leaf(value='1'), 'Santiago,RepÌ¼blica Dominicana': Leaf(value='1'), 'Street of Dallas': Leaf(value='1'), 'MontrÌ©al, QuÌ©bec': Leaf(value='0'), 'Johannesburg ': Leaf(value='0'), 'Positive 852': Leaf(value='0'), 'Buffalo/DC': Leaf(value='1'), 'Big NorthEast Litter Box': Leaf(value='0'), 'Charlotte, NC | KÌ¦ln, NRW': Leaf(value='1'), \"it's a journey \": Leaf(value='0'), 'lugo': Leaf(value='1'), 'heccfidmss@gmail.com': Leaf(value='0'), 'LITTLETON, CO, USA, TERRAN': Leaf(value='0'), 'Brazil ': Leaf(value='0'), 'dmv ?? fashion school @ KSU. ': Leaf(value='0'), 'Palma, Islas Baleares': Leaf(value='1'), 'Oklahoma, USA': Leaf(value='0'), 'St. Catharines, Ontario': Leaf(value='0'), 'Americas Newsroom': Leaf(value='1'), 'Belleville, Illinois': Leaf(value='0'), '3?3?7?SLOPelousas??2?2?5?': Leaf(value='0'), 'Moncton, New Brunswick': Leaf(value='1'), 'Mackem in Bolton': Leaf(value='0'), 'Purgatory, USA': Leaf(value='0'), 'hell': Split(attribute='word_count', subtrees={'11-15': Leaf(value='0'), '16-20': Leaf(value='1')}, default_value='0'), 'World Wide Web': Split(attribute='num_hashtags', subtrees={1: Leaf(value='1'), 0: Leaf(value='0')}, default_value='1'), 'Lima, OH': Leaf(value='0'), 'Melbourne, Victoria': Split(attribute='num_hashtags', subtrees={0: Leaf(value='0'), 2: Leaf(value='1')}, default_value='0'), 'jeddah | Khartoum': Leaf(value='0'), 'Winnipeg': Split(attribute='word_count', subtrees={'1-5': Leaf(value='0'), '11-15': Leaf(value='1')}, default_value='0'), 'MedellÌ_n, Antioquia': Leaf(value='0'), 'Dhaka': Leaf(value='1'), 'Rochester Hills, MI': Leaf(value='0'), 'Amman,Jordan': Leaf(value='1'), 'US-PR': Leaf(value='0'), 'New Jersey/New York': Leaf(value='0'), 'Play For Ryan ??': Leaf(value='0'), 'Santiago Bernabeau': Leaf(value='0'), 'Wynne, AR': Leaf(value='0'), 'Oklahoma City': Split(attribute='link', subtrees={False: Leaf(value='0'), True: Leaf(value='1')}, default_value='0'), 'Dudetown': Leaf(value='0'), 'Tema,Accra': Leaf(value='1'), 'Atlanta, Georgia': Leaf(value='0'), 'Swan River': Leaf(value='0'), 'Campinas Sp': Leaf(value='0'), 'Virgo Supercluster': Leaf(value='1'), 'California ': Split(attribute='link', subtrees={True: Split(attribute='num_hashtags', subtrees={0: Split(attribute='word_count', subtrees={'6-10': Split(attribute='char_count', subtrees={'101-120': Split(attribute='bigrams', subtrees={'none': Leaf(value='1')}, default_value='1')}, default_value='1')}, default_value='1')}, default_value='1')}, default_value='1'), 'MNL': Leaf(value='0'), 'Lives in London': Leaf(value='1'), 'New Delhi,India': Leaf(value='1'), 'south africa eastern cape': Leaf(value='0'), 'America': Split(attribute='link', subtrees={False: Leaf(value='0'), True: Leaf(value='1')}, default_value='0'), 'Hamburg, DE': Leaf(value='0'), 'BIG D  HOUSTON/BOSTON/DENVER': Leaf(value='0'), 'Nottingham, United Kingdom': Leaf(value='0'), '05/04/2014 18:23 ?': Leaf(value='0'), 'Tring, UK': Leaf(value='0'), 'ÌÏT: 10.614817868480726,12.195582811791382': Leaf(value='1'), 'ona block w/ my BOY ??': Leaf(value='0'), 'Sydney, NSW': Leaf(value='1'), 'West Hollywood': Leaf(value='0'), 'BOSTON-LONDON': Leaf(value='0'), 'sindria': Leaf(value='1'), 'Nigeria, Global': Leaf(value='1'), 'Rockland County, NY': Leaf(value='1'), 'Asia Pacific   ': Leaf(value='1'), 'Bombardment Bay': Leaf(value='1'), 'D(M)V  ': Leaf(value='1'), 'Chicagoland': Leaf(value='1'), 'Stratford, CT': Leaf(value='1'), 'Darnley, Prince Edward Island': Leaf(value='0'), '#HarleyChick#PJNT#RunBenRun': Leaf(value='0'), 'Official Website': Leaf(value='0'), 'MI': Leaf(value='0'), 'Griffin :3': Leaf(value='0'), 'antoine fisher ': Leaf(value='0'), 'Use #TMW in tweets get #RT': Leaf(value='0'), 'IL': Leaf(value='0'), 'Montgomery County, MD': Leaf(value='0'), 'Near Warrington': Leaf(value='0'), 'vancouver usa': Leaf(value='0'), 'Basketball City, USA ': Leaf(value='0'), 'ÌÏT: -26.695807,27.837865': Leaf(value='0'), 'Midwest': Leaf(value='1'), 'BOT ACCOUNT': Leaf(value='0'), 'Greenwich Meridian': Leaf(value='1'), 'we?it \\x89Û¢ ixwin': Leaf(value='1'), 'Oakland': Leaf(value='0'), 'UPTOWN ': Leaf(value='1'), 'Born in Baltimore Living in PA': Leaf(value='0'), 'SÌ£o Paulo, Brasil': Leaf(value='1'), 'Saipan, CNMI': Leaf(value='1'), 'Haiku, Maui, Hawaii': Leaf(value='1'), '????????????': Leaf(value='1'), 'Redding, California, USA': Leaf(value='1'), 'Wahpeton, ND': Leaf(value='0'), 'See the barn of bleakness': Leaf(value='0'), 'NIGERIA': Leaf(value='1'), 'We are global!': Leaf(value='1'), 'i got 1/13 menpa replies, omg': Leaf(value='0'), 'sri lanka': Leaf(value='1'), 'ECSU16': Leaf(value='0'), 'Linton Hall, VA': Leaf(value='0'), 'Arlington, TX': Leaf(value='0'), 'Cairo, Egypt': Leaf(value='1'), 'North Vancouver, BC': Leaf(value='1'), 'Austin TX': Leaf(value='1'), 'Alameda, CA': Leaf(value='1'), 'Paterson, New Jersey ': Leaf(value='1'), 'Atlanta(ish), GA': Leaf(value='0'), 'mind ya business': Leaf(value='1'), 'St. Louis': Leaf(value='1'), 'USA - Canada - Europe - Asia': Leaf(value='1'), 'West Coast, USA': Leaf(value='0'), 'The Citadel, Oldtown, Westeros': Leaf(value='0'), 'CT ? NYC': Leaf(value='0'), 'Michigan, USA': Leaf(value='0'), 'Your notifications': Leaf(value='0'), 'ÌÏT: 40.562796,-75.488849': Leaf(value='1'), 'The Weird Part of Wonderland': Leaf(value='1'), 'Birmingham, England': Split(attribute='num_hashtags', subtrees={0: Leaf(value='0'), 5: Leaf(value='1')}, default_value='0'), 'Russia': Leaf(value='0'), 'Greenpoint': Leaf(value='0'), 'ÌøåÀå_T: 40.736324,-73.990062': Leaf(value='0'), 'Harlem, New York': Leaf(value='0'), 'Harris County, Texas': Leaf(value='0'), 'Nowhere Islands/Smash Manor': Leaf(value='0'), 'Not Los Angeles, Not New York.': Leaf(value='1'), 'Harper Woods, MI': Leaf(value='0'), 'Asia': Split(attribute='link', subtrees={True: Split(attribute='num_hashtags', subtrees={0: Split(attribute='word_count', subtrees={'11-15': Split(attribute='char_count', subtrees={'121-140': Split(attribute='bigrams', subtrees={'none': Leaf(value='0')}, default_value='0')}, default_value='0')}, default_value='0')}, default_value='0')}, default_value='0'), 'Bay Area, CA': Leaf(value='0'), 'am everywhere': Leaf(value='0'), 'Milton Keynes, England': Leaf(value='0'), 'Columbus, Georgia': Leaf(value='0'), 'Islamabad': Leaf(value='1'), 'Wilmington, Delaware': Leaf(value='1'), '518': Leaf(value='0'), 'Mysore, Karnataka': Leaf(value='1'), 'Newcastle, England ': Leaf(value='0'), 'Mumbai , India': Leaf(value='1'), 'Nottingham': Leaf(value='0'), 'ÌÏT: 19.123127,72.825133': Leaf(value='0'), 'West': Leaf(value='1'), 'West Midlands': Leaf(value='1'), 'nap queen': Leaf(value='0'), 'Seattle native in Prescott, AZ': Leaf(value='0'), 'New Jersey/ D.R.': Leaf(value='1'), 'Lisbon, Portugal': Leaf(value='0'), 'The windy plains of Denver': Leaf(value='0'), 'EspÌ_rito Santo': Leaf(value='0'), \"satan's colon\": Leaf(value='0'), \"Dime's Palace\": Leaf(value='0'), 'Sarasota, FL': Leaf(value='1'), 'WORLD WIDE': Leaf(value='0'), 'College Station, TX': Leaf(value='0'), 'Leeds, United Kingdom': Leaf(value='0'), 'Alabama, USA': Leaf(value='0'), 'Regalo Island': Leaf(value='0'), 'World Wide!!': Leaf(value='1'), 'Dubai, UAE': Leaf(value='0'), 'Evansville, IN': Leaf(value='1'), 'Trinity, Bailiwick of Jersey': Leaf(value='1'), 'Hyrule': Leaf(value='0'), 'lowestoft': Leaf(value='0'), 'Stay Tuned ;) ': Leaf(value='1'), 'access to njh/5 and cth/4': Leaf(value='0'), 'Eugene, Oregon': Leaf(value='1'), 'Dayton, Ohio': Leaf(value='1'), 'M!A: None': Leaf(value='0'), 'Madison, Wisconsin, USA': Leaf(value='1'), 'NOLA ?? TX': Leaf(value='0'), 'Abuja,Nigeria': Leaf(value='1'), 'Ashburn, VA': Leaf(value='0'), 'Shah Alam,Malaysia': Leaf(value='0'), 'Orange County, CA': Leaf(value='1'), 'Alberta Pack': Leaf(value='0'), 'africa': Leaf(value='1'), 'Wilbraham, MA': Leaf(value='1'), 'San Diego, Calif.': Leaf(value='0'), 'Silvermoon or Ironforge': Leaf(value='1'), 'Vancouver': Leaf(value='1'), 'IN': Leaf(value='1'), 'Coconut Creek, Florida': Leaf(value='0'), 'BestCoast': Leaf(value='0'), 'Manchester, NH': Leaf(value='1'), 'Tokyo': Split(attribute='word_count', subtrees={'11-15': Leaf(value='0'), '21-25': Leaf(value='1')}, default_value='0'), 'CA': Leaf(value='0'), '1313 W.Patrick St, Frederick': Leaf(value='0'), 'North-East Region, Singapore': Leaf(value='0'), 'Hong Kong': Leaf(value='1'), '17th Dimension': Leaf(value='1'), 'Germany': Split(attribute='link', subtrees={False: Leaf(value='0'), True: Leaf(value='1')}, default_value='0'), 'Saltillo, Coahuila de Zaragoza': Leaf(value='0'), 'Shity land of Northern Ireland': Leaf(value='0'), 'prob turning up with sheen': Leaf(value='0'), 'Macon, Georgia': Leaf(value='1'), 'Spokane, WA': Split(attribute='char_count', subtrees={'101-120': Leaf(value='1'), '121-140': Leaf(value='0')}, default_value='1'), 'Bushkill pa': Leaf(value='0'), 'Sligo and Galway, Ireland': Leaf(value='1'), 'Des Moines, IA': Leaf(value='0'), 'Haysville, KS': Leaf(value='0'), 'THE WORLD T.G.G / M.M.M ': Leaf(value='0'), 'Littleton, CO, USA': Leaf(value='0'), '46.950109,7.439469': Leaf(value='1'), 'Tampa-St. Petersburg, FL': Leaf(value='1'), 'Antarctica': Leaf(value='1'), 'Colombia': Leaf(value='0'), '6': Leaf(value='0'), 'St Charles, MD': Leaf(value='0'), 'PanamÌÁ ': Leaf(value='0'), '????': Leaf(value='0'), 'EastCarolina': Split(attribute='char_count', subtrees={'121-140': Leaf(value='1'), '101-120': Leaf(value='0')}, default_value='1'), 'Nebraska, Colorado & The GLOBE': Leaf(value='1'), 'Southern California': Split(attribute='char_count', subtrees={'101-120': Leaf(value='0'), '121-140': Leaf(value='0'), '81-100': Leaf(value='1')}, default_value='0'), 'Albany/NY': Leaf(value='0'), 'Malang': Leaf(value='1'), 'Patra-Greece.': Leaf(value='1'), 'midwest': Leaf(value='0'), 'Durand, MI': Leaf(value='0'), 'DMV': Leaf(value='0'), 'Somewhere Powerbraking A Chevy': Leaf(value='0'), 'Plano, Texas': Leaf(value='0'), 'North Highlands, CA': Leaf(value='1'), 'Kualar Lumpur, Malaysia': Leaf(value='1'), 'On a beach ': Leaf(value='1'), 'Mid West': Leaf(value='0'), 'Whiterun, Skyrim': Leaf(value='1'), 'Smash Manor/Kanto': Leaf(value='0'), 'Israel': Leaf(value='1'), 'Huntsville, Alabama': Leaf(value='1'), 'Athens - Nicosia': Leaf(value='0'), 'My heart is a ghost town!': Leaf(value='0'), 'Beside Basketball': Leaf(value='1'), 'Orange County, Calif.': Leaf(value='1'), 'Hillsville/Lynchburg, VA': Leaf(value='0'), 'london / st catharines ?': Leaf(value='0'), 'Chiyoda Ward, Tokyo': Leaf(value='0'), 'The Waystone Inn': Leaf(value='0'), '#Gladiator \\x89Û¢860\\x89Û¢757\\x89Û¢': Leaf(value='0'), ' Nevada Carson City,Freeman St': Leaf(value='1'), 'Live On Webcam': Leaf(value='0'), 'Palestine Texas': Leaf(value='1'), '\\x89Û¢III.XII.MMXI\\x89Û¢': Leaf(value='1'), '?????? in Yokohama Japan': Leaf(value='1'), '??????????????????': Leaf(value='1'), 'LFC x GSW': Leaf(value='1'), 'Rogersville, MO': Leaf(value='1'), 'lost in my thoughts': Leaf(value='1'), 'jayankondacholapuram.tamilnadu': Leaf(value='1'), 'norway': Leaf(value='0'), 'POFFIN': Leaf(value='0'), 'Pittsburgh ': Leaf(value='0'), 'Federal Capital Territory': Split(attribute='link', subtrees={True: Leaf(value='1'), False: Leaf(value='0')}, default_value='1'), 'Thailand': Leaf(value='0'), 'Loughborough.': Leaf(value='1'), 'the insane asylum. ': Leaf(value='1'), 'Atlantic, IA': Leaf(value='0'), 'Lake Monticello, VA': Leaf(value='1'), 'Suburban Detroit, Michigan': Leaf(value='1'), 'World Wide': Leaf(value='1'), 'Mumbai, Maharashtra': Split(attribute='word_count', subtrees={'16-20': Leaf(value='1'), '11-15': Leaf(value='0')}, default_value='1'), 'Palm Beach County, FL': Leaf(value='1'), 'Oblivion?': Leaf(value='0'), 'Rapid City, Black Hills, SD': Leaf(value='1'), 'Gold Coast': Leaf(value='1'), 'San Jose, California': Split(attribute='num_hashtags', subtrees={2: Leaf(value='1'), 0: Leaf(value='0')}, default_value='1'), 'Elmwood Park, NJ': Leaf(value='0'), 'SEA Server': Leaf(value='0'), 'Global Edition': Leaf(value='1'), 'Southern Califorina': Leaf(value='0'), 'Jersey - C.I': Leaf(value='1'), ' Miami Beach': Leaf(value='0'), 'nigeria': Leaf(value='1'), 'San Juan, Puerto Rico': Leaf(value='0'), 'SD |Norway| KSA': Leaf(value='1'), 'Barbados': Leaf(value='0'), 'Chippenham/Bath, UK': Leaf(value='0'), 'New Mexico, USA': Leaf(value='0'), 'NAIROBI  KENYA ': Leaf(value='0'), 'BC': Leaf(value='0'), 'Killa Hill, CO': Leaf(value='0'), 'Tacoma,Washington': Leaf(value='0'), 'aggressive cannoli eater ': Leaf(value='0'), 'Queensland': Leaf(value='0'), 'East TN.': Leaf(value='0'), 'Clean World': Leaf(value='1'), 'Charlotte': Leaf(value='1'), 'New Chicago': Leaf(value='1'), 'WORLDWI$E ': Leaf(value='0'), 'Halifax, NS, Canada': Leaf(value='0'), 'too far': Leaf(value='0'), 'Rock Hill, SC': Leaf(value='0'), 'Boston, Massachusetts': Leaf(value='1'), 'Milwaukee County': Leaf(value='0'), \"Conversing In Janet's CafÌ¬\": Leaf(value='0'), 'Eastern Iowa': Leaf(value='1'), 'Jackson, MS': Leaf(value='1'), '?? Made in the Philippines ??': Leaf(value='0'), 'Elchilicitanierraversal ': Leaf(value='0'), 'At Work': Leaf(value='0'), 'Long Beach, CA': Leaf(value='0'), 'Yadkinville, NC': Leaf(value='0'), 'global': Leaf(value='1'), 'Peru': Leaf(value='0'), 'EPTX': Leaf(value='0'), 'Chester ': Leaf(value='0'), 'Cyprus': Leaf(value='1'), 'Inside your webcam. Stop that.': Leaf(value='0'), 'Manila': Leaf(value='1'), 'Land of Lincoln': Leaf(value='0'), 'Justin and Ariana follow': Leaf(value='0'), 'Savannah, GA': Leaf(value='1'), 'New South Wales, Australia': Leaf(value='1'), 'Connecticut': Leaf(value='0'), 'Instagram: trillrebel_': Leaf(value='0'), 'WORLD': Leaf(value='0'), 'DÌ_sseldorf, Germany': Leaf(value='1'), 'Aracaju - Sergipe': Leaf(value='1'), 'Brentwood, NY': Leaf(value='0'), 'Wanderlust': Leaf(value='0'), '11th dimension, los angeles': Leaf(value='0'), 'Wales': Leaf(value='0'), 'with Doflamingo': Leaf(value='0'), 'Marrakech MÌ©dina, Marrakech - Tensift - Al Haouz': Leaf(value='1'), 'Punjab': Leaf(value='1'), 'Metro Manila': Leaf(value='0'), 'Absecon, NJ': Leaf(value='1'), 'Aztec NM': Leaf(value='0'), 'Los Angeles ': Leaf(value='0'), '[ kate + they/them + infp-t ]': Leaf(value='0'), 'Cameroon': Leaf(value='1'), 'Trackside California': Leaf(value='0'), 'NYC, New York': Leaf(value='0'), 'Right here': Leaf(value='0'), 'Kwara, Nigeria': Leaf(value='0'), 'Western New York': Leaf(value='1'), 'West Virginia, USA': Split(attribute='num_hashtags', subtrees={0: Leaf(value='1'), 3: Leaf(value='0')}, default_value='1'), '?s????ss? a?????': Leaf(value='0'), 'nj/ny': Leaf(value='0'), 'all over the world': Leaf(value='0'), 'Mo.City': Leaf(value='0'), 'tokyo': Leaf(value='0'), 'Illumination ': Leaf(value='0'), 'Elizabeth, NJ': Leaf(value='0'), 'Washington, DC NATIVE': Leaf(value='0'), 'Sheffield/Leeds': Leaf(value='1'), 'Bathtub de Bett ': Leaf(value='0'), 'Pawnee': Leaf(value='0'), 'Kleenex factory': Leaf(value='1'), 'Downtown Churubusco, Indiana': Leaf(value='0'), 'The Peach State': Leaf(value='1'), 'Lima, PerÌ¼': Leaf(value='0'), 'Third rock from the Sun': Leaf(value='0'), 'nowhere': Leaf(value='0'), 'Hampton Roads, VA': Leaf(value='0'), 'Bangkok': Leaf(value='1'), 'Hospital, bc of SKH vid.': Leaf(value='0'), 'Elk Grove, CA, USA': Leaf(value='1'), 'London.': Leaf(value='1'), 'Eaubonne, 95, France': Leaf(value='0'), 'University Heights, Ohio': Leaf(value='0'), 'liverpool ': Leaf(value='0'), 'FLYEST HIPPIE YOU KNOW ': Leaf(value='0'), 'tripoli international airport': Leaf(value='0'), 'Silesia, Poland': Leaf(value='0'), 'Honeymoon Ì£ve.': Leaf(value='0'), 'honeymoon avenue': Leaf(value='0'), 'LP, MN USA': Leaf(value='0'), 'Avon, OH': Leaf(value='1'), 'Ventura': Leaf(value='0'), 'Everett, WA': Leaf(value='0'), 'Saline, MI': Leaf(value='1'), 'music.': Leaf(value='1'), 'Kamloops, BC': Leaf(value='1'), ' The World': Leaf(value='1'), 'Australia ': Leaf(value='1'), 'Long Eaton åá Derbyshire åá UK': Leaf(value='0'), 'timeline kamu': Leaf(value='1'), '#UNITE THE BLUE  ': Leaf(value='0'), 'us': Leaf(value='1'), 'JKT48-Muse-A7X': Leaf(value='0'), 'BROKE NIGGAS DREAM!!': Leaf(value='0'), 'United Hoods of the Globe': Leaf(value='0'), '9/1/13': Leaf(value='0'), 'ÌÏT: 30.307558,-81.403118': Leaf(value='0'), 'Hartford  London Hong Kong': Leaf(value='0'), 'Innerhalb der LÌ_cke': Leaf(value='0'), 'Nakhon Si Thammarat': Leaf(value='1'), \"Niall's arms\": Leaf(value='0'), 'Jonesboro, Arkansas USA': Leaf(value='1'), 'Dallas, Texas. ': Leaf(value='0'), 'New Your': Leaf(value='0'), 'santo domingo': Leaf(value='1'), 'Houston, TX  ': Leaf(value='0'), 'Derby': Leaf(value='0'), 'Delhi ': Leaf(value='0'), 'B&B near Alton Towers': Leaf(value='0'), 'Pensacola, FL': Leaf(value='1'), 'Desde Republica Argentina': Split(attribute='link', subtrees={True: Split(attribute='num_hashtags', subtrees={2: Split(attribute='word_count', subtrees={'16-20': Split(attribute='char_count', subtrees={'121-140': Split(attribute='bigrams', subtrees={'none': Leaf(value='1')}, default_value='1')}, default_value='1')}, default_value='1')}, default_value='1')}, default_value='1'), 'Milton Keynes ': Leaf(value='0'), 'BrowardCounty // Florida ': Leaf(value='0'), 'Paducah, KY': Leaf(value='1'), 'Charlotte, N.C.': Leaf(value='1'), 'Garden City, NY': Leaf(value='1'), 'Port Jervis, NY': Leaf(value='0'), \"Yuuko-san's shop\": Leaf(value='1'), 'Utah': Leaf(value='0'), 'hatena bookmark': Leaf(value='0'), 'Inang Pamantasan': Leaf(value='0'), 'Bellevue NE': Leaf(value='1'), 'nashville, tn ': Leaf(value='0'), 'port matilda pa': Leaf(value='1'), 'Washington DC': Leaf(value='1'), 'Hogwarts': Leaf(value='0'), 'Barcelona, Spain': Leaf(value='0'), 'My old New England home': Leaf(value='0'), 'West Wales': Leaf(value='1'), 'shoujo hell ': Leaf(value='1'), 'East London. ': Leaf(value='0'), 'Spain - China - Latin America.': Leaf(value='0'), 'Warwick, RI @Dollarocracy also': Leaf(value='1'), 'Kyiv, Ukraine': Leaf(value='1'), \"401 livin'\": Leaf(value='1'), 'Palermo, Sicily': Leaf(value='1'), 'Gurgaon, Haryana. ': Leaf(value='0'), 'Still. ??S.A.N.D.O.S??': Leaf(value='0'), 'In a graveyard ': Leaf(value='0'), 'From NY. In Scranton, PA': Leaf(value='1'), 'Narnia, Maryland': Leaf(value='0'), 'Hell': Leaf(value='0'), 'Perthshire ': Leaf(value='0'), 'Bucks County, Pa': Leaf(value='0'), 'EspaÌ±a': Leaf(value='0'), 'twitch.tv/naturalemblem26': Leaf(value='0'), 'Ames, IA': Leaf(value='1'), 'A Hoop Somewhere': Leaf(value='0'), 'Washington state': Leaf(value='1'), 'ÌÏT: 41.252426,-96.072013': Leaf(value='1'), 'ÌÏT: 6.4682,3.18287': Leaf(value='1'), 'New York ? ATL': Leaf(value='0'), 'Sutton, London UK': Leaf(value='0'), 'Palmyra, NJ': Leaf(value='0'), 'mexico': Leaf(value='0'), 'Gidi': Leaf(value='1'), 'Republic of Texas': Leaf(value='1'), 'Savage States of America': Leaf(value='1'), 'Salt Lake City, Utah': Leaf(value='0'), 'Morocco': Leaf(value='0'), 'Cornwall': Leaf(value='1'), 'Maharashtra': Leaf(value='1'), 'Reading a romance novel': Leaf(value='0'), 'Kettering, OH': Leaf(value='0'), 'Toronto, Canada': Leaf(value='0'), 'Chattanooga TN': Leaf(value='1'), 'Washington, D.C., area': Leaf(value='0'), 'BILASPUR,CHHATTISGARH,495001': Leaf(value='1'), 'Brisbane, Queensland': Leaf(value='0'), 'ATL??AL??': Leaf(value='0'), 'Warrandyte, Australia': Leaf(value='1'), 'Henderson, Nevada': Leaf(value='0'), 'wny': Leaf(value='0'), '???????, Texas': Leaf(value='0'), ' Somewhere.': Leaf(value='0'), 'leyland': Leaf(value='0'), 'Galapa / AtlÌÁntico': Leaf(value='0'), 'Corpus - Las Vegas - Houston': Leaf(value='0'), 'London/New York': Leaf(value='1'), 'Behind The Obama Curtain': Leaf(value='1'), 'Isolated City In World Perth': Leaf(value='1'), 'toronto, ontario': Leaf(value='1'), 'kisumu': Leaf(value='0'), 'Detroit/Windsor': Leaf(value='0'), 'Fort Myers, Florida': Leaf(value='0'), 'Lancaster, CA': Leaf(value='1'), 'Memphis': Leaf(value='1'), '{Detailed}': Leaf(value='0'), 'EARTH': Leaf(value='1'), 'Lurking': Leaf(value='0'), 'Unknown ': Leaf(value='0'), 'Bristol, UK': Leaf(value='1'), 'Rochelle, GA': Leaf(value='0'), 'PunPunlÌ¢ndia': Leaf(value='0'), 'labyrinthia': Leaf(value='0'), 'paradise': Leaf(value='1'), 'facebook.com/tradcatknights': Leaf(value='1'), 'Kama | 18 | France ': Leaf(value='0'), 'Lincoln City Oregon': Leaf(value='0'), 'Meereen ': Leaf(value='0'), 'Garrett': Leaf(value='0'), 'Morris, IL': Leaf(value='0'), 'Abuja': Leaf(value='0'), 'sneaking glances at Thancred': Leaf(value='0'), 'Peoria': Leaf(value='1'), 'Cloud 9': Leaf(value='0'), '1D | 5SOS | AG': Leaf(value='0'), 'USA , AZ': Leaf(value='0'), 'Aix-en-Provence, France': Leaf(value='0'), 'NY || live easy? ': Leaf(value='0'), 'On the toilet having a dump ': Leaf(value='1'), 'Principality of Zeron': Leaf(value='1'), 'Bangkok Thailand': Leaf(value='0'), 'kenya': Leaf(value='0'), 'Baton Rouge': Leaf(value='0'), 'Selangor': Leaf(value='1'), 'Port Charlotte, FL': Leaf(value='0'), 'Hampstead, London.': Leaf(value='0'), 'Jupiter': Leaf(value='1'), '#freegucci': Leaf(value='0'), 'Melrose': Leaf(value='1'), 'USA, North Dakota': Leaf(value='1'), 'Nairobi, Kenya': Split(attribute='num_hashtags', subtrees={1: Leaf(value='0'), 0: Leaf(value='1')}, default_value='0'), 'Lawrence, KS via Emporia, KS': Leaf(value='1'), 'Charlotte NC': Split(attribute='link', subtrees={False: Leaf(value='1'), True: Leaf(value='0')}, default_value='1'), 'VCU': Leaf(value='0'), 'a box': Leaf(value='0'), 'Fife, WA': Leaf(value='0'), 'N. California USA': Leaf(value='0'), 'Swindon,England ': Leaf(value='0'), 'Los Angeles... CA... USA': Leaf(value='0'), 'pettyville, usa': Leaf(value='0'), 'California or Colorado': Leaf(value='0'), 'Ivano-Frankivsk': Leaf(value='0'), 'Virginia, United States': Leaf(value='1'), 'Washington, DC 20009': Leaf(value='0'), 'Made in America': Leaf(value='0'), 'az': Leaf(value='1'), 'Bristol': Leaf(value='0'), 'Cassadaga Florida': Leaf(value='1'), 'Gander NF': Leaf(value='1'), 'Oshawa, Canada': Leaf(value='0'), 'back in japan ??????????': Leaf(value='0'), 'Blackpool, England, UK.': Leaf(value='0'), \"travelling to tae's pants\": Leaf(value='0'), 'Ziam af ': Leaf(value='1'), '?? Cloud Mafia ??': Leaf(value='0'), 'Kaneohe': Leaf(value='0'), \"Viterbo BFA Acting '18\": Leaf(value='1'), 'Minneapolis/St. Paul': Leaf(value='0'), '??t?a': Leaf(value='0'), 'Paris, France': Leaf(value='1'), 'Garden Grove': Leaf(value='0'), 'NJ/NY/NM/NE/ND': Leaf(value='1'), 'Durham, NC': Leaf(value='0'), 'Breaking News': Leaf(value='1'), 'Chicago - Lake Buena Vista': Leaf(value='0'), \"EastAtlanta ??#WestGeorgia'18\": Leaf(value='0'), 'Annapolis, MD': Leaf(value='1'), 'Louisiana, USA': Leaf(value='0'), 'Queens New York': Leaf(value='0'), 'Colchester Essex ': Leaf(value='0'), 'In Hell': Leaf(value='1'), 'Somewhere out there': Leaf(value='1'), 'Suitland': Leaf(value='0'), '18 | 509 ': Leaf(value='0'), 'Our Empire State': Leaf(value='1'), 'EspaÌ±a - Spain - Espagne': Leaf(value='1'), 'City of London, London': Leaf(value='1'), 'hyderabad': Leaf(value='1'), 'Palm Bay, FL (Kissimmee)': Leaf(value='1'), 'Rural Northern Nevada': Leaf(value='0'), 'El Paso, TX': Leaf(value='0'), 'Arvada, CO': Leaf(value='1'), 'The UK': Leaf(value='0'), 'South Korea GMT+9': Leaf(value='0'), 'Aix-en-Provence/Utrecht': Leaf(value='0'), 'Enniscrone & Aughris, Sligo ': Leaf(value='1'), 'Melbourne, Australia.': Leaf(value='1'), 'Loveland Colorado': Leaf(value='0'), 'Milwaukee WI': Leaf(value='0'), 'Bedford IN ': Leaf(value='1'), 'THANJAVUR': Leaf(value='1'), '52.479722, 62.184971': Leaf(value='0'), 'VÌ_sterÌ´s, Sweden': Leaf(value='0'), 'Des Moines, Iowa ': Leaf(value='1'), 'Why should you know?': Leaf(value='1'), 'The Howling': Leaf(value='0'), 'OES 4th Point. sisSTAR & TI': Leaf(value='1'), 'Winter Park, Colorado': Leaf(value='0'), 'Pomfret/Providence': Leaf(value='0'), 'Sao Paulo': Leaf(value='1'), 'Kingston, Jamaica': Leaf(value='1'), 'Cosmic Oneness': Leaf(value='0'), 'This Is Paradise. Relax. ': Leaf(value='1'), '@notoriousD12': Leaf(value='0'), ' Tropical SE FLorida': Leaf(value='0'), 'i beg vines sorry ': Leaf(value='1'), 'Jubail IC, Saudi Arabia': Leaf(value='0'), 'Cleveland, Ohio': Leaf(value='0'), 'Tama, Iowa': Leaf(value='1'), 'Newcastle upon Tyne': Leaf(value='1'), 'Halifax': Leaf(value='0'), 'ATX': Leaf(value='0'), 'cuba': Leaf(value='1'), 'Hemel Hempstead': Leaf(value='0'), 'Jonesboro, AR MO, IOWA USA': Leaf(value='1'), 'Somewhere else...': Leaf(value='0'), 'Ibadan,Oyo state': Leaf(value='1'), \"DRAW A CIRCLE THAT'S THE EARTH\": Leaf(value='0'), 'Holly, MI': Leaf(value='0'), 'Philadelphia, PA ': Split(attribute='link', subtrees={True: Leaf(value='0'), False: Leaf(value='1')}, default_value='0'), 'Lubbock, Texas': Leaf(value='0'), 'Gotham': Leaf(value='1'), 'El Dorado, Arkansas': Leaf(value='1'), 'Huber Heights, OH': Leaf(value='0'), 'IG/SC:bjfordiani': Leaf(value='0'), 'Atlanta, Ga': Leaf(value='0'), 'anzio,italy': Leaf(value='1'), 'El Dorado, KS': Leaf(value='1'), 'Camberwell, Melbourne': Leaf(value='1'), 'Mass': Leaf(value='0'), 'ljp/4': Leaf(value='0'), 'Madisonville TN': Leaf(value='0'), 'Wellington, New Zealand': Leaf(value='0'), 'Suva, Fiji Islands.': Leaf(value='0'), 'San Antonio-ish, TX': Leaf(value='1'), '?Gangsta OC / MV RP; 18+.?': Leaf(value='1'), 'Milton keynes': Leaf(value='0'), 'Lowell, MA': Leaf(value='0'), 'Miami,Fla': Leaf(value='1'), 'CLVLND': Leaf(value='0'), 'Somecity, Somerset, MD': Leaf(value='0'), 'Watch Those Videos -': Leaf(value='0'), 'planeta H2o': Leaf(value='0'), 'rowyso dallas ': Leaf(value='0'), 'the moon': Leaf(value='0'), 'Keighley, England': Leaf(value='0'), ' Queensland, Australia': Leaf(value='0'), 'San Diego California 92101': Leaf(value='1'), 'Kuwait ': Leaf(value='1'), '@ ForSL/RP': Leaf(value='1'), 'Burlington, VT': Leaf(value='1'), 'Mars': Leaf(value='0'), 'Galatians 2:20 ': Leaf(value='0'), 'Inside the Beltway (DC Area)': Leaf(value='1'), 'CAMARILLO, CA': Leaf(value='1'), '17-Feb': Leaf(value='0'), \"Xi'an, China\": Leaf(value='1'), 'Bhubneshwar': Leaf(value='0'), 'Baton Rouge, LA': Leaf(value='0'), 'Moore, OK': Leaf(value='0'), 'probably watching survivor': Leaf(value='1'), 'Charleston, WV': Leaf(value='0'), 'Jersey Shore': Leaf(value='1'), \"xiumin's nonexistent solos\": Leaf(value='1'), '$ad $hawty': Leaf(value='0'), 'Home of the Takers.': Leaf(value='0'), 'Zero Branco': Leaf(value='0'), 'Chicago Heights, IL': Leaf(value='0'), 'Mariveles, Bataan': Leaf(value='1'), 'Not where I want to be, yet': Leaf(value='0'), 'Selena | Britney | Hilary': Leaf(value='0'), 'Miami Beach, Fl': Leaf(value='0'), 'The Harbinger.': Leaf(value='0'), '617-BTOWN-BEATDOWN': Leaf(value='0'), 'Hermitage, PA': Leaf(value='0'), 'Palm Desert, CA': Leaf(value='0'), '#NewcastleuponTyne #UK': Leaf(value='0'), 'eritrean': Leaf(value='0'), 'Fairfax, VA': Leaf(value='1'), 'Brasil, Fortaleza ce': Leaf(value='0'), 'ARBAILO': Leaf(value='0'), 'USA (Formerly @usNOAAgov)': Leaf(value='1'), 'CHICAGO (312)': Leaf(value='0'), 'lagos. Unilag': Leaf(value='1'), 'im definitely taller than you.': Leaf(value='1'), 'Cumming, GA': Leaf(value='1'), 'lost in history': Leaf(value='0'), 'Oldenburg // London': Leaf(value='0'), 'Renfrew, Scotland': Leaf(value='0'), 'The Forever Girl': Leaf(value='0'), 'Jacksonville, FL': Leaf(value='1'), 'Hensley Street, Portland': Leaf(value='1'), 'Sherwood, Brisbane, Australia': Leaf(value='0'), 'atlanta': Leaf(value='0'), 'philly ': Leaf(value='0'), \"wrapped arnd hyuk's finger\": Leaf(value='1'), 'CPT & JHB, South Africa': Leaf(value='0'), 'Uyo, Akwa Ibom State, Nigeria': Leaf(value='0'), 'Jersey City, New Jersey': Leaf(value='0'), 'All around the world': Leaf(value='0'), ' snapchat // fvck_casper ': Leaf(value='0'), 'Asheville, NC': Leaf(value='1'), 'T-Ville': Leaf(value='1'), 'Pelham, AL': Leaf(value='0'), 'Rockford, IL': Leaf(value='0'), 'Kenosha, WI 53143': Leaf(value='0'), '#SandraBland': Leaf(value='0'), 'Doghouse': Leaf(value='0'), 'The ?? below ???': Leaf(value='1'), 'Fredericksburg, Virginia': Leaf(value='1'), 'Jackson TN': Leaf(value='0'), 'Co. Tyrone Northern Ireland': Leaf(value='0'), 'Tampa, FL': Leaf(value='0'), 'Ellensburg to Spokane': Leaf(value='1'), '#937??#734': Leaf(value='0'), 'EIC': Leaf(value='1'), '#keepthefaith J&J': Leaf(value='1'), 'Twitterville': Leaf(value='1'), 'The Universe': Split(attribute='num_hashtags', subtrees={3: Leaf(value='1'), 0: Leaf(value='0')}, default_value='1'), 'Tulalip, Washington': Leaf(value='0'), \"Lizzy's Knee\": Leaf(value='0'), 'Ohio': Leaf(value='0'), '2B Hindhede Rd, Singapore': Leaf(value='0'), 'Durban, South Africa': Leaf(value='0'), 'Chicago, but Philly is home': Leaf(value='1'), 'Tucson, AZ': Leaf(value='1'), 'San Mateo County, CA': Leaf(value='1'), 'Florida Forever': Leaf(value='0'), 'Poconos': Leaf(value='0'), 'potters bar': Leaf(value='0'), \"The Sun's Corona\": Leaf(value='0'), 'Beirut, Lebanon': Leaf(value='1'), 'Vero Beach , FL': Leaf(value='0'), '  ': Leaf(value='1'), 'A sofa': Leaf(value='0'), 'Zac Newsome loves me': Leaf(value='0'), 'Idaho': Leaf(value='0'), 'have car; will travel': Leaf(value='0'), 'Louisville, KY': Leaf(value='1'), 'San Francisco , CA': Leaf(value='1'), 'Na:tinixw / Hoopa, Berkeley': Leaf(value='1'), 'åÊ(?\\x89Û¢`?\\x89Û¢å«)??': Leaf(value='0'), '??9?': Leaf(value='0'), '828??864??803': Leaf(value='0'), 'NYHC': Leaf(value='1'), \"St. Patrick's Purgatory\": Leaf(value='1'), '\\x89Û¢OlderCandyBloom\\x89Û¢': Leaf(value='0'), 'Edinburgh, Scotland': Leaf(value='0'), 'Concord, N.C.': Leaf(value='1'), 'Madison, WI & St. Louis MO': Leaf(value='0'), 'Scotland ': Leaf(value='1'), 'Melton, GA': Leaf(value='0'), 'Atlanta Georgia ': Leaf(value='0'), 'Somewhere with Clyde': Leaf(value='0'), 'Ikeja, Nigeria': Leaf(value='1'), 'Amsterdam | San Francisco': Leaf(value='1'), 'Cydia': Leaf(value='0'), 'Manhattan': Leaf(value='0'), \"I'm standing behind you\": Leaf(value='0'), 'CA via Brum': Leaf(value='1'), 'Newcastle Upon Tyne, England': Leaf(value='0'), 'Carry On Jutta!!!': Leaf(value='0'), 'Fort Collins, CO': Leaf(value='1'), 'h+l': Leaf(value='0'), 'swindon': Leaf(value='0'), 'NEPA/570': Leaf(value='0'), 'Fort Wayne, IN': Leaf(value='1'), 'No ID, No VOTE!!!': Leaf(value='1'), 'Portoviejo-Manabi-Ecuador': Leaf(value='0'), 'Fort Valley,GA/Fayetteville,AR': Leaf(value='1'), 'US: 44.414510,8.942499': Leaf(value='1'), 'oklahoma': Leaf(value='0'), \"'Merica\": Leaf(value='0'), 'Canada ': Leaf(value='0'), 'Dimapur': Leaf(value='1'), 'Charlottetown': Leaf(value='0'), 'new york, ny': Leaf(value='0'), \"Robin Hood's County \": Leaf(value='0'), 'Dundee, UK': Leaf(value='1'), 'Orange County, California': Leaf(value='0'), 'rzl ?': Leaf(value='1'), 'Palo Alto, CA': Leaf(value='1'), 'Groton, CT': Leaf(value='0'), 'i love the smurfs 2': Leaf(value='0'), 'Kansas, The Free State! ~ KC': Leaf(value='0'), 'Some pum pum': Leaf(value='0'), 'Financial News and Views': Leaf(value='1'), 'Stamford & Cork (& Shropshire)': Leaf(value='1'), 'ChicagoRObotz': Leaf(value='0'), 'Somewhere in the Canada': Leaf(value='1'), 'Henderson, NV': Leaf(value='0'), 'Black Canyon New River, AZ': Leaf(value='1'), 'Methville, CA': Leaf(value='0'), 'Hawthorne, NE': Leaf(value='1'), 'Top secret bunker ': Leaf(value='1'), 'McLean, VA': Leaf(value='0'), 'Bandung': Leaf(value='1'), 'St Austell, Cornwall': Leaf(value='0'), 'Where I Need To Be': Leaf(value='0'), 'London/Outlaw Country ': Leaf(value='0'), 'Georgia, U.S.A.': Leaf(value='1'), 'U.S.A. - Global Members Site': Leaf(value='1'), 'Alberta, VA': Leaf(value='0'), 'Fountain City, IN ': Leaf(value='0'), 'Alger-New York-San Francisco': Leaf(value='1'), 'Crato - CE ': Leaf(value='0'), 'Somalia': Leaf(value='0'), 'Spying on your thoughts': Leaf(value='1'), 'Wilmington, DE': Leaf(value='0'), 'under the blanket': Leaf(value='0'), 'iPhone: 33.104393,-96.628624': Leaf(value='0'), 'Ewa Beach, HI': Leaf(value='0'), 'Portage, IN / Worldwide': Leaf(value='1'), 'Grand Rapids MI': Leaf(value='0'), 'God.Family.Money': Leaf(value='0'), 'Adventist - Lesson Sabbath': Leaf(value='1'), 'Some Where in this World': Leaf(value='0'), 'North East USA': Leaf(value='1'), 'Campo Grande-MS': Leaf(value='1'), 'Miami,FL': Leaf(value='1'), 'Realville': Leaf(value='1'), 'TechFish ': Leaf(value='0'), '#1 Vacation Destination,HAWAII': Leaf(value='1'), 'Atlanta Georgia': Leaf(value='1'), 'Here.': Leaf(value='0'), 'North East Unsigned Radio': Leaf(value='0'), 'balvanera': Leaf(value='0'), 'Oakland, Ca': Leaf(value='0'), 'COMING SOON': Leaf(value='0'), '#partsunknown': Leaf(value='1'), 'oman muscat al seeb ': Leaf(value='1'), 'planet earth': Leaf(value='1'), 'sitting on Eddie Vedders lap,': Leaf(value='0'), 'Aperture Science Test Facility': Leaf(value='0'), 'CHICAGO': Leaf(value='1'), 'Fleet/Oxford, UK': Leaf(value='0'), 'Wolverhampton/Brum/Jersey': Leaf(value='1'), 'a feminist, modernist hag.': Leaf(value='1'), 'Bon Temps Louisiana': Leaf(value='0'), 'Serva Fidem': Leaf(value='1'), 'Olympia, WA': Leaf(value='1'), 'UK  & Germany': Leaf(value='1'), 'Bukittinggi  ?? Sumatera Barat': Leaf(value='1'), 'Hope Road, Jamaica ': Leaf(value='0'), 'To The Right of You!': Leaf(value='1'), 'Orlando': Leaf(value='0'), 'they/her': Leaf(value='0'), 'Thornton  Colorado': Leaf(value='0'), 'Bulgaria': Leaf(value='0'), 'Right next to Compton': Leaf(value='0'), 'Jammu | Kashmir | Delhi': Leaf(value='1'), 'Shipwreck Cove': Leaf(value='1'), 'AUS': Leaf(value='0'), 'Bayonne, NJ': Leaf(value='0'), 'Canberra, Australian Capital Territory': Leaf(value='1'), 'East London': Leaf(value='0'), 'Giddy, Greenland': Leaf(value='0'), 'Rotterdam, Zuid-Holland': Leaf(value='0'), 'Brum/Lestah ': Leaf(value='0'), \"Mpela'zwe \": Leaf(value='0'), '#MayGodHelpUS': Leaf(value='0'), 'From a torn up town MANCHESTER': Leaf(value='1'), 'toronto': Leaf(value='0'), 'San Diego, California': Leaf(value='0'), '[Gia.] | #KardashianEmpire': Leaf(value='0'), 'cigarknub@gmail.com': Leaf(value='0'), '\\x89Û¢901\\x89Û¢': Leaf(value='1'), 'southwest, Tx': Leaf(value='0'), 'Vilnius': Leaf(value='0'), 'Mooresville, NC': Leaf(value='1'), 'dundalk ireland': Leaf(value='0'), 'Bahrain': Leaf(value='1'), 'Norf Carolina': Leaf(value='0'), 'St PetersburgFL': Leaf(value='0'), 'PARACHUTE': Leaf(value='0'), 'America of Founding Fathers': Leaf(value='0'), 'Here, there and everywhere': Leaf(value='1'), 'Atlanta,Ga': Leaf(value='0'), 'Jamaica': Leaf(value='0'), 'Jump City': Leaf(value='0'), 'Cincinnati, OH': Leaf(value='0'), 'Kenton, Ohio': Leaf(value='1'), 'Hawaii, USA': Leaf(value='1'), 'NV': Leaf(value='0'), 'St.Cloud, MN': Leaf(value='0'), 'St Joseph de Beauce': Leaf(value='1'), 'Portland, Ore. ': Leaf(value='1'), 'Chicago, IL 60607': Leaf(value='1'), 'Displaced Son of TEXAS!': Leaf(value='0'), 'www.aprylpooley.com': Leaf(value='0'), 'Memphis, in the Tennessees': Leaf(value='1'), 'West Coast, Cali USA': Leaf(value='0'), 'perth, australia ': Leaf(value='0'), 'Somewhere Around You': Leaf(value='1'), '#iminchina': Leaf(value='1'), 'Earth: Senseless nonsense': Leaf(value='1'), 'In Your Notifications ': Leaf(value='0'), 'MA via PA': Leaf(value='1'), 'Downtown Oklahoma City': Leaf(value='0'), 'District 12 - Orange County': Leaf(value='1'), 'Adventuring in Narnia': Leaf(value='0'), 'Johns Creek, GA': Leaf(value='0'), 'Land Of The Kings': Leaf(value='0'), 'Sicamous, British Columbia': Leaf(value='1'), 'Anaheim': Leaf(value='1'), 'Shirley, NY': Leaf(value='0'), 'laying on the bass': Leaf(value='0')}, default_value='0')\n",
            "Split 1 : location\n",
            "Tweet => location => empty string\n",
            "Entropy location : 0.5131863\n",
            "Entropy link : 0.9461454\n",
            "Entropy num_hashtags : 0.9828883\n",
            "Entropy word_count : 0.972114\n",
            "Entropy char_count : 0.9571146\n",
            "Entropy bigrams : 0.89661914\n"
          ]
        },
        {
          "output_type": "display_data",
          "data": {
            "text/plain": [
              "<Figure size 936x216 with 1 Axes>"
            ],
            "image/png": "[encoded data removed]"
          },
          "metadata": {
            "needs_background": "light"
          }
        },
        {
          "output_type": "stream",
          "name": "stdout",
          "text": [
            "\n",
            "Tree: Split(attribute='bigrams', subtrees={'none': Split(attribute='link', subtrees={True: Split(attribute='char_count', subtrees={'81-100': Split(attribute='num_hashtags', subtrees={1: Split(attribute='word_count', subtrees={'11-15': Leaf(value='1'), '6-10': Leaf(value='0')}, default_value='0'), 0: Split(attribute='word_count', subtrees={'11-15': Leaf(value='1'), '6-10': Leaf(value='1'), '16-20': Leaf(value='0')}, default_value='1'), 3: Leaf(value='1'), 2: Split(attribute='word_count', subtrees={'6-10': Leaf(value='0'), '11-15': Leaf(value='0')}, default_value='0'), 4: Split(attribute='word_count', subtrees={'11-15': Leaf(value='0'), '6-10': Leaf(value='1')}, default_value='0'), 6: Leaf(value='0'), 5: Leaf(value='1')}, default_value='1'), '101-120': Split(attribute='num_hashtags', subtrees={10: Split(attribute='word_count', subtrees={'11-15': Leaf(value='1')}, default_value='1'), 5: Leaf(value='0'), 0: Split(attribute='word_count', subtrees={'6-10': Leaf(value='0'), '11-15': Leaf(value='1'), '16-20': Leaf(value='0'), '21-25': Leaf(value='0')}, default_value='1'), 1: Split(attribute='word_count', subtrees={'11-15': Leaf(value='1'), '16-20': Leaf(value='0'), '6-10': Leaf(value='1')}, default_value='1'), 2: Split(attribute='word_count', subtrees={'16-20': Leaf(value='1'), '11-15': Leaf(value='0')}, default_value='0'), 3: Split(attribute='word_count', subtrees={'11-15': Leaf(value='0')}, default_value='0'), 7: Leaf(value='0')}, default_value='1'), '61-80': Split(attribute='word_count', subtrees={'6-10': Split(attribute='num_hashtags', subtrees={0: Leaf(value='1'), 1: Leaf(value='0'), 3: Leaf(value='1')}, default_value='1'), '11-15': Split(attribute='num_hashtags', subtrees={0: Leaf(value='0'), 1: Leaf(value='0'), 3: Leaf(value='0')}, default_value='0'), '1-5': Leaf(value='0')}, default_value='0'), '121-140': Split(attribute='num_hashtags', subtrees={0: Split(attribute='word_count', subtrees={'16-20': Leaf(value='1'), '11-15': Leaf(value='1'), '21-25': Leaf(value='1')}, default_value='1'), 1: Split(attribute='word_count', subtrees={'16-20': Leaf(value='1'), '21-25': Leaf(value='1'), '11-15': Leaf(value='1')}, default_value='1'), 4: Split(attribute='word_count', subtrees={'11-15': Leaf(value='0'), '16-20': Leaf(value='0'), '21-25': Leaf(value='1')}, default_value='0'), 3: Split(attribute='word_count', subtrees={'16-20': Leaf(value='0'), '11-15': Leaf(value='1'), '21-25': Leaf(value='1')}, default_value='0'), 8: Split(attribute='word_count', subtrees={'16-20': Leaf(value='0')}, default_value='0'), 5: Split(attribute='word_count', subtrees={'11-15': Leaf(value='1'), '16-20': Leaf(value='1')}, default_value='1'), 2: Split(attribute='word_count', subtrees={'16-20': Leaf(value='1'), '11-15': Leaf(value='0')}, default_value='1'), 6: Leaf(value='0'), 13: Leaf(value='1'), 10: Leaf(value='1'), 7: Leaf(value='1')}, default_value='1'), '41-60': Split(attribute='word_count', subtrees={'1-5': Split(attribute='num_hashtags', subtrees={0: Leaf(value='0')}, default_value='0'), '6-10': Split(attribute='num_hashtags', subtrees={0: Leaf(value='0')}, default_value='0')}, default_value='0'), '21-40': Split(attribute='num_hashtags', subtrees={0: Split(attribute='word_count', subtrees={'1-5': Leaf(value='0')}, default_value='0')}, default_value='0'), '141-160': Split(attribute='num_hashtags', subtrees={2: Leaf(value='0'), 0: Split(attribute='word_count', subtrees={'16-20': Leaf(value='0'), '21-25': Leaf(value='0')}, default_value='0'), 1: Split(attribute='word_count', subtrees={'21-25': Leaf(value='0'), '16-20': Leaf(value='1')}, default_value='0'), 3: Leaf(value='1')}, default_value='0')}, default_value='1'), False: Split(attribute='char_count', subtrees={'141-160': Split(attribute='num_hashtags', subtrees={0: Split(attribute='word_count', subtrees={'21-25': Leaf(value='1'), '26-30': Leaf(value='0')}, default_value='0'), 1: Leaf(value='0'), 3: Leaf(value='1'), 2: Leaf(value='1'), 4: Leaf(value='1')}, default_value='0'), '101-120': Split(attribute='num_hashtags', subtrees={1: Split(attribute='word_count', subtrees={'21-25': Leaf(value='0'), '16-20': Leaf(value='0'), '11-15': Leaf(value='0')}, default_value='0'), 0: Split(attribute='word_count', subtrees={'21-25': Leaf(value='0'), '16-20': Leaf(value='0'), '26-30': Leaf(value='0'), '11-15': Leaf(value='0')}, default_value='0'), 2: Split(attribute='word_count', subtrees={'16-20': Leaf(value='1')}, default_value='1'), 3: Leaf(value='1'), 6: Leaf(value='1')}, default_value='0'), '121-140': Split(attribute='num_hashtags', subtrees={0: Split(attribute='word_count', subtrees={'21-25': Leaf(value='0'), '26-30': Leaf(value='0'), '16-20': Leaf(value='0'), 'other': Leaf(value='0')}, default_value='0'), 2: Split(attribute='word_count', subtrees={'21-25': Leaf(value='0'), '16-20': Leaf(value='0')}, default_value='0'), 1: Split(attribute='word_count', subtrees={'21-25': Leaf(value='0'), '16-20': Leaf(value='1'), '26-30': Leaf(value='0')}, default_value='0'), 4: Leaf(value='0'), 11: Leaf(value='0'), 3: Leaf(value='0'), 8: Leaf(value='1')}, default_value='0'), '81-100': Split(attribute='word_count', subtrees={'16-20': Split(attribute='num_hashtags', subtrees={0: Leaf(value='0'), 1: Leaf(value='1'), 2: Leaf(value='1')}, default_value='0'), '11-15': Split(attribute='num_hashtags', subtrees={0: Leaf(value='0'), 2: Leaf(value='0'), 1: Leaf(value='1')}, default_value='0'), '21-25': Leaf(value='1'), '6-10': Leaf(value='0'), '1-5': Leaf(value='1')}, default_value='0'), '41-60': Split(attribute='num_hashtags', subtrees={0: Split(attribute='word_count', subtrees={'6-10': Leaf(value='0'), '11-15': Leaf(value='0'), '1-5': Leaf(value='0')}, default_value='0'), 1: Split(attribute='word_count', subtrees={'11-15': Leaf(value='1'), '6-10': Leaf(value='0')}, default_value='1'), 3: Leaf(value='0')}, default_value='0'), '61-80': Split(attribute='num_hashtags', subtrees={0: Split(attribute='word_count', subtrees={'6-10': Leaf(value='0'), '11-15': Leaf(value='0'), '16-20': Leaf(value='0')}, default_value='0'), 2: Split(attribute='word_count', subtrees={'11-15': Leaf(value='0'), '6-10': Leaf(value='0'), '16-20': Leaf(value='0')}, default_value='0'), 1: Split(attribute='word_count', subtrees={'6-10': Leaf(value='0'), '11-15': Leaf(value='0')}, default_value='0'), 5: Leaf(value='1'), 3: Leaf(value='1')}, default_value='0'), '21-40': Split(attribute='num_hashtags', subtrees={0: Split(attribute='word_count', subtrees={'6-10': Leaf(value='0'), '1-5': Leaf(value='0')}, default_value='0'), 1: Split(attribute='word_count', subtrees={'6-10': Leaf(value='0'), '1-5': Leaf(value='1')}, default_value='0'), 2: Leaf(value='1')}, default_value='0'), '1-20': Split(attribute='num_hashtags', subtrees={0: Split(attribute='word_count', subtrees={'1-5': Leaf(value='0')}, default_value='0')}, default_value='0')}, default_value='0')}, default_value='0'), ('youtube', 'video'): Split(attribute='char_count', subtrees={'81-100': Leaf(value='0'), '121-140': Leaf(value='0'), '101-120': Split(attribute='word_count', subtrees={'16-20': Leaf(value='0'), '11-15': Leaf(value='1')}, default_value='0'), '61-80': Leaf(value='0')}, default_value='0'), ('body', 'bag'): Leaf(value='0'), ('market', 'crash'): Leaf(value='0'), ('rescuers', 'searching'): Leaf(value='1'), ('cross', 'body'): Leaf(value='0'), ('mass', 'murder'): Split(attribute='num_hashtags', subtrees={0: Split(attribute='link', subtrees={False: Split(attribute='word_count', subtrees={'16-20': Leaf(value='1'), '11-15': Split(attribute='char_count', subtrees={'61-80': Leaf(value='1'), '81-100': Leaf(value='1')}, default_value='1'), '21-25': Leaf(value='1')}, default_value='1'), True: Leaf(value='0')}, default_value='1'), 1: Leaf(value='1')}, default_value='1'), ('heat', 'wave'): Split(attribute='char_count', subtrees={'81-100': Split(attribute='link', subtrees={False: Split(attribute='num_hashtags', subtrees={0: Split(attribute='word_count', subtrees={'16-20': Leaf(value='1')}, default_value='1')}, default_value='1')}, default_value='1'), '121-140': Leaf(value='0'), '101-120': Leaf(value='1'), '61-80': Leaf(value='1'), '41-60': Leaf(value='1')}, default_value='1'), ('oil', 'spill'): Split(attribute='char_count', subtrees={'81-100': Leaf(value='1'), '101-120': Leaf(value='1'), '21-40': Leaf(value='0'), '61-80': Leaf(value='1')}, default_value='1'), ('70', 'years'): Leaf(value='1'), ('burning', 'buildings'): Split(attribute='word_count', subtrees={'11-15': Split(attribute='char_count', subtrees={'81-100': Leaf(value='0'), '61-80': Leaf(value='1')}, default_value='0'), '16-20': Split(attribute='link', subtrees={False: Split(attribute='char_count', subtrees={'101-120': Split(attribute='num_hashtags', subtrees={0: Leaf(value='1')}, default_value='1'), '121-140': Leaf(value='1')}, default_value='1'), True: Leaf(value='1')}, default_value='1'), '6-10': Leaf(value='0'), '21-25': Leaf(value='0'), '26-30': Leaf(value='0')}, default_value='0'), ('knock', 'detonation'): Split(attribute='char_count', subtrees={'121-140': Leaf(value='0'), '101-120': Split(attribute='word_count', subtrees={'11-15': Split(attribute='link', subtrees={True: Split(attribute='num_hashtags', subtrees={0: Leaf(value='0')}, default_value='0')}, default_value='0'), '6-10': Split(attribute='link', subtrees={True: Split(attribute='num_hashtags', subtrees={0: Leaf(value='0')}, default_value='0')}, default_value='0')}, default_value='0'), '81-100': Split(attribute='link', subtrees={True: Split(attribute='num_hashtags', subtrees={0: Split(attribute='word_count', subtrees={'6-10': Leaf(value='0')}, default_value='0')}, default_value='0')}, default_value='0')}, default_value='0'), ('charged', 'manslaughter'): Leaf(value='1'), ('mass', 'murderer'): Leaf(value='1'), ('suicide', 'bomber'): Leaf(value='1'), ('northern', 'california'): Leaf(value='1'), ('structural', 'failure'): Split(attribute='link', subtrees={True: Leaf(value='1'), False: Split(attribute='char_count', subtrees={'121-140': Split(attribute='num_hashtags', subtrees={0: Split(attribute='word_count', subtrees={'16-20': Leaf(value='1')}, default_value='1')}, default_value='1'), '81-100': Leaf(value='0'), '101-120': Leaf(value='1')}, default_value='1')}, default_value='1'), ('debris', 'found'): Leaf(value='1'), ('dust', 'storm'): Leaf(value='1'), ('prebreak', 'best'): Split(attribute='char_count', subtrees={'121-140': Leaf(value='1'), '101-120': Split(attribute='link', subtrees={True: Split(attribute='num_hashtags', subtrees={3: Split(attribute='word_count', subtrees={'16-20': Leaf(value='1')}, default_value='1')}, default_value='1')}, default_value='1')}, default_value='1'), ('wild', 'fires'): Leaf(value='1'), ('fedex', 'longer'): Split(attribute='char_count', subtrees={'101-120': Leaf(value='0'), '121-140': Leaf(value='1'), '81-100': Leaf(value='1')}, default_value='0'), ('body', 'bags'): Leaf(value='0'), ('typhoondevastated', 'saipan'): Leaf(value='1'), ('confirmed', 'mh370'): Leaf(value='1'), ('trapped', 'miners'): Split(attribute='word_count', subtrees={'16-20': Split(attribute='num_hashtags', subtrees={2: Leaf(value='0'), 0: Leaf(value='1')}, default_value='1'), '11-15': Leaf(value='0'), '6-10': Leaf(value='0')}, default_value='0'), ('fall', 'cliff'): Split(attribute='link', subtrees={True: Leaf(value='1'), False: Leaf(value='0')}, default_value='0'), ('body', 'bagging'): Leaf(value='0'), ('content', 'policy'): Leaf(value='0'), ('suicide', 'bombing'): Leaf(value='1'), ('officer', 'wounded'): Leaf(value='1'), ('reddit', 'quarantine'): Split(attribute='char_count', subtrees={'61-80': Split(attribute='link', subtrees={True: Split(attribute='num_hashtags', subtrees={0: Split(attribute='word_count', subtrees={'6-10': Leaf(value='0')}, default_value='0')}, default_value='0')}, default_value='0'), '81-100': Leaf(value='0'), '101-120': Leaf(value='0')}, default_value='0'), ('nuclear', 'reactor'): Split(attribute='char_count', subtrees={'101-120': Split(attribute='link', subtrees={False: Leaf(value='1'), True: Leaf(value='0')}, default_value='1'), '81-100': Leaf(value='0'), '121-140': Leaf(value='1')}, default_value='0'), ('natural', 'disaster'): Split(attribute='char_count', subtrees={'61-80': Leaf(value='0'), '121-140': Leaf(value='1'), '101-120': Leaf(value='1')}, default_value='1'), ('sandstorm', 'minute'): Leaf(value='1'), ('hundreds', 'migrants'): Leaf(value='1'), ('outbreak', 'legionnaires'): Leaf(value='1'), ('war', 'zone'): Split(attribute='char_count', subtrees={'21-40': Leaf(value='1'), '81-100': Leaf(value='0'), '121-140': Leaf(value='1'), '61-80': Leaf(value='0'), '41-60': Leaf(value='0')}, default_value='0'), ('severe', 'thunderstorm'): Leaf(value='1'), ('reunion', 'island'): Leaf(value='1'), ('emergency', 'services'): Split(attribute='word_count', subtrees={'16-20': Leaf(value='0'), '11-15': Leaf(value='1')}, default_value='0'), ('loud', 'bang'): Leaf(value='0'), ('mh370', 'malaysia'): Leaf(value='1'), ('emergency', 'plan'): Leaf(value='1'), ('homes', 'razed'): Leaf(value='1')}, default_value='0')\n",
            "Split 2 : bigrams\n",
            "Tweet => bigrams => none\n",
            "Entropy link : 0.9329836\n",
            "Entropy num_hashtags : 0.97346747\n",
            "Entropy word_count : 0.95883477\n",
            "Entropy char_count : 0.9397917\n",
            "Entropy bigrams : 0.8683423\n"
          ]
        },
        {
          "output_type": "display_data",
          "data": {
            "text/plain": [
              "<Figure size 792x216 with 1 Axes>"
            ],
            "image/png": "[encoded data removed]"
          },
          "metadata": {
            "needs_background": "light"
          }
        },
        {
          "output_type": "stream",
          "name": "stdout",
          "text": [
            "\n",
            "Tree: Split(attribute='link', subtrees={True: Split(attribute='char_count', subtrees={'81-100': Split(attribute='num_hashtags', subtrees={1: Split(attribute='word_count', subtrees={'11-15': Leaf(value='1'), '6-10': Leaf(value='0')}, default_value='0'), 0: Split(attribute='word_count', subtrees={'11-15': Leaf(value='1'), '6-10': Leaf(value='1'), '16-20': Leaf(value='0')}, default_value='1'), 3: Leaf(value='1'), 2: Split(attribute='word_count', subtrees={'6-10': Leaf(value='0'), '11-15': Leaf(value='0')}, default_value='0'), 4: Split(attribute='word_count', subtrees={'11-15': Leaf(value='0'), '6-10': Leaf(value='1')}, default_value='0'), 6: Leaf(value='0'), 5: Leaf(value='1')}, default_value='1'), '101-120': Split(attribute='num_hashtags', subtrees={10: Split(attribute='word_count', subtrees={'11-15': Leaf(value='1')}, default_value='1'), 5: Leaf(value='0'), 0: Split(attribute='word_count', subtrees={'6-10': Leaf(value='0'), '11-15': Leaf(value='1'), '16-20': Leaf(value='0'), '21-25': Leaf(value='0')}, default_value='1'), 1: Split(attribute='word_count', subtrees={'11-15': Leaf(value='1'), '16-20': Leaf(value='0'), '6-10': Leaf(value='1')}, default_value='1'), 2: Split(attribute='word_count', subtrees={'16-20': Leaf(value='1'), '11-15': Leaf(value='0')}, default_value='0'), 3: Split(attribute='word_count', subtrees={'11-15': Leaf(value='0')}, default_value='0'), 7: Leaf(value='0')}, default_value='1'), '61-80': Split(attribute='word_count', subtrees={'6-10': Split(attribute='num_hashtags', subtrees={0: Leaf(value='1'), 1: Leaf(value='0'), 3: Leaf(value='1')}, default_value='1'), '11-15': Split(attribute='num_hashtags', subtrees={0: Leaf(value='0'), 1: Leaf(value='0'), 3: Leaf(value='0')}, default_value='0'), '1-5': Leaf(value='0')}, default_value='0'), '121-140': Split(attribute='num_hashtags', subtrees={0: Split(attribute='word_count', subtrees={'16-20': Leaf(value='1'), '11-15': Leaf(value='1'), '21-25': Leaf(value='1')}, default_value='1'), 1: Split(attribute='word_count', subtrees={'16-20': Leaf(value='1'), '21-25': Leaf(value='1'), '11-15': Leaf(value='1')}, default_value='1'), 4: Split(attribute='word_count', subtrees={'11-15': Leaf(value='0'), '16-20': Leaf(value='0'), '21-25': Leaf(value='1')}, default_value='0'), 3: Split(attribute='word_count', subtrees={'16-20': Leaf(value='0'), '11-15': Leaf(value='1'), '21-25': Leaf(value='1')}, default_value='0'), 8: Split(attribute='word_count', subtrees={'16-20': Leaf(value='0')}, default_value='0'), 5: Split(attribute='word_count', subtrees={'11-15': Leaf(value='1'), '16-20': Leaf(value='1')}, default_value='1'), 2: Split(attribute='word_count', subtrees={'16-20': Leaf(value='1'), '11-15': Leaf(value='0')}, default_value='1'), 6: Leaf(value='0'), 13: Leaf(value='1'), 10: Leaf(value='1'), 7: Leaf(value='1')}, default_value='1'), '41-60': Split(attribute='word_count', subtrees={'1-5': Split(attribute='num_hashtags', subtrees={0: Leaf(value='0')}, default_value='0'), '6-10': Split(attribute='num_hashtags', subtrees={0: Leaf(value='0')}, default_value='0')}, default_value='0'), '21-40': Split(attribute='num_hashtags', subtrees={0: Split(attribute='word_count', subtrees={'1-5': Leaf(value='0')}, default_value='0')}, default_value='0'), '141-160': Split(attribute='num_hashtags', subtrees={2: Leaf(value='0'), 0: Split(attribute='word_count', subtrees={'16-20': Leaf(value='0'), '21-25': Leaf(value='0')}, default_value='0'), 1: Split(attribute='word_count', subtrees={'21-25': Leaf(value='0'), '16-20': Leaf(value='1')}, default_value='0'), 3: Leaf(value='1')}, default_value='0')}, default_value='1'), False: Split(attribute='char_count', subtrees={'141-160': Split(attribute='num_hashtags', subtrees={0: Split(attribute='word_count', subtrees={'21-25': Leaf(value='1'), '26-30': Leaf(value='0')}, default_value='0'), 1: Leaf(value='0'), 3: Leaf(value='1'), 2: Leaf(value='1'), 4: Leaf(value='1')}, default_value='0'), '101-120': Split(attribute='num_hashtags', subtrees={1: Split(attribute='word_count', subtrees={'21-25': Leaf(value='0'), '16-20': Leaf(value='0'), '11-15': Leaf(value='0')}, default_value='0'), 0: Split(attribute='word_count', subtrees={'21-25': Leaf(value='0'), '16-20': Leaf(value='0'), '26-30': Leaf(value='0'), '11-15': Leaf(value='0')}, default_value='0'), 2: Split(attribute='word_count', subtrees={'16-20': Leaf(value='1')}, default_value='1'), 3: Leaf(value='1'), 6: Leaf(value='1')}, default_value='0'), '121-140': Split(attribute='num_hashtags', subtrees={0: Split(attribute='word_count', subtrees={'21-25': Leaf(value='0'), '26-30': Leaf(value='0'), '16-20': Leaf(value='0'), 'other': Leaf(value='0')}, default_value='0'), 2: Split(attribute='word_count', subtrees={'21-25': Leaf(value='0'), '16-20': Leaf(value='0')}, default_value='0'), 1: Split(attribute='word_count', subtrees={'21-25': Leaf(value='0'), '16-20': Leaf(value='1'), '26-30': Leaf(value='0')}, default_value='0'), 4: Leaf(value='0'), 11: Leaf(value='0'), 3: Leaf(value='0'), 8: Leaf(value='1')}, default_value='0'), '81-100': Split(attribute='word_count', subtrees={'16-20': Split(attribute='num_hashtags', subtrees={0: Leaf(value='0'), 1: Leaf(value='1'), 2: Leaf(value='1')}, default_value='0'), '11-15': Split(attribute='num_hashtags', subtrees={0: Leaf(value='0'), 2: Leaf(value='0'), 1: Leaf(value='1')}, default_value='0'), '21-25': Leaf(value='1'), '6-10': Leaf(value='0'), '1-5': Leaf(value='1')}, default_value='0'), '41-60': Split(attribute='num_hashtags', subtrees={0: Split(attribute='word_count', subtrees={'6-10': Leaf(value='0'), '11-15': Leaf(value='0'), '1-5': Leaf(value='0')}, default_value='0'), 1: Split(attribute='word_count', subtrees={'11-15': Leaf(value='1'), '6-10': Leaf(value='0')}, default_value='1'), 3: Leaf(value='0')}, default_value='0'), '61-80': Split(attribute='num_hashtags', subtrees={0: Split(attribute='word_count', subtrees={'6-10': Leaf(value='0'), '11-15': Leaf(value='0'), '16-20': Leaf(value='0')}, default_value='0'), 2: Split(attribute='word_count', subtrees={'11-15': Leaf(value='0'), '6-10': Leaf(value='0'), '16-20': Leaf(value='0')}, default_value='0'), 1: Split(attribute='word_count', subtrees={'6-10': Leaf(value='0'), '11-15': Leaf(value='0')}, default_value='0'), 5: Leaf(value='1'), 3: Leaf(value='1')}, default_value='0'), '21-40': Split(attribute='num_hashtags', subtrees={0: Split(attribute='word_count', subtrees={'6-10': Leaf(value='0'), '1-5': Leaf(value='0')}, default_value='0'), 1: Split(attribute='word_count', subtrees={'6-10': Leaf(value='0'), '1-5': Leaf(value='1')}, default_value='0'), 2: Leaf(value='1')}, default_value='0'), '1-20': Split(attribute='num_hashtags', subtrees={0: Split(attribute='word_count', subtrees={'1-5': Leaf(value='0')}, default_value='0')}, default_value='0')}, default_value='0')}, default_value='0')\n",
            "Split 3 : link\n",
            "Tweet => link => False\n",
            "Entropy link : 0.9090079\n",
            "Entropy num_hashtags : 0.9509827\n",
            "Entropy word_count : 0.9453874\n",
            "Entropy char_count : 0.9205476\n"
          ]
        },
        {
          "output_type": "display_data",
          "data": {
            "text/plain": [
              "<Figure size 648x216 with 1 Axes>"
            ],
            "image/png": "[encoded data removed]"
          },
          "metadata": {
            "needs_background": "light"
          }
        },
        {
          "output_type": "stream",
          "name": "stdout",
          "text": [
            "\n",
            "Tree: Split(attribute='char_count', subtrees={'141-160': Split(attribute='num_hashtags', subtrees={0: Split(attribute='word_count', subtrees={'21-25': Leaf(value='1'), '26-30': Leaf(value='0')}, default_value='0'), 1: Leaf(value='0'), 3: Leaf(value='1'), 2: Leaf(value='1'), 4: Leaf(value='1')}, default_value='0'), '101-120': Split(attribute='num_hashtags', subtrees={1: Split(attribute='word_count', subtrees={'21-25': Leaf(value='0'), '16-20': Leaf(value='0'), '11-15': Leaf(value='0')}, default_value='0'), 0: Split(attribute='word_count', subtrees={'21-25': Leaf(value='0'), '16-20': Leaf(value='0'), '26-30': Leaf(value='0'), '11-15': Leaf(value='0')}, default_value='0'), 2: Split(attribute='word_count', subtrees={'16-20': Leaf(value='1')}, default_value='1'), 3: Leaf(value='1'), 6: Leaf(value='1')}, default_value='0'), '121-140': Split(attribute='num_hashtags', subtrees={0: Split(attribute='word_count', subtrees={'21-25': Leaf(value='0'), '26-30': Leaf(value='0'), '16-20': Leaf(value='0'), 'other': Leaf(value='0')}, default_value='0'), 2: Split(attribute='word_count', subtrees={'21-25': Leaf(value='0'), '16-20': Leaf(value='0')}, default_value='0'), 1: Split(attribute='word_count', subtrees={'21-25': Leaf(value='0'), '16-20': Leaf(value='1'), '26-30': Leaf(value='0')}, default_value='0'), 4: Leaf(value='0'), 11: Leaf(value='0'), 3: Leaf(value='0'), 8: Leaf(value='1')}, default_value='0'), '81-100': Split(attribute='word_count', subtrees={'16-20': Split(attribute='num_hashtags', subtrees={0: Leaf(value='0'), 1: Leaf(value='1'), 2: Leaf(value='1')}, default_value='0'), '11-15': Split(attribute='num_hashtags', subtrees={0: Leaf(value='0'), 2: Leaf(value='0'), 1: Leaf(value='1')}, default_value='0'), '21-25': Leaf(value='1'), '6-10': Leaf(value='0'), '1-5': Leaf(value='1')}, default_value='0'), '41-60': Split(attribute='num_hashtags', subtrees={0: Split(attribute='word_count', subtrees={'6-10': Leaf(value='0'), '11-15': Leaf(value='0'), '1-5': Leaf(value='0')}, default_value='0'), 1: Split(attribute='word_count', subtrees={'11-15': Leaf(value='1'), '6-10': Leaf(value='0')}, default_value='1'), 3: Leaf(value='0')}, default_value='0'), '61-80': Split(attribute='num_hashtags', subtrees={0: Split(attribute='word_count', subtrees={'6-10': Leaf(value='0'), '11-15': Leaf(value='0'), '16-20': Leaf(value='0')}, default_value='0'), 2: Split(attribute='word_count', subtrees={'11-15': Leaf(value='0'), '6-10': Leaf(value='0'), '16-20': Leaf(value='0')}, default_value='0'), 1: Split(attribute='word_count', subtrees={'6-10': Leaf(value='0'), '11-15': Leaf(value='0')}, default_value='0'), 5: Leaf(value='1'), 3: Leaf(value='1')}, default_value='0'), '21-40': Split(attribute='num_hashtags', subtrees={0: Split(attribute='word_count', subtrees={'6-10': Leaf(value='0'), '1-5': Leaf(value='0')}, default_value='0'), 1: Split(attribute='word_count', subtrees={'6-10': Leaf(value='0'), '1-5': Leaf(value='1')}, default_value='0'), 2: Leaf(value='1')}, default_value='0'), '1-20': Split(attribute='num_hashtags', subtrees={0: Split(attribute='word_count', subtrees={'1-5': Leaf(value='0')}, default_value='0')}, default_value='0')}, default_value='0')\n",
            "Split 4 : char_count\n",
            "Tweet => char_count => 41-60\n",
            "Entropy num_hashtags : 0.8132437\n",
            "Entropy word_count : 0.8180746\n",
            "Entropy char_count : 0.8087412\n"
          ]
        },
        {
          "output_type": "display_data",
          "data": {
            "text/plain": [
              "<Figure size 432x216 with 1 Axes>"
            ],
            "image/png": "[encoded data removed]"
          },
          "metadata": {
            "needs_background": "light"
          }
        },
        {
          "output_type": "stream",
          "name": "stdout",
          "text": [
            "\n",
            "Tree: Split(attribute='num_hashtags', subtrees={0: Split(attribute='word_count', subtrees={'6-10': Leaf(value='0'), '11-15': Leaf(value='0'), '1-5': Leaf(value='0')}, default_value='0'), 1: Split(attribute='word_count', subtrees={'11-15': Leaf(value='1'), '6-10': Leaf(value='0')}, default_value='1'), 3: Leaf(value='0')}, default_value='0')\n",
            "Split 5 : num_hashtags\n",
            "Tweet => num_hashtags => 0\n",
            "Entropy num_hashtags : 0.6996636\n",
            "Entropy word_count : 0.71118593\n"
          ]
        },
        {
          "output_type": "display_data",
          "data": {
            "text/plain": [
              "<Figure size 288x216 with 1 Axes>"
            ],
            "image/png": "[encoded data removed]"
          },
          "metadata": {
            "needs_background": "light"
          }
        },
        {
          "output_type": "stream",
          "name": "stdout",
          "text": [
            "\n",
            "Tree: Split(attribute='word_count', subtrees={'6-10': Leaf(value='0'), '11-15': Leaf(value='0'), '1-5': Leaf(value='0')}, default_value='0')\n",
            "Split 6 : word_count\n",
            "Tweet => word_count => 6-10\n",
            "Entropy word_count : 0.688615\n"
          ]
        },
        {
          "output_type": "display_data",
          "data": {
            "text/plain": [
              "<Figure size 144x216 with 1 Axes>"
            ],
            "image/png": "[encoded data removed]"
          },
          "metadata": {
            "needs_background": "light"
          }
        },
        {
          "output_type": "stream",
          "name": "stdout",
          "text": [
            "\n",
            "Tree: Leaf(value='0')\n",
            "Prediction: 0\n",
            "Actual Value: 0\n"
          ]
        }
      ]
    },
    {
      "cell_type": "markdown",
      "source": [
        "## Prevent Overfitting"
      ],
      "metadata": {
        "id": "pSohROx4Qidk"
      }
    },
    {
      "cell_type": "code",
      "source": [
        "print(features)"
      ],
      "metadata": {
        "colab": {
          "base_uri": "https://localhost:8080/"
        },
        "id": "I2UfXd39S5yt",
        "outputId": "e46cc82c-1fd3-454a-c7ca-0b81224bc1a9"
      },
      "execution_count": 67,
      "outputs": [
        {
          "output_type": "stream",
          "name": "stdout",
          "text": [
            "['keyword', 'location', 'link', 'num_hashtags', 'word_count', 'char_count', 'avg_char_per_word', 'keyword2', 'bigrams']\n"
          ]
        }
      ]
    },
    {
      "cell_type": "markdown",
      "source": [
        "When we use all the features, the average number of tweets per leaf is about 1 or 2.  Thus, the data is being overfit.  To prevent this, we can lower the number of features per decision tree and use random forests to combine the results of the trees."
      ],
      "metadata": {
        "id": "fhYNf7A4Qp-H"
      }
    },
    {
      "cell_type": "code",
      "source": [
        "tree_features = features\n",
        "shuffle_and_split(data)\n",
        "createTweetsObjects() # if this produces an error refresh the cell that declares the Tweet class in the test entropy and partition sections\n",
        "tree = build_tree_id3(train_tweets,tree_features,'target')\n",
        "leaves_9 = num_leaves(tree)\n",
        "print(\"Number of Leaves in Decision Tree:\", leaves_9)\n",
        "print(\"Average Number of Tweets Per Leaf in Decision Tree:\", len(train_tweets)/leaves_9)\n",
        "decision_tree_accuracies(tree,train_tweets,test_tweets)"
      ],
      "metadata": {
        "colab": {
          "base_uri": "https://localhost:8080/"
        },
        "id": "eXc_IEpJQh-W",
        "outputId": "14630e89-d4ac-4b79-851e-a019542d9e41"
      },
      "execution_count": 68,
      "outputs": [
        {
          "output_type": "stream",
          "name": "stderr",
          "text": [
            "/usr/local/lib/python3.7/dist-packages/ipykernel_launcher.py:2: VisibleDeprecationWarning: Creating an ndarray from ragged nested sequences (which is a list-or-tuple of lists-or-tuples-or ndarrays with different lengths or shapes) is deprecated. If you meant to do this, you must specify 'dtype=object' when creating the ndarray.\n",
            "  \n"
          ]
        },
        {
          "output_type": "stream",
          "name": "stdout",
          "text": [
            "Number of Leaves in Decision Tree: 4070\n",
            "Average Number of Tweets Per Leaf in Decision Tree: 1.2285012285012284\n"
          ]
        },
        {
          "output_type": "execute_result",
          "data": {
            "text/plain": [
              "(0.995, 0.6452353616532721)"
            ]
          },
          "metadata": {},
          "execution_count": 68
        }
      ]
    },
    {
      "cell_type": "markdown",
      "source": [
        "One Feature."
      ],
      "metadata": {
        "id": "8xIcraVXS9Vj"
      }
    },
    {
      "cell_type": "code",
      "source": [
        "tree_features = ['keyword2']\n",
        "shuffle_and_split(data)\n",
        "createTweetsObjects() # if this produces an error refresh the cell that declares the Tweet class in the test entropy and partition sections\n",
        "tree = build_tree_id3(train_tweets,tree_features,'target')\n",
        "leaves_1 = num_leaves(tree)\n",
        "print(\"Number of Leaves in Decision Tree:\", leaves_1)\n",
        "print(\"Average Number of Tweets Per Leaf in Decision Tree:\", len(train_tweets)/leaves_1)\n",
        "print()\n",
        "decision_tree_accuracies(tree,train_tweets,test_tweets)"
      ],
      "metadata": {
        "colab": {
          "base_uri": "https://localhost:8080/"
        },
        "id": "SfRc25HNSYXH",
        "outputId": "6c110ab0-9b00-4f2b-d2bb-4132e23cac9c"
      },
      "execution_count": 69,
      "outputs": [
        {
          "output_type": "stream",
          "name": "stdout",
          "text": [
            "Number of Leaves in Decision Tree: 92\n",
            "Average Number of Tweets Per Leaf in Decision Tree: 54.34782608695652\n",
            "\n"
          ]
        },
        {
          "output_type": "stream",
          "name": "stderr",
          "text": [
            "/usr/local/lib/python3.7/dist-packages/ipykernel_launcher.py:2: VisibleDeprecationWarning: Creating an ndarray from ragged nested sequences (which is a list-or-tuple of lists-or-tuples-or ndarrays with different lengths or shapes) is deprecated. If you meant to do this, you must specify 'dtype=object' when creating the ndarray.\n",
            "  \n"
          ]
        },
        {
          "output_type": "execute_result",
          "data": {
            "text/plain": [
              "(0.694, 0.6907768848067356)"
            ]
          },
          "metadata": {},
          "execution_count": 69
        }
      ]
    },
    {
      "cell_type": "markdown",
      "source": [
        "Two Features."
      ],
      "metadata": {
        "id": "EMeO9x_gTDnr"
      }
    },
    {
      "cell_type": "code",
      "source": [
        "tree_features = ['link','keyword2']\n",
        "shuffle_and_split(data)\n",
        "createTweetsObjects() # if this produces an error refresh the cell that declares the Tweet class in the test entropy and partition sections\n",
        "tree = build_tree_id3(train_tweets,tree_features,'target')\n",
        "leaves_2 = num_leaves(tree)\n",
        "print(\"Number of Leaves in Decision Tree:\", leaves_2)\n",
        "print(\"Average Number of Tweets Per Leaf in Decision Tree:\", len(train_tweets)/leaves_2)\n",
        "decision_tree_accuracies(tree,train_tweets,test_tweets)"
      ],
      "metadata": {
        "colab": {
          "base_uri": "https://localhost:8080/"
        },
        "id": "Ix-j08imTPyj",
        "outputId": "ba74a2c9-43a8-4a9e-88c6-03f03aa28d64"
      },
      "execution_count": 70,
      "outputs": [
        {
          "output_type": "stream",
          "name": "stderr",
          "text": [
            "/usr/local/lib/python3.7/dist-packages/ipykernel_launcher.py:2: VisibleDeprecationWarning: Creating an ndarray from ragged nested sequences (which is a list-or-tuple of lists-or-tuples-or ndarrays with different lengths or shapes) is deprecated. If you meant to do this, you must specify 'dtype=object' when creating the ndarray.\n",
            "  \n"
          ]
        },
        {
          "output_type": "stream",
          "name": "stdout",
          "text": [
            "Number of Leaves in Decision Tree: 174\n",
            "Average Number of Tweets Per Leaf in Decision Tree: 28.735632183908045\n"
          ]
        },
        {
          "output_type": "execute_result",
          "data": {
            "text/plain": [
              "(0.7186, 0.7053195560658247)"
            ]
          },
          "metadata": {},
          "execution_count": 70
        }
      ]
    },
    {
      "cell_type": "markdown",
      "source": [
        "Three Features."
      ],
      "metadata": {
        "id": "aEaxxrvbSEMb"
      }
    },
    {
      "cell_type": "code",
      "source": [
        "tree_features = ['link','num_hashtags','keyword2']\n",
        "shuffle_and_split(data)\n",
        "createTweetsObjects() # if this produces an error refresh the cell that declares the Tweet class in the test entropy and partition sections\n",
        "tree = build_tree_id3(train_tweets,tree_features,'target')\n",
        "leaves_3 = num_leaves(tree)\n",
        "print(\"Number of Leaves in Decision Tree:\", leaves_3)\n",
        "print(\"Average Number of Tweets Per Leaf in Decision Tree:\", len(train_tweets)/leaves_3)\n",
        "decision_tree_accuracies(tree,train_tweets,test_tweets)"
      ],
      "metadata": {
        "colab": {
          "base_uri": "https://localhost:8080/"
        },
        "id": "2y764fqXTfa_",
        "outputId": "48e89d64-cc79-43ea-98a2-5173d89c06b4"
      },
      "execution_count": 71,
      "outputs": [
        {
          "output_type": "stream",
          "name": "stderr",
          "text": [
            "/usr/local/lib/python3.7/dist-packages/ipykernel_launcher.py:2: VisibleDeprecationWarning: Creating an ndarray from ragged nested sequences (which is a list-or-tuple of lists-or-tuples-or ndarrays with different lengths or shapes) is deprecated. If you meant to do this, you must specify 'dtype=object' when creating the ndarray.\n",
            "  \n"
          ]
        },
        {
          "output_type": "stream",
          "name": "stdout",
          "text": [
            "Number of Leaves in Decision Tree: 483\n",
            "Average Number of Tweets Per Leaf in Decision Tree: 10.351966873706004\n"
          ]
        },
        {
          "output_type": "execute_result",
          "data": {
            "text/plain": [
              "(0.739, 0.6965174129353234)"
            ]
          },
          "metadata": {},
          "execution_count": 71
        }
      ]
    },
    {
      "cell_type": "code",
      "source": [
        "values = [leaves_1,leaves_2,leaves_3,leaves_9]\n",
        "values = [len(train_tweets)/l for l in values]\n",
        "labels = [1,2,3,9]\n",
        "\n",
        "fig = plt.figure(figsize =(10, 5))\n",
        "\n",
        "plt.bar(labels, values)\n",
        "\n",
        "plt.xlabel(\"Number of Features\")\n",
        "plt.ylabel(\"Avg Number of Tweets Per Leaf\")\n",
        "plt.title(\"Avg Number of Tweets Per Leaf As Number Of Features Increase\")\n",
        "plt.show()"
      ],
      "metadata": {
        "colab": {
          "base_uri": "https://localhost:8080/",
          "height": 350
        },
        "id": "XVUTCpJ_UfvK",
        "outputId": "4a17b5e1-9539-44e4-c0bd-b3c831880da5"
      },
      "execution_count": 72,
      "outputs": [
        {
          "output_type": "display_data",
          "data": {
            "text/plain": [
              "<Figure size 720x360 with 1 Axes>"
            ],
            "image/png": "[encoded data removed]"
          },
          "metadata": {
            "needs_background": "light"
          }
        }
      ]
    },
    {
      "cell_type": "markdown",
      "source": [
        "Based off the analysis above, we will use trees that have 2-3 features (more specifically a higher average of tweets per leaf) to prevent overfitting the training data."
      ],
      "metadata": {
        "id": "1A7RDRSqVcfE"
      }
    },
    {
      "cell_type": "markdown",
      "source": [
        "## Kaggle Submission"
      ],
      "metadata": {
        "id": "Ig7qo6iLXUyi"
      }
    },
    {
      "cell_type": "code",
      "source": [
        "test_data_path = \"kaggle/data/test.csv\"\n",
        "test_data_file = open(test_data_path)\n",
        "read_file = csv.reader(test_data_file)\n",
        "_ = next(read_file)\n",
        "submit_data = []\n",
        "for row in read_file:\n",
        "  submit_data.append(row)\n",
        "print(len(submit_data))"
      ],
      "metadata": {
        "colab": {
          "base_uri": "https://localhost:8080/"
        },
        "id": "t3jnAuPSXYIA",
        "outputId": "7f58a2be-e8f0-4d71-9e79-00723c1f4d55"
      },
      "execution_count": 73,
      "outputs": [
        {
          "output_type": "stream",
          "name": "stdout",
          "text": [
            "3263\n"
          ]
        }
      ]
    },
    {
      "cell_type": "code",
      "source": [
        "print(features)"
      ],
      "metadata": {
        "colab": {
          "base_uri": "https://localhost:8080/"
        },
        "id": "JAf2agdM-azu",
        "outputId": "178ad1be-dc55-4998-da18-1fdf9a781198"
      },
      "execution_count": 74,
      "outputs": [
        {
          "output_type": "stream",
          "name": "stdout",
          "text": [
            "['keyword', 'location', 'link', 'num_hashtags', 'word_count', 'char_count', 'avg_char_per_word', 'keyword2', 'bigrams']\n"
          ]
        }
      ]
    },
    {
      "cell_type": "code",
      "source": [
        "submit_tweets = []\n",
        "for tweet in submit_data:\n",
        "  # link\n",
        "  link = 'http' in tweet[3]\n",
        "  \n",
        "  # num_hashtags\n",
        "  num_hashtags = tweet[3].count('#')\n",
        "  \n",
        "  # word_count\n",
        "  words = len(tweet[3].split())\n",
        "  w = 'other'\n",
        "  if words in (1,2,3,4,5):\n",
        "    w = '1-5'\n",
        "  elif words in (6,7,8,9,10):\n",
        "    w = '6-10'\n",
        "  elif words in (11,12,13,14,15):\n",
        "    w = '11-15'\n",
        "  elif words in (16,17,18,19,20):\n",
        "    w = '16-20'\n",
        "  elif words in (21,22,23,24,25):\n",
        "    w = '21-25'\n",
        "  elif words in (26,27,28,29,30):\n",
        "    w = '26-30'\n",
        "\n",
        "  # char_count\n",
        "  chars = len(tweet[3])\n",
        "  char_counts.append(chars)\n",
        "  c = 'other'\n",
        "  if chars in [x for x in range(1,21)]:\n",
        "    c = '1-20'\n",
        "  elif chars in [x for x in range(21,41)]:\n",
        "    c = '21-40'\n",
        "  elif chars in [x for x in range(41,61)]:\n",
        "    c = '41-60'\n",
        "  elif chars in [x for x in range(61,81)]:\n",
        "    c = '61-80'\n",
        "  elif chars in [x for x in range(81,101)]:\n",
        "    c = '81-100'\n",
        "  elif chars in [x for x in range(101,121)]:\n",
        "    c = '101-120'\n",
        "  elif chars in [x for x in range(121,141)]:\n",
        "    c = '121-140'\n",
        "  elif chars in [x for x in range(141,161)]:\n",
        "    c = '141-160'\n",
        "  \n",
        "  # avg_chars_per_word\n",
        "  avg = round((len(item[3])-item[3].count(\" \"))/len(item[3].split()),1)\n",
        "\n",
        "  # keyword2\n",
        "  kw2 = 'none'\n",
        "  for word in keywords2:\n",
        "    if word in tweet[3].lower():\n",
        "        kw2 = word\n",
        "        break\n",
        "\n",
        "  # bigrams\n",
        "  bg = 'none'\n",
        "  for bigram in common_bigrams:\n",
        "    if bigram[0] in tweet[3] and bigram[1] in tweet[3]:\n",
        "        bg = bigram\n",
        "        break\n",
        "\n",
        "  submit_tweets.append(Tweet(tweet[1],tweet[2],link,num_hashtags,w,c,avg,kw2,bg,'-1'))"
      ],
      "metadata": {
        "id": "kLIuWE1zX1zl"
      },
      "execution_count": 75,
      "outputs": []
    },
    {
      "cell_type": "code",
      "source": [
        "submit_targets = []\n",
        "for i in range(len(submit_tweets)):\n",
        "  predictedOutput(tree,submit_tweets[i])\n",
        "  submit_targets.append(value)"
      ],
      "metadata": {
        "id": "NiL97RKEYoPB"
      },
      "execution_count": 76,
      "outputs": []
    },
    {
      "cell_type": "code",
      "source": [
        "submit_targets.count('1')"
      ],
      "metadata": {
        "colab": {
          "base_uri": "https://localhost:8080/"
        },
        "id": "Bnq3uAJVY4-o",
        "outputId": "fd7491b6-2db9-4113-ab55-7bfcbfa25bb9"
      },
      "execution_count": 77,
      "outputs": [
        {
          "output_type": "execute_result",
          "data": {
            "text/plain": [
              "1240"
            ]
          },
          "metadata": {},
          "execution_count": 77
        }
      ]
    },
    {
      "cell_type": "code",
      "source": [
        "df = pd.read_csv(\"kaggle/data/sample_submission.csv\")\n",
        "for i in range(len(submit_targets)):\n",
        "  df.loc[i, 'target'] = int(submit_targets[i])\n",
        "df.to_csv(\"kaggle/data/sample_submission.csv\", index = False)"
      ],
      "metadata": {
        "id": "2VXPCZ1VaUVZ"
      },
      "execution_count": 78,
      "outputs": []
    },
    {
      "cell_type": "markdown",
      "source": [
        "Be careful - only 5 submissions allowed per day per user"
      ],
      "metadata": {
        "id": "c6BeDqaaejzu"
      }
    },
    {
      "cell_type": "code",
      "source": [
        "#!kaggle competitions submit -c nlp-getting-started -f kaggle/data/sample_submission.csv -m \"keywords,bigrams,word/char info\""
      ],
      "metadata": {
        "id": "GskRd1XrcKZJ"
      },
      "execution_count": null,
      "outputs": []
    },
    {
      "cell_type": "code",
      "source": [
        "!kaggle competitions submissions -c nlp-getting-started"
      ],
      "metadata": {
        "id": "nxBc0g74dNkF",
        "colab": {
          "base_uri": "https://localhost:8080/"
        },
        "outputId": "302d88ed-e5e0-46e9-d1e4-b89eb040de7b"
      },
      "execution_count": 79,
      "outputs": [
        {
          "output_type": "stream",
          "name": "stdout",
          "text": [
            "fileName                   date                 description                status    publicScore  privateScore  \n",
            "-------------------------  -------------------  -------------------------  --------  -----------  ------------  \n",
            "sample_submission (3).csv  2022-04-24 23:53:07   RandomForestClassifier()  complete  0.77536                    \n",
            "sample_submission (2).csv  2022-04-24 06:52:44                             complete  0.74992                    \n",
            "sample_submission (1).csv  2022-04-24 06:40:26                             complete  0.72080                    \n"
          ]
        }
      ]
    },
    {
      "cell_type": "markdown",
      "source": [
        "publicScore is the accuracy of the kaggle test data"
      ],
      "metadata": {
        "id": "Qk_ovc-SdcoH"
      }
    },
    {
      "cell_type": "markdown",
      "source": [
        "# Random Forests"
      ],
      "metadata": {
        "id": "-Ph21W8syGLn"
      }
    },
    {
      "cell_type": "markdown",
      "source": [
        "## Build a Tree"
      ],
      "metadata": {
        "id": "_TArmTguec1K"
      }
    },
    {
      "cell_type": "code",
      "source": [
        "print(features)"
      ],
      "metadata": {
        "colab": {
          "base_uri": "https://localhost:8080/"
        },
        "id": "79kXn0ghZOO8",
        "outputId": "4217ecf4-e9e7-45c1-ff9f-76f6a1251a06"
      },
      "execution_count": 80,
      "outputs": [
        {
          "output_type": "stream",
          "name": "stdout",
          "text": [
            "['keyword', 'location', 'link', 'num_hashtags', 'word_count', 'char_count', 'avg_char_per_word', 'keyword2', 'bigrams']\n"
          ]
        }
      ]
    },
    {
      "cell_type": "code",
      "source": [
        "shuffle_and_split(data)\n",
        "createTweetsObjects()\n",
        "tree_features = ['keyword','bigrams'] # can change this to get tree made from different features\n",
        "tree = build_tree_id3(train_tweets,tree_features,'target')\n",
        "train_acc,test_acc = decision_tree_accuracies(tree,train_tweets,test_tweets)\n",
        "print(\"Train acc:\",train_acc)\n",
        "print(\"Test acc:\",test_acc)"
      ],
      "metadata": {
        "id": "I7MMoM-XlkZq",
        "colab": {
          "base_uri": "https://localhost:8080/"
        },
        "outputId": "69133c33-90ed-4334-9e7b-fe010cc3e323"
      },
      "execution_count": 81,
      "outputs": [
        {
          "output_type": "stream",
          "name": "stderr",
          "text": [
            "/usr/local/lib/python3.7/dist-packages/ipykernel_launcher.py:2: VisibleDeprecationWarning: Creating an ndarray from ragged nested sequences (which is a list-or-tuple of lists-or-tuples-or ndarrays with different lengths or shapes) is deprecated. If you meant to do this, you must specify 'dtype=object' when creating the ndarray.\n",
            "  \n"
          ]
        },
        {
          "output_type": "stream",
          "name": "stdout",
          "text": [
            "Train acc: 0.768\n",
            "Test acc: 0.7156525066972829\n"
          ]
        }
      ]
    },
    {
      "cell_type": "markdown",
      "source": [
        "## sklearn RandomForestClassifier"
      ],
      "metadata": {
        "id": "DmmemiJdehRk"
      }
    },
    {
      "cell_type": "code",
      "source": [
        "predictedOutput(tree,train_tweets[100])\n",
        "print(\"Predicted Value: \",value)\n",
        "print(\"Actual Value: \", train_tweets[100].target)"
      ],
      "metadata": {
        "id": "Ai3F53W065Xs",
        "outputId": "134ac55e-996b-46db-8eab-b78a4a4f2775",
        "colab": {
          "base_uri": "https://localhost:8080/"
        }
      },
      "execution_count": 82,
      "outputs": [
        {
          "output_type": "stream",
          "name": "stdout",
          "text": [
            "Predicted Value:  0\n",
            "Actual Value:  1\n"
          ]
        }
      ]
    },
    {
      "cell_type": "code",
      "source": [
        "df = pd.read_csv('kaggle/data/train.csv') # 'kaggle/data/train.csv'\n",
        "df1 = pd.read_csv('kaggle/data/test.csv') # 'kaggle/data/test.csv'\n",
        "df.head()"
      ],
      "metadata": {
        "id": "0L_NbSq_ksZT",
        "colab": {
          "base_uri": "https://localhost:8080/",
          "height": 0
        },
        "outputId": "0bfca66c-9525-400c-b917-3ac6a3653a59"
      },
      "execution_count": 83,
      "outputs": [
        {
          "output_type": "execute_result",
          "data": {
            "text/plain": [
              "   id keyword location                                               text  \\\n",
              "0   1     NaN      NaN  Our Deeds are the Reason of this #earthquake M...   \n",
              "1   4     NaN      NaN             Forest fire near La Ronge Sask. Canada   \n",
              "2   5     NaN      NaN  All residents asked to 'shelter in place' are ...   \n",
              "3   6     NaN      NaN  13,000 people receive #wildfires evacuation or...   \n",
              "4   7     NaN      NaN  Just got sent this photo from Ruby #Alaska as ...   \n",
              "\n",
              "   target  \n",
              "0       1  \n",
              "1       1  \n",
              "2       1  \n",
              "3       1  \n",
              "4       1  "
            ],
            "text/html": [
              "\n",
              "  <div id=\"df-413cf20b-392a-43de-96b6-8b76faf627c1\">\n",
              "    <div class=\"colab-df-container\">\n",
              "      <div>\n",
              "<style scoped>\n",
              "    .dataframe tbody tr th:only-of-type {\n",
              "        vertical-align: middle;\n",
              "    }\n",
              "\n",
              "    .dataframe tbody tr th {\n",
              "        vertical-align: top;\n",
              "    }\n",
              "\n",
              "    .dataframe thead th {\n",
              "        text-align: right;\n",
              "    }\n",
              "</style>\n",
              "<table border=\"1\" class=\"dataframe\">\n",
              "  <thead>\n",
              "    <tr style=\"text-align: right;\">\n",
              "      <th></th>\n",
              "      <th>id</th>\n",
              "      <th>keyword</th>\n",
              "      <th>location</th>\n",
              "      <th>text</th>\n",
              "      <th>target</th>\n",
              "    </tr>\n",
              "  </thead>\n",
              "  <tbody>\n",
              "    <tr>\n",
              "      <th>0</th>\n",
              "      <td>1</td>\n",
              "      <td>NaN</td>\n",
              "      <td>NaN</td>\n",
              "      <td>Our Deeds are the Reason of this #earthquake M...</td>\n",
              "      <td>1</td>\n",
              "    </tr>\n",
              "    <tr>\n",
              "      <th>1</th>\n",
              "      <td>4</td>\n",
              "      <td>NaN</td>\n",
              "      <td>NaN</td>\n",
              "      <td>Forest fire near La Ronge Sask. Canada</td>\n",
              "      <td>1</td>\n",
              "    </tr>\n",
              "    <tr>\n",
              "      <th>2</th>\n",
              "      <td>5</td>\n",
              "      <td>NaN</td>\n",
              "      <td>NaN</td>\n",
              "      <td>All residents asked to 'shelter in place' are ...</td>\n",
              "      <td>1</td>\n",
              "    </tr>\n",
              "    <tr>\n",
              "      <th>3</th>\n",
              "      <td>6</td>\n",
              "      <td>NaN</td>\n",
              "      <td>NaN</td>\n",
              "      <td>13,000 people receive #wildfires evacuation or...</td>\n",
              "      <td>1</td>\n",
              "    </tr>\n",
              "    <tr>\n",
              "      <th>4</th>\n",
              "      <td>7</td>\n",
              "      <td>NaN</td>\n",
              "      <td>NaN</td>\n",
              "      <td>Just got sent this photo from Ruby #Alaska as ...</td>\n",
              "      <td>1</td>\n",
              "    </tr>\n",
              "  </tbody>\n",
              "</table>\n",
              "</div>\n",
              "      <button class=\"colab-df-convert\" onclick=\"convertToInteractive('df-413cf20b-392a-43de-96b6-8b76faf627c1')\"\n",
              "              title=\"Convert this dataframe to an interactive table.\"\n",
              "              style=\"display:none;\">\n",
              "        \n",
              "  <svg xmlns=\"http://www.w3.org/2000/svg\" height=\"24px\"viewBox=\"0 0 24 24\"\n",
              "       width=\"24px\">\n",
              "    <path d=\"M0 0h24v24H0V0z\" fill=\"none\"/>\n",
              "    <path d=\"M18.56 5.44l.94 2.06.94-2.06 2.06-.94-2.06-.94-.94-2.06-.94 2.06-2.06.94zm-11 1L8.5 8.5l.94-2.06 2.06-.94-2.06-.94L8.5 2.5l-.94 2.06-2.06.94zm10 10l.94 2.06.94-2.06 2.06-.94-2.06-.94-.94-2.06-.94 2.06-2.06.94z\"/><path d=\"M17.41 7.96l-1.37-1.37c-.4-.4-.92-.59-1.43-.59-.52 0-1.04.2-1.43.59L10.3 9.45l-7.72 7.72c-.78.78-.78 2.05 0 2.83L4 21.41c.39.39.9.59 1.41.59.51 0 1.02-.2 1.41-.59l7.78-7.78 2.81-2.81c.8-.78.8-2.07 0-2.86zM5.41 20L4 18.59l7.72-7.72 1.47 1.35L5.41 20z\"/>\n",
              "  </svg>\n",
              "      </button>\n",
              "      \n",
              "  <style>\n",
              "    .colab-df-container {\n",
              "      display:flex;\n",
              "      flex-wrap:wrap;\n",
              "      gap: 12px;\n",
              "    }\n",
              "\n",
              "    .colab-df-convert {\n",
              "      background-color: #E8F0FE;\n",
              "      border: none;\n",
              "      border-radius: 50%;\n",
              "      cursor: pointer;\n",
              "      display: none;\n",
              "      fill: #1967D2;\n",
              "      height: 32px;\n",
              "      padding: 0 0 0 0;\n",
              "      width: 32px;\n",
              "    }\n",
              "\n",
              "    .colab-df-convert:hover {\n",
              "      background-color: #E2EBFA;\n",
              "      box-shadow: 0px 1px 2px rgba(60, 64, 67, 0.3), 0px 1px 3px 1px rgba(60, 64, 67, 0.15);\n",
              "      fill: #174EA6;\n",
              "    }\n",
              "\n",
              "    [theme=dark] .colab-df-convert {\n",
              "      background-color: #3B4455;\n",
              "      fill: #D2E3FC;\n",
              "    }\n",
              "\n",
              "    [theme=dark] .colab-df-convert:hover {\n",
              "      background-color: #434B5C;\n",
              "      box-shadow: 0px 1px 3px 1px rgba(0, 0, 0, 0.15);\n",
              "      filter: drop-shadow(0px 1px 2px rgba(0, 0, 0, 0.3));\n",
              "      fill: #FFFFFF;\n",
              "    }\n",
              "  </style>\n",
              "\n",
              "      <script>\n",
              "        const buttonEl =\n",
              "          document.querySelector('#df-413cf20b-392a-43de-96b6-8b76faf627c1 button.colab-df-convert');\n",
              "        buttonEl.style.display =\n",
              "          google.colab.kernel.accessAllowed ? 'block' : 'none';\n",
              "\n",
              "        async function convertToInteractive(key) {\n",
              "          const element = document.querySelector('#df-413cf20b-392a-43de-96b6-8b76faf627c1');\n",
              "          const dataTable =\n",
              "            await google.colab.kernel.invokeFunction('convertToInteractive',\n",
              "                                                     [key], {});\n",
              "          if (!dataTable) return;\n",
              "\n",
              "          const docLinkHtml = 'Like what you see? Visit the ' +\n",
              "            '<a target=\"_blank\" href=https://colab.research.google.com/notebooks/data_table.ipynb>data table notebook</a>'\n",
              "            + ' to learn more about interactive tables.';\n",
              "          element.innerHTML = '';\n",
              "          dataTable['output_type'] = 'display_data';\n",
              "          await google.colab.output.renderOutput(dataTable, element);\n",
              "          const docLink = document.createElement('div');\n",
              "          docLink.innerHTML = docLinkHtml;\n",
              "          element.appendChild(docLink);\n",
              "        }\n",
              "      </script>\n",
              "    </div>\n",
              "  </div>\n",
              "  "
            ]
          },
          "metadata": {},
          "execution_count": 83
        }
      ]
    },
    {
      "cell_type": "code",
      "source": [
        "df['keyword'].value_counts()"
      ],
      "metadata": {
        "colab": {
          "base_uri": "https://localhost:8080/"
        },
        "id": "u_4xtoDqTOcC",
        "outputId": "6f2866f8-a00f-4656-97ed-bf53a9f8eef0"
      },
      "execution_count": 84,
      "outputs": [
        {
          "output_type": "execute_result",
          "data": {
            "text/plain": [
              "fatalities               45\n",
              "deluge                   42\n",
              "armageddon               42\n",
              "sinking                  41\n",
              "damage                   41\n",
              "                         ..\n",
              "forest%20fire            19\n",
              "epicentre                12\n",
              "threat                   11\n",
              "inundation               10\n",
              "radiation%20emergency     9\n",
              "Name: keyword, Length: 221, dtype: int64"
            ]
          },
          "metadata": {},
          "execution_count": 84
        }
      ]
    },
    {
      "cell_type": "code",
      "source": [
        "df['location'].value_counts()"
      ],
      "metadata": {
        "colab": {
          "base_uri": "https://localhost:8080/"
        },
        "id": "fxk2OBuuTDTE",
        "outputId": "cebf171d-c2b0-4464-8e5f-acf078b8c076"
      },
      "execution_count": 85,
      "outputs": [
        {
          "output_type": "execute_result",
          "data": {
            "text/plain": [
              "USA                    104\n",
              "New York                71\n",
              "United States           50\n",
              "London                  45\n",
              "Canada                  29\n",
              "                      ... \n",
              "MontrÌ©al, QuÌ©bec       1\n",
              "Montreal                 1\n",
              "ÌÏT: 6.4682,3.18287      1\n",
              "Live4Heed??              1\n",
              "Lincoln                  1\n",
              "Name: location, Length: 3341, dtype: int64"
            ]
          },
          "metadata": {},
          "execution_count": 85
        }
      ]
    },
    {
      "cell_type": "code",
      "source": [
        "(df.loc[df['target'] == 0]).head()"
      ],
      "metadata": {
        "colab": {
          "base_uri": "https://localhost:8080/",
          "height": 0
        },
        "id": "nKSTfdzlTIfu",
        "outputId": "5437613b-c715-4f71-881e-d9c4c53fa483"
      },
      "execution_count": 86,
      "outputs": [
        {
          "output_type": "execute_result",
          "data": {
            "text/plain": [
              "    id keyword location                          text  target\n",
              "15  23     NaN      NaN                What's up man?       0\n",
              "16  24     NaN      NaN                 I love fruits       0\n",
              "17  25     NaN      NaN              Summer is lovely       0\n",
              "18  26     NaN      NaN             My car is so fast       0\n",
              "19  28     NaN      NaN  What a goooooooaaaaaal!!!!!!       0"
            ],
            "text/html": [
              "\n",
              "  <div id=\"df-afa43c73-8500-4210-bca6-4c0e6ac6b0b7\">\n",
              "    <div class=\"colab-df-container\">\n",
              "      <div>\n",
              "<style scoped>\n",
              "    .dataframe tbody tr th:only-of-type {\n",
              "        vertical-align: middle;\n",
              "    }\n",
              "\n",
              "    .dataframe tbody tr th {\n",
              "        vertical-align: top;\n",
              "    }\n",
              "\n",
              "    .dataframe thead th {\n",
              "        text-align: right;\n",
              "    }\n",
              "</style>\n",
              "<table border=\"1\" class=\"dataframe\">\n",
              "  <thead>\n",
              "    <tr style=\"text-align: right;\">\n",
              "      <th></th>\n",
              "      <th>id</th>\n",
              "      <th>keyword</th>\n",
              "      <th>location</th>\n",
              "      <th>text</th>\n",
              "      <th>target</th>\n",
              "    </tr>\n",
              "  </thead>\n",
              "  <tbody>\n",
              "    <tr>\n",
              "      <th>15</th>\n",
              "      <td>23</td>\n",
              "      <td>NaN</td>\n",
              "      <td>NaN</td>\n",
              "      <td>What's up man?</td>\n",
              "      <td>0</td>\n",
              "    </tr>\n",
              "    <tr>\n",
              "      <th>16</th>\n",
              "      <td>24</td>\n",
              "      <td>NaN</td>\n",
              "      <td>NaN</td>\n",
              "      <td>I love fruits</td>\n",
              "      <td>0</td>\n",
              "    </tr>\n",
              "    <tr>\n",
              "      <th>17</th>\n",
              "      <td>25</td>\n",
              "      <td>NaN</td>\n",
              "      <td>NaN</td>\n",
              "      <td>Summer is lovely</td>\n",
              "      <td>0</td>\n",
              "    </tr>\n",
              "    <tr>\n",
              "      <th>18</th>\n",
              "      <td>26</td>\n",
              "      <td>NaN</td>\n",
              "      <td>NaN</td>\n",
              "      <td>My car is so fast</td>\n",
              "      <td>0</td>\n",
              "    </tr>\n",
              "    <tr>\n",
              "      <th>19</th>\n",
              "      <td>28</td>\n",
              "      <td>NaN</td>\n",
              "      <td>NaN</td>\n",
              "      <td>What a goooooooaaaaaal!!!!!!</td>\n",
              "      <td>0</td>\n",
              "    </tr>\n",
              "  </tbody>\n",
              "</table>\n",
              "</div>\n",
              "      <button class=\"colab-df-convert\" onclick=\"convertToInteractive('df-afa43c73-8500-4210-bca6-4c0e6ac6b0b7')\"\n",
              "              title=\"Convert this dataframe to an interactive table.\"\n",
              "              style=\"display:none;\">\n",
              "        \n",
              "  <svg xmlns=\"http://www.w3.org/2000/svg\" height=\"24px\"viewBox=\"0 0 24 24\"\n",
              "       width=\"24px\">\n",
              "    <path d=\"M0 0h24v24H0V0z\" fill=\"none\"/>\n",
              "    <path d=\"M18.56 5.44l.94 2.06.94-2.06 2.06-.94-2.06-.94-.94-2.06-.94 2.06-2.06.94zm-11 1L8.5 8.5l.94-2.06 2.06-.94-2.06-.94L8.5 2.5l-.94 2.06-2.06.94zm10 10l.94 2.06.94-2.06 2.06-.94-2.06-.94-.94-2.06-.94 2.06-2.06.94z\"/><path d=\"M17.41 7.96l-1.37-1.37c-.4-.4-.92-.59-1.43-.59-.52 0-1.04.2-1.43.59L10.3 9.45l-7.72 7.72c-.78.78-.78 2.05 0 2.83L4 21.41c.39.39.9.59 1.41.59.51 0 1.02-.2 1.41-.59l7.78-7.78 2.81-2.81c.8-.78.8-2.07 0-2.86zM5.41 20L4 18.59l7.72-7.72 1.47 1.35L5.41 20z\"/>\n",
              "  </svg>\n",
              "      </button>\n",
              "      \n",
              "  <style>\n",
              "    .colab-df-container {\n",
              "      display:flex;\n",
              "      flex-wrap:wrap;\n",
              "      gap: 12px;\n",
              "    }\n",
              "\n",
              "    .colab-df-convert {\n",
              "      background-color: #E8F0FE;\n",
              "      border: none;\n",
              "      border-radius: 50%;\n",
              "      cursor: pointer;\n",
              "      display: none;\n",
              "      fill: #1967D2;\n",
              "      height: 32px;\n",
              "      padding: 0 0 0 0;\n",
              "      width: 32px;\n",
              "    }\n",
              "\n",
              "    .colab-df-convert:hover {\n",
              "      background-color: #E2EBFA;\n",
              "      box-shadow: 0px 1px 2px rgba(60, 64, 67, 0.3), 0px 1px 3px 1px rgba(60, 64, 67, 0.15);\n",
              "      fill: #174EA6;\n",
              "    }\n",
              "\n",
              "    [theme=dark] .colab-df-convert {\n",
              "      background-color: #3B4455;\n",
              "      fill: #D2E3FC;\n",
              "    }\n",
              "\n",
              "    [theme=dark] .colab-df-convert:hover {\n",
              "      background-color: #434B5C;\n",
              "      box-shadow: 0px 1px 3px 1px rgba(0, 0, 0, 0.15);\n",
              "      filter: drop-shadow(0px 1px 2px rgba(0, 0, 0, 0.3));\n",
              "      fill: #FFFFFF;\n",
              "    }\n",
              "  </style>\n",
              "\n",
              "      <script>\n",
              "        const buttonEl =\n",
              "          document.querySelector('#df-afa43c73-8500-4210-bca6-4c0e6ac6b0b7 button.colab-df-convert');\n",
              "        buttonEl.style.display =\n",
              "          google.colab.kernel.accessAllowed ? 'block' : 'none';\n",
              "\n",
              "        async function convertToInteractive(key) {\n",
              "          const element = document.querySelector('#df-afa43c73-8500-4210-bca6-4c0e6ac6b0b7');\n",
              "          const dataTable =\n",
              "            await google.colab.kernel.invokeFunction('convertToInteractive',\n",
              "                                                     [key], {});\n",
              "          if (!dataTable) return;\n",
              "\n",
              "          const docLinkHtml = 'Like what you see? Visit the ' +\n",
              "            '<a target=\"_blank\" href=https://colab.research.google.com/notebooks/data_table.ipynb>data table notebook</a>'\n",
              "            + ' to learn more about interactive tables.';\n",
              "          element.innerHTML = '';\n",
              "          dataTable['output_type'] = 'display_data';\n",
              "          await google.colab.output.renderOutput(dataTable, element);\n",
              "          const docLink = document.createElement('div');\n",
              "          docLink.innerHTML = docLinkHtml;\n",
              "          element.appendChild(docLink);\n",
              "        }\n",
              "      </script>\n",
              "    </div>\n",
              "  </div>\n",
              "  "
            ]
          },
          "metadata": {},
          "execution_count": 86
        }
      ]
    },
    {
      "cell_type": "code",
      "source": [
        "StopWords = nltk.corpus.stopwords.words('english')\n",
        "def sample(text):\n",
        "    text = ''.join([word.lower() for word in text if word not in string.punctuation])\n",
        "    split = re.split('\\W+',text)\n",
        "    text = [word for word in split if word not in StopWords]\n",
        "    return text \n",
        "df['sample'] = df['text'].apply(lambda x:sample(x))\n",
        "df.head()"
      ],
      "metadata": {
        "colab": {
          "base_uri": "https://localhost:8080/",
          "height": 0
        },
        "id": "FQUzClaaUy95",
        "outputId": "d7615dcb-44e4-42f9-bb3c-cae6d0ffab6f"
      },
      "execution_count": 87,
      "outputs": [
        {
          "output_type": "execute_result",
          "data": {
            "text/plain": [
              "   id keyword location                                               text  \\\n",
              "0   1     NaN      NaN  Our Deeds are the Reason of this #earthquake M...   \n",
              "1   4     NaN      NaN             Forest fire near La Ronge Sask. Canada   \n",
              "2   5     NaN      NaN  All residents asked to 'shelter in place' are ...   \n",
              "3   6     NaN      NaN  13,000 people receive #wildfires evacuation or...   \n",
              "4   7     NaN      NaN  Just got sent this photo from Ruby #Alaska as ...   \n",
              "\n",
              "   target                                             sample  \n",
              "0       1  [deeds, reason, earthquake, may, allah, forgiv...  \n",
              "1       1      [forest, fire, near, la, ronge, sask, canada]  \n",
              "2       1  [residents, asked, shelter, place, notified, o...  \n",
              "3       1  [13000, people, receive, wildfires, evacuation...  \n",
              "4       1  [got, sent, photo, ruby, alaska, smoke, wildfi...  "
            ],
            "text/html": [
              "\n",
              "  <div id=\"df-02b3e937-7b92-4e29-b031-365063259749\">\n",
              "    <div class=\"colab-df-container\">\n",
              "      <div>\n",
              "<style scoped>\n",
              "    .dataframe tbody tr th:only-of-type {\n",
              "        vertical-align: middle;\n",
              "    }\n",
              "\n",
              "    .dataframe tbody tr th {\n",
              "        vertical-align: top;\n",
              "    }\n",
              "\n",
              "    .dataframe thead th {\n",
              "        text-align: right;\n",
              "    }\n",
              "</style>\n",
              "<table border=\"1\" class=\"dataframe\">\n",
              "  <thead>\n",
              "    <tr style=\"text-align: right;\">\n",
              "      <th></th>\n",
              "      <th>id</th>\n",
              "      <th>keyword</th>\n",
              "      <th>location</th>\n",
              "      <th>text</th>\n",
              "      <th>target</th>\n",
              "      <th>sample</th>\n",
              "    </tr>\n",
              "  </thead>\n",
              "  <tbody>\n",
              "    <tr>\n",
              "      <th>0</th>\n",
              "      <td>1</td>\n",
              "      <td>NaN</td>\n",
              "      <td>NaN</td>\n",
              "      <td>Our Deeds are the Reason of this #earthquake M...</td>\n",
              "      <td>1</td>\n",
              "      <td>[deeds, reason, earthquake, may, allah, forgiv...</td>\n",
              "    </tr>\n",
              "    <tr>\n",
              "      <th>1</th>\n",
              "      <td>4</td>\n",
              "      <td>NaN</td>\n",
              "      <td>NaN</td>\n",
              "      <td>Forest fire near La Ronge Sask. Canada</td>\n",
              "      <td>1</td>\n",
              "      <td>[forest, fire, near, la, ronge, sask, canada]</td>\n",
              "    </tr>\n",
              "    <tr>\n",
              "      <th>2</th>\n",
              "      <td>5</td>\n",
              "      <td>NaN</td>\n",
              "      <td>NaN</td>\n",
              "      <td>All residents asked to 'shelter in place' are ...</td>\n",
              "      <td>1</td>\n",
              "      <td>[residents, asked, shelter, place, notified, o...</td>\n",
              "    </tr>\n",
              "    <tr>\n",
              "      <th>3</th>\n",
              "      <td>6</td>\n",
              "      <td>NaN</td>\n",
              "      <td>NaN</td>\n",
              "      <td>13,000 people receive #wildfires evacuation or...</td>\n",
              "      <td>1</td>\n",
              "      <td>[13000, people, receive, wildfires, evacuation...</td>\n",
              "    </tr>\n",
              "    <tr>\n",
              "      <th>4</th>\n",
              "      <td>7</td>\n",
              "      <td>NaN</td>\n",
              "      <td>NaN</td>\n",
              "      <td>Just got sent this photo from Ruby #Alaska as ...</td>\n",
              "      <td>1</td>\n",
              "      <td>[got, sent, photo, ruby, alaska, smoke, wildfi...</td>\n",
              "    </tr>\n",
              "  </tbody>\n",
              "</table>\n",
              "</div>\n",
              "      <button class=\"colab-df-convert\" onclick=\"convertToInteractive('df-02b3e937-7b92-4e29-b031-365063259749')\"\n",
              "              title=\"Convert this dataframe to an interactive table.\"\n",
              "              style=\"display:none;\">\n",
              "        \n",
              "  <svg xmlns=\"http://www.w3.org/2000/svg\" height=\"24px\"viewBox=\"0 0 24 24\"\n",
              "       width=\"24px\">\n",
              "    <path d=\"M0 0h24v24H0V0z\" fill=\"none\"/>\n",
              "    <path d=\"M18.56 5.44l.94 2.06.94-2.06 2.06-.94-2.06-.94-.94-2.06-.94 2.06-2.06.94zm-11 1L8.5 8.5l.94-2.06 2.06-.94-2.06-.94L8.5 2.5l-.94 2.06-2.06.94zm10 10l.94 2.06.94-2.06 2.06-.94-2.06-.94-.94-2.06-.94 2.06-2.06.94z\"/><path d=\"M17.41 7.96l-1.37-1.37c-.4-.4-.92-.59-1.43-.59-.52 0-1.04.2-1.43.59L10.3 9.45l-7.72 7.72c-.78.78-.78 2.05 0 2.83L4 21.41c.39.39.9.59 1.41.59.51 0 1.02-.2 1.41-.59l7.78-7.78 2.81-2.81c.8-.78.8-2.07 0-2.86zM5.41 20L4 18.59l7.72-7.72 1.47 1.35L5.41 20z\"/>\n",
              "  </svg>\n",
              "      </button>\n",
              "      \n",
              "  <style>\n",
              "    .colab-df-container {\n",
              "      display:flex;\n",
              "      flex-wrap:wrap;\n",
              "      gap: 12px;\n",
              "    }\n",
              "\n",
              "    .colab-df-convert {\n",
              "      background-color: #E8F0FE;\n",
              "      border: none;\n",
              "      border-radius: 50%;\n",
              "      cursor: pointer;\n",
              "      display: none;\n",
              "      fill: #1967D2;\n",
              "      height: 32px;\n",
              "      padding: 0 0 0 0;\n",
              "      width: 32px;\n",
              "    }\n",
              "\n",
              "    .colab-df-convert:hover {\n",
              "      background-color: #E2EBFA;\n",
              "      box-shadow: 0px 1px 2px rgba(60, 64, 67, 0.3), 0px 1px 3px 1px rgba(60, 64, 67, 0.15);\n",
              "      fill: #174EA6;\n",
              "    }\n",
              "\n",
              "    [theme=dark] .colab-df-convert {\n",
              "      background-color: #3B4455;\n",
              "      fill: #D2E3FC;\n",
              "    }\n",
              "\n",
              "    [theme=dark] .colab-df-convert:hover {\n",
              "      background-color: #434B5C;\n",
              "      box-shadow: 0px 1px 3px 1px rgba(0, 0, 0, 0.15);\n",
              "      filter: drop-shadow(0px 1px 2px rgba(0, 0, 0, 0.3));\n",
              "      fill: #FFFFFF;\n",
              "    }\n",
              "  </style>\n",
              "\n",
              "      <script>\n",
              "        const buttonEl =\n",
              "          document.querySelector('#df-02b3e937-7b92-4e29-b031-365063259749 button.colab-df-convert');\n",
              "        buttonEl.style.display =\n",
              "          google.colab.kernel.accessAllowed ? 'block' : 'none';\n",
              "\n",
              "        async function convertToInteractive(key) {\n",
              "          const element = document.querySelector('#df-02b3e937-7b92-4e29-b031-365063259749');\n",
              "          const dataTable =\n",
              "            await google.colab.kernel.invokeFunction('convertToInteractive',\n",
              "                                                     [key], {});\n",
              "          if (!dataTable) return;\n",
              "\n",
              "          const docLinkHtml = 'Like what you see? Visit the ' +\n",
              "            '<a target=\"_blank\" href=https://colab.research.google.com/notebooks/data_table.ipynb>data table notebook</a>'\n",
              "            + ' to learn more about interactive tables.';\n",
              "          element.innerHTML = '';\n",
              "          dataTable['output_type'] = 'display_data';\n",
              "          await google.colab.output.renderOutput(dataTable, element);\n",
              "          const docLink = document.createElement('div');\n",
              "          docLink.innerHTML = docLinkHtml;\n",
              "          element.appendChild(docLink);\n",
              "        }\n",
              "      </script>\n",
              "    </div>\n",
              "  </div>\n",
              "  "
            ]
          },
          "metadata": {},
          "execution_count": 87
        }
      ]
    },
    {
      "cell_type": "code",
      "source": [
        "X_train, X_test, Y_train, Y_test = train_test_split(df['text'], df['target'])\n",
        "X_train.head()"
      ],
      "metadata": {
        "colab": {
          "base_uri": "https://localhost:8080/"
        },
        "id": "vMricZ5-VXKe",
        "outputId": "56c385ca-a08b-4658-c517-7feefe93ef63"
      },
      "execution_count": 88,
      "outputs": [
        {
          "output_type": "execute_result",
          "data": {
            "text/plain": [
              "590     Hmm...this could be problem for some researche...\n",
              "585     House Energy &amp;amp; Commerce subcommittee t...\n",
              "1519    Learning from the Legacy of a Catastrophic Eru...\n",
              "4776    Check this out! Lightning reshapes rocks at th...\n",
              "844     SEAN END CAREER sG Blizzard vs KNOCKOUT ... ht...\n",
              "Name: text, dtype: object"
            ]
          },
          "metadata": {},
          "execution_count": 88
        }
      ]
    },
    {
      "cell_type": "code",
      "source": [
        "df_vec = TfidfVectorizer() # transforms the text of the tweet into a usable vector (feature extraction of the tweet)\n",
        "X_train_vec = df_vec.fit_transform(X_train)\n",
        "X_test_vec = df_vec.transform(X_test)"
      ],
      "metadata": {
        "id": "7kY8nTqlIOd-"
      },
      "execution_count": 89,
      "outputs": []
    },
    {
      "cell_type": "code",
      "source": [
        "rfc = RandomForestClassifier()\n",
        "rfc_model = rfc.fit(X_train_vec, Y_train.values.ravel())\n",
        "pred = rfc_model.predict(X_test_vec)"
      ],
      "metadata": {
        "id": "cAyBCSIIIUpP"
      },
      "execution_count": 90,
      "outputs": []
    },
    {
      "cell_type": "code",
      "source": [
        "prec = precision_score(Y_test, pred)\n",
        "print(f\"Accuracy: {round((pred==Y_test).sum()/len(pred), 3)} Precision: {round(prec, 3)}\")"
      ],
      "metadata": {
        "colab": {
          "base_uri": "https://localhost:8080/"
        },
        "id": "J2vykC0fId8X",
        "outputId": "3417e384-fec5-43d7-8ef4-0761f3411c78"
      },
      "execution_count": 91,
      "outputs": [
        {
          "output_type": "stream",
          "name": "stdout",
          "text": [
            "Accuracy: 0.78 Precision: 0.836\n"
          ]
        }
      ]
    },
    {
      "cell_type": "markdown",
      "source": [
        "## Kaggle Submission of Random Forest (sklearn RandomForestClassifier)"
      ],
      "metadata": {
        "id": "Kcu47z6E56-a"
      }
    },
    {
      "cell_type": "code",
      "source": [
        "df1['target'] = -1\n",
        "df1['sample'] = df1['text'].apply(lambda x:sample(x))"
      ],
      "metadata": {
        "id": "gsnHLTpe5-Ua"
      },
      "execution_count": 92,
      "outputs": []
    },
    {
      "cell_type": "code",
      "source": [
        "a, kaggle_test, c, d = train_test_split(df1['text'], df1['target'],train_size=1)"
      ],
      "metadata": {
        "id": "vX6Jnr0R6i-n"
      },
      "execution_count": 93,
      "outputs": []
    },
    {
      "cell_type": "code",
      "source": [
        "df_vec = TfidfVectorizer() # transforms the text of the tweet into a usable vector (feature extraction of the tweet)\n",
        "X_train_vec = df_vec.fit_transform(X_train)\n",
        "X_test_vec = df_vec.transform(kaggle_test)"
      ],
      "metadata": {
        "id": "WQXUqGD73yd7"
      },
      "execution_count": 94,
      "outputs": []
    },
    {
      "cell_type": "code",
      "source": [
        "rfc = RandomForestClassifier()\n",
        "rfc_model = rfc.fit(X_train_vec, Y_train.values.ravel())\n",
        "pred = rfc_model.predict(X_test_vec)"
      ],
      "metadata": {
        "id": "zkZ73RHz73XR"
      },
      "execution_count": 95,
      "outputs": []
    },
    {
      "cell_type": "code",
      "source": [
        "np.bincount(pred)"
      ],
      "metadata": {
        "colab": {
          "base_uri": "https://localhost:8080/"
        },
        "id": "XchhmGKc79Ft",
        "outputId": "db3b7139-f7bd-40eb-957b-2d3fbe9acf43"
      },
      "execution_count": 96,
      "outputs": [
        {
          "output_type": "execute_result",
          "data": {
            "text/plain": [
              "array([2297,  965])"
            ]
          },
          "metadata": {},
          "execution_count": 96
        }
      ]
    },
    {
      "cell_type": "code",
      "source": [
        "submit_list = list(kaggle_test.items())"
      ],
      "metadata": {
        "id": "THtO7UqC8_fy"
      },
      "execution_count": 97,
      "outputs": []
    },
    {
      "cell_type": "code",
      "source": [
        "submit = []\n",
        "for i in range(3263):\n",
        "  submit.append(1)"
      ],
      "metadata": {
        "id": "hBxCVIJ897Ms"
      },
      "execution_count": 98,
      "outputs": []
    },
    {
      "cell_type": "code",
      "source": [
        "i=0\n",
        "for index,_ in submit_list:\n",
        "  submit[index] = pred[i]\n",
        "  i+=1"
      ],
      "metadata": {
        "id": "wmxpTnJg9sse"
      },
      "execution_count": 99,
      "outputs": []
    },
    {
      "cell_type": "code",
      "source": [
        "submit.count(0)"
      ],
      "metadata": {
        "colab": {
          "base_uri": "https://localhost:8080/"
        },
        "id": "CPHnaypF_ANL",
        "outputId": "66a6e072-bbf3-40c6-afc6-f0d3484ffacd"
      },
      "execution_count": 100,
      "outputs": [
        {
          "output_type": "execute_result",
          "data": {
            "text/plain": [
              "2297"
            ]
          },
          "metadata": {},
          "execution_count": 100
        }
      ]
    },
    {
      "cell_type": "code",
      "source": [
        "df2 = pd.read_csv(\"kaggle/data/sample_submission.csv\")\n",
        "for i in range(len(submit)):\n",
        "  df2.loc[i, 'target'] = int(submit[i])\n",
        "df2.to_csv(\"kaggle/data/sample_submission.csv\", index = False)"
      ],
      "metadata": {
        "id": "EEMSnCe8-vD9"
      },
      "execution_count": 101,
      "outputs": []
    },
    {
      "cell_type": "code",
      "source": [
        "#!kaggle competitions submit -c nlp-getting-started -f kaggle/data/sample_submission.csv -m \"RandomForestClassifier()\""
      ],
      "metadata": {
        "id": "4UOigFkI_NH7"
      },
      "execution_count": 102,
      "outputs": []
    },
    {
      "cell_type": "code",
      "source": [
        "!kaggle competitions submissions -c nlp-getting-started"
      ],
      "metadata": {
        "id": "JN-l9foi_QK_",
        "colab": {
          "base_uri": "https://localhost:8080/"
        },
        "outputId": "861be672-2e04-4940-9335-dbd155153301"
      },
      "execution_count": 103,
      "outputs": [
        {
          "output_type": "stream",
          "name": "stdout",
          "text": [
            "fileName                   date                 description                status    publicScore  privateScore  \n",
            "-------------------------  -------------------  -------------------------  --------  -----------  ------------  \n",
            "sample_submission (3).csv  2022-04-24 23:53:07   RandomForestClassifier()  complete  0.77536                    \n",
            "sample_submission (2).csv  2022-04-24 06:52:44                             complete  0.74992                    \n",
            "sample_submission (1).csv  2022-04-24 06:40:26                             complete  0.72080                    \n"
          ]
        }
      ]
    },
    {
      "cell_type": "markdown",
      "source": [
        "The sklearn RandomForestClassifier() gives us an accuracy of about 77% on the Kaggle submission/test data which can be seen above.\n"
      ],
      "metadata": {
        "id": "QR2ezNck_q8N"
      }
    }
  ]
}